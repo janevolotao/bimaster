{
 "cells": [
  {
   "cell_type": "markdown",
   "metadata": {
    "id": "bgc8yb4c2W0g"
   },
   "source": [
    "# Recurrent Neural Network - LSTM\n"
   ]
  },
  {
   "cell_type": "markdown",
   "metadata": {
    "id": "aew2N81e35Uc"
   },
   "source": [
    "## Parte 1 - Preprocessamento de Dados"
   ]
  },
  {
   "cell_type": "markdown",
   "metadata": {
    "id": "Z0vulSxH2hHu"
   },
   "source": [
    "### Importar as bibliotecas"
   ]
  },
  {
   "cell_type": "code",
   "execution_count": 1,
   "metadata": {
    "id": "p2SjiqlE2O08"
   },
   "outputs": [],
   "source": [
    "import numpy as np\n",
    "np.random.seed(0)\n",
    "import matplotlib.pyplot as plt\n",
    "import pandas as pd\n",
    "import os"
   ]
  },
  {
   "cell_type": "markdown",
   "metadata": {
    "id": "36Q16Udt2l3W"
   },
   "source": [
    "### Importar a base de dados"
   ]
  },
  {
   "cell_type": "code",
   "execution_count": 2,
   "metadata": {},
   "outputs": [],
   "source": [
    "# Foi utilizada a base de dados de cotação de ações da Petrobras (PETR4)\n",
    "# O período analisado vai de 23/05/2020 a 23/05/2023\n",
    "# A série temporal foi dividida em treino (30%) e teste (70%)"
   ]
  },
  {
   "cell_type": "code",
   "execution_count": 3,
   "metadata": {},
   "outputs": [],
   "source": [
    "PETR4_data = pd.read_csv('PETR4.csv')"
   ]
  },
  {
   "cell_type": "code",
   "execution_count": 4,
   "metadata": {},
   "outputs": [],
   "source": [
    "PETR4_data_train = PETR4_data.iloc[1:249, 0:2].values"
   ]
  },
  {
   "cell_type": "code",
   "execution_count": 5,
   "metadata": {},
   "outputs": [],
   "source": [
    "PETR4_data_test= PETR4_data.iloc[249:747, 0:2].values"
   ]
  },
  {
   "cell_type": "code",
   "execution_count": 6,
   "metadata": {},
   "outputs": [],
   "source": [
    "training_set = PETR4_data.iloc[0:249, 1:2].values"
   ]
  },
  {
   "cell_type": "code",
   "execution_count": 7,
   "metadata": {
    "id": "1ivhnWxD2eEG"
   },
   "outputs": [],
   "source": [
    "test_set = PETR4_data.iloc[249:747,1:2]"
   ]
  },
  {
   "cell_type": "markdown",
   "metadata": {},
   "source": [
    "### Parâmetros para esta análise"
   ]
  },
  {
   "cell_type": "code",
   "execution_count": 8,
   "metadata": {},
   "outputs": [],
   "source": [
    "pwindow = 15\n",
    "pepochs3 = 100\n",
    "pbatch2 = 64\n",
    "\n",
    "units1 = 50\n",
    "units2 = 60\n",
    "units3 = 30"
   ]
  },
  {
   "cell_type": "markdown",
   "metadata": {
    "id": "7p1F7HdB2uJU"
   },
   "source": [
    "### Normalização"
   ]
  },
  {
   "cell_type": "code",
   "execution_count": 9,
   "metadata": {
    "id": "foeHRZr-2u-L"
   },
   "outputs": [],
   "source": [
    "from sklearn.preprocessing import MinMaxScaler\n",
    "sc = MinMaxScaler(feature_range = (0, 1))\n",
    "training_set_scaled = sc.fit_transform(training_set)"
   ]
  },
  {
   "cell_type": "markdown",
   "metadata": {
    "id": "uQP8Q7MI21Y9"
   },
   "source": [
    "### Criar a estrutura de dados com janela 10 e output 1"
   ]
  },
  {
   "cell_type": "code",
   "execution_count": 10,
   "metadata": {
    "id": "C6Ge9ql922cb"
   },
   "outputs": [],
   "source": [
    "window = pwindow\n",
    "trainSize = len(training_set_scaled)\n",
    "X_train = []\n",
    "y_train = []\n",
    "for i in range(window, trainSize):\n",
    "    X_train.append(training_set_scaled[i-window:i, 0])\n",
    "    y_train.append(training_set_scaled[i, 0])\n",
    "X_train, y_train = np.array(X_train), np.array(y_train)"
   ]
  },
  {
   "cell_type": "markdown",
   "metadata": {
    "id": "LPBC2LoG24dU"
   },
   "source": [
    "### Reshaping"
   ]
  },
  {
   "cell_type": "code",
   "execution_count": 11,
   "metadata": {
    "id": "oGwgQUDbdmnS"
   },
   "outputs": [
    {
     "data": {
      "text/plain": [
       "(234, 15)"
      ]
     },
     "execution_count": 11,
     "metadata": {},
     "output_type": "execute_result"
    }
   ],
   "source": [
    "X_train.shape"
   ]
  },
  {
   "cell_type": "markdown",
   "metadata": {
    "id": "AEVcR-Uju5TX"
   },
   "source": [
    "Shape de input da lstm = (batch_size, timesteps, features)"
   ]
  },
  {
   "cell_type": "code",
   "execution_count": 12,
   "metadata": {
    "id": "b9ZfLlGH25fr"
   },
   "outputs": [],
   "source": [
    "X_train = np.reshape(X_train, (X_train.shape[0], X_train.shape[1], 1))"
   ]
  },
  {
   "cell_type": "code",
   "execution_count": 13,
   "metadata": {
    "id": "RxU0axM9diHO"
   },
   "outputs": [
    {
     "data": {
      "text/plain": [
       "(234, 15, 1)"
      ]
     },
     "execution_count": 13,
     "metadata": {},
     "output_type": "execute_result"
    }
   ],
   "source": [
    "X_train.shape"
   ]
  },
  {
   "cell_type": "markdown",
   "metadata": {
    "id": "fZhjp7Tf282b"
   },
   "source": [
    "## Parte 2 - Construção da RNN"
   ]
  },
  {
   "cell_type": "markdown",
   "metadata": {
    "id": "RDkAxmMl3EXr"
   },
   "source": [
    "### Bibliotecas necessárias"
   ]
  },
  {
   "cell_type": "code",
   "execution_count": 14,
   "metadata": {
    "id": "Ifhh9yUo3DpT"
   },
   "outputs": [],
   "source": [
    "from keras.models import Sequential\n",
    "from keras.layers import Dense\n",
    "from keras.layers import LSTM\n",
    "from keras.layers import Dropout"
   ]
  },
  {
   "cell_type": "markdown",
   "metadata": {
    "id": "kordpD0_3H7b"
   },
   "source": [
    "### Construção da Rede completa"
   ]
  },
  {
   "cell_type": "code",
   "execution_count": 15,
   "metadata": {
    "scrolled": true
   },
   "outputs": [
    {
     "name": "stdout",
     "output_type": "stream",
     "text": [
      "Model: \"sequential\"\n",
      "_________________________________________________________________\n",
      "Layer (type)                 Output Shape              Param #   \n",
      "=================================================================\n",
      "lstm (LSTM)                  (None, 15, 50)            10400     \n",
      "_________________________________________________________________\n",
      "dropout (Dropout)            (None, 15, 50)            0         \n",
      "_________________________________________________________________\n",
      "lstm_1 (LSTM)                (None, 15, 60)            26640     \n",
      "_________________________________________________________________\n",
      "dropout_1 (Dropout)          (None, 15, 60)            0         \n",
      "_________________________________________________________________\n",
      "lstm_2 (LSTM)                (None, 30)                10920     \n",
      "_________________________________________________________________\n",
      "dropout_2 (Dropout)          (None, 30)                0         \n",
      "_________________________________________________________________\n",
      "dense (Dense)                (None, 1)                 31        \n",
      "=================================================================\n",
      "Total params: 47,991\n",
      "Trainable params: 47,991\n",
      "Non-trainable params: 0\n",
      "_________________________________________________________________\n"
     ]
    }
   ],
   "source": [
    "# Inicializar a RNN\n",
    "regressor = Sequential()\n",
    "\n",
    "# Adicionar a primeira camada LSTM e Dropout \n",
    "regressor.add(LSTM(units = units1, return_sequences = True, input_shape = (X_train.shape[1], 1)))\n",
    "regressor.add(Dropout(0.2))\n",
    " \n",
    "# Adicionar a segunda camada LSTM e Dropout\n",
    "regressor.add(LSTM(units = units2, return_sequences = True))\n",
    "regressor.add(Dropout(0.2))\n",
    " \n",
    "# Adicionar a terceira camada LSTM e Dropout\n",
    "regressor.add(LSTM(units = units3))\n",
    "regressor.add(Dropout(0.2))\n",
    " \n",
    "# camada de saída\n",
    "regressor.add(Dense(units = 1))\n",
    " \n",
    "# Compilar a rede\n",
    "regressor.compile(optimizer = 'adam', loss = 'mean_squared_error')\n",
    "\n",
    "# Visualizar a rede\n",
    "regressor.summary()  "
   ]
  },
  {
   "cell_type": "markdown",
   "metadata": {
    "id": "5j1w28g83iSR"
   },
   "source": [
    "### Treinamento"
   ]
  },
  {
   "cell_type": "code",
   "execution_count": 16,
   "metadata": {
    "scrolled": true
   },
   "outputs": [
    {
     "name": "stdout",
     "output_type": "stream",
     "text": [
      "Epoch 1/100\n",
      "4/4 [==============================] - 0s 16ms/step - loss: 0.1092\n",
      "Epoch 2/100\n",
      "4/4 [==============================] - 0s 14ms/step - loss: 0.0417\n",
      "Epoch 3/100\n",
      "4/4 [==============================] - 0s 11ms/step - loss: 0.0327\n",
      "Epoch 4/100\n",
      "4/4 [==============================] - 0s 10ms/step - loss: 0.0275\n",
      "Epoch 5/100\n",
      "4/4 [==============================] - 0s 10ms/step - loss: 0.0232\n",
      "Epoch 6/100\n",
      "4/4 [==============================] - 0s 10ms/step - loss: 0.0222\n",
      "Epoch 7/100\n",
      "4/4 [==============================] - 0s 10ms/step - loss: 0.0201\n",
      "Epoch 8/100\n",
      "4/4 [==============================] - 0s 10ms/step - loss: 0.0218\n",
      "Epoch 9/100\n",
      "4/4 [==============================] - 0s 11ms/step - loss: 0.0203\n",
      "Epoch 10/100\n",
      "4/4 [==============================] - 0s 11ms/step - loss: 0.0213\n",
      "Epoch 11/100\n",
      "4/4 [==============================] - 0s 10ms/step - loss: 0.0211\n",
      "Epoch 12/100\n",
      "4/4 [==============================] - 0s 10ms/step - loss: 0.0178\n",
      "Epoch 13/100\n",
      "4/4 [==============================] - 0s 10ms/step - loss: 0.0184\n",
      "Epoch 14/100\n",
      "4/4 [==============================] - 0s 10ms/step - loss: 0.0185\n",
      "Epoch 15/100\n",
      "4/4 [==============================] - 0s 10ms/step - loss: 0.0184\n",
      "Epoch 16/100\n",
      "4/4 [==============================] - 0s 10ms/step - loss: 0.0180\n",
      "Epoch 17/100\n",
      "4/4 [==============================] - 0s 10ms/step - loss: 0.0190\n",
      "Epoch 18/100\n",
      "4/4 [==============================] - 0s 10ms/step - loss: 0.0169\n",
      "Epoch 19/100\n",
      "4/4 [==============================] - 0s 10ms/step - loss: 0.0184\n",
      "Epoch 20/100\n",
      "4/4 [==============================] - 0s 10ms/step - loss: 0.0184\n",
      "Epoch 21/100\n",
      "4/4 [==============================] - 0s 9ms/step - loss: 0.0165\n",
      "Epoch 22/100\n",
      "4/4 [==============================] - 0s 10ms/step - loss: 0.0200\n",
      "Epoch 23/100\n",
      "4/4 [==============================] - 0s 10ms/step - loss: 0.0157\n",
      "Epoch 24/100\n",
      "4/4 [==============================] - 0s 9ms/step - loss: 0.0160\n",
      "Epoch 25/100\n",
      "4/4 [==============================] - 0s 10ms/step - loss: 0.0162\n",
      "Epoch 26/100\n",
      "4/4 [==============================] - 0s 10ms/step - loss: 0.0149\n",
      "Epoch 27/100\n",
      "4/4 [==============================] - 0s 10ms/step - loss: 0.0137\n",
      "Epoch 28/100\n",
      "4/4 [==============================] - 0s 11ms/step - loss: 0.0138\n",
      "Epoch 29/100\n",
      "4/4 [==============================] - 0s 10ms/step - loss: 0.0105\n",
      "Epoch 30/100\n",
      "4/4 [==============================] - 0s 11ms/step - loss: 0.0130\n",
      "Epoch 31/100\n",
      "4/4 [==============================] - 0s 10ms/step - loss: 0.0114\n",
      "Epoch 32/100\n",
      "4/4 [==============================] - 0s 10ms/step - loss: 0.0139\n",
      "Epoch 33/100\n",
      "4/4 [==============================] - 0s 10ms/step - loss: 0.0131\n",
      "Epoch 34/100\n",
      "4/4 [==============================] - 0s 11ms/step - loss: 0.0127\n",
      "Epoch 35/100\n",
      "4/4 [==============================] - 0s 11ms/step - loss: 0.0134\n",
      "Epoch 36/100\n",
      "4/4 [==============================] - 0s 10ms/step - loss: 0.0130\n",
      "Epoch 37/100\n",
      "4/4 [==============================] - 0s 10ms/step - loss: 0.0118\n",
      "Epoch 38/100\n",
      "4/4 [==============================] - 0s 10ms/step - loss: 0.0122\n",
      "Epoch 39/100\n",
      "4/4 [==============================] - 0s 10ms/step - loss: 0.0132\n",
      "Epoch 40/100\n",
      "4/4 [==============================] - 0s 10ms/step - loss: 0.0129\n",
      "Epoch 41/100\n",
      "4/4 [==============================] - 0s 11ms/step - loss: 0.0105\n",
      "Epoch 42/100\n",
      "4/4 [==============================] - 0s 11ms/step - loss: 0.0108\n",
      "Epoch 43/100\n",
      "4/4 [==============================] - 0s 10ms/step - loss: 0.0105\n",
      "Epoch 44/100\n",
      "4/4 [==============================] - 0s 10ms/step - loss: 0.0108\n",
      "Epoch 45/100\n",
      "4/4 [==============================] - 0s 10ms/step - loss: 0.0114\n",
      "Epoch 46/100\n",
      "4/4 [==============================] - 0s 10ms/step - loss: 0.0118\n",
      "Epoch 47/100\n",
      "4/4 [==============================] - 0s 10ms/step - loss: 0.0112\n",
      "Epoch 48/100\n",
      "4/4 [==============================] - 0s 12ms/step - loss: 0.0119\n",
      "Epoch 49/100\n",
      "4/4 [==============================] - 0s 11ms/step - loss: 0.0111\n",
      "Epoch 50/100\n",
      "4/4 [==============================] - 0s 18ms/step - loss: 0.0111\n",
      "Epoch 51/100\n",
      "4/4 [==============================] - 0s 11ms/step - loss: 0.0116\n",
      "Epoch 52/100\n",
      "4/4 [==============================] - 0s 11ms/step - loss: 0.0096\n",
      "Epoch 53/100\n",
      "4/4 [==============================] - 0s 10ms/step - loss: 0.0142\n",
      "Epoch 54/100\n",
      "4/4 [==============================] - 0s 11ms/step - loss: 0.0115\n",
      "Epoch 55/100\n",
      "4/4 [==============================] - 0s 10ms/step - loss: 0.0115\n",
      "Epoch 56/100\n",
      "4/4 [==============================] - 0s 10ms/step - loss: 0.0096\n",
      "Epoch 57/100\n",
      "4/4 [==============================] - 0s 11ms/step - loss: 0.0106\n",
      "Epoch 58/100\n",
      "4/4 [==============================] - 0s 11ms/step - loss: 0.0110\n",
      "Epoch 59/100\n",
      "4/4 [==============================] - 0s 11ms/step - loss: 0.0102\n",
      "Epoch 60/100\n",
      "4/4 [==============================] - 0s 10ms/step - loss: 0.0120\n",
      "Epoch 61/100\n",
      "4/4 [==============================] - 0s 11ms/step - loss: 0.0110\n",
      "Epoch 62/100\n",
      "4/4 [==============================] - 0s 12ms/step - loss: 0.0138\n",
      "Epoch 63/100\n",
      "4/4 [==============================] - 0s 11ms/step - loss: 0.0112\n",
      "Epoch 64/100\n",
      "4/4 [==============================] - 0s 11ms/step - loss: 0.0110\n",
      "Epoch 65/100\n",
      "4/4 [==============================] - 0s 11ms/step - loss: 0.0123\n",
      "Epoch 66/100\n",
      "4/4 [==============================] - 0s 12ms/step - loss: 0.0096\n",
      "Epoch 67/100\n",
      "4/4 [==============================] - 0s 10ms/step - loss: 0.0126\n",
      "Epoch 68/100\n",
      "4/4 [==============================] - 0s 11ms/step - loss: 0.0101\n",
      "Epoch 69/100\n",
      "4/4 [==============================] - 0s 10ms/step - loss: 0.0135\n",
      "Epoch 70/100\n",
      "4/4 [==============================] - 0s 10ms/step - loss: 0.0084\n",
      "Epoch 71/100\n",
      "4/4 [==============================] - 0s 10ms/step - loss: 0.0102\n",
      "Epoch 72/100\n",
      "4/4 [==============================] - 0s 11ms/step - loss: 0.0098\n",
      "Epoch 73/100\n",
      "4/4 [==============================] - 0s 12ms/step - loss: 0.0102\n",
      "Epoch 74/100\n",
      "4/4 [==============================] - 0s 13ms/step - loss: 0.0113\n",
      "Epoch 75/100\n",
      "4/4 [==============================] - 0s 11ms/step - loss: 0.0099\n",
      "Epoch 76/100\n",
      "4/4 [==============================] - 0s 11ms/step - loss: 0.0102\n",
      "Epoch 77/100\n",
      "4/4 [==============================] - 0s 10ms/step - loss: 0.0094\n",
      "Epoch 78/100\n",
      "4/4 [==============================] - 0s 11ms/step - loss: 0.0096\n",
      "Epoch 79/100\n",
      "4/4 [==============================] - 0s 10ms/step - loss: 0.0089\n",
      "Epoch 80/100\n",
      "4/4 [==============================] - 0s 9ms/step - loss: 0.0082\n",
      "Epoch 81/100\n",
      "4/4 [==============================] - 0s 9ms/step - loss: 0.0100\n",
      "Epoch 82/100\n",
      "4/4 [==============================] - 0s 11ms/step - loss: 0.0099\n",
      "Epoch 83/100\n",
      "4/4 [==============================] - 0s 11ms/step - loss: 0.0101\n",
      "Epoch 84/100\n",
      "4/4 [==============================] - 0s 11ms/step - loss: 0.0088\n",
      "Epoch 85/100\n",
      "4/4 [==============================] - 0s 10ms/step - loss: 0.0101\n",
      "Epoch 86/100\n",
      "4/4 [==============================] - 0s 10ms/step - loss: 0.0103\n",
      "Epoch 87/100\n",
      "4/4 [==============================] - 0s 10ms/step - loss: 0.0076\n",
      "Epoch 88/100\n",
      "4/4 [==============================] - 0s 11ms/step - loss: 0.0082\n",
      "Epoch 89/100\n",
      "4/4 [==============================] - 0s 12ms/step - loss: 0.0097\n",
      "Epoch 90/100\n",
      "4/4 [==============================] - 0s 11ms/step - loss: 0.0094\n",
      "Epoch 91/100\n",
      "4/4 [==============================] - 0s 10ms/step - loss: 0.0106\n",
      "Epoch 92/100\n",
      "4/4 [==============================] - 0s 10ms/step - loss: 0.0105\n",
      "Epoch 93/100\n",
      "4/4 [==============================] - 0s 10ms/step - loss: 0.0118\n",
      "Epoch 94/100\n",
      "4/4 [==============================] - 0s 10ms/step - loss: 0.0093\n",
      "Epoch 95/100\n",
      "4/4 [==============================] - 0s 9ms/step - loss: 0.0108\n",
      "Epoch 96/100\n",
      "4/4 [==============================] - 0s 9ms/step - loss: 0.0087\n",
      "Epoch 97/100\n",
      "4/4 [==============================] - 0s 10ms/step - loss: 0.0083\n",
      "Epoch 98/100\n",
      "4/4 [==============================] - 0s 10ms/step - loss: 0.0088\n",
      "Epoch 99/100\n",
      "4/4 [==============================] - 0s 11ms/step - loss: 0.0096\n",
      "Epoch 100/100\n",
      "4/4 [==============================] - 0s 11ms/step - loss: 0.0089\n"
     ]
    }
   ],
   "source": [
    "history = regressor.fit(X_train, y_train, epochs = pepochs3, batch_size = pbatch2)"
   ]
  },
  {
   "cell_type": "markdown",
   "metadata": {
    "id": "gwpyImwA3yon"
   },
   "source": [
    "## Parte 3 - Fazer as previsões e analisar os resultados"
   ]
  },
  {
   "cell_type": "markdown",
   "metadata": {
    "id": "wkXRvDjT4V-B"
   },
   "source": [
    "### Base de teste"
   ]
  },
  {
   "cell_type": "code",
   "execution_count": 17,
   "metadata": {
    "id": "Bn_n72dh30K-"
   },
   "outputs": [],
   "source": [
    "dataset_test = test_set\n",
    "PETR4_data_train = pd.DataFrame(PETR4_data_train)\n",
    "PETR4_data_test = pd.DataFrame(PETR4_data_test)"
   ]
  },
  {
   "cell_type": "markdown",
   "metadata": {
    "id": "EOo84exH4bfs"
   },
   "source": [
    "### Construir a estrutura para teste"
   ]
  },
  {
   "cell_type": "code",
   "execution_count": 18,
   "metadata": {
    "id": "ob_-mGA_B5px"
   },
   "outputs": [],
   "source": [
    "dataset_total = pd.concat((PETR4_data_train.iloc[:,1], PETR4_data_test.iloc[:,1]), axis = 0)\n",
    "testLength = len(dataset_test)\n",
    "inputs = dataset_total[len(dataset_total) - testLength - window:].values\n",
    "inputs = inputs.reshape(inputs.shape[0],1)\n",
    "\n",
    "inputs = sc.transform(inputs)\n",
    "X_test = []\n",
    "for i in range(window, inputs.shape[0]): \n",
    "    X_test.append(inputs[i-window:i, 0])\n",
    "X_test = np.array(X_test)\n",
    "\n",
    "X_test = np.reshape(X_test, (X_test.shape[0], X_test.shape[1], 1))"
   ]
  },
  {
   "cell_type": "markdown",
   "metadata": {
    "id": "rtkB4NA74e1B"
   },
   "source": [
    "### Fazer as previsões"
   ]
  },
  {
   "cell_type": "code",
   "execution_count": 19,
   "metadata": {
    "id": "nKIq1h-E4g9Z"
   },
   "outputs": [],
   "source": [
    "predicted_PETR4 = regressor.predict(X_test)\n",
    "predicted_PETR4 = sc.inverse_transform(predicted_PETR4)"
   ]
  },
  {
   "cell_type": "markdown",
   "metadata": {
    "id": "guvk7yXr4o0g"
   },
   "source": [
    "### Visualizar os resultados de treino e teste"
   ]
  },
  {
   "cell_type": "code",
   "execution_count": 20,
   "metadata": {
    "id": "tstXl2oS4rIo",
    "scrolled": true
   },
   "outputs": [
    {
     "data": {
      "image/png": "[encoded data removed]",
      "text/plain": [
       "<Figure size 432x288 with 1 Axes>"
      ]
     },
     "metadata": {
      "needs_background": "light"
     },
     "output_type": "display_data"
    }
   ],
   "source": [
    "allTargetData = np.vstack((training_set, dataset_test))\n",
    "training_predicted_PETR4 = regressor.predict(X_train)\n",
    "training_predicted_PETR4 = sc.inverse_transform(training_predicted_PETR4)\n",
    "allForecastedData = np.vstack((training_set[0:window], training_predicted_PETR4, predicted_PETR4))\n",
    "plt.plot(allTargetData, color = 'red', label = 'Real')\n",
    "plt.plot(allForecastedData, color = 'blue', label = 'Previsto')\n",
    "plt.title('Previsão de série temporal')\n",
    "plt.xlabel('Tempo')\n",
    "plt.ylabel('Cotação (R$)')\n",
    "plt.legend()\n",
    "plt.savefig('predictions_training_test_25_50_32.svg')\n",
    "plt.show()"
   ]
  },
  {
   "cell_type": "markdown",
   "metadata": {
    "id": "ytEVhQht4we3"
   },
   "source": [
    "## Parte 4 - Métricas de avaliação"
   ]
  },
  {
   "cell_type": "code",
   "execution_count": 21,
   "metadata": {
    "id": "rqOonVj64ydu",
    "scrolled": true
   },
   "outputs": [
    {
     "name": "stdout",
     "output_type": "stream",
     "text": [
      "RMSE: 1.9064291028692852\n"
     ]
    }
   ],
   "source": [
    "import math\n",
    "from sklearn.metrics import mean_squared_error\n",
    "rmse = math.sqrt(mean_squared_error(dataset_test, predicted_PETR4))\n",
    "print('RMSE:', rmse)"
   ]
  },
  {
   "cell_type": "code",
   "execution_count": 22,
   "metadata": {
    "id": "ODeley1K42WW"
   },
   "outputs": [
    {
     "name": "stdout",
     "output_type": "stream",
     "text": [
      "MSE: 3.634471924266988\n"
     ]
    }
   ],
   "source": [
    "mse = mean_squared_error(dataset_test, predicted_PETR4)\n",
    "print('MSE:',mse)"
   ]
  },
  {
   "cell_type": "code",
   "execution_count": 23,
   "metadata": {
    "id": "L7_uU_8T44QA"
   },
   "outputs": [
    {
     "name": "stdout",
     "output_type": "stream",
     "text": [
      "MAPE: 5.867444738715124 %\n"
     ]
    }
   ],
   "source": [
    "mape = np.mean(np.abs((dataset_test-predicted_PETR4) /dataset_test)) * 100\n",
    "print('MAPE:',mape.iloc[0], '%')"
   ]
  },
  {
   "cell_type": "code",
   "execution_count": 24,
   "metadata": {
    "id": "LnCgdBS0vGCz"
   },
   "outputs": [
    {
     "name": "stdout",
     "output_type": "stream",
     "text": [
      "R2: 0.8521014633533475\n"
     ]
    }
   ],
   "source": [
    "from sklearn.metrics import r2_score\n",
    "r2 = r2_score(dataset_test,predicted_PETR4)\n",
    "print('R2:', r2)"
   ]
  },
  {
   "cell_type": "code",
   "execution_count": 25,
   "metadata": {},
   "outputs": [
    {
     "name": "stdout",
     "output_type": "stream",
     "text": [
      "R2Adj: 0.8518032808197857\n"
     ]
    }
   ],
   "source": [
    "adj_r2 = (1 - (1 - r2) * ((predicted_PETR4.shape[0] - 1) / \n",
    "          (predicted_PETR4.shape[0] - predicted_PETR4.shape[1] - 1)))\n",
    "print('R2Adj:',adj_r2)"
   ]
  },
  {
   "cell_type": "code",
   "execution_count": 26,
   "metadata": {},
   "outputs": [],
   "source": [
    "results = np.array([units1,units2,units3,rmse,mse,mape.iloc[0],r2,adj_r2]) "
   ]
  },
  {
   "cell_type": "code",
   "execution_count": 27,
   "metadata": {
    "scrolled": true
   },
   "outputs": [
    {
     "name": "stdout",
     "output_type": "stream",
     "text": [
      "[50.         60.         30.          1.9064291   3.63447192  5.86744474\n",
      "  0.85210146  0.85180328]\n"
     ]
    }
   ],
   "source": [
    "print(results)"
   ]
  },
  {
   "cell_type": "markdown",
   "metadata": {},
   "source": [
    "### Parâmetros para esta análise"
   ]
  },
  {
   "cell_type": "code",
   "execution_count": 28,
   "metadata": {},
   "outputs": [],
   "source": [
    "pwindow = 15\n",
    "pepochs3 = 100\n",
    "pbatch2 = 64\n",
    "\n",
    "units1 = 50\n",
    "units2 = 60\n",
    "units3 = 50"
   ]
  },
  {
   "cell_type": "markdown",
   "metadata": {
    "id": "7p1F7HdB2uJU"
   },
   "source": [
    "### Normalização"
   ]
  },
  {
   "cell_type": "code",
   "execution_count": 29,
   "metadata": {
    "id": "foeHRZr-2u-L"
   },
   "outputs": [],
   "source": [
    "from sklearn.preprocessing import MinMaxScaler\n",
    "sc = MinMaxScaler(feature_range = (0, 1))\n",
    "training_set_scaled = sc.fit_transform(training_set)"
   ]
  },
  {
   "cell_type": "markdown",
   "metadata": {
    "id": "uQP8Q7MI21Y9"
   },
   "source": [
    "### Criar a estrutura de dados com janela 10 e output 1"
   ]
  },
  {
   "cell_type": "code",
   "execution_count": 30,
   "metadata": {
    "id": "C6Ge9ql922cb"
   },
   "outputs": [],
   "source": [
    "window = pwindow\n",
    "trainSize = len(training_set_scaled)\n",
    "X_train = []\n",
    "y_train = []\n",
    "for i in range(window, trainSize):\n",
    "    X_train.append(training_set_scaled[i-window:i, 0])\n",
    "    y_train.append(training_set_scaled[i, 0])\n",
    "X_train, y_train = np.array(X_train), np.array(y_train)"
   ]
  },
  {
   "cell_type": "markdown",
   "metadata": {
    "id": "LPBC2LoG24dU"
   },
   "source": [
    "### Reshaping"
   ]
  },
  {
   "cell_type": "code",
   "execution_count": 31,
   "metadata": {
    "id": "oGwgQUDbdmnS"
   },
   "outputs": [
    {
     "data": {
      "text/plain": [
       "(234, 15)"
      ]
     },
     "execution_count": 31,
     "metadata": {},
     "output_type": "execute_result"
    }
   ],
   "source": [
    "X_train.shape"
   ]
  },
  {
   "cell_type": "markdown",
   "metadata": {
    "id": "AEVcR-Uju5TX"
   },
   "source": [
    "Shape de input da lstm = (batch_size, timesteps, features)"
   ]
  },
  {
   "cell_type": "code",
   "execution_count": 32,
   "metadata": {
    "id": "b9ZfLlGH25fr"
   },
   "outputs": [],
   "source": [
    "X_train = np.reshape(X_train, (X_train.shape[0], X_train.shape[1], 1))"
   ]
  },
  {
   "cell_type": "code",
   "execution_count": 33,
   "metadata": {
    "id": "RxU0axM9diHO"
   },
   "outputs": [
    {
     "data": {
      "text/plain": [
       "(234, 15, 1)"
      ]
     },
     "execution_count": 33,
     "metadata": {},
     "output_type": "execute_result"
    }
   ],
   "source": [
    "X_train.shape"
   ]
  },
  {
   "cell_type": "markdown",
   "metadata": {
    "id": "fZhjp7Tf282b"
   },
   "source": [
    "## Parte 2 - Construção da RNN"
   ]
  },
  {
   "cell_type": "markdown",
   "metadata": {
    "id": "RDkAxmMl3EXr"
   },
   "source": [
    "### Bibliotecas necessárias"
   ]
  },
  {
   "cell_type": "code",
   "execution_count": 34,
   "metadata": {
    "id": "Ifhh9yUo3DpT"
   },
   "outputs": [],
   "source": [
    "from keras.models import Sequential\n",
    "from keras.layers import Dense\n",
    "from keras.layers import LSTM\n",
    "from keras.layers import Dropout"
   ]
  },
  {
   "cell_type": "markdown",
   "metadata": {
    "id": "kordpD0_3H7b"
   },
   "source": [
    "### Construção da Rede completa"
   ]
  },
  {
   "cell_type": "code",
   "execution_count": 35,
   "metadata": {
    "scrolled": true
   },
   "outputs": [
    {
     "name": "stdout",
     "output_type": "stream",
     "text": [
      "Model: \"sequential_1\"\n",
      "_________________________________________________________________\n",
      "Layer (type)                 Output Shape              Param #   \n",
      "=================================================================\n",
      "lstm_3 (LSTM)                (None, 15, 50)            10400     \n",
      "_________________________________________________________________\n",
      "dropout_3 (Dropout)          (None, 15, 50)            0         \n",
      "_________________________________________________________________\n",
      "lstm_4 (LSTM)                (None, 15, 60)            26640     \n",
      "_________________________________________________________________\n",
      "dropout_4 (Dropout)          (None, 15, 60)            0         \n",
      "_________________________________________________________________\n",
      "lstm_5 (LSTM)                (None, 50)                22200     \n",
      "_________________________________________________________________\n",
      "dropout_5 (Dropout)          (None, 50)                0         \n",
      "_________________________________________________________________\n",
      "dense_1 (Dense)              (None, 1)                 51        \n",
      "=================================================================\n",
      "Total params: 59,291\n",
      "Trainable params: 59,291\n",
      "Non-trainable params: 0\n",
      "_________________________________________________________________\n"
     ]
    }
   ],
   "source": [
    "# Inicializar a RNN\n",
    "regressor = Sequential()\n",
    "\n",
    "# Adicionar a primeira camada LSTM e Dropout \n",
    "regressor.add(LSTM(units = units1, return_sequences = True, input_shape = (X_train.shape[1], 1)))\n",
    "regressor.add(Dropout(0.2))\n",
    " \n",
    "# Adicionar a segunda camada LSTM e Dropout\n",
    "regressor.add(LSTM(units = units2, return_sequences = True))\n",
    "regressor.add(Dropout(0.2))\n",
    " \n",
    "# Adicionar a terceira camada LSTM e Dropout\n",
    "regressor.add(LSTM(units = units3))\n",
    "regressor.add(Dropout(0.2))\n",
    " \n",
    "# camada de saída\n",
    "regressor.add(Dense(units = 1))\n",
    " \n",
    "# Compilar a rede\n",
    "regressor.compile(optimizer = 'adam', loss = 'mean_squared_error')\n",
    "\n",
    "# Visualizar a rede\n",
    "regressor.summary()  "
   ]
  },
  {
   "cell_type": "markdown",
   "metadata": {
    "id": "5j1w28g83iSR"
   },
   "source": [
    "### Treinamento"
   ]
  },
  {
   "cell_type": "code",
   "execution_count": 36,
   "metadata": {
    "scrolled": true
   },
   "outputs": [
    {
     "name": "stdout",
     "output_type": "stream",
     "text": [
      "Epoch 1/100\n",
      "4/4 [==============================] - 0s 17ms/step - loss: 0.1163\n",
      "Epoch 2/100\n",
      "4/4 [==============================] - 0s 13ms/step - loss: 0.0348\n",
      "Epoch 3/100\n",
      "4/4 [==============================] - 0s 11ms/step - loss: 0.0385\n",
      "Epoch 4/100\n",
      "4/4 [==============================] - 0s 10ms/step - loss: 0.0247\n",
      "Epoch 5/100\n",
      "4/4 [==============================] - 0s 11ms/step - loss: 0.0267\n",
      "Epoch 6/100\n",
      "4/4 [==============================] - 0s 16ms/step - loss: 0.0266\n",
      "Epoch 7/100\n",
      "4/4 [==============================] - 0s 11ms/step - loss: 0.0201\n",
      "Epoch 8/100\n",
      "4/4 [==============================] - 0s 10ms/step - loss: 0.0233\n",
      "Epoch 9/100\n",
      "4/4 [==============================] - 0s 11ms/step - loss: 0.0212\n",
      "Epoch 10/100\n",
      "4/4 [==============================] - 0s 10ms/step - loss: 0.0205\n",
      "Epoch 11/100\n",
      "4/4 [==============================] - 0s 11ms/step - loss: 0.0199\n",
      "Epoch 12/100\n",
      "4/4 [==============================] - 0s 11ms/step - loss: 0.0189\n",
      "Epoch 13/100\n",
      "4/4 [==============================] - 0s 10ms/step - loss: 0.0202\n",
      "Epoch 14/100\n",
      "4/4 [==============================] - 0s 10ms/step - loss: 0.0194\n",
      "Epoch 15/100\n",
      "4/4 [==============================] - 0s 10ms/step - loss: 0.0200\n",
      "Epoch 16/100\n",
      "4/4 [==============================] - 0s 10ms/step - loss: 0.0174\n",
      "Epoch 17/100\n",
      "4/4 [==============================] - 0s 10ms/step - loss: 0.0175\n",
      "Epoch 18/100\n",
      "4/4 [==============================] - 0s 10ms/step - loss: 0.0172\n",
      "Epoch 19/100\n",
      "4/4 [==============================] - 0s 10ms/step - loss: 0.0176\n",
      "Epoch 20/100\n",
      "4/4 [==============================] - 0s 10ms/step - loss: 0.0180\n",
      "Epoch 21/100\n",
      "4/4 [==============================] - 0s 11ms/step - loss: 0.0150\n",
      "Epoch 22/100\n",
      "4/4 [==============================] - 0s 10ms/step - loss: 0.0157\n",
      "Epoch 23/100\n",
      "4/4 [==============================] - 0s 10ms/step - loss: 0.0162\n",
      "Epoch 24/100\n",
      "4/4 [==============================] - 0s 10ms/step - loss: 0.0152\n",
      "Epoch 25/100\n",
      "4/4 [==============================] - 0s 10ms/step - loss: 0.0158\n",
      "Epoch 26/100\n",
      "4/4 [==============================] - 0s 10ms/step - loss: 0.0165\n",
      "Epoch 27/100\n",
      "4/4 [==============================] - 0s 9ms/step - loss: 0.0154\n",
      "Epoch 28/100\n",
      "4/4 [==============================] - 0s 10ms/step - loss: 0.0165\n",
      "Epoch 29/100\n",
      "4/4 [==============================] - 0s 10ms/step - loss: 0.0137\n",
      "Epoch 30/100\n",
      "4/4 [==============================] - 0s 10ms/step - loss: 0.0128\n",
      "Epoch 31/100\n",
      "4/4 [==============================] - 0s 10ms/step - loss: 0.0166\n",
      "Epoch 32/100\n",
      "4/4 [==============================] - 0s 10ms/step - loss: 0.0129\n",
      "Epoch 33/100\n",
      "4/4 [==============================] - 0s 11ms/step - loss: 0.0133\n",
      "Epoch 34/100\n",
      "4/4 [==============================] - 0s 10ms/step - loss: 0.0130\n",
      "Epoch 35/100\n",
      "4/4 [==============================] - 0s 10ms/step - loss: 0.0098\n",
      "Epoch 36/100\n",
      "4/4 [==============================] - 0s 10ms/step - loss: 0.0139\n",
      "Epoch 37/100\n",
      "4/4 [==============================] - 0s 10ms/step - loss: 0.0106\n",
      "Epoch 38/100\n",
      "4/4 [==============================] - 0s 10ms/step - loss: 0.0126\n",
      "Epoch 39/100\n",
      "4/4 [==============================] - 0s 10ms/step - loss: 0.0116\n",
      "Epoch 40/100\n",
      "4/4 [==============================] - 0s 10ms/step - loss: 0.0129\n",
      "Epoch 41/100\n",
      "4/4 [==============================] - 0s 10ms/step - loss: 0.0119\n",
      "Epoch 42/100\n",
      "4/4 [==============================] - 0s 10ms/step - loss: 0.0117\n",
      "Epoch 43/100\n",
      "4/4 [==============================] - 0s 10ms/step - loss: 0.0112\n",
      "Epoch 44/100\n",
      "4/4 [==============================] - 0s 10ms/step - loss: 0.0119\n",
      "Epoch 45/100\n",
      "4/4 [==============================] - 0s 10ms/step - loss: 0.0112\n",
      "Epoch 46/100\n",
      "4/4 [==============================] - 0s 10ms/step - loss: 0.0121\n",
      "Epoch 47/100\n",
      "4/4 [==============================] - 0s 10ms/step - loss: 0.0111\n",
      "Epoch 48/100\n",
      "4/4 [==============================] - 0s 10ms/step - loss: 0.0105\n",
      "Epoch 49/100\n",
      "4/4 [==============================] - 0s 10ms/step - loss: 0.0129\n",
      "Epoch 50/100\n",
      "4/4 [==============================] - 0s 10ms/step - loss: 0.0102\n",
      "Epoch 51/100\n",
      "4/4 [==============================] - 0s 10ms/step - loss: 0.0118\n",
      "Epoch 52/100\n",
      "4/4 [==============================] - 0s 10ms/step - loss: 0.0106\n",
      "Epoch 53/100\n",
      "4/4 [==============================] - 0s 10ms/step - loss: 0.0116\n",
      "Epoch 54/100\n",
      "4/4 [==============================] - 0s 10ms/step - loss: 0.0117\n",
      "Epoch 55/100\n",
      "4/4 [==============================] - 0s 11ms/step - loss: 0.0102\n",
      "Epoch 56/100\n",
      "4/4 [==============================] - 0s 10ms/step - loss: 0.0109\n",
      "Epoch 57/100\n",
      "4/4 [==============================] - 0s 10ms/step - loss: 0.0105\n",
      "Epoch 58/100\n",
      "4/4 [==============================] - 0s 10ms/step - loss: 0.0108\n",
      "Epoch 59/100\n",
      "4/4 [==============================] - 0s 10ms/step - loss: 0.0122\n",
      "Epoch 60/100\n",
      "4/4 [==============================] - 0s 10ms/step - loss: 0.0105\n",
      "Epoch 61/100\n",
      "4/4 [==============================] - 0s 10ms/step - loss: 0.0113\n",
      "Epoch 62/100\n",
      "4/4 [==============================] - 0s 9ms/step - loss: 0.0089\n",
      "Epoch 63/100\n",
      "4/4 [==============================] - 0s 10ms/step - loss: 0.0107\n",
      "Epoch 64/100\n",
      "4/4 [==============================] - 0s 10ms/step - loss: 0.0102\n",
      "Epoch 65/100\n",
      "4/4 [==============================] - 0s 10ms/step - loss: 0.0092\n",
      "Epoch 66/100\n",
      "4/4 [==============================] - 0s 10ms/step - loss: 0.0109\n",
      "Epoch 67/100\n",
      "4/4 [==============================] - 0s 10ms/step - loss: 0.0104\n",
      "Epoch 68/100\n",
      "4/4 [==============================] - 0s 10ms/step - loss: 0.0114\n",
      "Epoch 69/100\n",
      "4/4 [==============================] - 0s 10ms/step - loss: 0.0100\n",
      "Epoch 70/100\n",
      "4/4 [==============================] - 0s 10ms/step - loss: 0.0088\n",
      "Epoch 71/100\n",
      "4/4 [==============================] - 0s 10ms/step - loss: 0.0098\n",
      "Epoch 72/100\n",
      "4/4 [==============================] - 0s 11ms/step - loss: 0.0102\n",
      "Epoch 73/100\n",
      "4/4 [==============================] - 0s 10ms/step - loss: 0.0093\n",
      "Epoch 74/100\n",
      "4/4 [==============================] - 0s 10ms/step - loss: 0.0097\n",
      "Epoch 75/100\n",
      "4/4 [==============================] - 0s 10ms/step - loss: 0.0088\n",
      "Epoch 76/100\n",
      "4/4 [==============================] - 0s 10ms/step - loss: 0.0094\n",
      "Epoch 77/100\n",
      "4/4 [==============================] - 0s 10ms/step - loss: 0.0104\n",
      "Epoch 78/100\n",
      "4/4 [==============================] - 0s 10ms/step - loss: 0.0092\n",
      "Epoch 79/100\n",
      "4/4 [==============================] - 0s 10ms/step - loss: 0.0091\n",
      "Epoch 80/100\n",
      "4/4 [==============================] - 0s 10ms/step - loss: 0.0104\n",
      "Epoch 81/100\n",
      "4/4 [==============================] - 0s 10ms/step - loss: 0.0096\n",
      "Epoch 82/100\n",
      "4/4 [==============================] - 0s 10ms/step - loss: 0.0101\n",
      "Epoch 83/100\n",
      "4/4 [==============================] - 0s 10ms/step - loss: 0.0087\n",
      "Epoch 84/100\n",
      "4/4 [==============================] - 0s 11ms/step - loss: 0.0083\n",
      "Epoch 85/100\n",
      "4/4 [==============================] - 0s 10ms/step - loss: 0.0083\n",
      "Epoch 86/100\n",
      "4/4 [==============================] - 0s 10ms/step - loss: 0.0092\n",
      "Epoch 87/100\n",
      "4/4 [==============================] - 0s 17ms/step - loss: 0.0107\n",
      "Epoch 88/100\n",
      "4/4 [==============================] - 0s 10ms/step - loss: 0.0109\n",
      "Epoch 89/100\n",
      "4/4 [==============================] - 0s 10ms/step - loss: 0.0079\n",
      "Epoch 90/100\n",
      "4/4 [==============================] - 0s 10ms/step - loss: 0.0075\n",
      "Epoch 91/100\n",
      "4/4 [==============================] - 0s 10ms/step - loss: 0.0088\n",
      "Epoch 92/100\n",
      "4/4 [==============================] - 0s 10ms/step - loss: 0.0092\n",
      "Epoch 93/100\n",
      "4/4 [==============================] - 0s 10ms/step - loss: 0.0078\n",
      "Epoch 94/100\n",
      "4/4 [==============================] - 0s 10ms/step - loss: 0.0098\n",
      "Epoch 95/100\n",
      "4/4 [==============================] - 0s 10ms/step - loss: 0.0100\n",
      "Epoch 96/100\n",
      "4/4 [==============================] - 0s 10ms/step - loss: 0.0110\n",
      "Epoch 97/100\n",
      "4/4 [==============================] - 0s 10ms/step - loss: 0.0078\n",
      "Epoch 98/100\n",
      "4/4 [==============================] - 0s 10ms/step - loss: 0.0091\n",
      "Epoch 99/100\n",
      "4/4 [==============================] - 0s 10ms/step - loss: 0.0094\n",
      "Epoch 100/100\n",
      "4/4 [==============================] - 0s 10ms/step - loss: 0.0106\n"
     ]
    }
   ],
   "source": [
    "history = regressor.fit(X_train, y_train, epochs = pepochs3, batch_size = pbatch2)"
   ]
  },
  {
   "cell_type": "markdown",
   "metadata": {
    "id": "gwpyImwA3yon"
   },
   "source": [
    "## Parte 3 - Fazer as previsões e analisar os resultados"
   ]
  },
  {
   "cell_type": "markdown",
   "metadata": {
    "id": "wkXRvDjT4V-B"
   },
   "source": [
    "### Base de teste"
   ]
  },
  {
   "cell_type": "code",
   "execution_count": 37,
   "metadata": {
    "id": "Bn_n72dh30K-"
   },
   "outputs": [],
   "source": [
    "dataset_test = test_set\n",
    "PETR4_data_train = pd.DataFrame(PETR4_data_train)\n",
    "PETR4_data_test = pd.DataFrame(PETR4_data_test)"
   ]
  },
  {
   "cell_type": "markdown",
   "metadata": {
    "id": "EOo84exH4bfs"
   },
   "source": [
    "### Construir a estrutura para teste"
   ]
  },
  {
   "cell_type": "code",
   "execution_count": 38,
   "metadata": {
    "id": "ob_-mGA_B5px"
   },
   "outputs": [],
   "source": [
    "dataset_total = pd.concat((PETR4_data_train.iloc[:,1], PETR4_data_test.iloc[:,1]), axis = 0)\n",
    "testLength = len(dataset_test)\n",
    "inputs = dataset_total[len(dataset_total) - testLength - window:].values\n",
    "inputs = inputs.reshape(inputs.shape[0],1)\n",
    "\n",
    "inputs = sc.transform(inputs)\n",
    "X_test = []\n",
    "for i in range(window, inputs.shape[0]): \n",
    "    X_test.append(inputs[i-window:i, 0])\n",
    "X_test = np.array(X_test)\n",
    "\n",
    "X_test = np.reshape(X_test, (X_test.shape[0], X_test.shape[1], 1))"
   ]
  },
  {
   "cell_type": "markdown",
   "metadata": {
    "id": "rtkB4NA74e1B"
   },
   "source": [
    "### Fazer as previsões"
   ]
  },
  {
   "cell_type": "code",
   "execution_count": 39,
   "metadata": {
    "id": "nKIq1h-E4g9Z"
   },
   "outputs": [],
   "source": [
    "predicted_PETR4 = regressor.predict(X_test)\n",
    "predicted_PETR4 = sc.inverse_transform(predicted_PETR4)"
   ]
  },
  {
   "cell_type": "markdown",
   "metadata": {
    "id": "guvk7yXr4o0g"
   },
   "source": [
    "### Visualizar os resultados de treino e teste"
   ]
  },
  {
   "cell_type": "code",
   "execution_count": 40,
   "metadata": {
    "id": "tstXl2oS4rIo",
    "scrolled": true
   },
   "outputs": [
    {
     "data": {
      "image/png": "[encoded data removed]",
      "text/plain": [
       "<Figure size 432x288 with 1 Axes>"
      ]
     },
     "metadata": {
      "needs_background": "light"
     },
     "output_type": "display_data"
    }
   ],
   "source": [
    "allTargetData = np.vstack((training_set, dataset_test))\n",
    "training_predicted_PETR4 = regressor.predict(X_train)\n",
    "training_predicted_PETR4 = sc.inverse_transform(training_predicted_PETR4)\n",
    "allForecastedData = np.vstack((training_set[0:window], training_predicted_PETR4, predicted_PETR4))\n",
    "plt.plot(allTargetData, color = 'red', label = 'Real')\n",
    "plt.plot(allForecastedData, color = 'blue', label = 'Previsto')\n",
    "plt.title('Previsão de série temporal')\n",
    "plt.xlabel('Tempo')\n",
    "plt.ylabel('Cotação (R$)')\n",
    "plt.legend()\n",
    "plt.savefig('predictions_training_test_25_50_32.svg')\n",
    "plt.show()"
   ]
  },
  {
   "cell_type": "markdown",
   "metadata": {
    "id": "ytEVhQht4we3"
   },
   "source": [
    "## Parte 4 - Métricas de avaliação"
   ]
  },
  {
   "cell_type": "code",
   "execution_count": 41,
   "metadata": {
    "id": "rqOonVj64ydu",
    "scrolled": true
   },
   "outputs": [
    {
     "name": "stdout",
     "output_type": "stream",
     "text": [
      "RMSE: 2.186859436045316\n"
     ]
    }
   ],
   "source": [
    "import math\n",
    "from sklearn.metrics import mean_squared_error\n",
    "rmse = math.sqrt(mean_squared_error(dataset_test, predicted_PETR4))\n",
    "print('RMSE:', rmse)"
   ]
  },
  {
   "cell_type": "code",
   "execution_count": 42,
   "metadata": {
    "id": "ODeley1K42WW"
   },
   "outputs": [
    {
     "name": "stdout",
     "output_type": "stream",
     "text": [
      "MSE: 4.782354193020437\n"
     ]
    }
   ],
   "source": [
    "mse = mean_squared_error(dataset_test, predicted_PETR4)\n",
    "print('MSE:',mse)"
   ]
  },
  {
   "cell_type": "code",
   "execution_count": 43,
   "metadata": {
    "id": "L7_uU_8T44QA"
   },
   "outputs": [
    {
     "name": "stdout",
     "output_type": "stream",
     "text": [
      "MAPE: 6.986826736473032 %\n"
     ]
    }
   ],
   "source": [
    "mape = np.mean(np.abs((dataset_test-predicted_PETR4) /dataset_test)) * 100\n",
    "print('MAPE:',mape.iloc[0], '%')"
   ]
  },
  {
   "cell_type": "code",
   "execution_count": 44,
   "metadata": {
    "id": "LnCgdBS0vGCz"
   },
   "outputs": [
    {
     "name": "stdout",
     "output_type": "stream",
     "text": [
      "R2: 0.8053903836342451\n"
     ]
    }
   ],
   "source": [
    "from sklearn.metrics import r2_score\n",
    "r2 = r2_score(dataset_test,predicted_PETR4)\n",
    "print('R2:', r2)"
   ]
  },
  {
   "cell_type": "code",
   "execution_count": 45,
   "metadata": {},
   "outputs": [
    {
     "name": "stdout",
     "output_type": "stream",
     "text": [
      "R2Adj: 0.8049980255367335\n"
     ]
    }
   ],
   "source": [
    "adj_r2 = (1 - (1 - r2) * ((predicted_PETR4.shape[0] - 1) / \n",
    "          (predicted_PETR4.shape[0] - predicted_PETR4.shape[1] - 1)))\n",
    "print('R2Adj:',adj_r2)"
   ]
  },
  {
   "cell_type": "code",
   "execution_count": 46,
   "metadata": {},
   "outputs": [],
   "source": [
    "# results = np.array([units1,units2,units3,rmse,mse,mape.iloc[0],r2,adj_r2]) "
   ]
  },
  {
   "cell_type": "code",
   "execution_count": 47,
   "metadata": {},
   "outputs": [],
   "source": [
    "data = pd.array([units1,units2,units3,rmse,mse,mape.iloc[0],r2,adj_r2])"
   ]
  },
  {
   "cell_type": "code",
   "execution_count": 48,
   "metadata": {},
   "outputs": [],
   "source": [
    "results = np.column_stack((results, data))"
   ]
  },
  {
   "cell_type": "code",
   "execution_count": 49,
   "metadata": {
    "scrolled": false
   },
   "outputs": [
    {
     "name": "stdout",
     "output_type": "stream",
     "text": [
      "[[50.         50.        ]\n",
      " [60.         60.        ]\n",
      " [30.         50.        ]\n",
      " [ 1.9064291   2.18685944]\n",
      " [ 3.63447192  4.78235419]\n",
      " [ 5.86744474  6.98682674]\n",
      " [ 0.85210146  0.80539038]\n",
      " [ 0.85180328  0.80499803]]\n"
     ]
    }
   ],
   "source": [
    "print(results)"
   ]
  },
  {
   "cell_type": "markdown",
   "metadata": {},
   "source": [
    "### Parâmetros para esta análise"
   ]
  },
  {
   "cell_type": "code",
   "execution_count": 50,
   "metadata": {},
   "outputs": [],
   "source": [
    "pwindow = 15\n",
    "pepochs3 = 100\n",
    "pbatch2 = 64\n",
    "\n",
    "units1 = 50\n",
    "units2 = 60\n",
    "units3 = 70"
   ]
  },
  {
   "cell_type": "markdown",
   "metadata": {
    "id": "7p1F7HdB2uJU"
   },
   "source": [
    "### Normalização"
   ]
  },
  {
   "cell_type": "code",
   "execution_count": 51,
   "metadata": {
    "id": "foeHRZr-2u-L"
   },
   "outputs": [],
   "source": [
    "from sklearn.preprocessing import MinMaxScaler\n",
    "sc = MinMaxScaler(feature_range = (0, 1))\n",
    "training_set_scaled = sc.fit_transform(training_set)"
   ]
  },
  {
   "cell_type": "markdown",
   "metadata": {
    "id": "uQP8Q7MI21Y9"
   },
   "source": [
    "### Criar a estrutura de dados com janela 10 e output 1"
   ]
  },
  {
   "cell_type": "code",
   "execution_count": 52,
   "metadata": {
    "id": "C6Ge9ql922cb"
   },
   "outputs": [],
   "source": [
    "window = pwindow\n",
    "trainSize = len(training_set_scaled)\n",
    "X_train = []\n",
    "y_train = []\n",
    "for i in range(window, trainSize):\n",
    "    X_train.append(training_set_scaled[i-window:i, 0])\n",
    "    y_train.append(training_set_scaled[i, 0])\n",
    "X_train, y_train = np.array(X_train), np.array(y_train)"
   ]
  },
  {
   "cell_type": "markdown",
   "metadata": {
    "id": "LPBC2LoG24dU"
   },
   "source": [
    "### Reshaping"
   ]
  },
  {
   "cell_type": "code",
   "execution_count": 53,
   "metadata": {
    "id": "oGwgQUDbdmnS"
   },
   "outputs": [
    {
     "data": {
      "text/plain": [
       "(234, 15)"
      ]
     },
     "execution_count": 53,
     "metadata": {},
     "output_type": "execute_result"
    }
   ],
   "source": [
    "X_train.shape"
   ]
  },
  {
   "cell_type": "markdown",
   "metadata": {
    "id": "AEVcR-Uju5TX"
   },
   "source": [
    "Shape de input da lstm = (batch_size, timesteps, features)"
   ]
  },
  {
   "cell_type": "code",
   "execution_count": 54,
   "metadata": {
    "id": "b9ZfLlGH25fr"
   },
   "outputs": [],
   "source": [
    "X_train = np.reshape(X_train, (X_train.shape[0], X_train.shape[1], 1))"
   ]
  },
  {
   "cell_type": "code",
   "execution_count": 55,
   "metadata": {
    "id": "RxU0axM9diHO"
   },
   "outputs": [
    {
     "data": {
      "text/plain": [
       "(234, 15, 1)"
      ]
     },
     "execution_count": 55,
     "metadata": {},
     "output_type": "execute_result"
    }
   ],
   "source": [
    "X_train.shape"
   ]
  },
  {
   "cell_type": "markdown",
   "metadata": {
    "id": "fZhjp7Tf282b"
   },
   "source": [
    "## Parte 2 - Construção da RNN"
   ]
  },
  {
   "cell_type": "markdown",
   "metadata": {
    "id": "RDkAxmMl3EXr"
   },
   "source": [
    "### Bibliotecas necessárias"
   ]
  },
  {
   "cell_type": "code",
   "execution_count": 56,
   "metadata": {
    "id": "Ifhh9yUo3DpT"
   },
   "outputs": [],
   "source": [
    "from keras.models import Sequential\n",
    "from keras.layers import Dense\n",
    "from keras.layers import LSTM\n",
    "from keras.layers import Dropout"
   ]
  },
  {
   "cell_type": "markdown",
   "metadata": {
    "id": "kordpD0_3H7b"
   },
   "source": [
    "### Construção da Rede completa"
   ]
  },
  {
   "cell_type": "code",
   "execution_count": 57,
   "metadata": {
    "scrolled": true
   },
   "outputs": [
    {
     "name": "stdout",
     "output_type": "stream",
     "text": [
      "Model: \"sequential_2\"\n",
      "_________________________________________________________________\n",
      "Layer (type)                 Output Shape              Param #   \n",
      "=================================================================\n",
      "lstm_6 (LSTM)                (None, 15, 50)            10400     \n",
      "_________________________________________________________________\n",
      "dropout_6 (Dropout)          (None, 15, 50)            0         \n",
      "_________________________________________________________________\n",
      "lstm_7 (LSTM)                (None, 15, 60)            26640     \n",
      "_________________________________________________________________\n",
      "dropout_7 (Dropout)          (None, 15, 60)            0         \n",
      "_________________________________________________________________\n",
      "lstm_8 (LSTM)                (None, 70)                36680     \n",
      "_________________________________________________________________\n",
      "dropout_8 (Dropout)          (None, 70)                0         \n",
      "_________________________________________________________________\n",
      "dense_2 (Dense)              (None, 1)                 71        \n",
      "=================================================================\n",
      "Total params: 73,791\n",
      "Trainable params: 73,791\n",
      "Non-trainable params: 0\n",
      "_________________________________________________________________\n"
     ]
    }
   ],
   "source": [
    "# Inicializar a RNN\n",
    "regressor = Sequential()\n",
    "\n",
    "# Adicionar a primeira camada LSTM e Dropout \n",
    "regressor.add(LSTM(units = units1, return_sequences = True, input_shape = (X_train.shape[1], 1)))\n",
    "regressor.add(Dropout(0.2))\n",
    " \n",
    "# Adicionar a segunda camada LSTM e Dropout\n",
    "regressor.add(LSTM(units = units2, return_sequences = True))\n",
    "regressor.add(Dropout(0.2))\n",
    " \n",
    "# Adicionar a terceira camada LSTM e Dropout\n",
    "regressor.add(LSTM(units = units3))\n",
    "regressor.add(Dropout(0.2))\n",
    " \n",
    "# camada de saída\n",
    "regressor.add(Dense(units = 1))\n",
    " \n",
    "# Compilar a rede\n",
    "regressor.compile(optimizer = 'adam', loss = 'mean_squared_error')\n",
    "\n",
    "# Visualizar a rede\n",
    "regressor.summary()  "
   ]
  },
  {
   "cell_type": "markdown",
   "metadata": {
    "id": "5j1w28g83iSR"
   },
   "source": [
    "### Treinamento"
   ]
  },
  {
   "cell_type": "code",
   "execution_count": 58,
   "metadata": {
    "scrolled": true
   },
   "outputs": [
    {
     "name": "stdout",
     "output_type": "stream",
     "text": [
      "Epoch 1/100\n",
      "4/4 [==============================] - 0s 16ms/step - loss: 0.0915\n",
      "Epoch 2/100\n",
      "4/4 [==============================] - 0s 14ms/step - loss: 0.0312\n",
      "Epoch 3/100\n",
      "4/4 [==============================] - 0s 11ms/step - loss: 0.0275\n",
      "Epoch 4/100\n",
      "4/4 [==============================] - 0s 11ms/step - loss: 0.0255\n",
      "Epoch 5/100\n",
      "4/4 [==============================] - 0s 11ms/step - loss: 0.0248\n",
      "Epoch 6/100\n",
      "4/4 [==============================] - 0s 11ms/step - loss: 0.0205\n",
      "Epoch 7/100\n",
      "4/4 [==============================] - 0s 11ms/step - loss: 0.0233\n",
      "Epoch 8/100\n",
      "4/4 [==============================] - 0s 11ms/step - loss: 0.0213\n",
      "Epoch 9/100\n",
      "4/4 [==============================] - 0s 11ms/step - loss: 0.0199\n",
      "Epoch 10/100\n",
      "4/4 [==============================] - 0s 11ms/step - loss: 0.0184\n",
      "Epoch 11/100\n",
      "4/4 [==============================] - 0s 11ms/step - loss: 0.0195\n",
      "Epoch 12/100\n",
      "4/4 [==============================] - 0s 10ms/step - loss: 0.0192\n",
      "Epoch 13/100\n",
      "4/4 [==============================] - 0s 10ms/step - loss: 0.0176\n",
      "Epoch 14/100\n",
      "4/4 [==============================] - 0s 10ms/step - loss: 0.0188\n",
      "Epoch 15/100\n",
      "4/4 [==============================] - 0s 10ms/step - loss: 0.0161\n",
      "Epoch 16/100\n",
      "4/4 [==============================] - 0s 11ms/step - loss: 0.0165\n",
      "Epoch 17/100\n",
      "4/4 [==============================] - 0s 11ms/step - loss: 0.0146\n",
      "Epoch 18/100\n",
      "4/4 [==============================] - 0s 11ms/step - loss: 0.0170\n",
      "Epoch 19/100\n",
      "4/4 [==============================] - 0s 11ms/step - loss: 0.0147\n",
      "Epoch 20/100\n",
      "4/4 [==============================] - 0s 11ms/step - loss: 0.0154\n",
      "Epoch 21/100\n",
      "4/4 [==============================] - 0s 10ms/step - loss: 0.0162\n",
      "Epoch 22/100\n",
      "4/4 [==============================] - 0s 10ms/step - loss: 0.0156\n",
      "Epoch 23/100\n",
      "4/4 [==============================] - 0s 11ms/step - loss: 0.0140\n",
      "Epoch 24/100\n",
      "4/4 [==============================] - 0s 10ms/step - loss: 0.0142\n",
      "Epoch 25/100\n",
      "4/4 [==============================] - 0s 10ms/step - loss: 0.0140\n",
      "Epoch 26/100\n",
      "4/4 [==============================] - 0s 12ms/step - loss: 0.0125\n",
      "Epoch 27/100\n",
      "4/4 [==============================] - 0s 13ms/step - loss: 0.0144\n",
      "Epoch 28/100\n",
      "4/4 [==============================] - 0s 11ms/step - loss: 0.0120\n",
      "Epoch 29/100\n",
      "4/4 [==============================] - 0s 10ms/step - loss: 0.0120\n",
      "Epoch 30/100\n",
      "4/4 [==============================] - 0s 10ms/step - loss: 0.0092\n",
      "Epoch 31/100\n",
      "4/4 [==============================] - 0s 12ms/step - loss: 0.0145\n",
      "Epoch 32/100\n",
      "4/4 [==============================] - 0s 13ms/step - loss: 0.0105\n",
      "Epoch 33/100\n",
      "4/4 [==============================] - 0s 12ms/step - loss: 0.0113\n",
      "Epoch 34/100\n",
      "4/4 [==============================] - 0s 10ms/step - loss: 0.0116\n",
      "Epoch 35/100\n",
      "4/4 [==============================] - 0s 12ms/step - loss: 0.0135\n",
      "Epoch 36/100\n",
      "4/4 [==============================] - 0s 12ms/step - loss: 0.0144\n",
      "Epoch 37/100\n",
      "4/4 [==============================] - 0s 12ms/step - loss: 0.0123\n",
      "Epoch 38/100\n",
      "4/4 [==============================] - 0s 10ms/step - loss: 0.0127\n",
      "Epoch 39/100\n",
      "4/4 [==============================] - 0s 11ms/step - loss: 0.0126\n",
      "Epoch 40/100\n",
      "4/4 [==============================] - 0s 11ms/step - loss: 0.0115\n",
      "Epoch 41/100\n",
      "4/4 [==============================] - 0s 12ms/step - loss: 0.0110\n",
      "Epoch 42/100\n",
      "4/4 [==============================] - 0s 12ms/step - loss: 0.0116\n",
      "Epoch 43/100\n",
      "4/4 [==============================] - 0s 10ms/step - loss: 0.0109\n",
      "Epoch 44/100\n",
      "4/4 [==============================] - 0s 11ms/step - loss: 0.0115\n",
      "Epoch 45/100\n",
      "4/4 [==============================] - 0s 10ms/step - loss: 0.0108\n",
      "Epoch 46/100\n",
      "4/4 [==============================] - 0s 11ms/step - loss: 0.0103\n",
      "Epoch 47/100\n",
      "4/4 [==============================] - 0s 13ms/step - loss: 0.0102\n",
      "Epoch 48/100\n",
      "4/4 [==============================] - 0s 12ms/step - loss: 0.0107\n",
      "Epoch 49/100\n",
      "4/4 [==============================] - 0s 12ms/step - loss: 0.0106\n",
      "Epoch 50/100\n",
      "4/4 [==============================] - 0s 10ms/step - loss: 0.0113\n",
      "Epoch 51/100\n",
      "4/4 [==============================] - 0s 10ms/step - loss: 0.0109\n",
      "Epoch 52/100\n",
      "4/4 [==============================] - 0s 10ms/step - loss: 0.0092\n",
      "Epoch 53/100\n",
      "4/4 [==============================] - 0s 11ms/step - loss: 0.0110\n",
      "Epoch 54/100\n",
      "4/4 [==============================] - 0s 11ms/step - loss: 0.0110\n",
      "Epoch 55/100\n",
      "4/4 [==============================] - 0s 11ms/step - loss: 0.0103\n",
      "Epoch 56/100\n",
      "4/4 [==============================] - 0s 11ms/step - loss: 0.0098\n",
      "Epoch 57/100\n",
      "4/4 [==============================] - 0s 13ms/step - loss: 0.0111\n",
      "Epoch 58/100\n",
      "4/4 [==============================] - 0s 19ms/step - loss: 0.0088\n",
      "Epoch 59/100\n",
      "4/4 [==============================] - 0s 11ms/step - loss: 0.0102\n",
      "Epoch 60/100\n",
      "4/4 [==============================] - 0s 10ms/step - loss: 0.0089\n",
      "Epoch 61/100\n",
      "4/4 [==============================] - 0s 10ms/step - loss: 0.0078\n",
      "Epoch 62/100\n",
      "4/4 [==============================] - 0s 11ms/step - loss: 0.0105\n",
      "Epoch 63/100\n",
      "4/4 [==============================] - 0s 11ms/step - loss: 0.0076\n",
      "Epoch 64/100\n",
      "4/4 [==============================] - 0s 11ms/step - loss: 0.0099\n",
      "Epoch 65/100\n",
      "4/4 [==============================] - 0s 11ms/step - loss: 0.0100\n",
      "Epoch 66/100\n",
      "4/4 [==============================] - 0s 11ms/step - loss: 0.0106\n",
      "Epoch 67/100\n",
      "4/4 [==============================] - 0s 13ms/step - loss: 0.0090\n",
      "Epoch 68/100\n",
      "4/4 [==============================] - 0s 12ms/step - loss: 0.0089\n",
      "Epoch 69/100\n",
      "4/4 [==============================] - 0s 11ms/step - loss: 0.0086\n",
      "Epoch 70/100\n",
      "4/4 [==============================] - 0s 10ms/step - loss: 0.0077\n",
      "Epoch 71/100\n",
      "4/4 [==============================] - 0s 10ms/step - loss: 0.0094\n",
      "Epoch 72/100\n",
      "4/4 [==============================] - 0s 10ms/step - loss: 0.0092\n",
      "Epoch 73/100\n",
      "4/4 [==============================] - 0s 10ms/step - loss: 0.0086\n",
      "Epoch 74/100\n",
      "4/4 [==============================] - 0s 10ms/step - loss: 0.0094\n",
      "Epoch 75/100\n",
      "4/4 [==============================] - 0s 11ms/step - loss: 0.0104\n",
      "Epoch 76/100\n",
      "4/4 [==============================] - 0s 11ms/step - loss: 0.0089\n",
      "Epoch 77/100\n",
      "4/4 [==============================] - 0s 11ms/step - loss: 0.0103\n",
      "Epoch 78/100\n",
      "4/4 [==============================] - 0s 11ms/step - loss: 0.0088\n",
      "Epoch 79/100\n",
      "4/4 [==============================] - 0s 12ms/step - loss: 0.0091\n",
      "Epoch 80/100\n",
      "4/4 [==============================] - 0s 12ms/step - loss: 0.0091\n",
      "Epoch 81/100\n",
      "4/4 [==============================] - 0s 12ms/step - loss: 0.0094\n",
      "Epoch 82/100\n",
      "4/4 [==============================] - 0s 11ms/step - loss: 0.0079\n",
      "Epoch 83/100\n",
      "4/4 [==============================] - 0s 11ms/step - loss: 0.0091\n",
      "Epoch 84/100\n",
      "4/4 [==============================] - 0s 10ms/step - loss: 0.0087\n",
      "Epoch 85/100\n",
      "4/4 [==============================] - 0s 11ms/step - loss: 0.0078\n",
      "Epoch 86/100\n",
      "4/4 [==============================] - 0s 11ms/step - loss: 0.0086\n",
      "Epoch 87/100\n",
      "4/4 [==============================] - 0s 11ms/step - loss: 0.0078\n",
      "Epoch 88/100\n",
      "4/4 [==============================] - 0s 10ms/step - loss: 0.0094\n",
      "Epoch 89/100\n",
      "4/4 [==============================] - 0s 10ms/step - loss: 0.0089\n",
      "Epoch 90/100\n",
      "4/4 [==============================] - 0s 11ms/step - loss: 0.0094\n",
      "Epoch 91/100\n",
      "4/4 [==============================] - 0s 11ms/step - loss: 0.0079\n",
      "Epoch 92/100\n",
      "4/4 [==============================] - 0s 11ms/step - loss: 0.0086\n",
      "Epoch 93/100\n",
      "4/4 [==============================] - 0s 13ms/step - loss: 0.0086\n",
      "Epoch 94/100\n",
      "4/4 [==============================] - 0s 12ms/step - loss: 0.0090\n",
      "Epoch 95/100\n",
      "4/4 [==============================] - 0s 11ms/step - loss: 0.0080\n",
      "Epoch 96/100\n",
      "4/4 [==============================] - 0s 11ms/step - loss: 0.0083\n",
      "Epoch 97/100\n",
      "4/4 [==============================] - 0s 11ms/step - loss: 0.0065\n",
      "Epoch 98/100\n",
      "4/4 [==============================] - 0s 13ms/step - loss: 0.0093\n",
      "Epoch 99/100\n",
      "4/4 [==============================] - 0s 12ms/step - loss: 0.0091\n",
      "Epoch 100/100\n",
      "4/4 [==============================] - 0s 11ms/step - loss: 0.0081\n"
     ]
    }
   ],
   "source": [
    "history = regressor.fit(X_train, y_train, epochs = pepochs3, batch_size = pbatch2)"
   ]
  },
  {
   "cell_type": "markdown",
   "metadata": {
    "id": "gwpyImwA3yon"
   },
   "source": [
    "## Parte 3 - Fazer as previsões e analisar os resultados"
   ]
  },
  {
   "cell_type": "markdown",
   "metadata": {
    "id": "wkXRvDjT4V-B"
   },
   "source": [
    "### Base de teste"
   ]
  },
  {
   "cell_type": "code",
   "execution_count": 59,
   "metadata": {
    "id": "Bn_n72dh30K-"
   },
   "outputs": [],
   "source": [
    "dataset_test = test_set\n",
    "PETR4_data_train = pd.DataFrame(PETR4_data_train)\n",
    "PETR4_data_test = pd.DataFrame(PETR4_data_test)"
   ]
  },
  {
   "cell_type": "markdown",
   "metadata": {
    "id": "EOo84exH4bfs"
   },
   "source": [
    "### Construir a estrutura para teste"
   ]
  },
  {
   "cell_type": "code",
   "execution_count": 60,
   "metadata": {
    "id": "ob_-mGA_B5px"
   },
   "outputs": [],
   "source": [
    "dataset_total = pd.concat((PETR4_data_train.iloc[:,1], PETR4_data_test.iloc[:,1]), axis = 0)\n",
    "testLength = len(dataset_test)\n",
    "inputs = dataset_total[len(dataset_total) - testLength - window:].values\n",
    "inputs = inputs.reshape(inputs.shape[0],1)\n",
    "\n",
    "inputs = sc.transform(inputs)\n",
    "X_test = []\n",
    "for i in range(window, inputs.shape[0]): \n",
    "    X_test.append(inputs[i-window:i, 0])\n",
    "X_test = np.array(X_test)\n",
    "\n",
    "X_test = np.reshape(X_test, (X_test.shape[0], X_test.shape[1], 1))"
   ]
  },
  {
   "cell_type": "markdown",
   "metadata": {
    "id": "rtkB4NA74e1B"
   },
   "source": [
    "### Fazer as previsões"
   ]
  },
  {
   "cell_type": "code",
   "execution_count": 61,
   "metadata": {
    "id": "nKIq1h-E4g9Z"
   },
   "outputs": [],
   "source": [
    "predicted_PETR4 = regressor.predict(X_test)\n",
    "predicted_PETR4 = sc.inverse_transform(predicted_PETR4)"
   ]
  },
  {
   "cell_type": "markdown",
   "metadata": {
    "id": "guvk7yXr4o0g"
   },
   "source": [
    "### Visualizar os resultados de treino e teste"
   ]
  },
  {
   "cell_type": "code",
   "execution_count": 62,
   "metadata": {
    "id": "tstXl2oS4rIo",
    "scrolled": true
   },
   "outputs": [
    {
     "data": {
      "image/png": "[encoded data removed]",
      "text/plain": [
       "<Figure size 432x288 with 1 Axes>"
      ]
     },
     "metadata": {
      "needs_background": "light"
     },
     "output_type": "display_data"
    }
   ],
   "source": [
    "allTargetData = np.vstack((training_set, dataset_test))\n",
    "training_predicted_PETR4 = regressor.predict(X_train)\n",
    "training_predicted_PETR4 = sc.inverse_transform(training_predicted_PETR4)\n",
    "allForecastedData = np.vstack((training_set[0:window], training_predicted_PETR4, predicted_PETR4))\n",
    "plt.plot(allTargetData, color = 'red', label = 'Real')\n",
    "plt.plot(allForecastedData, color = 'blue', label = 'Previsto')\n",
    "plt.title('Previsão de série temporal')\n",
    "plt.xlabel('Tempo')\n",
    "plt.ylabel('Cotação (R$)')\n",
    "plt.legend()\n",
    "plt.savefig('predictions_training_test_25_50_32.svg')\n",
    "plt.show()"
   ]
  },
  {
   "cell_type": "markdown",
   "metadata": {
    "id": "ytEVhQht4we3"
   },
   "source": [
    "## Parte 4 - Métricas de avaliação"
   ]
  },
  {
   "cell_type": "code",
   "execution_count": 63,
   "metadata": {
    "id": "rqOonVj64ydu",
    "scrolled": true
   },
   "outputs": [
    {
     "name": "stdout",
     "output_type": "stream",
     "text": [
      "RMSE: 2.510694001448556\n"
     ]
    }
   ],
   "source": [
    "import math\n",
    "from sklearn.metrics import mean_squared_error\n",
    "rmse = math.sqrt(mean_squared_error(dataset_test, predicted_PETR4))\n",
    "print('RMSE:', rmse)"
   ]
  },
  {
   "cell_type": "code",
   "execution_count": 64,
   "metadata": {
    "id": "ODeley1K42WW"
   },
   "outputs": [
    {
     "name": "stdout",
     "output_type": "stream",
     "text": [
      "MSE: 6.303584368909761\n"
     ]
    }
   ],
   "source": [
    "mse = mean_squared_error(dataset_test, predicted_PETR4)\n",
    "print('MSE:',mse)"
   ]
  },
  {
   "cell_type": "code",
   "execution_count": 65,
   "metadata": {
    "id": "L7_uU_8T44QA"
   },
   "outputs": [
    {
     "name": "stdout",
     "output_type": "stream",
     "text": [
      "MAPE: 8.226426488205 %\n"
     ]
    }
   ],
   "source": [
    "mape = np.mean(np.abs((dataset_test-predicted_PETR4) /dataset_test)) * 100\n",
    "print('MAPE:',mape.iloc[0], '%')"
   ]
  },
  {
   "cell_type": "code",
   "execution_count": 66,
   "metadata": {
    "id": "LnCgdBS0vGCz"
   },
   "outputs": [
    {
     "name": "stdout",
     "output_type": "stream",
     "text": [
      "R2: 0.7434865578227038\n"
     ]
    }
   ],
   "source": [
    "from sklearn.metrics import r2_score\n",
    "r2 = r2_score(dataset_test,predicted_PETR4)\n",
    "print('R2:', r2)"
   ]
  },
  {
   "cell_type": "code",
   "execution_count": 67,
   "metadata": {},
   "outputs": [
    {
     "name": "stdout",
     "output_type": "stream",
     "text": [
      "R2Adj: 0.7429693936247657\n"
     ]
    }
   ],
   "source": [
    "adj_r2 = (1 - (1 - r2) * ((predicted_PETR4.shape[0] - 1) / \n",
    "          (predicted_PETR4.shape[0] - predicted_PETR4.shape[1] - 1)))\n",
    "print('R2Adj:',adj_r2)"
   ]
  },
  {
   "cell_type": "code",
   "execution_count": 68,
   "metadata": {},
   "outputs": [],
   "source": [
    "# results = np.array([units1,units2,units3,rmse,mse,mape.iloc[0],r2,adj_r2]) "
   ]
  },
  {
   "cell_type": "code",
   "execution_count": 69,
   "metadata": {},
   "outputs": [],
   "source": [
    "data = pd.array([units1,units2,units3,rmse,mse,mape.iloc[0],r2,adj_r2])"
   ]
  },
  {
   "cell_type": "code",
   "execution_count": 70,
   "metadata": {},
   "outputs": [],
   "source": [
    "results = np.column_stack((results, data))"
   ]
  },
  {
   "cell_type": "code",
   "execution_count": 71,
   "metadata": {
    "scrolled": true
   },
   "outputs": [
    {
     "name": "stdout",
     "output_type": "stream",
     "text": [
      "[[50.         50.         50.        ]\n",
      " [60.         60.         60.        ]\n",
      " [30.         50.         70.        ]\n",
      " [ 1.9064291   2.18685944  2.510694  ]\n",
      " [ 3.63447192  4.78235419  6.30358437]\n",
      " [ 5.86744474  6.98682674  8.22642649]\n",
      " [ 0.85210146  0.80539038  0.74348656]\n",
      " [ 0.85180328  0.80499803  0.74296939]]\n"
     ]
    }
   ],
   "source": [
    "print(results)"
   ]
  },
  {
   "cell_type": "markdown",
   "metadata": {},
   "source": [
    "### Parâmetros para esta análise"
   ]
  },
  {
   "cell_type": "code",
   "execution_count": 72,
   "metadata": {},
   "outputs": [],
   "source": [
    "pwindow = 15\n",
    "pepochs3 = 100\n",
    "pbatch2 = 64\n",
    "\n",
    "units1 = 50\n",
    "units2 = 80\n",
    "units3 = 30"
   ]
  },
  {
   "cell_type": "markdown",
   "metadata": {
    "id": "7p1F7HdB2uJU"
   },
   "source": [
    "### Normalização"
   ]
  },
  {
   "cell_type": "code",
   "execution_count": 73,
   "metadata": {
    "id": "foeHRZr-2u-L"
   },
   "outputs": [],
   "source": [
    "from sklearn.preprocessing import MinMaxScaler\n",
    "sc = MinMaxScaler(feature_range = (0, 1))\n",
    "training_set_scaled = sc.fit_transform(training_set)"
   ]
  },
  {
   "cell_type": "markdown",
   "metadata": {
    "id": "uQP8Q7MI21Y9"
   },
   "source": [
    "### Criar a estrutura de dados com janela 10 e output 1"
   ]
  },
  {
   "cell_type": "code",
   "execution_count": 74,
   "metadata": {
    "id": "C6Ge9ql922cb"
   },
   "outputs": [],
   "source": [
    "window = pwindow\n",
    "trainSize = len(training_set_scaled)\n",
    "X_train = []\n",
    "y_train = []\n",
    "for i in range(window, trainSize):\n",
    "    X_train.append(training_set_scaled[i-window:i, 0])\n",
    "    y_train.append(training_set_scaled[i, 0])\n",
    "X_train, y_train = np.array(X_train), np.array(y_train)"
   ]
  },
  {
   "cell_type": "markdown",
   "metadata": {
    "id": "LPBC2LoG24dU"
   },
   "source": [
    "### Reshaping"
   ]
  },
  {
   "cell_type": "code",
   "execution_count": 75,
   "metadata": {
    "id": "oGwgQUDbdmnS"
   },
   "outputs": [
    {
     "data": {
      "text/plain": [
       "(234, 15)"
      ]
     },
     "execution_count": 75,
     "metadata": {},
     "output_type": "execute_result"
    }
   ],
   "source": [
    "X_train.shape"
   ]
  },
  {
   "cell_type": "markdown",
   "metadata": {
    "id": "AEVcR-Uju5TX"
   },
   "source": [
    "Shape de input da lstm = (batch_size, timesteps, features)"
   ]
  },
  {
   "cell_type": "code",
   "execution_count": 76,
   "metadata": {
    "id": "b9ZfLlGH25fr"
   },
   "outputs": [],
   "source": [
    "X_train = np.reshape(X_train, (X_train.shape[0], X_train.shape[1], 1))"
   ]
  },
  {
   "cell_type": "code",
   "execution_count": 77,
   "metadata": {
    "id": "RxU0axM9diHO"
   },
   "outputs": [
    {
     "data": {
      "text/plain": [
       "(234, 15, 1)"
      ]
     },
     "execution_count": 77,
     "metadata": {},
     "output_type": "execute_result"
    }
   ],
   "source": [
    "X_train.shape"
   ]
  },
  {
   "cell_type": "markdown",
   "metadata": {
    "id": "fZhjp7Tf282b"
   },
   "source": [
    "## Parte 2 - Construção da RNN"
   ]
  },
  {
   "cell_type": "markdown",
   "metadata": {
    "id": "RDkAxmMl3EXr"
   },
   "source": [
    "### Bibliotecas necessárias"
   ]
  },
  {
   "cell_type": "code",
   "execution_count": 78,
   "metadata": {
    "id": "Ifhh9yUo3DpT"
   },
   "outputs": [],
   "source": [
    "from keras.models import Sequential\n",
    "from keras.layers import Dense\n",
    "from keras.layers import LSTM\n",
    "from keras.layers import Dropout"
   ]
  },
  {
   "cell_type": "markdown",
   "metadata": {
    "id": "kordpD0_3H7b"
   },
   "source": [
    "### Construção da Rede completa"
   ]
  },
  {
   "cell_type": "code",
   "execution_count": 79,
   "metadata": {
    "scrolled": true
   },
   "outputs": [
    {
     "name": "stdout",
     "output_type": "stream",
     "text": [
      "Model: \"sequential_3\"\n",
      "_________________________________________________________________\n",
      "Layer (type)                 Output Shape              Param #   \n",
      "=================================================================\n",
      "lstm_9 (LSTM)                (None, 15, 50)            10400     \n",
      "_________________________________________________________________\n",
      "dropout_9 (Dropout)          (None, 15, 50)            0         \n",
      "_________________________________________________________________\n",
      "lstm_10 (LSTM)               (None, 15, 80)            41920     \n",
      "_________________________________________________________________\n",
      "dropout_10 (Dropout)         (None, 15, 80)            0         \n",
      "_________________________________________________________________\n",
      "lstm_11 (LSTM)               (None, 30)                13320     \n",
      "_________________________________________________________________\n",
      "dropout_11 (Dropout)         (None, 30)                0         \n",
      "_________________________________________________________________\n",
      "dense_3 (Dense)              (None, 1)                 31        \n",
      "=================================================================\n",
      "Total params: 65,671\n",
      "Trainable params: 65,671\n",
      "Non-trainable params: 0\n",
      "_________________________________________________________________\n"
     ]
    }
   ],
   "source": [
    "# Inicializar a RNN\n",
    "regressor = Sequential()\n",
    "\n",
    "# Adicionar a primeira camada LSTM e Dropout \n",
    "regressor.add(LSTM(units = units1, return_sequences = True, input_shape = (X_train.shape[1], 1)))\n",
    "regressor.add(Dropout(0.2))\n",
    " \n",
    "# Adicionar a segunda camada LSTM e Dropout\n",
    "regressor.add(LSTM(units = units2, return_sequences = True))\n",
    "regressor.add(Dropout(0.2))\n",
    " \n",
    "# Adicionar a terceira camada LSTM e Dropout\n",
    "regressor.add(LSTM(units = units3))\n",
    "regressor.add(Dropout(0.2))\n",
    " \n",
    "# camada de saída\n",
    "regressor.add(Dense(units = 1))\n",
    " \n",
    "# Compilar a rede\n",
    "regressor.compile(optimizer = 'adam', loss = 'mean_squared_error')\n",
    "\n",
    "# Visualizar a rede\n",
    "regressor.summary()  "
   ]
  },
  {
   "cell_type": "markdown",
   "metadata": {
    "id": "5j1w28g83iSR"
   },
   "source": [
    "### Treinamento"
   ]
  },
  {
   "cell_type": "code",
   "execution_count": 80,
   "metadata": {
    "scrolled": true
   },
   "outputs": [
    {
     "name": "stdout",
     "output_type": "stream",
     "text": [
      "Epoch 1/100\n",
      "4/4 [==============================] - 0s 19ms/step - loss: 0.0983\n",
      "Epoch 2/100\n",
      "4/4 [==============================] - 0s 16ms/step - loss: 0.0305\n",
      "Epoch 3/100\n",
      "4/4 [==============================] - 0s 12ms/step - loss: 0.0340\n",
      "Epoch 4/100\n",
      "4/4 [==============================] - 0s 11ms/step - loss: 0.0225\n",
      "Epoch 5/100\n",
      "4/4 [==============================] - 0s 11ms/step - loss: 0.0241\n",
      "Epoch 6/100\n",
      "4/4 [==============================] - 0s 11ms/step - loss: 0.0231\n",
      "Epoch 7/100\n",
      "4/4 [==============================] - 0s 11ms/step - loss: 0.0211\n",
      "Epoch 8/100\n",
      "4/4 [==============================] - 0s 10ms/step - loss: 0.0201\n",
      "Epoch 9/100\n",
      "4/4 [==============================] - 0s 11ms/step - loss: 0.0191\n",
      "Epoch 10/100\n",
      "4/4 [==============================] - 0s 11ms/step - loss: 0.0195\n",
      "Epoch 11/100\n",
      "4/4 [==============================] - 0s 11ms/step - loss: 0.0191\n",
      "Epoch 12/100\n",
      "4/4 [==============================] - 0s 10ms/step - loss: 0.0196\n",
      "Epoch 13/100\n",
      "4/4 [==============================] - 0s 10ms/step - loss: 0.0167\n",
      "Epoch 14/100\n",
      "4/4 [==============================] - 0s 11ms/step - loss: 0.0208\n",
      "Epoch 15/100\n",
      "4/4 [==============================] - 0s 10ms/step - loss: 0.0167\n",
      "Epoch 16/100\n",
      "4/4 [==============================] - 0s 11ms/step - loss: 0.0190\n",
      "Epoch 17/100\n",
      "4/4 [==============================] - 0s 18ms/step - loss: 0.0187\n",
      "Epoch 18/100\n",
      "4/4 [==============================] - 0s 10ms/step - loss: 0.0167\n",
      "Epoch 19/100\n",
      "4/4 [==============================] - 0s 11ms/step - loss: 0.0143\n",
      "Epoch 20/100\n",
      "4/4 [==============================] - 0s 11ms/step - loss: 0.0179\n",
      "Epoch 21/100\n",
      "4/4 [==============================] - 0s 11ms/step - loss: 0.0179\n",
      "Epoch 22/100\n",
      "4/4 [==============================] - 0s 10ms/step - loss: 0.0147\n",
      "Epoch 23/100\n",
      "4/4 [==============================] - 0s 12ms/step - loss: 0.0163\n",
      "Epoch 24/100\n",
      "4/4 [==============================] - 0s 11ms/step - loss: 0.0156\n",
      "Epoch 25/100\n",
      "4/4 [==============================] - 0s 11ms/step - loss: 0.0165\n",
      "Epoch 26/100\n",
      "4/4 [==============================] - 0s 10ms/step - loss: 0.0148\n",
      "Epoch 27/100\n",
      "4/4 [==============================] - 0s 10ms/step - loss: 0.0161\n",
      "Epoch 28/100\n",
      "4/4 [==============================] - 0s 10ms/step - loss: 0.0166\n",
      "Epoch 29/100\n",
      "4/4 [==============================] - 0s 11ms/step - loss: 0.0127\n",
      "Epoch 30/100\n",
      "4/4 [==============================] - 0s 10ms/step - loss: 0.0151\n",
      "Epoch 31/100\n",
      "4/4 [==============================] - 0s 11ms/step - loss: 0.0151\n",
      "Epoch 32/100\n",
      "4/4 [==============================] - 0s 10ms/step - loss: 0.0156\n",
      "Epoch 33/100\n",
      "4/4 [==============================] - 0s 10ms/step - loss: 0.0142\n",
      "Epoch 34/100\n",
      "4/4 [==============================] - 0s 11ms/step - loss: 0.0144\n",
      "Epoch 35/100\n",
      "4/4 [==============================] - 0s 10ms/step - loss: 0.0127\n",
      "Epoch 36/100\n",
      "4/4 [==============================] - 0s 11ms/step - loss: 0.0124\n",
      "Epoch 37/100\n",
      "4/4 [==============================] - 0s 13ms/step - loss: 0.0134\n",
      "Epoch 38/100\n",
      "4/4 [==============================] - 0s 11ms/step - loss: 0.0130\n",
      "Epoch 39/100\n",
      "4/4 [==============================] - 0s 11ms/step - loss: 0.0136\n",
      "Epoch 40/100\n",
      "4/4 [==============================] - 0s 10ms/step - loss: 0.0156\n",
      "Epoch 41/100\n",
      "4/4 [==============================] - 0s 11ms/step - loss: 0.0138\n",
      "Epoch 42/100\n",
      "4/4 [==============================] - 0s 11ms/step - loss: 0.0139\n",
      "Epoch 43/100\n",
      "4/4 [==============================] - 0s 11ms/step - loss: 0.0112\n",
      "Epoch 44/100\n",
      "4/4 [==============================] - 0s 10ms/step - loss: 0.0132\n",
      "Epoch 45/100\n",
      "4/4 [==============================] - 0s 11ms/step - loss: 0.0119\n",
      "Epoch 46/100\n",
      "4/4 [==============================] - 0s 10ms/step - loss: 0.0131\n",
      "Epoch 47/100\n",
      "4/4 [==============================] - 0s 10ms/step - loss: 0.0108\n",
      "Epoch 48/100\n",
      "4/4 [==============================] - 0s 10ms/step - loss: 0.0112\n",
      "Epoch 49/100\n",
      "4/4 [==============================] - 0s 10ms/step - loss: 0.0098\n",
      "Epoch 50/100\n",
      "4/4 [==============================] - 0s 10ms/step - loss: 0.0107\n",
      "Epoch 51/100\n",
      "4/4 [==============================] - 0s 10ms/step - loss: 0.0116\n",
      "Epoch 52/100\n",
      "4/4 [==============================] - 0s 10ms/step - loss: 0.0137\n",
      "Epoch 53/100\n",
      "4/4 [==============================] - 0s 10ms/step - loss: 0.0115\n",
      "Epoch 54/100\n",
      "4/4 [==============================] - 0s 10ms/step - loss: 0.0102\n",
      "Epoch 55/100\n",
      "4/4 [==============================] - 0s 10ms/step - loss: 0.0099\n",
      "Epoch 56/100\n",
      "4/4 [==============================] - 0s 11ms/step - loss: 0.0117\n",
      "Epoch 57/100\n",
      "4/4 [==============================] - 0s 10ms/step - loss: 0.0120\n",
      "Epoch 58/100\n",
      "4/4 [==============================] - 0s 11ms/step - loss: 0.0113\n",
      "Epoch 59/100\n",
      "4/4 [==============================] - 0s 11ms/step - loss: 0.0121\n",
      "Epoch 60/100\n",
      "4/4 [==============================] - 0s 11ms/step - loss: 0.0096\n",
      "Epoch 61/100\n",
      "4/4 [==============================] - 0s 11ms/step - loss: 0.0126\n",
      "Epoch 62/100\n",
      "4/4 [==============================] - 0s 10ms/step - loss: 0.0105\n",
      "Epoch 63/100\n",
      "4/4 [==============================] - 0s 10ms/step - loss: 0.0107\n",
      "Epoch 64/100\n",
      "4/4 [==============================] - 0s 11ms/step - loss: 0.0093\n",
      "Epoch 65/100\n",
      "4/4 [==============================] - 0s 10ms/step - loss: 0.0105\n",
      "Epoch 66/100\n",
      "4/4 [==============================] - 0s 11ms/step - loss: 0.0089\n",
      "Epoch 67/100\n",
      "4/4 [==============================] - 0s 10ms/step - loss: 0.0100\n",
      "Epoch 68/100\n",
      "4/4 [==============================] - 0s 10ms/step - loss: 0.0095\n",
      "Epoch 69/100\n",
      "4/4 [==============================] - 0s 10ms/step - loss: 0.0112\n",
      "Epoch 70/100\n",
      "4/4 [==============================] - 0s 10ms/step - loss: 0.0101\n",
      "Epoch 71/100\n",
      "4/4 [==============================] - 0s 10ms/step - loss: 0.0120\n",
      "Epoch 72/100\n",
      "4/4 [==============================] - 0s 10ms/step - loss: 0.0092\n",
      "Epoch 73/100\n",
      "4/4 [==============================] - 0s 11ms/step - loss: 0.0076\n",
      "Epoch 74/100\n",
      "4/4 [==============================] - 0s 10ms/step - loss: 0.0096\n",
      "Epoch 75/100\n",
      "4/4 [==============================] - 0s 10ms/step - loss: 0.0111\n",
      "Epoch 76/100\n",
      "4/4 [==============================] - 0s 10ms/step - loss: 0.0105\n",
      "Epoch 77/100\n",
      "4/4 [==============================] - 0s 11ms/step - loss: 0.0100\n",
      "Epoch 78/100\n",
      "4/4 [==============================] - 0s 11ms/step - loss: 0.0100\n",
      "Epoch 79/100\n",
      "4/4 [==============================] - 0s 11ms/step - loss: 0.0086\n",
      "Epoch 80/100\n",
      "4/4 [==============================] - 0s 11ms/step - loss: 0.0086\n",
      "Epoch 81/100\n",
      "4/4 [==============================] - 0s 10ms/step - loss: 0.0097\n",
      "Epoch 82/100\n",
      "4/4 [==============================] - 0s 11ms/step - loss: 0.0104\n",
      "Epoch 83/100\n",
      "4/4 [==============================] - 0s 10ms/step - loss: 0.0098\n",
      "Epoch 84/100\n",
      "4/4 [==============================] - 0s 10ms/step - loss: 0.0083\n",
      "Epoch 85/100\n",
      "4/4 [==============================] - 0s 10ms/step - loss: 0.0097\n",
      "Epoch 86/100\n",
      "4/4 [==============================] - 0s 11ms/step - loss: 0.0106\n",
      "Epoch 87/100\n",
      "4/4 [==============================] - 0s 11ms/step - loss: 0.0094\n",
      "Epoch 88/100\n",
      "4/4 [==============================] - 0s 12ms/step - loss: 0.0085\n",
      "Epoch 89/100\n",
      "4/4 [==============================] - 0s 11ms/step - loss: 0.0099\n",
      "Epoch 90/100\n",
      "4/4 [==============================] - 0s 10ms/step - loss: 0.0102\n",
      "Epoch 91/100\n",
      "4/4 [==============================] - 0s 11ms/step - loss: 0.0090\n",
      "Epoch 92/100\n",
      "4/4 [==============================] - 0s 11ms/step - loss: 0.0093\n",
      "Epoch 93/100\n",
      "4/4 [==============================] - 0s 10ms/step - loss: 0.0089\n",
      "Epoch 94/100\n",
      "4/4 [==============================] - 0s 10ms/step - loss: 0.0083\n",
      "Epoch 95/100\n",
      "4/4 [==============================] - 0s 10ms/step - loss: 0.0085\n",
      "Epoch 96/100\n",
      "4/4 [==============================] - 0s 10ms/step - loss: 0.0120\n",
      "Epoch 97/100\n",
      "4/4 [==============================] - 0s 10ms/step - loss: 0.0084\n",
      "Epoch 98/100\n",
      "4/4 [==============================] - 0s 10ms/step - loss: 0.0113\n",
      "Epoch 99/100\n",
      "4/4 [==============================] - 0s 11ms/step - loss: 0.0083\n",
      "Epoch 100/100\n",
      "4/4 [==============================] - 0s 10ms/step - loss: 0.0089\n"
     ]
    }
   ],
   "source": [
    "history = regressor.fit(X_train, y_train, epochs = pepochs3, batch_size = pbatch2)"
   ]
  },
  {
   "cell_type": "markdown",
   "metadata": {
    "id": "gwpyImwA3yon"
   },
   "source": [
    "## Parte 3 - Fazer as previsões e analisar os resultados"
   ]
  },
  {
   "cell_type": "markdown",
   "metadata": {
    "id": "wkXRvDjT4V-B"
   },
   "source": [
    "### Base de teste"
   ]
  },
  {
   "cell_type": "code",
   "execution_count": 81,
   "metadata": {
    "id": "Bn_n72dh30K-"
   },
   "outputs": [],
   "source": [
    "dataset_test = test_set\n",
    "PETR4_data_train = pd.DataFrame(PETR4_data_train)\n",
    "PETR4_data_test = pd.DataFrame(PETR4_data_test)"
   ]
  },
  {
   "cell_type": "markdown",
   "metadata": {
    "id": "EOo84exH4bfs"
   },
   "source": [
    "### Construir a estrutura para teste"
   ]
  },
  {
   "cell_type": "code",
   "execution_count": 82,
   "metadata": {
    "id": "ob_-mGA_B5px"
   },
   "outputs": [],
   "source": [
    "dataset_total = pd.concat((PETR4_data_train.iloc[:,1], PETR4_data_test.iloc[:,1]), axis = 0)\n",
    "testLength = len(dataset_test)\n",
    "inputs = dataset_total[len(dataset_total) - testLength - window:].values\n",
    "inputs = inputs.reshape(inputs.shape[0],1)\n",
    "\n",
    "inputs = sc.transform(inputs)\n",
    "X_test = []\n",
    "for i in range(window, inputs.shape[0]): \n",
    "    X_test.append(inputs[i-window:i, 0])\n",
    "X_test = np.array(X_test)\n",
    "\n",
    "X_test = np.reshape(X_test, (X_test.shape[0], X_test.shape[1], 1))"
   ]
  },
  {
   "cell_type": "markdown",
   "metadata": {
    "id": "rtkB4NA74e1B"
   },
   "source": [
    "### Fazer as previsões"
   ]
  },
  {
   "cell_type": "code",
   "execution_count": 83,
   "metadata": {
    "id": "nKIq1h-E4g9Z"
   },
   "outputs": [],
   "source": [
    "predicted_PETR4 = regressor.predict(X_test)\n",
    "predicted_PETR4 = sc.inverse_transform(predicted_PETR4)"
   ]
  },
  {
   "cell_type": "markdown",
   "metadata": {
    "id": "guvk7yXr4o0g"
   },
   "source": [
    "### Visualizar os resultados de treino e teste"
   ]
  },
  {
   "cell_type": "code",
   "execution_count": 84,
   "metadata": {
    "id": "tstXl2oS4rIo",
    "scrolled": true
   },
   "outputs": [
    {
     "data": {
      "image/png": "[encoded data removed]",
      "text/plain": [
       "<Figure size 432x288 with 1 Axes>"
      ]
     },
     "metadata": {
      "needs_background": "light"
     },
     "output_type": "display_data"
    }
   ],
   "source": [
    "allTargetData = np.vstack((training_set, dataset_test))\n",
    "training_predicted_PETR4 = regressor.predict(X_train)\n",
    "training_predicted_PETR4 = sc.inverse_transform(training_predicted_PETR4)\n",
    "allForecastedData = np.vstack((training_set[0:window], training_predicted_PETR4, predicted_PETR4))\n",
    "plt.plot(allTargetData, color = 'red', label = 'Real')\n",
    "plt.plot(allForecastedData, color = 'blue', label = 'Previsto')\n",
    "plt.title('Previsão de série temporal')\n",
    "plt.xlabel('Tempo')\n",
    "plt.ylabel('Cotação (R$)')\n",
    "plt.legend()\n",
    "plt.savefig('predictions_training_test_25_50_32.svg')\n",
    "plt.show()"
   ]
  },
  {
   "cell_type": "markdown",
   "metadata": {
    "id": "ytEVhQht4we3"
   },
   "source": [
    "## Parte 4 - Métricas de avaliação"
   ]
  },
  {
   "cell_type": "code",
   "execution_count": 85,
   "metadata": {
    "id": "rqOonVj64ydu",
    "scrolled": true
   },
   "outputs": [
    {
     "name": "stdout",
     "output_type": "stream",
     "text": [
      "RMSE: 2.2836942219331244\n"
     ]
    }
   ],
   "source": [
    "import math\n",
    "from sklearn.metrics import mean_squared_error\n",
    "rmse = math.sqrt(mean_squared_error(dataset_test, predicted_PETR4))\n",
    "print('RMSE:', rmse)"
   ]
  },
  {
   "cell_type": "code",
   "execution_count": 86,
   "metadata": {
    "id": "ODeley1K42WW"
   },
   "outputs": [
    {
     "name": "stdout",
     "output_type": "stream",
     "text": [
      "MSE: 5.2152592992907385\n"
     ]
    }
   ],
   "source": [
    "mse = mean_squared_error(dataset_test, predicted_PETR4)\n",
    "print('MSE:',mse)"
   ]
  },
  {
   "cell_type": "code",
   "execution_count": 87,
   "metadata": {
    "id": "L7_uU_8T44QA"
   },
   "outputs": [
    {
     "name": "stdout",
     "output_type": "stream",
     "text": [
      "MAPE: 6.954808791198144 %\n"
     ]
    }
   ],
   "source": [
    "mape = np.mean(np.abs((dataset_test-predicted_PETR4) /dataset_test)) * 100\n",
    "print('MAPE:',mape.iloc[0], '%')"
   ]
  },
  {
   "cell_type": "code",
   "execution_count": 88,
   "metadata": {
    "id": "LnCgdBS0vGCz"
   },
   "outputs": [
    {
     "name": "stdout",
     "output_type": "stream",
     "text": [
      "R2: 0.7877740605319132\n"
     ]
    }
   ],
   "source": [
    "from sklearn.metrics import r2_score\n",
    "r2 = r2_score(dataset_test,predicted_PETR4)\n",
    "print('R2:', r2)"
   ]
  },
  {
   "cell_type": "code",
   "execution_count": 89,
   "metadata": {},
   "outputs": [
    {
     "name": "stdout",
     "output_type": "stream",
     "text": [
      "R2Adj: 0.7873461856539534\n"
     ]
    }
   ],
   "source": [
    "adj_r2 = (1 - (1 - r2) * ((predicted_PETR4.shape[0] - 1) / \n",
    "          (predicted_PETR4.shape[0] - predicted_PETR4.shape[1] - 1)))\n",
    "print('R2Adj:',adj_r2)"
   ]
  },
  {
   "cell_type": "code",
   "execution_count": 90,
   "metadata": {},
   "outputs": [],
   "source": [
    "# results = np.array([units1,units2,units3,rmse,mse,mape.iloc[0],r2,adj_r2]) "
   ]
  },
  {
   "cell_type": "code",
   "execution_count": 91,
   "metadata": {},
   "outputs": [],
   "source": [
    "data = pd.array([units1,units2,units3,rmse,mse,mape.iloc[0],r2,adj_r2])"
   ]
  },
  {
   "cell_type": "code",
   "execution_count": 92,
   "metadata": {},
   "outputs": [],
   "source": [
    "results = np.column_stack((results, data))"
   ]
  },
  {
   "cell_type": "code",
   "execution_count": 93,
   "metadata": {
    "scrolled": true
   },
   "outputs": [
    {
     "name": "stdout",
     "output_type": "stream",
     "text": [
      "[[50.         50.         50.         50.        ]\n",
      " [60.         60.         60.         80.        ]\n",
      " [30.         50.         70.         30.        ]\n",
      " [ 1.9064291   2.18685944  2.510694    2.28369422]\n",
      " [ 3.63447192  4.78235419  6.30358437  5.2152593 ]\n",
      " [ 5.86744474  6.98682674  8.22642649  6.95480879]\n",
      " [ 0.85210146  0.80539038  0.74348656  0.78777406]\n",
      " [ 0.85180328  0.80499803  0.74296939  0.78734619]]\n"
     ]
    }
   ],
   "source": [
    "print(results)"
   ]
  },
  {
   "cell_type": "markdown",
   "metadata": {},
   "source": [
    "### Parâmetros para esta análise"
   ]
  },
  {
   "cell_type": "code",
   "execution_count": 94,
   "metadata": {},
   "outputs": [],
   "source": [
    "pwindow = 15\n",
    "pepochs3 = 100\n",
    "pbatch2 = 64\n",
    "\n",
    "units1 = 50\n",
    "units2 = 80\n",
    "units3 = 50"
   ]
  },
  {
   "cell_type": "markdown",
   "metadata": {
    "id": "7p1F7HdB2uJU"
   },
   "source": [
    "### Normalização"
   ]
  },
  {
   "cell_type": "code",
   "execution_count": 95,
   "metadata": {
    "id": "foeHRZr-2u-L"
   },
   "outputs": [],
   "source": [
    "from sklearn.preprocessing import MinMaxScaler\n",
    "sc = MinMaxScaler(feature_range = (0, 1))\n",
    "training_set_scaled = sc.fit_transform(training_set)"
   ]
  },
  {
   "cell_type": "markdown",
   "metadata": {
    "id": "uQP8Q7MI21Y9"
   },
   "source": [
    "### Criar a estrutura de dados com janela 10 e output 1"
   ]
  },
  {
   "cell_type": "code",
   "execution_count": 96,
   "metadata": {
    "id": "C6Ge9ql922cb"
   },
   "outputs": [],
   "source": [
    "window = pwindow\n",
    "trainSize = len(training_set_scaled)\n",
    "X_train = []\n",
    "y_train = []\n",
    "for i in range(window, trainSize):\n",
    "    X_train.append(training_set_scaled[i-window:i, 0])\n",
    "    y_train.append(training_set_scaled[i, 0])\n",
    "X_train, y_train = np.array(X_train), np.array(y_train)"
   ]
  },
  {
   "cell_type": "markdown",
   "metadata": {
    "id": "LPBC2LoG24dU"
   },
   "source": [
    "### Reshaping"
   ]
  },
  {
   "cell_type": "code",
   "execution_count": 97,
   "metadata": {
    "id": "oGwgQUDbdmnS"
   },
   "outputs": [
    {
     "data": {
      "text/plain": [
       "(234, 15)"
      ]
     },
     "execution_count": 97,
     "metadata": {},
     "output_type": "execute_result"
    }
   ],
   "source": [
    "X_train.shape"
   ]
  },
  {
   "cell_type": "markdown",
   "metadata": {
    "id": "AEVcR-Uju5TX"
   },
   "source": [
    "Shape de input da lstm = (batch_size, timesteps, features)"
   ]
  },
  {
   "cell_type": "code",
   "execution_count": 98,
   "metadata": {
    "id": "b9ZfLlGH25fr"
   },
   "outputs": [],
   "source": [
    "X_train = np.reshape(X_train, (X_train.shape[0], X_train.shape[1], 1))"
   ]
  },
  {
   "cell_type": "code",
   "execution_count": 99,
   "metadata": {
    "id": "RxU0axM9diHO"
   },
   "outputs": [
    {
     "data": {
      "text/plain": [
       "(234, 15, 1)"
      ]
     },
     "execution_count": 99,
     "metadata": {},
     "output_type": "execute_result"
    }
   ],
   "source": [
    "X_train.shape"
   ]
  },
  {
   "cell_type": "markdown",
   "metadata": {
    "id": "fZhjp7Tf282b"
   },
   "source": [
    "## Parte 2 - Construção da RNN"
   ]
  },
  {
   "cell_type": "markdown",
   "metadata": {
    "id": "RDkAxmMl3EXr"
   },
   "source": [
    "### Bibliotecas necessárias"
   ]
  },
  {
   "cell_type": "code",
   "execution_count": 100,
   "metadata": {
    "id": "Ifhh9yUo3DpT"
   },
   "outputs": [],
   "source": [
    "from keras.models import Sequential\n",
    "from keras.layers import Dense\n",
    "from keras.layers import LSTM\n",
    "from keras.layers import Dropout"
   ]
  },
  {
   "cell_type": "markdown",
   "metadata": {
    "id": "kordpD0_3H7b"
   },
   "source": [
    "### Construção da Rede completa"
   ]
  },
  {
   "cell_type": "code",
   "execution_count": 101,
   "metadata": {
    "scrolled": true
   },
   "outputs": [
    {
     "name": "stdout",
     "output_type": "stream",
     "text": [
      "Model: \"sequential_4\"\n",
      "_________________________________________________________________\n",
      "Layer (type)                 Output Shape              Param #   \n",
      "=================================================================\n",
      "lstm_12 (LSTM)               (None, 15, 50)            10400     \n",
      "_________________________________________________________________\n",
      "dropout_12 (Dropout)         (None, 15, 50)            0         \n",
      "_________________________________________________________________\n",
      "lstm_13 (LSTM)               (None, 15, 80)            41920     \n",
      "_________________________________________________________________\n",
      "dropout_13 (Dropout)         (None, 15, 80)            0         \n",
      "_________________________________________________________________\n",
      "lstm_14 (LSTM)               (None, 50)                26200     \n",
      "_________________________________________________________________\n",
      "dropout_14 (Dropout)         (None, 50)                0         \n",
      "_________________________________________________________________\n",
      "dense_4 (Dense)              (None, 1)                 51        \n",
      "=================================================================\n",
      "Total params: 78,571\n",
      "Trainable params: 78,571\n",
      "Non-trainable params: 0\n",
      "_________________________________________________________________\n"
     ]
    }
   ],
   "source": [
    "# Inicializar a RNN\n",
    "regressor = Sequential()\n",
    "\n",
    "# Adicionar a primeira camada LSTM e Dropout \n",
    "regressor.add(LSTM(units = units1, return_sequences = True, input_shape = (X_train.shape[1], 1)))\n",
    "regressor.add(Dropout(0.2))\n",
    " \n",
    "# Adicionar a segunda camada LSTM e Dropout\n",
    "regressor.add(LSTM(units = units2, return_sequences = True))\n",
    "regressor.add(Dropout(0.2))\n",
    " \n",
    "# Adicionar a terceira camada LSTM e Dropout\n",
    "regressor.add(LSTM(units = units3))\n",
    "regressor.add(Dropout(0.2))\n",
    " \n",
    "# camada de saída\n",
    "regressor.add(Dense(units = 1))\n",
    " \n",
    "# Compilar a rede\n",
    "regressor.compile(optimizer = 'adam', loss = 'mean_squared_error')\n",
    "\n",
    "# Visualizar a rede\n",
    "regressor.summary()  "
   ]
  },
  {
   "cell_type": "markdown",
   "metadata": {
    "id": "5j1w28g83iSR"
   },
   "source": [
    "### Treinamento"
   ]
  },
  {
   "cell_type": "code",
   "execution_count": 102,
   "metadata": {
    "scrolled": true
   },
   "outputs": [
    {
     "name": "stdout",
     "output_type": "stream",
     "text": [
      "Epoch 1/100\n",
      "4/4 [==============================] - 0s 17ms/step - loss: 0.0800\n",
      "Epoch 2/100\n",
      "4/4 [==============================] - 0s 16ms/step - loss: 0.0336\n",
      "Epoch 3/100\n",
      "4/4 [==============================] - 0s 13ms/step - loss: 0.0259\n",
      "Epoch 4/100\n",
      "4/4 [==============================] - 0s 13ms/step - loss: 0.0271\n",
      "Epoch 5/100\n",
      "4/4 [==============================] - 0s 14ms/step - loss: 0.0230\n",
      "Epoch 6/100\n",
      "4/4 [==============================] - 0s 13ms/step - loss: 0.0184\n",
      "Epoch 7/100\n",
      "4/4 [==============================] - 0s 13ms/step - loss: 0.0232\n",
      "Epoch 8/100\n",
      "4/4 [==============================] - 0s 13ms/step - loss: 0.0171\n",
      "Epoch 9/100\n",
      "4/4 [==============================] - 0s 13ms/step - loss: 0.0194\n",
      "Epoch 10/100\n",
      "4/4 [==============================] - 0s 13ms/step - loss: 0.0200\n",
      "Epoch 11/100\n",
      "4/4 [==============================] - 0s 13ms/step - loss: 0.0183\n",
      "Epoch 12/100\n",
      "4/4 [==============================] - 0s 12ms/step - loss: 0.0170\n",
      "Epoch 13/100\n",
      "4/4 [==============================] - 0s 12ms/step - loss: 0.0184\n",
      "Epoch 14/100\n",
      "4/4 [==============================] - 0s 13ms/step - loss: 0.0187\n",
      "Epoch 15/100\n",
      "4/4 [==============================] - 0s 12ms/step - loss: 0.0173\n",
      "Epoch 16/100\n",
      "4/4 [==============================] - 0s 13ms/step - loss: 0.0167\n",
      "Epoch 17/100\n",
      "4/4 [==============================] - 0s 12ms/step - loss: 0.0174\n",
      "Epoch 18/100\n",
      "4/4 [==============================] - 0s 13ms/step - loss: 0.0156\n",
      "Epoch 19/100\n",
      "4/4 [==============================] - 0s 13ms/step - loss: 0.0167\n",
      "Epoch 20/100\n",
      "4/4 [==============================] - 0s 13ms/step - loss: 0.0162\n",
      "Epoch 21/100\n",
      "4/4 [==============================] - 0s 13ms/step - loss: 0.0179\n",
      "Epoch 22/100\n",
      "4/4 [==============================] - 0s 12ms/step - loss: 0.0144\n",
      "Epoch 23/100\n",
      "4/4 [==============================] - 0s 12ms/step - loss: 0.0157\n",
      "Epoch 24/100\n",
      "4/4 [==============================] - 0s 13ms/step - loss: 0.0137\n",
      "Epoch 25/100\n",
      "4/4 [==============================] - 0s 12ms/step - loss: 0.0174\n",
      "Epoch 26/100\n",
      "4/4 [==============================] - 0s 12ms/step - loss: 0.0131\n",
      "Epoch 27/100\n",
      "4/4 [==============================] - 0s 12ms/step - loss: 0.0146\n",
      "Epoch 28/100\n",
      "4/4 [==============================] - 0s 12ms/step - loss: 0.0138\n",
      "Epoch 29/100\n",
      "4/4 [==============================] - 0s 13ms/step - loss: 0.0132\n",
      "Epoch 30/100\n",
      "4/4 [==============================] - 0s 12ms/step - loss: 0.0150\n",
      "Epoch 31/100\n",
      "4/4 [==============================] - 0s 13ms/step - loss: 0.0126\n",
      "Epoch 32/100\n",
      "4/4 [==============================] - 0s 13ms/step - loss: 0.0134\n",
      "Epoch 33/100\n",
      "4/4 [==============================] - 0s 12ms/step - loss: 0.0123\n",
      "Epoch 34/100\n",
      "4/4 [==============================] - 0s 12ms/step - loss: 0.0111\n",
      "Epoch 35/100\n",
      "4/4 [==============================] - 0s 13ms/step - loss: 0.0129\n",
      "Epoch 36/100\n",
      "4/4 [==============================] - 0s 12ms/step - loss: 0.0122\n",
      "Epoch 37/100\n",
      "4/4 [==============================] - 0s 12ms/step - loss: 0.0116\n",
      "Epoch 38/100\n",
      "4/4 [==============================] - 0s 13ms/step - loss: 0.0113\n",
      "Epoch 39/100\n",
      "4/4 [==============================] - 0s 12ms/step - loss: 0.0123\n",
      "Epoch 40/100\n",
      "4/4 [==============================] - 0s 12ms/step - loss: 0.0115\n",
      "Epoch 41/100\n",
      "4/4 [==============================] - 0s 13ms/step - loss: 0.0110\n",
      "Epoch 42/100\n",
      "4/4 [==============================] - 0s 12ms/step - loss: 0.0112\n",
      "Epoch 43/100\n",
      "4/4 [==============================] - 0s 13ms/step - loss: 0.0123\n",
      "Epoch 44/100\n",
      "4/4 [==============================] - 0s 13ms/step - loss: 0.0122\n",
      "Epoch 45/100\n",
      "4/4 [==============================] - 0s 13ms/step - loss: 0.0106\n",
      "Epoch 46/100\n",
      "4/4 [==============================] - 0s 12ms/step - loss: 0.0124\n",
      "Epoch 47/100\n",
      "4/4 [==============================] - 0s 13ms/step - loss: 0.0114\n",
      "Epoch 48/100\n",
      "4/4 [==============================] - 0s 12ms/step - loss: 0.0122\n",
      "Epoch 49/100\n",
      "4/4 [==============================] - 0s 12ms/step - loss: 0.0095\n",
      "Epoch 50/100\n",
      "4/4 [==============================] - 0s 12ms/step - loss: 0.0120\n",
      "Epoch 51/100\n",
      "4/4 [==============================] - 0s 12ms/step - loss: 0.0109\n",
      "Epoch 52/100\n",
      "4/4 [==============================] - 0s 12ms/step - loss: 0.0133\n",
      "Epoch 53/100\n",
      "4/4 [==============================] - 0s 12ms/step - loss: 0.0087\n",
      "Epoch 54/100\n",
      "4/4 [==============================] - 0s 13ms/step - loss: 0.0118\n",
      "Epoch 55/100\n",
      "4/4 [==============================] - 0s 13ms/step - loss: 0.0096\n",
      "Epoch 56/100\n",
      "4/4 [==============================] - 0s 12ms/step - loss: 0.0106\n",
      "Epoch 57/100\n",
      "4/4 [==============================] - 0s 12ms/step - loss: 0.0099\n",
      "Epoch 58/100\n",
      "4/4 [==============================] - 0s 12ms/step - loss: 0.0115\n",
      "Epoch 59/100\n",
      "4/4 [==============================] - 0s 12ms/step - loss: 0.0080\n",
      "Epoch 60/100\n",
      "4/4 [==============================] - 0s 12ms/step - loss: 0.0105\n",
      "Epoch 61/100\n",
      "4/4 [==============================] - 0s 14ms/step - loss: 0.0108\n",
      "Epoch 62/100\n",
      "4/4 [==============================] - 0s 12ms/step - loss: 0.0095\n",
      "Epoch 63/100\n",
      "4/4 [==============================] - 0s 13ms/step - loss: 0.0073\n",
      "Epoch 64/100\n",
      "4/4 [==============================] - 0s 12ms/step - loss: 0.0109\n",
      "Epoch 65/100\n",
      "4/4 [==============================] - 0s 12ms/step - loss: 0.0090\n",
      "Epoch 66/100\n",
      "4/4 [==============================] - 0s 13ms/step - loss: 0.0095\n",
      "Epoch 67/100\n",
      "4/4 [==============================] - 0s 13ms/step - loss: 0.0100\n",
      "Epoch 68/100\n",
      "4/4 [==============================] - 0s 12ms/step - loss: 0.0094\n",
      "Epoch 69/100\n",
      "4/4 [==============================] - 0s 12ms/step - loss: 0.0086\n",
      "Epoch 70/100\n",
      "4/4 [==============================] - 0s 13ms/step - loss: 0.0075\n",
      "Epoch 71/100\n",
      "4/4 [==============================] - 0s 12ms/step - loss: 0.0100\n",
      "Epoch 72/100\n",
      "4/4 [==============================] - 0s 12ms/step - loss: 0.0084\n",
      "Epoch 73/100\n",
      "4/4 [==============================] - 0s 13ms/step - loss: 0.0071\n",
      "Epoch 74/100\n",
      "4/4 [==============================] - 0s 12ms/step - loss: 0.0098\n",
      "Epoch 75/100\n",
      "4/4 [==============================] - 0s 12ms/step - loss: 0.0073\n",
      "Epoch 76/100\n",
      "4/4 [==============================] - 0s 12ms/step - loss: 0.0081\n",
      "Epoch 77/100\n",
      "4/4 [==============================] - 0s 13ms/step - loss: 0.0098\n",
      "Epoch 78/100\n",
      "4/4 [==============================] - 0s 12ms/step - loss: 0.0107\n",
      "Epoch 79/100\n",
      "4/4 [==============================] - 0s 12ms/step - loss: 0.0084\n",
      "Epoch 80/100\n",
      "4/4 [==============================] - 0s 12ms/step - loss: 0.0088\n",
      "Epoch 81/100\n",
      "4/4 [==============================] - 0s 12ms/step - loss: 0.0085\n",
      "Epoch 82/100\n",
      "4/4 [==============================] - 0s 12ms/step - loss: 0.0101\n",
      "Epoch 83/100\n",
      "4/4 [==============================] - 0s 12ms/step - loss: 0.0079\n",
      "Epoch 84/100\n",
      "4/4 [==============================] - 0s 13ms/step - loss: 0.0080\n",
      "Epoch 85/100\n",
      "4/4 [==============================] - 0s 12ms/step - loss: 0.0073\n",
      "Epoch 86/100\n",
      "4/4 [==============================] - 0s 12ms/step - loss: 0.0079\n",
      "Epoch 87/100\n",
      "4/4 [==============================] - 0s 12ms/step - loss: 0.0087\n",
      "Epoch 88/100\n",
      "4/4 [==============================] - 0s 12ms/step - loss: 0.0070\n",
      "Epoch 89/100\n",
      "4/4 [==============================] - 0s 13ms/step - loss: 0.0090\n",
      "Epoch 90/100\n",
      "4/4 [==============================] - 0s 12ms/step - loss: 0.0079\n",
      "Epoch 91/100\n",
      "4/4 [==============================] - 0s 12ms/step - loss: 0.0093\n",
      "Epoch 92/100\n",
      "4/4 [==============================] - 0s 12ms/step - loss: 0.0098\n",
      "Epoch 93/100\n",
      "4/4 [==============================] - 0s 12ms/step - loss: 0.0097\n",
      "Epoch 94/100\n",
      "4/4 [==============================] - 0s 12ms/step - loss: 0.0083\n",
      "Epoch 95/100\n",
      "4/4 [==============================] - 0s 12ms/step - loss: 0.0086\n",
      "Epoch 96/100\n",
      "4/4 [==============================] - 0s 12ms/step - loss: 0.0093\n",
      "Epoch 97/100\n",
      "4/4 [==============================] - 0s 12ms/step - loss: 0.0104\n",
      "Epoch 98/100\n",
      "4/4 [==============================] - 0s 13ms/step - loss: 0.0084\n",
      "Epoch 99/100\n",
      "4/4 [==============================] - 0s 13ms/step - loss: 0.0074\n",
      "Epoch 100/100\n",
      "4/4 [==============================] - 0s 12ms/step - loss: 0.0065\n"
     ]
    }
   ],
   "source": [
    "history = regressor.fit(X_train, y_train, epochs = pepochs3, batch_size = pbatch2)"
   ]
  },
  {
   "cell_type": "markdown",
   "metadata": {
    "id": "gwpyImwA3yon"
   },
   "source": [
    "## Parte 3 - Fazer as previsões e analisar os resultados"
   ]
  },
  {
   "cell_type": "markdown",
   "metadata": {
    "id": "wkXRvDjT4V-B"
   },
   "source": [
    "### Base de teste"
   ]
  },
  {
   "cell_type": "code",
   "execution_count": 103,
   "metadata": {
    "id": "Bn_n72dh30K-"
   },
   "outputs": [],
   "source": [
    "dataset_test = test_set\n",
    "PETR4_data_train = pd.DataFrame(PETR4_data_train)\n",
    "PETR4_data_test = pd.DataFrame(PETR4_data_test)"
   ]
  },
  {
   "cell_type": "markdown",
   "metadata": {
    "id": "EOo84exH4bfs"
   },
   "source": [
    "### Construir a estrutura para teste"
   ]
  },
  {
   "cell_type": "code",
   "execution_count": 104,
   "metadata": {
    "id": "ob_-mGA_B5px"
   },
   "outputs": [],
   "source": [
    "dataset_total = pd.concat((PETR4_data_train.iloc[:,1], PETR4_data_test.iloc[:,1]), axis = 0)\n",
    "testLength = len(dataset_test)\n",
    "inputs = dataset_total[len(dataset_total) - testLength - window:].values\n",
    "inputs = inputs.reshape(inputs.shape[0],1)\n",
    "\n",
    "inputs = sc.transform(inputs)\n",
    "X_test = []\n",
    "for i in range(window, inputs.shape[0]): \n",
    "    X_test.append(inputs[i-window:i, 0])\n",
    "X_test = np.array(X_test)\n",
    "\n",
    "X_test = np.reshape(X_test, (X_test.shape[0], X_test.shape[1], 1))"
   ]
  },
  {
   "cell_type": "markdown",
   "metadata": {
    "id": "rtkB4NA74e1B"
   },
   "source": [
    "### Fazer as previsões"
   ]
  },
  {
   "cell_type": "code",
   "execution_count": 105,
   "metadata": {
    "id": "nKIq1h-E4g9Z"
   },
   "outputs": [],
   "source": [
    "predicted_PETR4 = regressor.predict(X_test)\n",
    "predicted_PETR4 = sc.inverse_transform(predicted_PETR4)"
   ]
  },
  {
   "cell_type": "markdown",
   "metadata": {
    "id": "guvk7yXr4o0g"
   },
   "source": [
    "### Visualizar os resultados de treino e teste"
   ]
  },
  {
   "cell_type": "code",
   "execution_count": 106,
   "metadata": {
    "id": "tstXl2oS4rIo",
    "scrolled": true
   },
   "outputs": [
    {
     "data": {
      "image/png": "[encoded data removed]",
      "text/plain": [
       "<Figure size 432x288 with 1 Axes>"
      ]
     },
     "metadata": {
      "needs_background": "light"
     },
     "output_type": "display_data"
    }
   ],
   "source": [
    "allTargetData = np.vstack((training_set, dataset_test))\n",
    "training_predicted_PETR4 = regressor.predict(X_train)\n",
    "training_predicted_PETR4 = sc.inverse_transform(training_predicted_PETR4)\n",
    "allForecastedData = np.vstack((training_set[0:window], training_predicted_PETR4, predicted_PETR4))\n",
    "plt.plot(allTargetData, color = 'red', label = 'Real')\n",
    "plt.plot(allForecastedData, color = 'blue', label = 'Previsto')\n",
    "plt.title('Previsão de série temporal')\n",
    "plt.xlabel('Tempo')\n",
    "plt.ylabel('Cotação (R$)')\n",
    "plt.legend()\n",
    "plt.savefig('predictions_training_test_25_50_32.svg')\n",
    "plt.show()"
   ]
  },
  {
   "cell_type": "markdown",
   "metadata": {
    "id": "ytEVhQht4we3"
   },
   "source": [
    "## Parte 4 - Métricas de avaliação"
   ]
  },
  {
   "cell_type": "code",
   "execution_count": 107,
   "metadata": {
    "id": "rqOonVj64ydu",
    "scrolled": true
   },
   "outputs": [
    {
     "name": "stdout",
     "output_type": "stream",
     "text": [
      "RMSE: 1.462124842321957\n"
     ]
    }
   ],
   "source": [
    "import math\n",
    "from sklearn.metrics import mean_squared_error\n",
    "rmse = math.sqrt(mean_squared_error(dataset_test, predicted_PETR4))\n",
    "print('RMSE:', rmse)"
   ]
  },
  {
   "cell_type": "code",
   "execution_count": 108,
   "metadata": {
    "id": "ODeley1K42WW"
   },
   "outputs": [
    {
     "name": "stdout",
     "output_type": "stream",
     "text": [
      "MSE: 2.137809054535008\n"
     ]
    }
   ],
   "source": [
    "mse = mean_squared_error(dataset_test, predicted_PETR4)\n",
    "print('MSE:',mse)"
   ]
  },
  {
   "cell_type": "code",
   "execution_count": 109,
   "metadata": {
    "id": "L7_uU_8T44QA"
   },
   "outputs": [
    {
     "name": "stdout",
     "output_type": "stream",
     "text": [
      "MAPE: 4.326610152414612 %\n"
     ]
    }
   ],
   "source": [
    "mape = np.mean(np.abs((dataset_test-predicted_PETR4) /dataset_test)) * 100\n",
    "print('MAPE:',mape.iloc[0], '%')"
   ]
  },
  {
   "cell_type": "code",
   "execution_count": 110,
   "metadata": {
    "id": "LnCgdBS0vGCz"
   },
   "outputs": [
    {
     "name": "stdout",
     "output_type": "stream",
     "text": [
      "R2: 0.913005565214413\n"
     ]
    }
   ],
   "source": [
    "from sklearn.metrics import r2_score\n",
    "r2 = r2_score(dataset_test,predicted_PETR4)\n",
    "print('R2:', r2)"
   ]
  },
  {
   "cell_type": "code",
   "execution_count": 111,
   "metadata": {},
   "outputs": [
    {
     "name": "stdout",
     "output_type": "stream",
     "text": [
      "R2Adj: 0.9128301732087969\n"
     ]
    }
   ],
   "source": [
    "adj_r2 = (1 - (1 - r2) * ((predicted_PETR4.shape[0] - 1) / \n",
    "          (predicted_PETR4.shape[0] - predicted_PETR4.shape[1] - 1)))\n",
    "print('R2Adj:',adj_r2)"
   ]
  },
  {
   "cell_type": "code",
   "execution_count": 112,
   "metadata": {},
   "outputs": [],
   "source": [
    "# results = np.array([units1,units2,units3,rmse,mse,mape.iloc[0],r2,adj_r2]) "
   ]
  },
  {
   "cell_type": "code",
   "execution_count": 113,
   "metadata": {},
   "outputs": [],
   "source": [
    "data = pd.array([units1,units2,units3,rmse,mse,mape.iloc[0],r2,adj_r2])"
   ]
  },
  {
   "cell_type": "code",
   "execution_count": 114,
   "metadata": {},
   "outputs": [],
   "source": [
    "results = np.column_stack((results, data))"
   ]
  },
  {
   "cell_type": "code",
   "execution_count": 115,
   "metadata": {
    "scrolled": true
   },
   "outputs": [
    {
     "name": "stdout",
     "output_type": "stream",
     "text": [
      "[[50.         50.         50.         50.         50.        ]\n",
      " [60.         60.         60.         80.         80.        ]\n",
      " [30.         50.         70.         30.         50.        ]\n",
      " [ 1.9064291   2.18685944  2.510694    2.28369422  1.46212484]\n",
      " [ 3.63447192  4.78235419  6.30358437  5.2152593   2.13780905]\n",
      " [ 5.86744474  6.98682674  8.22642649  6.95480879  4.32661015]\n",
      " [ 0.85210146  0.80539038  0.74348656  0.78777406  0.91300557]\n",
      " [ 0.85180328  0.80499803  0.74296939  0.78734619  0.91283017]]\n"
     ]
    }
   ],
   "source": [
    "print(results)"
   ]
  },
  {
   "cell_type": "markdown",
   "metadata": {},
   "source": [
    "### Parâmetros para esta análise"
   ]
  },
  {
   "cell_type": "code",
   "execution_count": 116,
   "metadata": {},
   "outputs": [],
   "source": [
    "pwindow = 15\n",
    "pepochs3 = 100\n",
    "pbatch2 = 64\n",
    "\n",
    "units1 = 50\n",
    "units2 = 80\n",
    "units3 = 70"
   ]
  },
  {
   "cell_type": "markdown",
   "metadata": {
    "id": "7p1F7HdB2uJU"
   },
   "source": [
    "### Normalização"
   ]
  },
  {
   "cell_type": "code",
   "execution_count": 117,
   "metadata": {
    "id": "foeHRZr-2u-L"
   },
   "outputs": [],
   "source": [
    "from sklearn.preprocessing import MinMaxScaler\n",
    "sc = MinMaxScaler(feature_range = (0, 1))\n",
    "training_set_scaled = sc.fit_transform(training_set)"
   ]
  },
  {
   "cell_type": "markdown",
   "metadata": {
    "id": "uQP8Q7MI21Y9"
   },
   "source": [
    "### Criar a estrutura de dados com janela 10 e output 1"
   ]
  },
  {
   "cell_type": "code",
   "execution_count": 118,
   "metadata": {
    "id": "C6Ge9ql922cb"
   },
   "outputs": [],
   "source": [
    "window = pwindow\n",
    "trainSize = len(training_set_scaled)\n",
    "X_train = []\n",
    "y_train = []\n",
    "for i in range(window, trainSize):\n",
    "    X_train.append(training_set_scaled[i-window:i, 0])\n",
    "    y_train.append(training_set_scaled[i, 0])\n",
    "X_train, y_train = np.array(X_train), np.array(y_train)"
   ]
  },
  {
   "cell_type": "markdown",
   "metadata": {
    "id": "LPBC2LoG24dU"
   },
   "source": [
    "### Reshaping"
   ]
  },
  {
   "cell_type": "code",
   "execution_count": 119,
   "metadata": {
    "id": "oGwgQUDbdmnS"
   },
   "outputs": [
    {
     "data": {
      "text/plain": [
       "(234, 15)"
      ]
     },
     "execution_count": 119,
     "metadata": {},
     "output_type": "execute_result"
    }
   ],
   "source": [
    "X_train.shape"
   ]
  },
  {
   "cell_type": "markdown",
   "metadata": {
    "id": "AEVcR-Uju5TX"
   },
   "source": [
    "Shape de input da lstm = (batch_size, timesteps, features)"
   ]
  },
  {
   "cell_type": "code",
   "execution_count": 120,
   "metadata": {
    "id": "b9ZfLlGH25fr"
   },
   "outputs": [],
   "source": [
    "X_train = np.reshape(X_train, (X_train.shape[0], X_train.shape[1], 1))"
   ]
  },
  {
   "cell_type": "code",
   "execution_count": 121,
   "metadata": {
    "id": "RxU0axM9diHO"
   },
   "outputs": [
    {
     "data": {
      "text/plain": [
       "(234, 15, 1)"
      ]
     },
     "execution_count": 121,
     "metadata": {},
     "output_type": "execute_result"
    }
   ],
   "source": [
    "X_train.shape"
   ]
  },
  {
   "cell_type": "markdown",
   "metadata": {
    "id": "fZhjp7Tf282b"
   },
   "source": [
    "## Parte 2 - Construção da RNN"
   ]
  },
  {
   "cell_type": "markdown",
   "metadata": {
    "id": "RDkAxmMl3EXr"
   },
   "source": [
    "### Bibliotecas necessárias"
   ]
  },
  {
   "cell_type": "code",
   "execution_count": 122,
   "metadata": {
    "id": "Ifhh9yUo3DpT"
   },
   "outputs": [],
   "source": [
    "from keras.models import Sequential\n",
    "from keras.layers import Dense\n",
    "from keras.layers import LSTM\n",
    "from keras.layers import Dropout"
   ]
  },
  {
   "cell_type": "markdown",
   "metadata": {
    "id": "kordpD0_3H7b"
   },
   "source": [
    "### Construção da Rede completa"
   ]
  },
  {
   "cell_type": "code",
   "execution_count": 123,
   "metadata": {
    "scrolled": true
   },
   "outputs": [
    {
     "name": "stdout",
     "output_type": "stream",
     "text": [
      "Model: \"sequential_5\"\n",
      "_________________________________________________________________\n",
      "Layer (type)                 Output Shape              Param #   \n",
      "=================================================================\n",
      "lstm_15 (LSTM)               (None, 15, 50)            10400     \n",
      "_________________________________________________________________\n",
      "dropout_15 (Dropout)         (None, 15, 50)            0         \n",
      "_________________________________________________________________\n",
      "lstm_16 (LSTM)               (None, 15, 80)            41920     \n",
      "_________________________________________________________________\n",
      "dropout_16 (Dropout)         (None, 15, 80)            0         \n",
      "_________________________________________________________________\n",
      "lstm_17 (LSTM)               (None, 70)                42280     \n",
      "_________________________________________________________________\n",
      "dropout_17 (Dropout)         (None, 70)                0         \n",
      "_________________________________________________________________\n",
      "dense_5 (Dense)              (None, 1)                 71        \n",
      "=================================================================\n",
      "Total params: 94,671\n",
      "Trainable params: 94,671\n",
      "Non-trainable params: 0\n",
      "_________________________________________________________________\n"
     ]
    }
   ],
   "source": [
    "# Inicializar a RNN\n",
    "regressor = Sequential()\n",
    "\n",
    "# Adicionar a primeira camada LSTM e Dropout \n",
    "regressor.add(LSTM(units = units1, return_sequences = True, input_shape = (X_train.shape[1], 1)))\n",
    "regressor.add(Dropout(0.2))\n",
    " \n",
    "# Adicionar a segunda camada LSTM e Dropout\n",
    "regressor.add(LSTM(units = units2, return_sequences = True))\n",
    "regressor.add(Dropout(0.2))\n",
    " \n",
    "# Adicionar a terceira camada LSTM e Dropout\n",
    "regressor.add(LSTM(units = units3))\n",
    "regressor.add(Dropout(0.2))\n",
    " \n",
    "# camada de saída\n",
    "regressor.add(Dense(units = 1))\n",
    " \n",
    "# Compilar a rede\n",
    "regressor.compile(optimizer = 'adam', loss = 'mean_squared_error')\n",
    "\n",
    "# Visualizar a rede\n",
    "regressor.summary()  "
   ]
  },
  {
   "cell_type": "markdown",
   "metadata": {
    "id": "5j1w28g83iSR"
   },
   "source": [
    "### Treinamento"
   ]
  },
  {
   "cell_type": "code",
   "execution_count": 124,
   "metadata": {
    "scrolled": true
   },
   "outputs": [
    {
     "name": "stdout",
     "output_type": "stream",
     "text": [
      "Epoch 1/100\n",
      "4/4 [==============================] - 0s 17ms/step - loss: 0.1151\n",
      "Epoch 2/100\n",
      "4/4 [==============================] - 0s 16ms/step - loss: 0.0334\n",
      "Epoch 3/100\n",
      "4/4 [==============================] - 0s 14ms/step - loss: 0.0302\n",
      "Epoch 4/100\n",
      "4/4 [==============================] - 0s 13ms/step - loss: 0.0278\n",
      "Epoch 5/100\n",
      "4/4 [==============================] - 0s 14ms/step - loss: 0.0272\n",
      "Epoch 6/100\n",
      "4/4 [==============================] - 0s 13ms/step - loss: 0.0223\n",
      "Epoch 7/100\n",
      "4/4 [==============================] - 0s 13ms/step - loss: 0.0232\n",
      "Epoch 8/100\n",
      "4/4 [==============================] - 0s 13ms/step - loss: 0.0185\n",
      "Epoch 9/100\n",
      "4/4 [==============================] - 0s 13ms/step - loss: 0.0211\n",
      "Epoch 10/100\n",
      "4/4 [==============================] - 0s 13ms/step - loss: 0.0193\n",
      "Epoch 11/100\n",
      "4/4 [==============================] - 0s 14ms/step - loss: 0.0187\n",
      "Epoch 12/100\n",
      "4/4 [==============================] - 0s 12ms/step - loss: 0.0196\n",
      "Epoch 13/100\n",
      "4/4 [==============================] - 0s 13ms/step - loss: 0.0183\n",
      "Epoch 14/100\n",
      "4/4 [==============================] - 0s 13ms/step - loss: 0.0164\n",
      "Epoch 15/100\n",
      "4/4 [==============================] - 0s 13ms/step - loss: 0.0180\n",
      "Epoch 16/100\n",
      "4/4 [==============================] - 0s 12ms/step - loss: 0.0174\n",
      "Epoch 17/100\n",
      "4/4 [==============================] - 0s 13ms/step - loss: 0.0172\n",
      "Epoch 18/100\n",
      "4/4 [==============================] - 0s 13ms/step - loss: 0.0168\n",
      "Epoch 19/100\n",
      "4/4 [==============================] - 0s 13ms/step - loss: 0.0169\n",
      "Epoch 20/100\n",
      "4/4 [==============================] - 0s 13ms/step - loss: 0.0171\n",
      "Epoch 21/100\n",
      "4/4 [==============================] - 0s 13ms/step - loss: 0.0146\n",
      "Epoch 22/100\n",
      "4/4 [==============================] - 0s 18ms/step - loss: 0.0163\n",
      "Epoch 23/100\n",
      "4/4 [==============================] - 0s 13ms/step - loss: 0.0142\n",
      "Epoch 24/100\n",
      "4/4 [==============================] - 0s 13ms/step - loss: 0.0150\n",
      "Epoch 25/100\n",
      "4/4 [==============================] - 0s 13ms/step - loss: 0.0134\n",
      "Epoch 26/100\n",
      "4/4 [==============================] - 0s 13ms/step - loss: 0.0148\n",
      "Epoch 27/100\n",
      "4/4 [==============================] - 0s 20ms/step - loss: 0.0143\n",
      "Epoch 28/100\n",
      "4/4 [==============================] - 0s 13ms/step - loss: 0.0153\n",
      "Epoch 29/100\n",
      "4/4 [==============================] - 0s 14ms/step - loss: 0.0137\n",
      "Epoch 30/100\n",
      "4/4 [==============================] - 0s 14ms/step - loss: 0.0160\n",
      "Epoch 31/100\n",
      "4/4 [==============================] - 0s 13ms/step - loss: 0.0121\n",
      "Epoch 32/100\n",
      "4/4 [==============================] - 0s 13ms/step - loss: 0.0127\n",
      "Epoch 33/100\n",
      "4/4 [==============================] - 0s 13ms/step - loss: 0.0143\n",
      "Epoch 34/100\n",
      "4/4 [==============================] - 0s 13ms/step - loss: 0.0133\n",
      "Epoch 35/100\n",
      "4/4 [==============================] - 0s 13ms/step - loss: 0.0115\n",
      "Epoch 36/100\n",
      "4/4 [==============================] - 0s 13ms/step - loss: 0.0104\n",
      "Epoch 37/100\n",
      "4/4 [==============================] - 0s 13ms/step - loss: 0.0125\n",
      "Epoch 38/100\n",
      "4/4 [==============================] - 0s 13ms/step - loss: 0.0133\n",
      "Epoch 39/100\n",
      "4/4 [==============================] - 0s 13ms/step - loss: 0.0127\n",
      "Epoch 40/100\n",
      "4/4 [==============================] - 0s 13ms/step - loss: 0.0105\n",
      "Epoch 41/100\n",
      "4/4 [==============================] - 0s 13ms/step - loss: 0.0114\n",
      "Epoch 42/100\n",
      "4/4 [==============================] - 0s 14ms/step - loss: 0.0127\n",
      "Epoch 43/100\n",
      "4/4 [==============================] - 0s 13ms/step - loss: 0.0102\n",
      "Epoch 44/100\n",
      "4/4 [==============================] - 0s 13ms/step - loss: 0.0130\n",
      "Epoch 45/100\n",
      "4/4 [==============================] - 0s 13ms/step - loss: 0.0118\n",
      "Epoch 46/100\n",
      "4/4 [==============================] - 0s 13ms/step - loss: 0.0114\n",
      "Epoch 47/100\n",
      "4/4 [==============================] - 0s 13ms/step - loss: 0.0107\n",
      "Epoch 48/100\n",
      "4/4 [==============================] - 0s 12ms/step - loss: 0.0094\n",
      "Epoch 49/100\n",
      "4/4 [==============================] - 0s 13ms/step - loss: 0.0104\n",
      "Epoch 50/100\n",
      "4/4 [==============================] - 0s 13ms/step - loss: 0.0100\n",
      "Epoch 51/100\n",
      "4/4 [==============================] - 0s 13ms/step - loss: 0.0119\n",
      "Epoch 52/100\n",
      "4/4 [==============================] - 0s 13ms/step - loss: 0.0119\n",
      "Epoch 53/100\n",
      "4/4 [==============================] - 0s 13ms/step - loss: 0.0107\n",
      "Epoch 54/100\n",
      "4/4 [==============================] - 0s 13ms/step - loss: 0.0106\n",
      "Epoch 55/100\n",
      "4/4 [==============================] - 0s 13ms/step - loss: 0.0109\n",
      "Epoch 56/100\n",
      "4/4 [==============================] - 0s 13ms/step - loss: 0.0118\n",
      "Epoch 57/100\n",
      "4/4 [==============================] - 0s 15ms/step - loss: 0.0096\n",
      "Epoch 58/100\n",
      "4/4 [==============================] - 0s 15ms/step - loss: 0.0103\n",
      "Epoch 59/100\n",
      "4/4 [==============================] - 0s 13ms/step - loss: 0.0092\n",
      "Epoch 60/100\n",
      "4/4 [==============================] - 0s 13ms/step - loss: 0.0100\n",
      "Epoch 61/100\n",
      "4/4 [==============================] - 0s 14ms/step - loss: 0.0097\n",
      "Epoch 62/100\n",
      "4/4 [==============================] - 0s 14ms/step - loss: 0.0120\n",
      "Epoch 63/100\n",
      "4/4 [==============================] - 0s 14ms/step - loss: 0.0120\n",
      "Epoch 64/100\n",
      "4/4 [==============================] - 0s 15ms/step - loss: 0.0092\n",
      "Epoch 65/100\n",
      "4/4 [==============================] - 0s 14ms/step - loss: 0.0119\n",
      "Epoch 66/100\n",
      "4/4 [==============================] - 0s 13ms/step - loss: 0.0105\n",
      "Epoch 67/100\n",
      "4/4 [==============================] - 0s 16ms/step - loss: 0.0107\n",
      "Epoch 68/100\n",
      "4/4 [==============================] - 0s 15ms/step - loss: 0.0086\n",
      "Epoch 69/100\n",
      "4/4 [==============================] - 0s 13ms/step - loss: 0.0127\n",
      "Epoch 70/100\n",
      "4/4 [==============================] - 0s 14ms/step - loss: 0.0112\n",
      "Epoch 71/100\n",
      "4/4 [==============================] - 0s 14ms/step - loss: 0.0103\n",
      "Epoch 72/100\n",
      "4/4 [==============================] - 0s 15ms/step - loss: 0.0090\n",
      "Epoch 73/100\n",
      "4/4 [==============================] - 0s 15ms/step - loss: 0.0098\n",
      "Epoch 74/100\n",
      "4/4 [==============================] - 0s 16ms/step - loss: 0.0101\n",
      "Epoch 75/100\n",
      "4/4 [==============================] - 0s 14ms/step - loss: 0.0097\n",
      "Epoch 76/100\n",
      "4/4 [==============================] - 0s 13ms/step - loss: 0.0089\n",
      "Epoch 77/100\n",
      "4/4 [==============================] - 0s 13ms/step - loss: 0.0080\n",
      "Epoch 78/100\n",
      "4/4 [==============================] - 0s 13ms/step - loss: 0.0091\n",
      "Epoch 79/100\n",
      "4/4 [==============================] - 0s 14ms/step - loss: 0.0094\n",
      "Epoch 80/100\n",
      "4/4 [==============================] - 0s 14ms/step - loss: 0.0100\n",
      "Epoch 81/100\n",
      "4/4 [==============================] - 0s 14ms/step - loss: 0.0083\n",
      "Epoch 82/100\n",
      "4/4 [==============================] - 0s 15ms/step - loss: 0.0107\n",
      "Epoch 83/100\n",
      "4/4 [==============================] - 0s 13ms/step - loss: 0.0081\n",
      "Epoch 84/100\n",
      "4/4 [==============================] - 0s 14ms/step - loss: 0.0097\n",
      "Epoch 85/100\n",
      "4/4 [==============================] - 0s 15ms/step - loss: 0.0090\n",
      "Epoch 86/100\n",
      "4/4 [==============================] - 0s 13ms/step - loss: 0.0081\n",
      "Epoch 87/100\n",
      "4/4 [==============================] - 0s 13ms/step - loss: 0.0071\n",
      "Epoch 88/100\n",
      "4/4 [==============================] - 0s 13ms/step - loss: 0.0089\n",
      "Epoch 89/100\n",
      "4/4 [==============================] - 0s 21ms/step - loss: 0.0079\n",
      "Epoch 90/100\n",
      "4/4 [==============================] - 0s 15ms/step - loss: 0.0082\n",
      "Epoch 91/100\n",
      "4/4 [==============================] - 0s 15ms/step - loss: 0.0077\n",
      "Epoch 92/100\n",
      "4/4 [==============================] - 0s 14ms/step - loss: 0.0077\n",
      "Epoch 93/100\n",
      "4/4 [==============================] - 0s 13ms/step - loss: 0.0075\n",
      "Epoch 94/100\n",
      "4/4 [==============================] - 0s 13ms/step - loss: 0.0084\n",
      "Epoch 95/100\n",
      "4/4 [==============================] - 0s 13ms/step - loss: 0.0098\n",
      "Epoch 96/100\n",
      "4/4 [==============================] - 0s 14ms/step - loss: 0.0107\n",
      "Epoch 97/100\n",
      "4/4 [==============================] - 0s 14ms/step - loss: 0.0080\n",
      "Epoch 98/100\n",
      "4/4 [==============================] - 0s 13ms/step - loss: 0.0088\n",
      "Epoch 99/100\n",
      "4/4 [==============================] - 0s 13ms/step - loss: 0.0092\n",
      "Epoch 100/100\n",
      "4/4 [==============================] - 0s 15ms/step - loss: 0.0076\n"
     ]
    }
   ],
   "source": [
    "history = regressor.fit(X_train, y_train, epochs = pepochs3, batch_size = pbatch2)"
   ]
  },
  {
   "cell_type": "markdown",
   "metadata": {
    "id": "gwpyImwA3yon"
   },
   "source": [
    "## Parte 3 - Fazer as previsões e analisar os resultados"
   ]
  },
  {
   "cell_type": "markdown",
   "metadata": {
    "id": "wkXRvDjT4V-B"
   },
   "source": [
    "### Base de teste"
   ]
  },
  {
   "cell_type": "code",
   "execution_count": 125,
   "metadata": {
    "id": "Bn_n72dh30K-"
   },
   "outputs": [],
   "source": [
    "dataset_test = test_set\n",
    "PETR4_data_train = pd.DataFrame(PETR4_data_train)\n",
    "PETR4_data_test = pd.DataFrame(PETR4_data_test)"
   ]
  },
  {
   "cell_type": "markdown",
   "metadata": {
    "id": "EOo84exH4bfs"
   },
   "source": [
    "### Construir a estrutura para teste"
   ]
  },
  {
   "cell_type": "code",
   "execution_count": 126,
   "metadata": {
    "id": "ob_-mGA_B5px"
   },
   "outputs": [],
   "source": [
    "dataset_total = pd.concat((PETR4_data_train.iloc[:,1], PETR4_data_test.iloc[:,1]), axis = 0)\n",
    "testLength = len(dataset_test)\n",
    "inputs = dataset_total[len(dataset_total) - testLength - window:].values\n",
    "inputs = inputs.reshape(inputs.shape[0],1)\n",
    "\n",
    "inputs = sc.transform(inputs)\n",
    "X_test = []\n",
    "for i in range(window, inputs.shape[0]): \n",
    "    X_test.append(inputs[i-window:i, 0])\n",
    "X_test = np.array(X_test)\n",
    "\n",
    "X_test = np.reshape(X_test, (X_test.shape[0], X_test.shape[1], 1))"
   ]
  },
  {
   "cell_type": "markdown",
   "metadata": {
    "id": "rtkB4NA74e1B"
   },
   "source": [
    "### Fazer as previsões"
   ]
  },
  {
   "cell_type": "code",
   "execution_count": 127,
   "metadata": {
    "id": "nKIq1h-E4g9Z"
   },
   "outputs": [],
   "source": [
    "predicted_PETR4 = regressor.predict(X_test)\n",
    "predicted_PETR4 = sc.inverse_transform(predicted_PETR4)"
   ]
  },
  {
   "cell_type": "markdown",
   "metadata": {
    "id": "guvk7yXr4o0g"
   },
   "source": [
    "### Visualizar os resultados de treino e teste"
   ]
  },
  {
   "cell_type": "code",
   "execution_count": 128,
   "metadata": {
    "id": "tstXl2oS4rIo",
    "scrolled": true
   },
   "outputs": [
    {
     "data": {
      "image/png": "[encoded data removed]",
      "text/plain": [
       "<Figure size 432x288 with 1 Axes>"
      ]
     },
     "metadata": {
      "needs_background": "light"
     },
     "output_type": "display_data"
    }
   ],
   "source": [
    "allTargetData = np.vstack((training_set, dataset_test))\n",
    "training_predicted_PETR4 = regressor.predict(X_train)\n",
    "training_predicted_PETR4 = sc.inverse_transform(training_predicted_PETR4)\n",
    "allForecastedData = np.vstack((training_set[0:window], training_predicted_PETR4, predicted_PETR4))\n",
    "plt.plot(allTargetData, color = 'red', label = 'Real')\n",
    "plt.plot(allForecastedData, color = 'blue', label = 'Previsto')\n",
    "plt.title('Previsão de série temporal')\n",
    "plt.xlabel('Tempo')\n",
    "plt.ylabel('Cotação (R$)')\n",
    "plt.legend()\n",
    "plt.savefig('predictions_training_test_25_50_32.svg')\n",
    "plt.show()"
   ]
  },
  {
   "cell_type": "markdown",
   "metadata": {
    "id": "ytEVhQht4we3"
   },
   "source": [
    "## Parte 4 - Métricas de avaliação"
   ]
  },
  {
   "cell_type": "code",
   "execution_count": 129,
   "metadata": {
    "id": "rqOonVj64ydu",
    "scrolled": true
   },
   "outputs": [
    {
     "name": "stdout",
     "output_type": "stream",
     "text": [
      "RMSE: 2.366466552744614\n"
     ]
    }
   ],
   "source": [
    "import math\n",
    "from sklearn.metrics import mean_squared_error\n",
    "rmse = math.sqrt(mean_squared_error(dataset_test, predicted_PETR4))\n",
    "print('RMSE:', rmse)"
   ]
  },
  {
   "cell_type": "code",
   "execution_count": 130,
   "metadata": {
    "id": "ODeley1K42WW"
   },
   "outputs": [
    {
     "name": "stdout",
     "output_type": "stream",
     "text": [
      "MSE: 5.600163945258976\n"
     ]
    }
   ],
   "source": [
    "mse = mean_squared_error(dataset_test, predicted_PETR4)\n",
    "print('MSE:',mse)"
   ]
  },
  {
   "cell_type": "code",
   "execution_count": 131,
   "metadata": {
    "id": "L7_uU_8T44QA"
   },
   "outputs": [
    {
     "name": "stdout",
     "output_type": "stream",
     "text": [
      "MAPE: 7.65246644759088 %\n"
     ]
    }
   ],
   "source": [
    "mape = np.mean(np.abs((dataset_test-predicted_PETR4) /dataset_test)) * 100\n",
    "print('MAPE:',mape.iloc[0], '%')"
   ]
  },
  {
   "cell_type": "code",
   "execution_count": 132,
   "metadata": {
    "id": "LnCgdBS0vGCz"
   },
   "outputs": [
    {
     "name": "stdout",
     "output_type": "stream",
     "text": [
      "R2: 0.7721110329797932\n"
     ]
    }
   ],
   "source": [
    "from sklearn.metrics import r2_score\n",
    "r2 = r2_score(dataset_test,predicted_PETR4)\n",
    "print('R2:', r2)"
   ]
  },
  {
   "cell_type": "code",
   "execution_count": 133,
   "metadata": {},
   "outputs": [
    {
     "name": "stdout",
     "output_type": "stream",
     "text": [
      "R2Adj: 0.7716515794172525\n"
     ]
    }
   ],
   "source": [
    "adj_r2 = (1 - (1 - r2) * ((predicted_PETR4.shape[0] - 1) / \n",
    "          (predicted_PETR4.shape[0] - predicted_PETR4.shape[1] - 1)))\n",
    "print('R2Adj:',adj_r2)"
   ]
  },
  {
   "cell_type": "code",
   "execution_count": 134,
   "metadata": {},
   "outputs": [],
   "source": [
    "# results = np.array([units1,units2,units3,rmse,mse,mape.iloc[0],r2,adj_r2]) "
   ]
  },
  {
   "cell_type": "code",
   "execution_count": 135,
   "metadata": {},
   "outputs": [],
   "source": [
    "data = pd.array([units1,units2,units3,rmse,mse,mape.iloc[0],r2,adj_r2])"
   ]
  },
  {
   "cell_type": "code",
   "execution_count": 136,
   "metadata": {},
   "outputs": [],
   "source": [
    "results = np.column_stack((results, data))"
   ]
  },
  {
   "cell_type": "code",
   "execution_count": 137,
   "metadata": {
    "scrolled": true
   },
   "outputs": [
    {
     "name": "stdout",
     "output_type": "stream",
     "text": [
      "[[50.         50.         50.         50.         50.         50.        ]\n",
      " [60.         60.         60.         80.         80.         80.        ]\n",
      " [30.         50.         70.         30.         50.         70.        ]\n",
      " [ 1.9064291   2.18685944  2.510694    2.28369422  1.46212484  2.36646655]\n",
      " [ 3.63447192  4.78235419  6.30358437  5.2152593   2.13780905  5.60016395]\n",
      " [ 5.86744474  6.98682674  8.22642649  6.95480879  4.32661015  7.65246645]\n",
      " [ 0.85210146  0.80539038  0.74348656  0.78777406  0.91300557  0.77211103]\n",
      " [ 0.85180328  0.80499803  0.74296939  0.78734619  0.91283017  0.77165158]]\n"
     ]
    }
   ],
   "source": [
    "print(results)"
   ]
  },
  {
   "cell_type": "markdown",
   "metadata": {},
   "source": [
    "### Parâmetros para esta análise"
   ]
  },
  {
   "cell_type": "code",
   "execution_count": 138,
   "metadata": {},
   "outputs": [],
   "source": [
    "pwindow = 15\n",
    "pepochs3 = 100\n",
    "pbatch2 = 64\n",
    "\n",
    "units1 = 50\n",
    "units2 = 100\n",
    "units3 = 30"
   ]
  },
  {
   "cell_type": "markdown",
   "metadata": {
    "id": "7p1F7HdB2uJU"
   },
   "source": [
    "### Normalização"
   ]
  },
  {
   "cell_type": "code",
   "execution_count": 139,
   "metadata": {
    "id": "foeHRZr-2u-L"
   },
   "outputs": [],
   "source": [
    "from sklearn.preprocessing import MinMaxScaler\n",
    "sc = MinMaxScaler(feature_range = (0, 1))\n",
    "training_set_scaled = sc.fit_transform(training_set)"
   ]
  },
  {
   "cell_type": "markdown",
   "metadata": {
    "id": "uQP8Q7MI21Y9"
   },
   "source": [
    "### Criar a estrutura de dados com janela 10 e output 1"
   ]
  },
  {
   "cell_type": "code",
   "execution_count": 140,
   "metadata": {
    "id": "C6Ge9ql922cb"
   },
   "outputs": [],
   "source": [
    "window = pwindow\n",
    "trainSize = len(training_set_scaled)\n",
    "X_train = []\n",
    "y_train = []\n",
    "for i in range(window, trainSize):\n",
    "    X_train.append(training_set_scaled[i-window:i, 0])\n",
    "    y_train.append(training_set_scaled[i, 0])\n",
    "X_train, y_train = np.array(X_train), np.array(y_train)"
   ]
  },
  {
   "cell_type": "markdown",
   "metadata": {
    "id": "LPBC2LoG24dU"
   },
   "source": [
    "### Reshaping"
   ]
  },
  {
   "cell_type": "code",
   "execution_count": 141,
   "metadata": {
    "id": "oGwgQUDbdmnS"
   },
   "outputs": [
    {
     "data": {
      "text/plain": [
       "(234, 15)"
      ]
     },
     "execution_count": 141,
     "metadata": {},
     "output_type": "execute_result"
    }
   ],
   "source": [
    "X_train.shape"
   ]
  },
  {
   "cell_type": "markdown",
   "metadata": {
    "id": "AEVcR-Uju5TX"
   },
   "source": [
    "Shape de input da lstm = (batch_size, timesteps, features)"
   ]
  },
  {
   "cell_type": "code",
   "execution_count": 142,
   "metadata": {
    "id": "b9ZfLlGH25fr"
   },
   "outputs": [],
   "source": [
    "X_train = np.reshape(X_train, (X_train.shape[0], X_train.shape[1], 1))"
   ]
  },
  {
   "cell_type": "code",
   "execution_count": 143,
   "metadata": {
    "id": "RxU0axM9diHO"
   },
   "outputs": [
    {
     "data": {
      "text/plain": [
       "(234, 15, 1)"
      ]
     },
     "execution_count": 143,
     "metadata": {},
     "output_type": "execute_result"
    }
   ],
   "source": [
    "X_train.shape"
   ]
  },
  {
   "cell_type": "markdown",
   "metadata": {
    "id": "fZhjp7Tf282b"
   },
   "source": [
    "## Parte 2 - Construção da RNN"
   ]
  },
  {
   "cell_type": "markdown",
   "metadata": {
    "id": "RDkAxmMl3EXr"
   },
   "source": [
    "### Bibliotecas necessárias"
   ]
  },
  {
   "cell_type": "code",
   "execution_count": 144,
   "metadata": {
    "id": "Ifhh9yUo3DpT"
   },
   "outputs": [],
   "source": [
    "from keras.models import Sequential\n",
    "from keras.layers import Dense\n",
    "from keras.layers import LSTM\n",
    "from keras.layers import Dropout"
   ]
  },
  {
   "cell_type": "markdown",
   "metadata": {
    "id": "kordpD0_3H7b"
   },
   "source": [
    "### Construção da Rede completa"
   ]
  },
  {
   "cell_type": "code",
   "execution_count": 145,
   "metadata": {
    "scrolled": true
   },
   "outputs": [
    {
     "name": "stdout",
     "output_type": "stream",
     "text": [
      "Model: \"sequential_6\"\n",
      "_________________________________________________________________\n",
      "Layer (type)                 Output Shape              Param #   \n",
      "=================================================================\n",
      "lstm_18 (LSTM)               (None, 15, 50)            10400     \n",
      "_________________________________________________________________\n",
      "dropout_18 (Dropout)         (None, 15, 50)            0         \n",
      "_________________________________________________________________\n",
      "lstm_19 (LSTM)               (None, 15, 100)           60400     \n",
      "_________________________________________________________________\n",
      "dropout_19 (Dropout)         (None, 15, 100)           0         \n",
      "_________________________________________________________________\n",
      "lstm_20 (LSTM)               (None, 30)                15720     \n",
      "_________________________________________________________________\n",
      "dropout_20 (Dropout)         (None, 30)                0         \n",
      "_________________________________________________________________\n",
      "dense_6 (Dense)              (None, 1)                 31        \n",
      "=================================================================\n",
      "Total params: 86,551\n",
      "Trainable params: 86,551\n",
      "Non-trainable params: 0\n",
      "_________________________________________________________________\n"
     ]
    }
   ],
   "source": [
    "# Inicializar a RNN\n",
    "regressor = Sequential()\n",
    "\n",
    "# Adicionar a primeira camada LSTM e Dropout \n",
    "regressor.add(LSTM(units = units1, return_sequences = True, input_shape = (X_train.shape[1], 1)))\n",
    "regressor.add(Dropout(0.2))\n",
    " \n",
    "# Adicionar a segunda camada LSTM e Dropout\n",
    "regressor.add(LSTM(units = units2, return_sequences = True))\n",
    "regressor.add(Dropout(0.2))\n",
    " \n",
    "# Adicionar a terceira camada LSTM e Dropout\n",
    "regressor.add(LSTM(units = units3))\n",
    "regressor.add(Dropout(0.2))\n",
    " \n",
    "# camada de saída\n",
    "regressor.add(Dense(units = 1))\n",
    " \n",
    "# Compilar a rede\n",
    "regressor.compile(optimizer = 'adam', loss = 'mean_squared_error')\n",
    "\n",
    "# Visualizar a rede\n",
    "regressor.summary()  "
   ]
  },
  {
   "cell_type": "markdown",
   "metadata": {
    "id": "5j1w28g83iSR"
   },
   "source": [
    "### Treinamento"
   ]
  },
  {
   "cell_type": "code",
   "execution_count": 146,
   "metadata": {
    "scrolled": true
   },
   "outputs": [
    {
     "name": "stdout",
     "output_type": "stream",
     "text": [
      "Epoch 1/100\n",
      "4/4 [==============================] - 0s 19ms/step - loss: 0.1055\n",
      "Epoch 2/100\n",
      "4/4 [==============================] - 0s 16ms/step - loss: 0.0324\n",
      "Epoch 3/100\n",
      "4/4 [==============================] - 0s 18ms/step - loss: 0.0319\n",
      "Epoch 4/100\n",
      "4/4 [==============================] - 0s 15ms/step - loss: 0.0242\n",
      "Epoch 5/100\n",
      "4/4 [==============================] - 0s 15ms/step - loss: 0.0273\n",
      "Epoch 6/100\n",
      "4/4 [==============================] - 0s 16ms/step - loss: 0.0231\n",
      "Epoch 7/100\n",
      "4/4 [==============================] - 0s 13ms/step - loss: 0.0226\n",
      "Epoch 8/100\n",
      "4/4 [==============================] - 0s 13ms/step - loss: 0.0194\n",
      "Epoch 9/100\n",
      "4/4 [==============================] - 0s 13ms/step - loss: 0.0193\n",
      "Epoch 10/100\n",
      "4/4 [==============================] - 0s 14ms/step - loss: 0.0190\n",
      "Epoch 11/100\n",
      "4/4 [==============================] - 0s 14ms/step - loss: 0.0181\n",
      "Epoch 12/100\n",
      "4/4 [==============================] - 0s 15ms/step - loss: 0.0178\n",
      "Epoch 13/100\n",
      "4/4 [==============================] - 0s 14ms/step - loss: 0.0193\n",
      "Epoch 14/100\n",
      "4/4 [==============================] - 0s 14ms/step - loss: 0.0194\n",
      "Epoch 15/100\n",
      "4/4 [==============================] - 0s 14ms/step - loss: 0.0177\n",
      "Epoch 16/100\n",
      "4/4 [==============================] - 0s 14ms/step - loss: 0.0187\n",
      "Epoch 17/100\n",
      "4/4 [==============================] - 0s 14ms/step - loss: 0.0178\n",
      "Epoch 18/100\n",
      "4/4 [==============================] - 0s 14ms/step - loss: 0.0168\n",
      "Epoch 19/100\n",
      "4/4 [==============================] - 0s 13ms/step - loss: 0.0161\n",
      "Epoch 20/100\n",
      "4/4 [==============================] - 0s 13ms/step - loss: 0.0159\n",
      "Epoch 21/100\n",
      "4/4 [==============================] - 0s 13ms/step - loss: 0.0164\n",
      "Epoch 22/100\n",
      "4/4 [==============================] - 0s 13ms/step - loss: 0.0144\n",
      "Epoch 23/100\n",
      "4/4 [==============================] - 0s 13ms/step - loss: 0.0122\n",
      "Epoch 24/100\n",
      "4/4 [==============================] - 0s 13ms/step - loss: 0.0160\n",
      "Epoch 25/100\n",
      "4/4 [==============================] - 0s 15ms/step - loss: 0.0128\n",
      "Epoch 26/100\n",
      "4/4 [==============================] - 0s 14ms/step - loss: 0.0147\n",
      "Epoch 27/100\n",
      "4/4 [==============================] - 0s 14ms/step - loss: 0.0155\n",
      "Epoch 28/100\n",
      "4/4 [==============================] - 0s 17ms/step - loss: 0.0113\n",
      "Epoch 29/100\n",
      "4/4 [==============================] - 0s 18ms/step - loss: 0.0123\n",
      "Epoch 30/100\n",
      "4/4 [==============================] - 0s 17ms/step - loss: 0.0135\n",
      "Epoch 31/100\n",
      "4/4 [==============================] - 0s 15ms/step - loss: 0.0139\n",
      "Epoch 32/100\n",
      "4/4 [==============================] - 0s 14ms/step - loss: 0.0126\n",
      "Epoch 33/100\n",
      "4/4 [==============================] - 0s 14ms/step - loss: 0.0131\n",
      "Epoch 34/100\n",
      "4/4 [==============================] - 0s 14ms/step - loss: 0.0122\n",
      "Epoch 35/100\n",
      "4/4 [==============================] - 0s 12ms/step - loss: 0.0116\n",
      "Epoch 36/100\n",
      "4/4 [==============================] - 0s 13ms/step - loss: 0.0153\n",
      "Epoch 37/100\n",
      "4/4 [==============================] - 0s 13ms/step - loss: 0.0110\n",
      "Epoch 38/100\n",
      "4/4 [==============================] - 0s 13ms/step - loss: 0.0125\n",
      "Epoch 39/100\n",
      "4/4 [==============================] - 0s 13ms/step - loss: 0.0111\n",
      "Epoch 40/100\n",
      "4/4 [==============================] - 0s 13ms/step - loss: 0.0131\n",
      "Epoch 41/100\n",
      "4/4 [==============================] - 0s 13ms/step - loss: 0.0132\n",
      "Epoch 42/100\n",
      "4/4 [==============================] - 0s 13ms/step - loss: 0.0112\n",
      "Epoch 43/100\n",
      "4/4 [==============================] - 0s 13ms/step - loss: 0.0125\n",
      "Epoch 44/100\n",
      "4/4 [==============================] - 0s 13ms/step - loss: 0.0135\n",
      "Epoch 45/100\n",
      "4/4 [==============================] - 0s 13ms/step - loss: 0.0119\n",
      "Epoch 46/100\n",
      "4/4 [==============================] - 0s 13ms/step - loss: 0.0095\n",
      "Epoch 47/100\n",
      "4/4 [==============================] - 0s 13ms/step - loss: 0.0094\n",
      "Epoch 48/100\n",
      "4/4 [==============================] - 0s 13ms/step - loss: 0.0101\n",
      "Epoch 49/100\n",
      "4/4 [==============================] - 0s 13ms/step - loss: 0.0098\n",
      "Epoch 50/100\n",
      "4/4 [==============================] - 0s 14ms/step - loss: 0.0130\n",
      "Epoch 51/100\n",
      "4/4 [==============================] - 0s 15ms/step - loss: 0.0107\n",
      "Epoch 52/100\n",
      "4/4 [==============================] - 0s 14ms/step - loss: 0.0116\n",
      "Epoch 53/100\n",
      "4/4 [==============================] - 0s 13ms/step - loss: 0.0099\n",
      "Epoch 54/100\n",
      "4/4 [==============================] - 0s 13ms/step - loss: 0.0100\n",
      "Epoch 55/100\n",
      "4/4 [==============================] - 0s 13ms/step - loss: 0.0087\n",
      "Epoch 56/100\n",
      "4/4 [==============================] - 0s 13ms/step - loss: 0.0109\n",
      "Epoch 57/100\n",
      "4/4 [==============================] - 0s 13ms/step - loss: 0.0115\n",
      "Epoch 58/100\n",
      "4/4 [==============================] - 0s 13ms/step - loss: 0.0119\n",
      "Epoch 59/100\n",
      "4/4 [==============================] - 0s 13ms/step - loss: 0.0086\n",
      "Epoch 60/100\n",
      "4/4 [==============================] - 0s 13ms/step - loss: 0.0101\n",
      "Epoch 61/100\n",
      "4/4 [==============================] - 0s 13ms/step - loss: 0.0094\n",
      "Epoch 62/100\n",
      "4/4 [==============================] - 0s 19ms/step - loss: 0.0087\n",
      "Epoch 63/100\n",
      "4/4 [==============================] - 0s 13ms/step - loss: 0.0097\n",
      "Epoch 64/100\n",
      "4/4 [==============================] - 0s 13ms/step - loss: 0.0124\n",
      "Epoch 65/100\n",
      "4/4 [==============================] - 0s 13ms/step - loss: 0.0126\n",
      "Epoch 66/100\n",
      "4/4 [==============================] - 0s 13ms/step - loss: 0.0108\n",
      "Epoch 67/100\n",
      "4/4 [==============================] - 0s 13ms/step - loss: 0.0083\n",
      "Epoch 68/100\n",
      "4/4 [==============================] - 0s 13ms/step - loss: 0.0115\n",
      "Epoch 69/100\n",
      "4/4 [==============================] - 0s 13ms/step - loss: 0.0102\n",
      "Epoch 70/100\n",
      "4/4 [==============================] - 0s 13ms/step - loss: 0.0115\n",
      "Epoch 71/100\n",
      "4/4 [==============================] - 0s 13ms/step - loss: 0.0095\n",
      "Epoch 72/100\n",
      "4/4 [==============================] - 0s 13ms/step - loss: 0.0089\n",
      "Epoch 73/100\n",
      "4/4 [==============================] - 0s 13ms/step - loss: 0.0096\n",
      "Epoch 74/100\n",
      "4/4 [==============================] - 0s 13ms/step - loss: 0.0091\n",
      "Epoch 75/100\n",
      "4/4 [==============================] - 0s 13ms/step - loss: 0.0096\n",
      "Epoch 76/100\n",
      "4/4 [==============================] - 0s 13ms/step - loss: 0.0087\n",
      "Epoch 77/100\n",
      "4/4 [==============================] - 0s 13ms/step - loss: 0.0103\n",
      "Epoch 78/100\n",
      "4/4 [==============================] - 0s 13ms/step - loss: 0.0087\n",
      "Epoch 79/100\n",
      "4/4 [==============================] - 0s 13ms/step - loss: 0.0081\n",
      "Epoch 80/100\n",
      "4/4 [==============================] - 0s 13ms/step - loss: 0.0076\n",
      "Epoch 81/100\n",
      "4/4 [==============================] - 0s 13ms/step - loss: 0.0099\n",
      "Epoch 82/100\n",
      "4/4 [==============================] - 0s 14ms/step - loss: 0.0095\n",
      "Epoch 83/100\n",
      "4/4 [==============================] - 0s 13ms/step - loss: 0.0097\n",
      "Epoch 84/100\n",
      "4/4 [==============================] - 0s 13ms/step - loss: 0.0089\n",
      "Epoch 85/100\n",
      "4/4 [==============================] - 0s 13ms/step - loss: 0.0094\n",
      "Epoch 86/100\n",
      "4/4 [==============================] - 0s 13ms/step - loss: 0.0102\n",
      "Epoch 87/100\n",
      "4/4 [==============================] - 0s 13ms/step - loss: 0.0081\n",
      "Epoch 88/100\n",
      "4/4 [==============================] - 0s 13ms/step - loss: 0.0084\n",
      "Epoch 89/100\n",
      "4/4 [==============================] - 0s 13ms/step - loss: 0.0089\n",
      "Epoch 90/100\n",
      "4/4 [==============================] - 0s 13ms/step - loss: 0.0082\n",
      "Epoch 91/100\n",
      "4/4 [==============================] - 0s 13ms/step - loss: 0.0073\n",
      "Epoch 92/100\n",
      "4/4 [==============================] - 0s 13ms/step - loss: 0.0079\n",
      "Epoch 93/100\n",
      "4/4 [==============================] - 0s 13ms/step - loss: 0.0097\n",
      "Epoch 94/100\n",
      "4/4 [==============================] - 0s 13ms/step - loss: 0.0093\n",
      "Epoch 95/100\n",
      "4/4 [==============================] - 0s 13ms/step - loss: 0.0083\n",
      "Epoch 96/100\n",
      "4/4 [==============================] - 0s 13ms/step - loss: 0.0082\n",
      "Epoch 97/100\n",
      "4/4 [==============================] - 0s 13ms/step - loss: 0.0091\n",
      "Epoch 98/100\n",
      "4/4 [==============================] - 0s 13ms/step - loss: 0.0065\n",
      "Epoch 99/100\n",
      "4/4 [==============================] - 0s 13ms/step - loss: 0.0101\n",
      "Epoch 100/100\n",
      "4/4 [==============================] - 0s 14ms/step - loss: 0.0096\n"
     ]
    }
   ],
   "source": [
    "history = regressor.fit(X_train, y_train, epochs = pepochs3, batch_size = pbatch2)"
   ]
  },
  {
   "cell_type": "markdown",
   "metadata": {
    "id": "gwpyImwA3yon"
   },
   "source": [
    "## Parte 3 - Fazer as previsões e analisar os resultados"
   ]
  },
  {
   "cell_type": "markdown",
   "metadata": {
    "id": "wkXRvDjT4V-B"
   },
   "source": [
    "### Base de teste"
   ]
  },
  {
   "cell_type": "code",
   "execution_count": 147,
   "metadata": {
    "id": "Bn_n72dh30K-"
   },
   "outputs": [],
   "source": [
    "dataset_test = test_set\n",
    "PETR4_data_train = pd.DataFrame(PETR4_data_train)\n",
    "PETR4_data_test = pd.DataFrame(PETR4_data_test)"
   ]
  },
  {
   "cell_type": "markdown",
   "metadata": {
    "id": "EOo84exH4bfs"
   },
   "source": [
    "### Construir a estrutura para teste"
   ]
  },
  {
   "cell_type": "code",
   "execution_count": 148,
   "metadata": {
    "id": "ob_-mGA_B5px"
   },
   "outputs": [],
   "source": [
    "dataset_total = pd.concat((PETR4_data_train.iloc[:,1], PETR4_data_test.iloc[:,1]), axis = 0)\n",
    "testLength = len(dataset_test)\n",
    "inputs = dataset_total[len(dataset_total) - testLength - window:].values\n",
    "inputs = inputs.reshape(inputs.shape[0],1)\n",
    "\n",
    "inputs = sc.transform(inputs)\n",
    "X_test = []\n",
    "for i in range(window, inputs.shape[0]): \n",
    "    X_test.append(inputs[i-window:i, 0])\n",
    "X_test = np.array(X_test)\n",
    "\n",
    "X_test = np.reshape(X_test, (X_test.shape[0], X_test.shape[1], 1))"
   ]
  },
  {
   "cell_type": "markdown",
   "metadata": {
    "id": "rtkB4NA74e1B"
   },
   "source": [
    "### Fazer as previsões"
   ]
  },
  {
   "cell_type": "code",
   "execution_count": 149,
   "metadata": {
    "id": "nKIq1h-E4g9Z"
   },
   "outputs": [],
   "source": [
    "predicted_PETR4 = regressor.predict(X_test)\n",
    "predicted_PETR4 = sc.inverse_transform(predicted_PETR4)"
   ]
  },
  {
   "cell_type": "markdown",
   "metadata": {
    "id": "guvk7yXr4o0g"
   },
   "source": [
    "### Visualizar os resultados de treino e teste"
   ]
  },
  {
   "cell_type": "code",
   "execution_count": 150,
   "metadata": {
    "id": "tstXl2oS4rIo",
    "scrolled": true
   },
   "outputs": [
    {
     "data": {
      "image/png": "[encoded data removed]",
      "text/plain": [
       "<Figure size 432x288 with 1 Axes>"
      ]
     },
     "metadata": {
      "needs_background": "light"
     },
     "output_type": "display_data"
    }
   ],
   "source": [
    "allTargetData = np.vstack((training_set, dataset_test))\n",
    "training_predicted_PETR4 = regressor.predict(X_train)\n",
    "training_predicted_PETR4 = sc.inverse_transform(training_predicted_PETR4)\n",
    "allForecastedData = np.vstack((training_set[0:window], training_predicted_PETR4, predicted_PETR4))\n",
    "plt.plot(allTargetData, color = 'red', label = 'Real')\n",
    "plt.plot(allForecastedData, color = 'blue', label = 'Previsto')\n",
    "plt.title('Previsão de série temporal')\n",
    "plt.xlabel('Tempo')\n",
    "plt.ylabel('Cotação (R$)')\n",
    "plt.legend()\n",
    "plt.savefig('predictions_training_test_25_50_32.svg')\n",
    "plt.show()"
   ]
  },
  {
   "cell_type": "markdown",
   "metadata": {
    "id": "ytEVhQht4we3"
   },
   "source": [
    "## Parte 4 - Métricas de avaliação"
   ]
  },
  {
   "cell_type": "code",
   "execution_count": 151,
   "metadata": {
    "id": "rqOonVj64ydu",
    "scrolled": true
   },
   "outputs": [
    {
     "name": "stdout",
     "output_type": "stream",
     "text": [
      "RMSE: 1.9896046211878748\n"
     ]
    }
   ],
   "source": [
    "import math\n",
    "from sklearn.metrics import mean_squared_error\n",
    "rmse = math.sqrt(mean_squared_error(dataset_test, predicted_PETR4))\n",
    "print('RMSE:', rmse)"
   ]
  },
  {
   "cell_type": "code",
   "execution_count": 152,
   "metadata": {
    "id": "ODeley1K42WW"
   },
   "outputs": [
    {
     "name": "stdout",
     "output_type": "stream",
     "text": [
      "MSE: 3.958526548652147\n"
     ]
    }
   ],
   "source": [
    "mse = mean_squared_error(dataset_test, predicted_PETR4)\n",
    "print('MSE:',mse)"
   ]
  },
  {
   "cell_type": "code",
   "execution_count": 153,
   "metadata": {
    "id": "L7_uU_8T44QA"
   },
   "outputs": [
    {
     "name": "stdout",
     "output_type": "stream",
     "text": [
      "MAPE: 6.330454142845119 %\n"
     ]
    }
   ],
   "source": [
    "mape = np.mean(np.abs((dataset_test-predicted_PETR4) /dataset_test)) * 100\n",
    "print('MAPE:',mape.iloc[0], '%')"
   ]
  },
  {
   "cell_type": "code",
   "execution_count": 154,
   "metadata": {
    "id": "LnCgdBS0vGCz"
   },
   "outputs": [
    {
     "name": "stdout",
     "output_type": "stream",
     "text": [
      "R2: 0.8389146219802883\n"
     ]
    }
   ],
   "source": [
    "from sklearn.metrics import r2_score\n",
    "r2 = r2_score(dataset_test,predicted_PETR4)\n",
    "print('R2:', r2)"
   ]
  },
  {
   "cell_type": "code",
   "execution_count": 155,
   "metadata": {},
   "outputs": [
    {
     "name": "stdout",
     "output_type": "stream",
     "text": [
      "R2Adj: 0.8385898530729905\n"
     ]
    }
   ],
   "source": [
    "adj_r2 = (1 - (1 - r2) * ((predicted_PETR4.shape[0] - 1) / \n",
    "          (predicted_PETR4.shape[0] - predicted_PETR4.shape[1] - 1)))\n",
    "print('R2Adj:',adj_r2)"
   ]
  },
  {
   "cell_type": "code",
   "execution_count": 156,
   "metadata": {},
   "outputs": [],
   "source": [
    "# results = np.array([units1,units2,units3,rmse,mse,mape.iloc[0],r2,adj_r2]) "
   ]
  },
  {
   "cell_type": "code",
   "execution_count": 157,
   "metadata": {},
   "outputs": [],
   "source": [
    "data = pd.array([units1,units2,units3,rmse,mse,mape.iloc[0],r2,adj_r2])"
   ]
  },
  {
   "cell_type": "code",
   "execution_count": 158,
   "metadata": {},
   "outputs": [],
   "source": [
    "results = np.column_stack((results, data))"
   ]
  },
  {
   "cell_type": "code",
   "execution_count": 159,
   "metadata": {
    "scrolled": true
   },
   "outputs": [
    {
     "name": "stdout",
     "output_type": "stream",
     "text": [
      "[[ 50.          50.          50.          50.          50.\n",
      "   50.          50.        ]\n",
      " [ 60.          60.          60.          80.          80.\n",
      "   80.         100.        ]\n",
      " [ 30.          50.          70.          30.          50.\n",
      "   70.          30.        ]\n",
      " [  1.9064291    2.18685944   2.510694     2.28369422   1.46212484\n",
      "    2.36646655   1.98960462]\n",
      " [  3.63447192   4.78235419   6.30358437   5.2152593    2.13780905\n",
      "    5.60016395   3.95852655]\n",
      " [  5.86744474   6.98682674   8.22642649   6.95480879   4.32661015\n",
      "    7.65246645   6.33045414]\n",
      " [  0.85210146   0.80539038   0.74348656   0.78777406   0.91300557\n",
      "    0.77211103   0.83891462]\n",
      " [  0.85180328   0.80499803   0.74296939   0.78734619   0.91283017\n",
      "    0.77165158   0.83858985]]\n"
     ]
    }
   ],
   "source": [
    "print(results)"
   ]
  },
  {
   "cell_type": "markdown",
   "metadata": {},
   "source": [
    "### Parâmetros para esta análise"
   ]
  },
  {
   "cell_type": "code",
   "execution_count": 160,
   "metadata": {},
   "outputs": [],
   "source": [
    "pwindow = 15\n",
    "pepochs3 = 100\n",
    "pbatch2 = 64\n",
    "\n",
    "units1 = 50\n",
    "units2 = 100\n",
    "units3 = 50"
   ]
  },
  {
   "cell_type": "markdown",
   "metadata": {
    "id": "7p1F7HdB2uJU"
   },
   "source": [
    "### Normalização"
   ]
  },
  {
   "cell_type": "code",
   "execution_count": 161,
   "metadata": {
    "id": "foeHRZr-2u-L"
   },
   "outputs": [],
   "source": [
    "from sklearn.preprocessing import MinMaxScaler\n",
    "sc = MinMaxScaler(feature_range = (0, 1))\n",
    "training_set_scaled = sc.fit_transform(training_set)"
   ]
  },
  {
   "cell_type": "markdown",
   "metadata": {
    "id": "uQP8Q7MI21Y9"
   },
   "source": [
    "### Criar a estrutura de dados com janela 10 e output 1"
   ]
  },
  {
   "cell_type": "code",
   "execution_count": 162,
   "metadata": {
    "id": "C6Ge9ql922cb"
   },
   "outputs": [],
   "source": [
    "window = pwindow\n",
    "trainSize = len(training_set_scaled)\n",
    "X_train = []\n",
    "y_train = []\n",
    "for i in range(window, trainSize):\n",
    "    X_train.append(training_set_scaled[i-window:i, 0])\n",
    "    y_train.append(training_set_scaled[i, 0])\n",
    "X_train, y_train = np.array(X_train), np.array(y_train)"
   ]
  },
  {
   "cell_type": "markdown",
   "metadata": {
    "id": "LPBC2LoG24dU"
   },
   "source": [
    "### Reshaping"
   ]
  },
  {
   "cell_type": "code",
   "execution_count": 163,
   "metadata": {
    "id": "oGwgQUDbdmnS"
   },
   "outputs": [
    {
     "data": {
      "text/plain": [
       "(234, 15)"
      ]
     },
     "execution_count": 163,
     "metadata": {},
     "output_type": "execute_result"
    }
   ],
   "source": [
    "X_train.shape"
   ]
  },
  {
   "cell_type": "markdown",
   "metadata": {
    "id": "AEVcR-Uju5TX"
   },
   "source": [
    "Shape de input da lstm = (batch_size, timesteps, features)"
   ]
  },
  {
   "cell_type": "code",
   "execution_count": 164,
   "metadata": {
    "id": "b9ZfLlGH25fr"
   },
   "outputs": [],
   "source": [
    "X_train = np.reshape(X_train, (X_train.shape[0], X_train.shape[1], 1))"
   ]
  },
  {
   "cell_type": "code",
   "execution_count": 165,
   "metadata": {
    "id": "RxU0axM9diHO"
   },
   "outputs": [
    {
     "data": {
      "text/plain": [
       "(234, 15, 1)"
      ]
     },
     "execution_count": 165,
     "metadata": {},
     "output_type": "execute_result"
    }
   ],
   "source": [
    "X_train.shape"
   ]
  },
  {
   "cell_type": "markdown",
   "metadata": {
    "id": "fZhjp7Tf282b"
   },
   "source": [
    "## Parte 2 - Construção da RNN"
   ]
  },
  {
   "cell_type": "markdown",
   "metadata": {
    "id": "RDkAxmMl3EXr"
   },
   "source": [
    "### Bibliotecas necessárias"
   ]
  },
  {
   "cell_type": "code",
   "execution_count": 166,
   "metadata": {
    "id": "Ifhh9yUo3DpT"
   },
   "outputs": [],
   "source": [
    "from keras.models import Sequential\n",
    "from keras.layers import Dense\n",
    "from keras.layers import LSTM\n",
    "from keras.layers import Dropout"
   ]
  },
  {
   "cell_type": "markdown",
   "metadata": {
    "id": "kordpD0_3H7b"
   },
   "source": [
    "### Construção da Rede completa"
   ]
  },
  {
   "cell_type": "code",
   "execution_count": 167,
   "metadata": {
    "scrolled": true
   },
   "outputs": [
    {
     "name": "stdout",
     "output_type": "stream",
     "text": [
      "Model: \"sequential_7\"\n",
      "_________________________________________________________________\n",
      "Layer (type)                 Output Shape              Param #   \n",
      "=================================================================\n",
      "lstm_21 (LSTM)               (None, 15, 50)            10400     \n",
      "_________________________________________________________________\n",
      "dropout_21 (Dropout)         (None, 15, 50)            0         \n",
      "_________________________________________________________________\n",
      "lstm_22 (LSTM)               (None, 15, 100)           60400     \n",
      "_________________________________________________________________\n",
      "dropout_22 (Dropout)         (None, 15, 100)           0         \n",
      "_________________________________________________________________\n",
      "lstm_23 (LSTM)               (None, 50)                30200     \n",
      "_________________________________________________________________\n",
      "dropout_23 (Dropout)         (None, 50)                0         \n",
      "_________________________________________________________________\n",
      "dense_7 (Dense)              (None, 1)                 51        \n",
      "=================================================================\n",
      "Total params: 101,051\n",
      "Trainable params: 101,051\n",
      "Non-trainable params: 0\n",
      "_________________________________________________________________\n"
     ]
    }
   ],
   "source": [
    "# Inicializar a RNN\n",
    "regressor = Sequential()\n",
    "\n",
    "# Adicionar a primeira camada LSTM e Dropout \n",
    "regressor.add(LSTM(units = units1, return_sequences = True, input_shape = (X_train.shape[1], 1)))\n",
    "regressor.add(Dropout(0.2))\n",
    " \n",
    "# Adicionar a segunda camada LSTM e Dropout\n",
    "regressor.add(LSTM(units = units2, return_sequences = True))\n",
    "regressor.add(Dropout(0.2))\n",
    " \n",
    "# Adicionar a terceira camada LSTM e Dropout\n",
    "regressor.add(LSTM(units = units3))\n",
    "regressor.add(Dropout(0.2))\n",
    " \n",
    "# camada de saída\n",
    "regressor.add(Dense(units = 1))\n",
    " \n",
    "# Compilar a rede\n",
    "regressor.compile(optimizer = 'adam', loss = 'mean_squared_error')\n",
    "\n",
    "# Visualizar a rede\n",
    "regressor.summary()  "
   ]
  },
  {
   "cell_type": "markdown",
   "metadata": {
    "id": "5j1w28g83iSR"
   },
   "source": [
    "### Treinamento"
   ]
  },
  {
   "cell_type": "code",
   "execution_count": 168,
   "metadata": {
    "scrolled": true
   },
   "outputs": [
    {
     "name": "stdout",
     "output_type": "stream",
     "text": [
      "Epoch 1/100\n",
      "4/4 [==============================] - 0s 18ms/step - loss: 0.0880\n",
      "Epoch 2/100\n",
      "4/4 [==============================] - 0s 17ms/step - loss: 0.0321\n",
      "Epoch 3/100\n",
      "4/4 [==============================] - 0s 14ms/step - loss: 0.0209\n",
      "Epoch 4/100\n",
      "4/4 [==============================] - 0s 15ms/step - loss: 0.0255\n",
      "Epoch 5/100\n",
      "4/4 [==============================] - 0s 17ms/step - loss: 0.0243\n",
      "Epoch 6/100\n",
      "4/4 [==============================] - 0s 15ms/step - loss: 0.0201\n",
      "Epoch 7/100\n",
      "4/4 [==============================] - 0s 14ms/step - loss: 0.0191\n",
      "Epoch 8/100\n",
      "4/4 [==============================] - 0s 15ms/step - loss: 0.0179\n",
      "Epoch 9/100\n",
      "4/4 [==============================] - 0s 17ms/step - loss: 0.0165\n",
      "Epoch 10/100\n",
      "4/4 [==============================] - 0s 16ms/step - loss: 0.0197\n",
      "Epoch 11/100\n",
      "4/4 [==============================] - 0s 14ms/step - loss: 0.0175\n",
      "Epoch 12/100\n",
      "4/4 [==============================] - 0s 14ms/step - loss: 0.0177\n",
      "Epoch 13/100\n",
      "4/4 [==============================] - 0s 15ms/step - loss: 0.0164\n",
      "Epoch 14/100\n",
      "4/4 [==============================] - 0s 16ms/step - loss: 0.0173\n",
      "Epoch 15/100\n",
      "4/4 [==============================] - 0s 15ms/step - loss: 0.0155\n",
      "Epoch 16/100\n",
      "4/4 [==============================] - 0s 14ms/step - loss: 0.0181\n",
      "Epoch 17/100\n",
      "4/4 [==============================] - 0s 14ms/step - loss: 0.0152\n",
      "Epoch 18/100\n",
      "4/4 [==============================] - 0s 14ms/step - loss: 0.0184\n",
      "Epoch 19/100\n",
      "4/4 [==============================] - 0s 14ms/step - loss: 0.0163\n",
      "Epoch 20/100\n",
      "4/4 [==============================] - 0s 18ms/step - loss: 0.0164\n",
      "Epoch 21/100\n",
      "4/4 [==============================] - 0s 15ms/step - loss: 0.0145\n",
      "Epoch 22/100\n",
      "4/4 [==============================] - 0s 14ms/step - loss: 0.0141\n",
      "Epoch 23/100\n",
      "4/4 [==============================] - 0s 13ms/step - loss: 0.0139\n",
      "Epoch 24/100\n",
      "4/4 [==============================] - 0s 14ms/step - loss: 0.0164\n",
      "Epoch 25/100\n",
      "4/4 [==============================] - 0s 14ms/step - loss: 0.0167\n",
      "Epoch 26/100\n",
      "4/4 [==============================] - 0s 14ms/step - loss: 0.0122\n",
      "Epoch 27/100\n",
      "4/4 [==============================] - 0s 16ms/step - loss: 0.0152\n",
      "Epoch 28/100\n",
      "4/4 [==============================] - 0s 15ms/step - loss: 0.0124\n",
      "Epoch 29/100\n",
      "4/4 [==============================] - 0s 14ms/step - loss: 0.0114\n",
      "Epoch 30/100\n",
      "4/4 [==============================] - 0s 14ms/step - loss: 0.0140\n",
      "Epoch 31/100\n",
      "4/4 [==============================] - 0s 14ms/step - loss: 0.0107\n",
      "Epoch 32/100\n",
      "4/4 [==============================] - 0s 14ms/step - loss: 0.0112\n",
      "Epoch 33/100\n",
      "4/4 [==============================] - 0s 14ms/step - loss: 0.0126\n",
      "Epoch 34/100\n",
      "4/4 [==============================] - 0s 14ms/step - loss: 0.0124\n",
      "Epoch 35/100\n",
      "4/4 [==============================] - 0s 16ms/step - loss: 0.0136\n",
      "Epoch 36/100\n",
      "4/4 [==============================] - 0s 16ms/step - loss: 0.0113\n",
      "Epoch 37/100\n",
      "4/4 [==============================] - 0s 14ms/step - loss: 0.0126\n",
      "Epoch 38/100\n",
      "4/4 [==============================] - 0s 14ms/step - loss: 0.0126\n",
      "Epoch 39/100\n",
      "4/4 [==============================] - 0s 14ms/step - loss: 0.0104\n",
      "Epoch 40/100\n",
      "4/4 [==============================] - 0s 14ms/step - loss: 0.0105\n",
      "Epoch 41/100\n",
      "4/4 [==============================] - 0s 13ms/step - loss: 0.0125\n",
      "Epoch 42/100\n",
      "4/4 [==============================] - 0s 14ms/step - loss: 0.0119\n",
      "Epoch 43/100\n",
      "4/4 [==============================] - 0s 14ms/step - loss: 0.0101\n",
      "Epoch 44/100\n",
      "4/4 [==============================] - 0s 15ms/step - loss: 0.0087\n",
      "Epoch 45/100\n",
      "4/4 [==============================] - 0s 16ms/step - loss: 0.0095\n",
      "Epoch 46/100\n",
      "4/4 [==============================] - 0s 15ms/step - loss: 0.0119\n",
      "Epoch 47/100\n",
      "4/4 [==============================] - 0s 14ms/step - loss: 0.0101\n",
      "Epoch 48/100\n",
      "4/4 [==============================] - 0s 14ms/step - loss: 0.0123\n",
      "Epoch 49/100\n",
      "4/4 [==============================] - 0s 14ms/step - loss: 0.0112\n",
      "Epoch 50/100\n",
      "4/4 [==============================] - 0s 14ms/step - loss: 0.0111\n",
      "Epoch 51/100\n",
      "4/4 [==============================] - 0s 14ms/step - loss: 0.0098\n",
      "Epoch 52/100\n",
      "4/4 [==============================] - 0s 14ms/step - loss: 0.0121\n",
      "Epoch 53/100\n",
      "4/4 [==============================] - 0s 14ms/step - loss: 0.0067\n",
      "Epoch 54/100\n",
      "4/4 [==============================] - 0s 14ms/step - loss: 0.0120\n",
      "Epoch 55/100\n",
      "4/4 [==============================] - 0s 14ms/step - loss: 0.0110\n",
      "Epoch 56/100\n",
      "4/4 [==============================] - 0s 17ms/step - loss: 0.0096\n",
      "Epoch 57/100\n",
      "4/4 [==============================] - 0s 20ms/step - loss: 0.0115\n",
      "Epoch 58/100\n",
      "4/4 [==============================] - 0s 14ms/step - loss: 0.0093\n",
      "Epoch 59/100\n",
      "4/4 [==============================] - 0s 14ms/step - loss: 0.0110\n",
      "Epoch 60/100\n",
      "4/4 [==============================] - 0s 17ms/step - loss: 0.0134\n",
      "Epoch 61/100\n",
      "4/4 [==============================] - 0s 17ms/step - loss: 0.0090\n",
      "Epoch 62/100\n",
      "4/4 [==============================] - 0s 14ms/step - loss: 0.0085\n",
      "Epoch 63/100\n",
      "4/4 [==============================] - 0s 14ms/step - loss: 0.0096\n",
      "Epoch 64/100\n",
      "4/4 [==============================] - 0s 14ms/step - loss: 0.0083\n",
      "Epoch 65/100\n",
      "4/4 [==============================] - 0s 16ms/step - loss: 0.0098\n",
      "Epoch 66/100\n",
      "4/4 [==============================] - 0s 14ms/step - loss: 0.0085\n",
      "Epoch 67/100\n",
      "4/4 [==============================] - 0s 14ms/step - loss: 0.0082\n",
      "Epoch 68/100\n",
      "4/4 [==============================] - 0s 14ms/step - loss: 0.0075\n",
      "Epoch 69/100\n",
      "4/4 [==============================] - 0s 15ms/step - loss: 0.0105\n",
      "Epoch 70/100\n",
      "4/4 [==============================] - 0s 15ms/step - loss: 0.0105\n",
      "Epoch 71/100\n",
      "4/4 [==============================] - 0s 14ms/step - loss: 0.0081\n",
      "Epoch 72/100\n",
      "4/4 [==============================] - 0s 15ms/step - loss: 0.0088\n",
      "Epoch 73/100\n",
      "4/4 [==============================] - 0s 14ms/step - loss: 0.0105\n",
      "Epoch 74/100\n",
      "4/4 [==============================] - 0s 14ms/step - loss: 0.0107\n",
      "Epoch 75/100\n",
      "4/4 [==============================] - 0s 14ms/step - loss: 0.0091\n",
      "Epoch 76/100\n",
      "4/4 [==============================] - 0s 14ms/step - loss: 0.0098\n",
      "Epoch 77/100\n",
      "4/4 [==============================] - 0s 14ms/step - loss: 0.0122\n",
      "Epoch 78/100\n",
      "4/4 [==============================] - 0s 14ms/step - loss: 0.0087\n",
      "Epoch 79/100\n",
      "4/4 [==============================] - 0s 14ms/step - loss: 0.0070\n",
      "Epoch 80/100\n",
      "4/4 [==============================] - 0s 14ms/step - loss: 0.0085\n",
      "Epoch 81/100\n",
      "4/4 [==============================] - 0s 14ms/step - loss: 0.0091\n",
      "Epoch 82/100\n",
      "4/4 [==============================] - 0s 14ms/step - loss: 0.0081\n",
      "Epoch 83/100\n",
      "4/4 [==============================] - 0s 14ms/step - loss: 0.0086\n",
      "Epoch 84/100\n",
      "4/4 [==============================] - 0s 14ms/step - loss: 0.0092\n",
      "Epoch 85/100\n",
      "4/4 [==============================] - 0s 14ms/step - loss: 0.0075\n",
      "Epoch 86/100\n",
      "4/4 [==============================] - 0s 14ms/step - loss: 0.0102\n",
      "Epoch 87/100\n",
      "4/4 [==============================] - 0s 14ms/step - loss: 0.0094\n",
      "Epoch 88/100\n",
      "4/4 [==============================] - 0s 14ms/step - loss: 0.0095\n",
      "Epoch 89/100\n",
      "4/4 [==============================] - 0s 14ms/step - loss: 0.0089\n",
      "Epoch 90/100\n",
      "4/4 [==============================] - 0s 14ms/step - loss: 0.0090\n",
      "Epoch 91/100\n",
      "4/4 [==============================] - 0s 17ms/step - loss: 0.0084\n",
      "Epoch 92/100\n",
      "4/4 [==============================] - 0s 14ms/step - loss: 0.0083\n",
      "Epoch 93/100\n",
      "4/4 [==============================] - 0s 14ms/step - loss: 0.0091\n",
      "Epoch 94/100\n",
      "4/4 [==============================] - 0s 14ms/step - loss: 0.0066\n",
      "Epoch 95/100\n",
      "4/4 [==============================] - 0s 14ms/step - loss: 0.0075\n",
      "Epoch 96/100\n",
      "4/4 [==============================] - 0s 14ms/step - loss: 0.0091\n",
      "Epoch 97/100\n",
      "4/4 [==============================] - 0s 15ms/step - loss: 0.0080\n",
      "Epoch 98/100\n",
      "4/4 [==============================] - 0s 14ms/step - loss: 0.0082\n",
      "Epoch 99/100\n",
      "4/4 [==============================] - 0s 14ms/step - loss: 0.0084\n",
      "Epoch 100/100\n",
      "4/4 [==============================] - 0s 14ms/step - loss: 0.0096\n"
     ]
    }
   ],
   "source": [
    "history = regressor.fit(X_train, y_train, epochs = pepochs3, batch_size = pbatch2)"
   ]
  },
  {
   "cell_type": "markdown",
   "metadata": {
    "id": "gwpyImwA3yon"
   },
   "source": [
    "## Parte 3 - Fazer as previsões e analisar os resultados"
   ]
  },
  {
   "cell_type": "markdown",
   "metadata": {
    "id": "wkXRvDjT4V-B"
   },
   "source": [
    "### Base de teste"
   ]
  },
  {
   "cell_type": "code",
   "execution_count": 169,
   "metadata": {
    "id": "Bn_n72dh30K-"
   },
   "outputs": [],
   "source": [
    "dataset_test = test_set\n",
    "PETR4_data_train = pd.DataFrame(PETR4_data_train)\n",
    "PETR4_data_test = pd.DataFrame(PETR4_data_test)"
   ]
  },
  {
   "cell_type": "markdown",
   "metadata": {
    "id": "EOo84exH4bfs"
   },
   "source": [
    "### Construir a estrutura para teste"
   ]
  },
  {
   "cell_type": "code",
   "execution_count": 170,
   "metadata": {
    "id": "ob_-mGA_B5px"
   },
   "outputs": [],
   "source": [
    "dataset_total = pd.concat((PETR4_data_train.iloc[:,1], PETR4_data_test.iloc[:,1]), axis = 0)\n",
    "testLength = len(dataset_test)\n",
    "inputs = dataset_total[len(dataset_total) - testLength - window:].values\n",
    "inputs = inputs.reshape(inputs.shape[0],1)\n",
    "\n",
    "inputs = sc.transform(inputs)\n",
    "X_test = []\n",
    "for i in range(window, inputs.shape[0]): \n",
    "    X_test.append(inputs[i-window:i, 0])\n",
    "X_test = np.array(X_test)\n",
    "\n",
    "X_test = np.reshape(X_test, (X_test.shape[0], X_test.shape[1], 1))"
   ]
  },
  {
   "cell_type": "markdown",
   "metadata": {
    "id": "rtkB4NA74e1B"
   },
   "source": [
    "### Fazer as previsões"
   ]
  },
  {
   "cell_type": "code",
   "execution_count": 171,
   "metadata": {
    "id": "nKIq1h-E4g9Z"
   },
   "outputs": [],
   "source": [
    "predicted_PETR4 = regressor.predict(X_test)\n",
    "predicted_PETR4 = sc.inverse_transform(predicted_PETR4)"
   ]
  },
  {
   "cell_type": "markdown",
   "metadata": {
    "id": "guvk7yXr4o0g"
   },
   "source": [
    "### Visualizar os resultados de treino e teste"
   ]
  },
  {
   "cell_type": "code",
   "execution_count": 172,
   "metadata": {
    "id": "tstXl2oS4rIo",
    "scrolled": true
   },
   "outputs": [
    {
     "data": {
      "image/png": "[encoded data removed]",
      "text/plain": [
       "<Figure size 432x288 with 1 Axes>"
      ]
     },
     "metadata": {
      "needs_background": "light"
     },
     "output_type": "display_data"
    }
   ],
   "source": [
    "allTargetData = np.vstack((training_set, dataset_test))\n",
    "training_predicted_PETR4 = regressor.predict(X_train)\n",
    "training_predicted_PETR4 = sc.inverse_transform(training_predicted_PETR4)\n",
    "allForecastedData = np.vstack((training_set[0:window], training_predicted_PETR4, predicted_PETR4))\n",
    "plt.plot(allTargetData, color = 'red', label = 'Real')\n",
    "plt.plot(allForecastedData, color = 'blue', label = 'Previsto')\n",
    "plt.title('Previsão de série temporal')\n",
    "plt.xlabel('Tempo')\n",
    "plt.ylabel('Cotação (R$)')\n",
    "plt.legend()\n",
    "plt.savefig('predictions_training_test_25_50_32.svg')\n",
    "plt.show()"
   ]
  },
  {
   "cell_type": "markdown",
   "metadata": {
    "id": "ytEVhQht4we3"
   },
   "source": [
    "## Parte 4 - Métricas de avaliação"
   ]
  },
  {
   "cell_type": "code",
   "execution_count": 173,
   "metadata": {
    "id": "rqOonVj64ydu",
    "scrolled": true
   },
   "outputs": [
    {
     "name": "stdout",
     "output_type": "stream",
     "text": [
      "RMSE: 2.2059715868719385\n"
     ]
    }
   ],
   "source": [
    "import math\n",
    "from sklearn.metrics import mean_squared_error\n",
    "rmse = math.sqrt(mean_squared_error(dataset_test, predicted_PETR4))\n",
    "print('RMSE:', rmse)"
   ]
  },
  {
   "cell_type": "code",
   "execution_count": 174,
   "metadata": {
    "id": "ODeley1K42WW"
   },
   "outputs": [
    {
     "name": "stdout",
     "output_type": "stream",
     "text": [
      "MSE: 4.866310642086299\n"
     ]
    }
   ],
   "source": [
    "mse = mean_squared_error(dataset_test, predicted_PETR4)\n",
    "print('MSE:',mse)"
   ]
  },
  {
   "cell_type": "code",
   "execution_count": 175,
   "metadata": {
    "id": "L7_uU_8T44QA"
   },
   "outputs": [
    {
     "name": "stdout",
     "output_type": "stream",
     "text": [
      "MAPE: 6.855546076898526 %\n"
     ]
    }
   ],
   "source": [
    "mape = np.mean(np.abs((dataset_test-predicted_PETR4) /dataset_test)) * 100\n",
    "print('MAPE:',mape.iloc[0], '%')"
   ]
  },
  {
   "cell_type": "code",
   "execution_count": 176,
   "metadata": {
    "id": "LnCgdBS0vGCz"
   },
   "outputs": [
    {
     "name": "stdout",
     "output_type": "stream",
     "text": [
      "R2: 0.8019739214307589\n"
     ]
    }
   ],
   "source": [
    "from sklearn.metrics import r2_score\n",
    "r2 = r2_score(dataset_test,predicted_PETR4)\n",
    "print('R2:', r2)"
   ]
  },
  {
   "cell_type": "code",
   "execution_count": 177,
   "metadata": {},
   "outputs": [
    {
     "name": "stdout",
     "output_type": "stream",
     "text": [
      "R2Adj: 0.8015746753046112\n"
     ]
    }
   ],
   "source": [
    "adj_r2 = (1 - (1 - r2) * ((predicted_PETR4.shape[0] - 1) / \n",
    "          (predicted_PETR4.shape[0] - predicted_PETR4.shape[1] - 1)))\n",
    "print('R2Adj:',adj_r2)"
   ]
  },
  {
   "cell_type": "code",
   "execution_count": 178,
   "metadata": {},
   "outputs": [],
   "source": [
    "# results = np.array([units1,units2,units3,rmse,mse,mape.iloc[0],r2,adj_r2]) "
   ]
  },
  {
   "cell_type": "code",
   "execution_count": 179,
   "metadata": {},
   "outputs": [],
   "source": [
    "data = pd.array([units1,units2,units3,rmse,mse,mape.iloc[0],r2,adj_r2])"
   ]
  },
  {
   "cell_type": "code",
   "execution_count": 180,
   "metadata": {},
   "outputs": [],
   "source": [
    "results = np.column_stack((results, data))"
   ]
  },
  {
   "cell_type": "code",
   "execution_count": 181,
   "metadata": {
    "scrolled": true
   },
   "outputs": [
    {
     "name": "stdout",
     "output_type": "stream",
     "text": [
      "[[ 50.          50.          50.          50.          50.\n",
      "   50.          50.          50.        ]\n",
      " [ 60.          60.          60.          80.          80.\n",
      "   80.         100.         100.        ]\n",
      " [ 30.          50.          70.          30.          50.\n",
      "   70.          30.          50.        ]\n",
      " [  1.9064291    2.18685944   2.510694     2.28369422   1.46212484\n",
      "    2.36646655   1.98960462   2.20597159]\n",
      " [  3.63447192   4.78235419   6.30358437   5.2152593    2.13780905\n",
      "    5.60016395   3.95852655   4.86631064]\n",
      " [  5.86744474   6.98682674   8.22642649   6.95480879   4.32661015\n",
      "    7.65246645   6.33045414   6.85554608]\n",
      " [  0.85210146   0.80539038   0.74348656   0.78777406   0.91300557\n",
      "    0.77211103   0.83891462   0.80197392]\n",
      " [  0.85180328   0.80499803   0.74296939   0.78734619   0.91283017\n",
      "    0.77165158   0.83858985   0.80157468]]\n"
     ]
    }
   ],
   "source": [
    "print(results)"
   ]
  },
  {
   "cell_type": "markdown",
   "metadata": {},
   "source": [
    "### Parâmetros para esta análise"
   ]
  },
  {
   "cell_type": "code",
   "execution_count": 182,
   "metadata": {},
   "outputs": [],
   "source": [
    "pwindow = 15\n",
    "pepochs3 = 100\n",
    "pbatch2 = 64\n",
    "\n",
    "units1 = 50\n",
    "units2 = 100\n",
    "units3 = 70"
   ]
  },
  {
   "cell_type": "markdown",
   "metadata": {
    "id": "7p1F7HdB2uJU"
   },
   "source": [
    "### Normalização"
   ]
  },
  {
   "cell_type": "code",
   "execution_count": 183,
   "metadata": {
    "id": "foeHRZr-2u-L"
   },
   "outputs": [],
   "source": [
    "from sklearn.preprocessing import MinMaxScaler\n",
    "sc = MinMaxScaler(feature_range = (0, 1))\n",
    "training_set_scaled = sc.fit_transform(training_set)"
   ]
  },
  {
   "cell_type": "markdown",
   "metadata": {
    "id": "uQP8Q7MI21Y9"
   },
   "source": [
    "### Criar a estrutura de dados com janela 10 e output 1"
   ]
  },
  {
   "cell_type": "code",
   "execution_count": 184,
   "metadata": {
    "id": "C6Ge9ql922cb"
   },
   "outputs": [],
   "source": [
    "window = pwindow\n",
    "trainSize = len(training_set_scaled)\n",
    "X_train = []\n",
    "y_train = []\n",
    "for i in range(window, trainSize):\n",
    "    X_train.append(training_set_scaled[i-window:i, 0])\n",
    "    y_train.append(training_set_scaled[i, 0])\n",
    "X_train, y_train = np.array(X_train), np.array(y_train)"
   ]
  },
  {
   "cell_type": "markdown",
   "metadata": {
    "id": "LPBC2LoG24dU"
   },
   "source": [
    "### Reshaping"
   ]
  },
  {
   "cell_type": "code",
   "execution_count": 185,
   "metadata": {
    "id": "oGwgQUDbdmnS"
   },
   "outputs": [
    {
     "data": {
      "text/plain": [
       "(234, 15)"
      ]
     },
     "execution_count": 185,
     "metadata": {},
     "output_type": "execute_result"
    }
   ],
   "source": [
    "X_train.shape"
   ]
  },
  {
   "cell_type": "markdown",
   "metadata": {
    "id": "AEVcR-Uju5TX"
   },
   "source": [
    "Shape de input da lstm = (batch_size, timesteps, features)"
   ]
  },
  {
   "cell_type": "code",
   "execution_count": 186,
   "metadata": {
    "id": "b9ZfLlGH25fr"
   },
   "outputs": [],
   "source": [
    "X_train = np.reshape(X_train, (X_train.shape[0], X_train.shape[1], 1))"
   ]
  },
  {
   "cell_type": "code",
   "execution_count": 187,
   "metadata": {
    "id": "RxU0axM9diHO"
   },
   "outputs": [
    {
     "data": {
      "text/plain": [
       "(234, 15, 1)"
      ]
     },
     "execution_count": 187,
     "metadata": {},
     "output_type": "execute_result"
    }
   ],
   "source": [
    "X_train.shape"
   ]
  },
  {
   "cell_type": "markdown",
   "metadata": {
    "id": "fZhjp7Tf282b"
   },
   "source": [
    "## Parte 2 - Construção da RNN"
   ]
  },
  {
   "cell_type": "markdown",
   "metadata": {
    "id": "RDkAxmMl3EXr"
   },
   "source": [
    "### Bibliotecas necessárias"
   ]
  },
  {
   "cell_type": "code",
   "execution_count": 188,
   "metadata": {
    "id": "Ifhh9yUo3DpT"
   },
   "outputs": [],
   "source": [
    "from keras.models import Sequential\n",
    "from keras.layers import Dense\n",
    "from keras.layers import LSTM\n",
    "from keras.layers import Dropout"
   ]
  },
  {
   "cell_type": "markdown",
   "metadata": {
    "id": "kordpD0_3H7b"
   },
   "source": [
    "### Construção da Rede completa"
   ]
  },
  {
   "cell_type": "code",
   "execution_count": 189,
   "metadata": {
    "scrolled": true
   },
   "outputs": [
    {
     "name": "stdout",
     "output_type": "stream",
     "text": [
      "Model: \"sequential_8\"\n",
      "_________________________________________________________________\n",
      "Layer (type)                 Output Shape              Param #   \n",
      "=================================================================\n",
      "lstm_24 (LSTM)               (None, 15, 50)            10400     \n",
      "_________________________________________________________________\n",
      "dropout_24 (Dropout)         (None, 15, 50)            0         \n",
      "_________________________________________________________________\n",
      "lstm_25 (LSTM)               (None, 15, 100)           60400     \n",
      "_________________________________________________________________\n",
      "dropout_25 (Dropout)         (None, 15, 100)           0         \n",
      "_________________________________________________________________\n",
      "lstm_26 (LSTM)               (None, 70)                47880     \n",
      "_________________________________________________________________\n",
      "dropout_26 (Dropout)         (None, 70)                0         \n",
      "_________________________________________________________________\n",
      "dense_8 (Dense)              (None, 1)                 71        \n",
      "=================================================================\n",
      "Total params: 118,751\n",
      "Trainable params: 118,751\n",
      "Non-trainable params: 0\n",
      "_________________________________________________________________\n"
     ]
    }
   ],
   "source": [
    "# Inicializar a RNN\n",
    "regressor = Sequential()\n",
    "\n",
    "# Adicionar a primeira camada LSTM e Dropout \n",
    "regressor.add(LSTM(units = units1, return_sequences = True, input_shape = (X_train.shape[1], 1)))\n",
    "regressor.add(Dropout(0.2))\n",
    " \n",
    "# Adicionar a segunda camada LSTM e Dropout\n",
    "regressor.add(LSTM(units = units2, return_sequences = True))\n",
    "regressor.add(Dropout(0.2))\n",
    " \n",
    "# Adicionar a terceira camada LSTM e Dropout\n",
    "regressor.add(LSTM(units = units3))\n",
    "regressor.add(Dropout(0.2))\n",
    " \n",
    "# camada de saída\n",
    "regressor.add(Dense(units = 1))\n",
    " \n",
    "# Compilar a rede\n",
    "regressor.compile(optimizer = 'adam', loss = 'mean_squared_error')\n",
    "\n",
    "# Visualizar a rede\n",
    "regressor.summary()  "
   ]
  },
  {
   "cell_type": "markdown",
   "metadata": {
    "id": "5j1w28g83iSR"
   },
   "source": [
    "### Treinamento"
   ]
  },
  {
   "cell_type": "code",
   "execution_count": 190,
   "metadata": {
    "scrolled": true
   },
   "outputs": [
    {
     "name": "stdout",
     "output_type": "stream",
     "text": [
      "Epoch 1/100\n",
      "4/4 [==============================] - 0s 21ms/step - loss: 0.0937\n",
      "Epoch 2/100\n",
      "4/4 [==============================] - 0s 19ms/step - loss: 0.0332\n",
      "Epoch 3/100\n",
      "4/4 [==============================] - 0s 17ms/step - loss: 0.0240\n",
      "Epoch 4/100\n",
      "4/4 [==============================] - 0s 18ms/step - loss: 0.0258\n",
      "Epoch 5/100\n",
      "4/4 [==============================] - 0s 17ms/step - loss: 0.0196\n",
      "Epoch 6/100\n",
      "4/4 [==============================] - 0s 17ms/step - loss: 0.0213\n",
      "Epoch 7/100\n",
      "4/4 [==============================] - 0s 18ms/step - loss: 0.0178\n",
      "Epoch 8/100\n",
      "4/4 [==============================] - 0s 17ms/step - loss: 0.0222\n",
      "Epoch 9/100\n",
      "4/4 [==============================] - 0s 17ms/step - loss: 0.0189\n",
      "Epoch 10/100\n",
      "4/4 [==============================] - 0s 18ms/step - loss: 0.0163\n",
      "Epoch 11/100\n",
      "4/4 [==============================] - 0s 18ms/step - loss: 0.0181\n",
      "Epoch 12/100\n",
      "4/4 [==============================] - 0s 17ms/step - loss: 0.0176\n",
      "Epoch 13/100\n",
      "4/4 [==============================] - 0s 17ms/step - loss: 0.0181\n",
      "Epoch 14/100\n",
      "4/4 [==============================] - 0s 17ms/step - loss: 0.0146\n",
      "Epoch 15/100\n",
      "4/4 [==============================] - 0s 17ms/step - loss: 0.0159\n",
      "Epoch 16/100\n",
      "4/4 [==============================] - 0s 17ms/step - loss: 0.0156\n",
      "Epoch 17/100\n",
      "4/4 [==============================] - 0s 17ms/step - loss: 0.0159\n",
      "Epoch 18/100\n",
      "4/4 [==============================] - 0s 17ms/step - loss: 0.0152\n",
      "Epoch 19/100\n",
      "4/4 [==============================] - 0s 17ms/step - loss: 0.0161\n",
      "Epoch 20/100\n",
      "4/4 [==============================] - 0s 18ms/step - loss: 0.0144\n",
      "Epoch 21/100\n",
      "4/4 [==============================] - 0s 17ms/step - loss: 0.0147\n",
      "Epoch 22/100\n",
      "4/4 [==============================] - 0s 17ms/step - loss: 0.0150\n",
      "Epoch 23/100\n",
      "4/4 [==============================] - 0s 17ms/step - loss: 0.0151\n",
      "Epoch 24/100\n",
      "4/4 [==============================] - 0s 17ms/step - loss: 0.0135\n",
      "Epoch 25/100\n",
      "4/4 [==============================] - 0s 17ms/step - loss: 0.0145\n",
      "Epoch 26/100\n",
      "4/4 [==============================] - 0s 17ms/step - loss: 0.0116\n",
      "Epoch 27/100\n",
      "4/4 [==============================] - 0s 17ms/step - loss: 0.0151\n",
      "Epoch 28/100\n",
      "4/4 [==============================] - 0s 17ms/step - loss: 0.0121\n",
      "Epoch 29/100\n",
      "4/4 [==============================] - 0s 17ms/step - loss: 0.0125\n",
      "Epoch 30/100\n",
      "4/4 [==============================] - 0s 17ms/step - loss: 0.0118\n",
      "Epoch 31/100\n",
      "4/4 [==============================] - 0s 17ms/step - loss: 0.0131\n",
      "Epoch 32/100\n",
      "4/4 [==============================] - 0s 16ms/step - loss: 0.0141\n",
      "Epoch 33/100\n",
      "4/4 [==============================] - 0s 17ms/step - loss: 0.0130\n",
      "Epoch 34/100\n",
      "4/4 [==============================] - 0s 18ms/step - loss: 0.0105\n",
      "Epoch 35/100\n",
      "4/4 [==============================] - 0s 17ms/step - loss: 0.0119\n",
      "Epoch 36/100\n",
      "4/4 [==============================] - 0s 17ms/step - loss: 0.0114\n",
      "Epoch 37/100\n",
      "4/4 [==============================] - 0s 18ms/step - loss: 0.0138\n",
      "Epoch 38/100\n",
      "4/4 [==============================] - 0s 17ms/step - loss: 0.0129\n",
      "Epoch 39/100\n",
      "4/4 [==============================] - 0s 17ms/step - loss: 0.0128\n",
      "Epoch 40/100\n",
      "4/4 [==============================] - 0s 19ms/step - loss: 0.0108\n",
      "Epoch 41/100\n",
      "4/4 [==============================] - 0s 16ms/step - loss: 0.0101\n",
      "Epoch 42/100\n",
      "4/4 [==============================] - 0s 17ms/step - loss: 0.0090\n",
      "Epoch 43/100\n",
      "4/4 [==============================] - 0s 17ms/step - loss: 0.0103\n",
      "Epoch 44/100\n",
      "4/4 [==============================] - 0s 17ms/step - loss: 0.0088\n",
      "Epoch 45/100\n",
      "4/4 [==============================] - 0s 17ms/step - loss: 0.0097\n",
      "Epoch 46/100\n",
      "4/4 [==============================] - 0s 17ms/step - loss: 0.0100\n",
      "Epoch 47/100\n",
      "4/4 [==============================] - 0s 17ms/step - loss: 0.0099\n",
      "Epoch 48/100\n",
      "4/4 [==============================] - 0s 18ms/step - loss: 0.0098\n",
      "Epoch 49/100\n",
      "4/4 [==============================] - 0s 19ms/step - loss: 0.0091\n",
      "Epoch 50/100\n",
      "4/4 [==============================] - 0s 17ms/step - loss: 0.0123\n",
      "Epoch 51/100\n",
      "4/4 [==============================] - 0s 18ms/step - loss: 0.0095\n",
      "Epoch 52/100\n",
      "4/4 [==============================] - 0s 17ms/step - loss: 0.0117\n",
      "Epoch 53/100\n",
      "4/4 [==============================] - 0s 17ms/step - loss: 0.0105\n",
      "Epoch 54/100\n",
      "4/4 [==============================] - 0s 17ms/step - loss: 0.0111\n",
      "Epoch 55/100\n",
      "4/4 [==============================] - 0s 17ms/step - loss: 0.0105\n",
      "Epoch 56/100\n",
      "4/4 [==============================] - 0s 17ms/step - loss: 0.0081\n",
      "Epoch 57/100\n",
      "4/4 [==============================] - 0s 17ms/step - loss: 0.0109\n",
      "Epoch 58/100\n",
      "4/4 [==============================] - 0s 18ms/step - loss: 0.0095\n",
      "Epoch 59/100\n",
      "4/4 [==============================] - 0s 17ms/step - loss: 0.0093\n",
      "Epoch 60/100\n",
      "4/4 [==============================] - 0s 17ms/step - loss: 0.0109\n",
      "Epoch 61/100\n",
      "4/4 [==============================] - 0s 18ms/step - loss: 0.0108\n",
      "Epoch 62/100\n",
      "4/4 [==============================] - 0s 17ms/step - loss: 0.0086\n",
      "Epoch 63/100\n",
      "4/4 [==============================] - 0s 17ms/step - loss: 0.0105\n",
      "Epoch 64/100\n",
      "4/4 [==============================] - 0s 17ms/step - loss: 0.0100\n",
      "Epoch 65/100\n",
      "4/4 [==============================] - 0s 17ms/step - loss: 0.0083\n",
      "Epoch 66/100\n",
      "4/4 [==============================] - 0s 18ms/step - loss: 0.0088\n",
      "Epoch 67/100\n",
      "4/4 [==============================] - 0s 17ms/step - loss: 0.0074\n",
      "Epoch 68/100\n",
      "4/4 [==============================] - 0s 17ms/step - loss: 0.0081\n",
      "Epoch 69/100\n",
      "4/4 [==============================] - 0s 17ms/step - loss: 0.0089\n",
      "Epoch 70/100\n",
      "4/4 [==============================] - 0s 18ms/step - loss: 0.0085\n",
      "Epoch 71/100\n",
      "4/4 [==============================] - 0s 18ms/step - loss: 0.0086\n",
      "Epoch 72/100\n",
      "4/4 [==============================] - 0s 17ms/step - loss: 0.0097\n",
      "Epoch 73/100\n",
      "4/4 [==============================] - 0s 17ms/step - loss: 0.0106\n",
      "Epoch 74/100\n",
      "4/4 [==============================] - 0s 18ms/step - loss: 0.0086\n",
      "Epoch 75/100\n",
      "4/4 [==============================] - 0s 17ms/step - loss: 0.0092\n",
      "Epoch 76/100\n",
      "4/4 [==============================] - 0s 18ms/step - loss: 0.0091\n",
      "Epoch 77/100\n",
      "4/4 [==============================] - 0s 17ms/step - loss: 0.0090\n",
      "Epoch 78/100\n",
      "4/4 [==============================] - 0s 17ms/step - loss: 0.0106\n",
      "Epoch 79/100\n",
      "4/4 [==============================] - 0s 17ms/step - loss: 0.0078\n",
      "Epoch 80/100\n",
      "4/4 [==============================] - 0s 17ms/step - loss: 0.0090\n",
      "Epoch 81/100\n",
      "4/4 [==============================] - 0s 17ms/step - loss: 0.0085\n",
      "Epoch 82/100\n",
      "4/4 [==============================] - 0s 17ms/step - loss: 0.0090\n",
      "Epoch 83/100\n",
      "4/4 [==============================] - 0s 17ms/step - loss: 0.0073\n",
      "Epoch 84/100\n",
      "4/4 [==============================] - 0s 17ms/step - loss: 0.0093\n",
      "Epoch 85/100\n",
      "4/4 [==============================] - 0s 17ms/step - loss: 0.0087\n",
      "Epoch 86/100\n",
      "4/4 [==============================] - 0s 17ms/step - loss: 0.0078\n",
      "Epoch 87/100\n",
      "4/4 [==============================] - 0s 18ms/step - loss: 0.0092\n",
      "Epoch 88/100\n",
      "4/4 [==============================] - 0s 17ms/step - loss: 0.0085\n",
      "Epoch 89/100\n",
      "4/4 [==============================] - 0s 17ms/step - loss: 0.0076\n",
      "Epoch 90/100\n",
      "4/4 [==============================] - 0s 17ms/step - loss: 0.0086\n",
      "Epoch 91/100\n",
      "4/4 [==============================] - 0s 17ms/step - loss: 0.0086\n",
      "Epoch 92/100\n",
      "4/4 [==============================] - 0s 16ms/step - loss: 0.0082\n",
      "Epoch 93/100\n",
      "4/4 [==============================] - 0s 17ms/step - loss: 0.0094\n",
      "Epoch 94/100\n",
      "4/4 [==============================] - 0s 17ms/step - loss: 0.0087\n",
      "Epoch 95/100\n",
      "4/4 [==============================] - 0s 17ms/step - loss: 0.0084\n",
      "Epoch 96/100\n",
      "4/4 [==============================] - 0s 17ms/step - loss: 0.0079\n",
      "Epoch 97/100\n",
      "4/4 [==============================] - 0s 17ms/step - loss: 0.0073\n",
      "Epoch 98/100\n",
      "4/4 [==============================] - 0s 17ms/step - loss: 0.0070\n",
      "Epoch 99/100\n",
      "4/4 [==============================] - 0s 17ms/step - loss: 0.0084\n",
      "Epoch 100/100\n",
      "4/4 [==============================] - 0s 18ms/step - loss: 0.0078\n"
     ]
    }
   ],
   "source": [
    "history = regressor.fit(X_train, y_train, epochs = pepochs3, batch_size = pbatch2)"
   ]
  },
  {
   "cell_type": "markdown",
   "metadata": {
    "id": "gwpyImwA3yon"
   },
   "source": [
    "## Parte 3 - Fazer as previsões e analisar os resultados"
   ]
  },
  {
   "cell_type": "markdown",
   "metadata": {
    "id": "wkXRvDjT4V-B"
   },
   "source": [
    "### Base de teste"
   ]
  },
  {
   "cell_type": "code",
   "execution_count": 191,
   "metadata": {
    "id": "Bn_n72dh30K-"
   },
   "outputs": [],
   "source": [
    "dataset_test = test_set\n",
    "PETR4_data_train = pd.DataFrame(PETR4_data_train)\n",
    "PETR4_data_test = pd.DataFrame(PETR4_data_test)"
   ]
  },
  {
   "cell_type": "markdown",
   "metadata": {
    "id": "EOo84exH4bfs"
   },
   "source": [
    "### Construir a estrutura para teste"
   ]
  },
  {
   "cell_type": "code",
   "execution_count": 192,
   "metadata": {
    "id": "ob_-mGA_B5px"
   },
   "outputs": [],
   "source": [
    "dataset_total = pd.concat((PETR4_data_train.iloc[:,1], PETR4_data_test.iloc[:,1]), axis = 0)\n",
    "testLength = len(dataset_test)\n",
    "inputs = dataset_total[len(dataset_total) - testLength - window:].values\n",
    "inputs = inputs.reshape(inputs.shape[0],1)\n",
    "\n",
    "inputs = sc.transform(inputs)\n",
    "X_test = []\n",
    "for i in range(window, inputs.shape[0]): \n",
    "    X_test.append(inputs[i-window:i, 0])\n",
    "X_test = np.array(X_test)\n",
    "\n",
    "X_test = np.reshape(X_test, (X_test.shape[0], X_test.shape[1], 1))"
   ]
  },
  {
   "cell_type": "markdown",
   "metadata": {
    "id": "rtkB4NA74e1B"
   },
   "source": [
    "### Fazer as previsões"
   ]
  },
  {
   "cell_type": "code",
   "execution_count": 193,
   "metadata": {
    "id": "nKIq1h-E4g9Z"
   },
   "outputs": [],
   "source": [
    "predicted_PETR4 = regressor.predict(X_test)\n",
    "predicted_PETR4 = sc.inverse_transform(predicted_PETR4)"
   ]
  },
  {
   "cell_type": "markdown",
   "metadata": {
    "id": "guvk7yXr4o0g"
   },
   "source": [
    "### Visualizar os resultados de treino e teste"
   ]
  },
  {
   "cell_type": "code",
   "execution_count": 194,
   "metadata": {
    "id": "tstXl2oS4rIo",
    "scrolled": true
   },
   "outputs": [
    {
     "data": {
      "image/png": "[encoded data removed]",
      "text/plain": [
       "<Figure size 432x288 with 1 Axes>"
      ]
     },
     "metadata": {
      "needs_background": "light"
     },
     "output_type": "display_data"
    }
   ],
   "source": [
    "allTargetData = np.vstack((training_set, dataset_test))\n",
    "training_predicted_PETR4 = regressor.predict(X_train)\n",
    "training_predicted_PETR4 = sc.inverse_transform(training_predicted_PETR4)\n",
    "allForecastedData = np.vstack((training_set[0:window], training_predicted_PETR4, predicted_PETR4))\n",
    "plt.plot(allTargetData, color = 'red', label = 'Real')\n",
    "plt.plot(allForecastedData, color = 'blue', label = 'Previsto')\n",
    "plt.title('Previsão de série temporal')\n",
    "plt.xlabel('Tempo')\n",
    "plt.ylabel('Cotação (R$)')\n",
    "plt.legend()\n",
    "plt.savefig('predictions_training_test_25_50_32.svg')\n",
    "plt.show()"
   ]
  },
  {
   "cell_type": "markdown",
   "metadata": {
    "id": "ytEVhQht4we3"
   },
   "source": [
    "## Parte 4 - Métricas de avaliação"
   ]
  },
  {
   "cell_type": "code",
   "execution_count": 195,
   "metadata": {
    "id": "rqOonVj64ydu",
    "scrolled": true
   },
   "outputs": [
    {
     "name": "stdout",
     "output_type": "stream",
     "text": [
      "RMSE: 1.2033854764771006\n"
     ]
    }
   ],
   "source": [
    "import math\n",
    "from sklearn.metrics import mean_squared_error\n",
    "rmse = math.sqrt(mean_squared_error(dataset_test, predicted_PETR4))\n",
    "print('RMSE:', rmse)"
   ]
  },
  {
   "cell_type": "code",
   "execution_count": 196,
   "metadata": {
    "id": "ODeley1K42WW"
   },
   "outputs": [
    {
     "name": "stdout",
     "output_type": "stream",
     "text": [
      "MSE: 1.4481366049960183\n"
     ]
    }
   ],
   "source": [
    "mse = mean_squared_error(dataset_test, predicted_PETR4)\n",
    "print('MSE:',mse)"
   ]
  },
  {
   "cell_type": "code",
   "execution_count": 197,
   "metadata": {
    "id": "L7_uU_8T44QA"
   },
   "outputs": [
    {
     "name": "stdout",
     "output_type": "stream",
     "text": [
      "MAPE: 3.552292690753358 %\n"
     ]
    }
   ],
   "source": [
    "mape = np.mean(np.abs((dataset_test-predicted_PETR4) /dataset_test)) * 100\n",
    "print('MAPE:',mape.iloc[0], '%')"
   ]
  },
  {
   "cell_type": "code",
   "execution_count": 198,
   "metadata": {
    "id": "LnCgdBS0vGCz"
   },
   "outputs": [
    {
     "name": "stdout",
     "output_type": "stream",
     "text": [
      "R2: 0.9410705903893979\n"
     ]
    }
   ],
   "source": [
    "from sklearn.metrics import r2_score\n",
    "r2 = r2_score(dataset_test,predicted_PETR4)\n",
    "print('R2:', r2)"
   ]
  },
  {
   "cell_type": "code",
   "execution_count": 199,
   "metadata": {},
   "outputs": [
    {
     "name": "stdout",
     "output_type": "stream",
     "text": [
      "R2Adj: 0.9409517810958281\n"
     ]
    }
   ],
   "source": [
    "adj_r2 = (1 - (1 - r2) * ((predicted_PETR4.shape[0] - 1) / \n",
    "          (predicted_PETR4.shape[0] - predicted_PETR4.shape[1] - 1)))\n",
    "print('R2Adj:',adj_r2)"
   ]
  },
  {
   "cell_type": "code",
   "execution_count": 200,
   "metadata": {},
   "outputs": [],
   "source": [
    "# results = np.array([units1,units2,units3,rmse,mse,mape.iloc[0],r2,adj_r2]) "
   ]
  },
  {
   "cell_type": "code",
   "execution_count": 201,
   "metadata": {},
   "outputs": [],
   "source": [
    "data = pd.array([units1,units2,units3,rmse,mse,mape.iloc[0],r2,adj_r2])"
   ]
  },
  {
   "cell_type": "code",
   "execution_count": 202,
   "metadata": {},
   "outputs": [],
   "source": [
    "results = np.column_stack((results, data))"
   ]
  },
  {
   "cell_type": "code",
   "execution_count": 203,
   "metadata": {
    "scrolled": true
   },
   "outputs": [
    {
     "name": "stdout",
     "output_type": "stream",
     "text": [
      "[[ 50.          50.          50.          50.          50.\n",
      "   50.          50.          50.          50.        ]\n",
      " [ 60.          60.          60.          80.          80.\n",
      "   80.         100.         100.         100.        ]\n",
      " [ 30.          50.          70.          30.          50.\n",
      "   70.          30.          50.          70.        ]\n",
      " [  1.9064291    2.18685944   2.510694     2.28369422   1.46212484\n",
      "    2.36646655   1.98960462   2.20597159   1.20338548]\n",
      " [  3.63447192   4.78235419   6.30358437   5.2152593    2.13780905\n",
      "    5.60016395   3.95852655   4.86631064   1.4481366 ]\n",
      " [  5.86744474   6.98682674   8.22642649   6.95480879   4.32661015\n",
      "    7.65246645   6.33045414   6.85554608   3.55229269]\n",
      " [  0.85210146   0.80539038   0.74348656   0.78777406   0.91300557\n",
      "    0.77211103   0.83891462   0.80197392   0.94107059]\n",
      " [  0.85180328   0.80499803   0.74296939   0.78734619   0.91283017\n",
      "    0.77165158   0.83858985   0.80157468   0.94095178]]\n"
     ]
    }
   ],
   "source": [
    "print(results)"
   ]
  },
  {
   "cell_type": "code",
   "execution_count": 204,
   "metadata": {},
   "outputs": [],
   "source": [
    "my_df = pd.DataFrame(results)"
   ]
  },
  {
   "cell_type": "code",
   "execution_count": 205,
   "metadata": {},
   "outputs": [],
   "source": [
    "my_df.to_csv('results_LSTM6.csv', index=False)"
   ]
  }
 ],
 "metadata": {
  "accelerator": "TPU",
  "colab": {
   "collapsed_sections": [],
   "name": "RedesRecorrentesAirPassengers.ipynb",
   "provenance": []
  },
  "kernelspec": {
   "display_name": "Python 3",
   "language": "python",
   "name": "python3"
  },
  "language_info": {
   "codemirror_mode": {
    "name": "ipython",
    "version": 3
   },
   "file_extension": ".py",
   "mimetype": "text/x-python",
   "name": "python",
   "nbconvert_exporter": "python",
   "pygments_lexer": "ipython3",
   "version": "3.8.5"
  }
 },
 "nbformat": 4,
 "nbformat_minor": 1
}
