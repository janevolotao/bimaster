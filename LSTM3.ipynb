{
 "cells": [
  {
   "cell_type": "markdown",
   "metadata": {
    "id": "bgc8yb4c2W0g"
   },
   "source": [
    "# Recurrent Neural Network - LSTM\n"
   ]
  },
  {
   "cell_type": "markdown",
   "metadata": {
    "id": "aew2N81e35Uc"
   },
   "source": [
    "## Parte 1 - Preprocessamento de Dados"
   ]
  },
  {
   "cell_type": "markdown",
   "metadata": {
    "id": "Z0vulSxH2hHu"
   },
   "source": [
    "### Importar as bibliotecas"
   ]
  },
  {
   "cell_type": "code",
   "execution_count": 1,
   "metadata": {
    "id": "p2SjiqlE2O08"
   },
   "outputs": [],
   "source": [
    "import numpy as np\n",
    "np.random.seed(0)\n",
    "import matplotlib.pyplot as plt\n",
    "import pandas as pd\n",
    "import os"
   ]
  },
  {
   "cell_type": "markdown",
   "metadata": {
    "id": "36Q16Udt2l3W"
   },
   "source": [
    "### Importar a base de dados"
   ]
  },
  {
   "cell_type": "code",
   "execution_count": 2,
   "metadata": {},
   "outputs": [],
   "source": [
    "# Foi utilizada a base de dados de cotação de ações da Petrobras (PETR4)\n",
    "# O período analisado vai de 23/05/2020 a 23/05/2023\n",
    "# A série temporal foi dividida em treino (30%) e teste (70%)"
   ]
  },
  {
   "cell_type": "code",
   "execution_count": 3,
   "metadata": {},
   "outputs": [],
   "source": [
    "PETR4_data = pd.read_csv('PETR4.csv')"
   ]
  },
  {
   "cell_type": "code",
   "execution_count": 4,
   "metadata": {},
   "outputs": [],
   "source": [
    "PETR4_data_train = PETR4_data.iloc[1:249, 0:2].values"
   ]
  },
  {
   "cell_type": "code",
   "execution_count": 5,
   "metadata": {},
   "outputs": [],
   "source": [
    "PETR4_data_test= PETR4_data.iloc[249:747, 0:2].values"
   ]
  },
  {
   "cell_type": "code",
   "execution_count": 6,
   "metadata": {},
   "outputs": [],
   "source": [
    "training_set = PETR4_data.iloc[0:249, 1:2].values"
   ]
  },
  {
   "cell_type": "code",
   "execution_count": 7,
   "metadata": {
    "id": "1ivhnWxD2eEG"
   },
   "outputs": [],
   "source": [
    "test_set = PETR4_data.iloc[249:747,1:2]"
   ]
  },
  {
   "cell_type": "markdown",
   "metadata": {},
   "source": [
    "### Parâmetros para esta análise"
   ]
  },
  {
   "cell_type": "code",
   "execution_count": 8,
   "metadata": {},
   "outputs": [],
   "source": [
    "pwindow = 50\n",
    "pepochs1 = 25\n",
    "pepochs2 = 50\n",
    "pepochs3 = 100\n",
    "pbatch1 = 32\n",
    "pbatch2 = 64\n",
    "pbatch3 = 128"
   ]
  },
  {
   "cell_type": "markdown",
   "metadata": {
    "id": "7p1F7HdB2uJU"
   },
   "source": [
    "### Normalização"
   ]
  },
  {
   "cell_type": "code",
   "execution_count": 9,
   "metadata": {
    "id": "foeHRZr-2u-L"
   },
   "outputs": [],
   "source": [
    "from sklearn.preprocessing import MinMaxScaler\n",
    "sc = MinMaxScaler(feature_range = (0, 1))\n",
    "training_set_scaled = sc.fit_transform(training_set)"
   ]
  },
  {
   "cell_type": "markdown",
   "metadata": {
    "id": "uQP8Q7MI21Y9"
   },
   "source": [
    "### Criar a estrutura de dados com janela 10 e output 1"
   ]
  },
  {
   "cell_type": "code",
   "execution_count": 10,
   "metadata": {
    "id": "C6Ge9ql922cb"
   },
   "outputs": [],
   "source": [
    "window = pwindow\n",
    "trainSize = len(training_set_scaled)\n",
    "X_train = []\n",
    "y_train = []\n",
    "for i in range(window, trainSize):\n",
    "    X_train.append(training_set_scaled[i-window:i, 0])\n",
    "    y_train.append(training_set_scaled[i, 0])\n",
    "X_train, y_train = np.array(X_train), np.array(y_train)"
   ]
  },
  {
   "cell_type": "markdown",
   "metadata": {
    "id": "LPBC2LoG24dU"
   },
   "source": [
    "### Reshaping"
   ]
  },
  {
   "cell_type": "code",
   "execution_count": 11,
   "metadata": {
    "id": "oGwgQUDbdmnS"
   },
   "outputs": [
    {
     "data": {
      "text/plain": [
       "(199, 50)"
      ]
     },
     "execution_count": 11,
     "metadata": {},
     "output_type": "execute_result"
    }
   ],
   "source": [
    "X_train.shape"
   ]
  },
  {
   "cell_type": "markdown",
   "metadata": {
    "id": "AEVcR-Uju5TX"
   },
   "source": [
    "Shape de input da lstm = (batch_size, timesteps, features)"
   ]
  },
  {
   "cell_type": "code",
   "execution_count": 12,
   "metadata": {
    "id": "b9ZfLlGH25fr"
   },
   "outputs": [],
   "source": [
    "X_train = np.reshape(X_train, (X_train.shape[0], X_train.shape[1], 1))"
   ]
  },
  {
   "cell_type": "code",
   "execution_count": 13,
   "metadata": {
    "id": "RxU0axM9diHO"
   },
   "outputs": [
    {
     "data": {
      "text/plain": [
       "(199, 50, 1)"
      ]
     },
     "execution_count": 13,
     "metadata": {},
     "output_type": "execute_result"
    }
   ],
   "source": [
    "X_train.shape"
   ]
  },
  {
   "cell_type": "markdown",
   "metadata": {
    "id": "fZhjp7Tf282b"
   },
   "source": [
    "## Parte 2 - Construção da RNN"
   ]
  },
  {
   "cell_type": "markdown",
   "metadata": {
    "id": "RDkAxmMl3EXr"
   },
   "source": [
    "### Bibliotecas necessárias"
   ]
  },
  {
   "cell_type": "code",
   "execution_count": 14,
   "metadata": {
    "id": "Ifhh9yUo3DpT"
   },
   "outputs": [],
   "source": [
    "from keras.models import Sequential\n",
    "from keras.layers import Dense\n",
    "from keras.layers import LSTM\n",
    "from keras.layers import Dropout"
   ]
  },
  {
   "cell_type": "markdown",
   "metadata": {
    "id": "kordpD0_3H7b"
   },
   "source": [
    "### Construção da Rede completa"
   ]
  },
  {
   "cell_type": "code",
   "execution_count": 15,
   "metadata": {
    "scrolled": true
   },
   "outputs": [
    {
     "name": "stdout",
     "output_type": "stream",
     "text": [
      "Model: \"sequential\"\n",
      "_________________________________________________________________\n",
      "Layer (type)                 Output Shape              Param #   \n",
      "=================================================================\n",
      "lstm (LSTM)                  (None, 50, 100)           40800     \n",
      "_________________________________________________________________\n",
      "dropout (Dropout)            (None, 50, 100)           0         \n",
      "_________________________________________________________________\n",
      "lstm_1 (LSTM)                (None, 50, 80)            57920     \n",
      "_________________________________________________________________\n",
      "dropout_1 (Dropout)          (None, 50, 80)            0         \n",
      "_________________________________________________________________\n",
      "lstm_2 (LSTM)                (None, 50)                26200     \n",
      "_________________________________________________________________\n",
      "dropout_2 (Dropout)          (None, 50)                0         \n",
      "_________________________________________________________________\n",
      "dense (Dense)                (None, 1)                 51        \n",
      "=================================================================\n",
      "Total params: 124,971\n",
      "Trainable params: 124,971\n",
      "Non-trainable params: 0\n",
      "_________________________________________________________________\n"
     ]
    }
   ],
   "source": [
    "# Inicializar a RNN\n",
    "regressor = Sequential()\n",
    "\n",
    "# Adicionar a primeira camada LSTM e Dropout \n",
    "regressor.add(LSTM(units = 100, return_sequences = True, input_shape = (X_train.shape[1], 1)))\n",
    "regressor.add(Dropout(0.2))\n",
    " \n",
    "# Adicionar a segunda camada LSTM e Dropout\n",
    "regressor.add(LSTM(units = 80, return_sequences = True))\n",
    "regressor.add(Dropout(0.2))\n",
    " \n",
    "# Adicionar a terceira camada LSTM e Dropout\n",
    "regressor.add(LSTM(units = 50))\n",
    "regressor.add(Dropout(0.2))\n",
    " \n",
    "# camada de saída\n",
    "regressor.add(Dense(units = 1))\n",
    " \n",
    "# Compilar a rede\n",
    "regressor.compile(optimizer = 'adam', loss = 'mean_squared_error')\n",
    "\n",
    "# Visualizar a rede\n",
    "regressor.summary()  "
   ]
  },
  {
   "cell_type": "markdown",
   "metadata": {
    "id": "5j1w28g83iSR"
   },
   "source": [
    "### Treinamento"
   ]
  },
  {
   "cell_type": "code",
   "execution_count": 16,
   "metadata": {
    "scrolled": true
   },
   "outputs": [
    {
     "name": "stdout",
     "output_type": "stream",
     "text": [
      "Epoch 1/25\n",
      "7/7 [==============================] - 0s 47ms/step - loss: 0.0345\n",
      "Epoch 2/25\n",
      "7/7 [==============================] - 0s 39ms/step - loss: 0.0140\n",
      "Epoch 3/25\n",
      "7/7 [==============================] - 0s 40ms/step - loss: 0.0105\n",
      "Epoch 4/25\n",
      "7/7 [==============================] - 0s 43ms/step - loss: 0.0077\n",
      "Epoch 5/25\n",
      "7/7 [==============================] - 0s 43ms/step - loss: 0.0067\n",
      "Epoch 6/25\n",
      "7/7 [==============================] - 0s 44ms/step - loss: 0.0060\n",
      "Epoch 7/25\n",
      "7/7 [==============================] - 0s 44ms/step - loss: 0.0061\n",
      "Epoch 8/25\n",
      "7/7 [==============================] - 0s 44ms/step - loss: 0.0062\n",
      "Epoch 9/25\n",
      "7/7 [==============================] - 0s 44ms/step - loss: 0.0057\n",
      "Epoch 10/25\n",
      "7/7 [==============================] - 0s 44ms/step - loss: 0.0058\n",
      "Epoch 11/25\n",
      "7/7 [==============================] - 0s 45ms/step - loss: 0.0056\n",
      "Epoch 12/25\n",
      "7/7 [==============================] - 0s 44ms/step - loss: 0.0052\n",
      "Epoch 13/25\n",
      "7/7 [==============================] - 0s 44ms/step - loss: 0.0054\n",
      "Epoch 14/25\n",
      "7/7 [==============================] - 0s 43ms/step - loss: 0.0054\n",
      "Epoch 15/25\n",
      "7/7 [==============================] - 0s 44ms/step - loss: 0.0051\n",
      "Epoch 16/25\n",
      "7/7 [==============================] - 0s 44ms/step - loss: 0.0048\n",
      "Epoch 17/25\n",
      "7/7 [==============================] - 0s 44ms/step - loss: 0.0049\n",
      "Epoch 18/25\n",
      "7/7 [==============================] - 0s 43ms/step - loss: 0.0049\n",
      "Epoch 19/25\n",
      "7/7 [==============================] - 0s 44ms/step - loss: 0.0045\n",
      "Epoch 20/25\n",
      "7/7 [==============================] - 0s 44ms/step - loss: 0.0053\n",
      "Epoch 21/25\n",
      "7/7 [==============================] - 0s 44ms/step - loss: 0.0045\n",
      "Epoch 22/25\n",
      "7/7 [==============================] - 0s 44ms/step - loss: 0.0045\n",
      "Epoch 23/25\n",
      "7/7 [==============================] - 0s 45ms/step - loss: 0.0050\n",
      "Epoch 24/25\n",
      "7/7 [==============================] - 0s 44ms/step - loss: 0.0047\n",
      "Epoch 25/25\n",
      "7/7 [==============================] - 0s 43ms/step - loss: 0.0037\n"
     ]
    }
   ],
   "source": [
    "history = regressor.fit(X_train, y_train, epochs = pepochs1, batch_size = pbatch1)"
   ]
  },
  {
   "cell_type": "markdown",
   "metadata": {
    "id": "gwpyImwA3yon"
   },
   "source": [
    "## Parte 3 - Fazer as previsões e analisar os resultados"
   ]
  },
  {
   "cell_type": "markdown",
   "metadata": {
    "id": "wkXRvDjT4V-B"
   },
   "source": [
    "### Base de teste"
   ]
  },
  {
   "cell_type": "code",
   "execution_count": 17,
   "metadata": {
    "id": "Bn_n72dh30K-"
   },
   "outputs": [],
   "source": [
    "dataset_test = test_set\n",
    "PETR4_data_train = pd.DataFrame(PETR4_data_train)\n",
    "PETR4_data_test = pd.DataFrame(PETR4_data_test)"
   ]
  },
  {
   "cell_type": "markdown",
   "metadata": {
    "id": "EOo84exH4bfs"
   },
   "source": [
    "### Construir a estrutura para teste"
   ]
  },
  {
   "cell_type": "code",
   "execution_count": 18,
   "metadata": {
    "id": "ob_-mGA_B5px"
   },
   "outputs": [],
   "source": [
    "dataset_total = pd.concat((PETR4_data_train.iloc[:,1], PETR4_data_test.iloc[:,1]), axis = 0)\n",
    "testLength = len(dataset_test)\n",
    "inputs = dataset_total[len(dataset_total) - testLength - window:].values\n",
    "inputs = inputs.reshape(inputs.shape[0],1)\n",
    "\n",
    "inputs = sc.transform(inputs)\n",
    "X_test = []\n",
    "for i in range(window, inputs.shape[0]): \n",
    "    X_test.append(inputs[i-window:i, 0])\n",
    "X_test = np.array(X_test)\n",
    "\n",
    "X_test = np.reshape(X_test, (X_test.shape[0], X_test.shape[1], 1))"
   ]
  },
  {
   "cell_type": "markdown",
   "metadata": {
    "id": "rtkB4NA74e1B"
   },
   "source": [
    "### Fazer as previsões"
   ]
  },
  {
   "cell_type": "code",
   "execution_count": 19,
   "metadata": {
    "id": "nKIq1h-E4g9Z"
   },
   "outputs": [],
   "source": [
    "predicted_PETR4 = regressor.predict(X_test)\n",
    "predicted_PETR4 = sc.inverse_transform(predicted_PETR4)"
   ]
  },
  {
   "cell_type": "markdown",
   "metadata": {
    "id": "guvk7yXr4o0g"
   },
   "source": [
    "### Visualizar os resultados de treino e teste"
   ]
  },
  {
   "cell_type": "code",
   "execution_count": 20,
   "metadata": {
    "id": "tstXl2oS4rIo",
    "scrolled": true
   },
   "outputs": [
    {
     "data": {
      "image/png": "[encoded data removed]",
      "text/plain": [
       "<Figure size 432x288 with 1 Axes>"
      ]
     },
     "metadata": {
      "needs_background": "light"
     },
     "output_type": "display_data"
    }
   ],
   "source": [
    "allTargetData = np.vstack((training_set, dataset_test))\n",
    "training_predicted_PETR4 = regressor.predict(X_train)\n",
    "training_predicted_PETR4 = sc.inverse_transform(training_predicted_PETR4)\n",
    "allForecastedData = np.vstack((training_set[0:window], training_predicted_PETR4, predicted_PETR4))\n",
    "plt.plot(allTargetData, color = 'red', label = 'Real')\n",
    "plt.plot(allForecastedData, color = 'blue', label = 'Previsto')\n",
    "plt.title('Previsão de série temporal')\n",
    "plt.xlabel('Tempo')\n",
    "plt.ylabel('Cotação (R$)')\n",
    "plt.legend()\n",
    "plt.savefig('predictions_training_test_25_50_32.svg')\n",
    "plt.show()"
   ]
  },
  {
   "cell_type": "markdown",
   "metadata": {
    "id": "ytEVhQht4we3"
   },
   "source": [
    "## Parte 4 - Métricas de avaliação"
   ]
  },
  {
   "cell_type": "code",
   "execution_count": 21,
   "metadata": {
    "id": "rqOonVj64ydu",
    "scrolled": true
   },
   "outputs": [
    {
     "name": "stdout",
     "output_type": "stream",
     "text": [
      "RMSE: 2.774031516635684\n"
     ]
    }
   ],
   "source": [
    "import math\n",
    "from sklearn.metrics import mean_squared_error\n",
    "rmse = math.sqrt(mean_squared_error(dataset_test, predicted_PETR4))\n",
    "print('RMSE:', rmse)"
   ]
  },
  {
   "cell_type": "code",
   "execution_count": 22,
   "metadata": {
    "id": "ODeley1K42WW"
   },
   "outputs": [
    {
     "name": "stdout",
     "output_type": "stream",
     "text": [
      "MSE: 7.695250855288073\n"
     ]
    }
   ],
   "source": [
    "mse = mean_squared_error(dataset_test, predicted_PETR4)\n",
    "print('MSE:',mse)"
   ]
  },
  {
   "cell_type": "code",
   "execution_count": 23,
   "metadata": {
    "id": "L7_uU_8T44QA"
   },
   "outputs": [
    {
     "name": "stdout",
     "output_type": "stream",
     "text": [
      "MAPE: 8.839908010561569 %\n"
     ]
    }
   ],
   "source": [
    "mape = np.mean(np.abs((dataset_test-predicted_PETR4) /dataset_test)) * 100\n",
    "print('MAPE:',mape.iloc[0], '%')"
   ]
  },
  {
   "cell_type": "code",
   "execution_count": 24,
   "metadata": {
    "id": "LnCgdBS0vGCz"
   },
   "outputs": [
    {
     "name": "stdout",
     "output_type": "stream",
     "text": [
      "R2: 0.6868551018300832\n"
     ]
    }
   ],
   "source": [
    "from sklearn.metrics import r2_score\n",
    "r2 = r2_score(dataset_test,predicted_PETR4)\n",
    "print('R2:', r2)"
   ]
  },
  {
   "cell_type": "code",
   "execution_count": 25,
   "metadata": {},
   "outputs": [
    {
     "name": "stdout",
     "output_type": "stream",
     "text": [
      "R2Adj: 0.6862237613095794\n"
     ]
    }
   ],
   "source": [
    "adj_r2 = (1 - (1 - r2) * ((predicted_PETR4.shape[0] - 1) / \n",
    "          (predicted_PETR4.shape[0] - predicted_PETR4.shape[1] - 1)))\n",
    "print('R2Adj:',adj_r2)"
   ]
  },
  {
   "cell_type": "code",
   "execution_count": 26,
   "metadata": {},
   "outputs": [],
   "source": [
    "results = np.array([pwindow,pepochs1,pbatch1,rmse,mse,mape.iloc[0],r2,adj_r2]) "
   ]
  },
  {
   "cell_type": "code",
   "execution_count": 27,
   "metadata": {},
   "outputs": [],
   "source": [
    "# data = pd.array([pwindow,pepochs1,pbatch1,rmse,mse,mape.iloc[0],r2,adj_r2])"
   ]
  },
  {
   "cell_type": "code",
   "execution_count": 28,
   "metadata": {},
   "outputs": [],
   "source": [
    "# results = np.column_stack((results, data))"
   ]
  },
  {
   "cell_type": "code",
   "execution_count": 29,
   "metadata": {
    "scrolled": true
   },
   "outputs": [
    {
     "name": "stdout",
     "output_type": "stream",
     "text": [
      "[50.         25.         32.          2.77403152  7.69525086  8.83990801\n",
      "  0.6868551   0.68622376]\n"
     ]
    }
   ],
   "source": [
    "print(results)"
   ]
  },
  {
   "cell_type": "markdown",
   "metadata": {},
   "source": [
    "### Parâmetros para esta análise"
   ]
  },
  {
   "cell_type": "code",
   "execution_count": 30,
   "metadata": {},
   "outputs": [],
   "source": [
    "pwindow = 50\n",
    "pepochs1 = 25\n",
    "pepochs2 = 50\n",
    "pepochs3 = 100\n",
    "pbatch1 = 32\n",
    "pbatch2 = 64\n",
    "pbatch3 = 128"
   ]
  },
  {
   "cell_type": "markdown",
   "metadata": {
    "id": "7p1F7HdB2uJU"
   },
   "source": [
    "### Normalização"
   ]
  },
  {
   "cell_type": "code",
   "execution_count": 31,
   "metadata": {
    "id": "foeHRZr-2u-L"
   },
   "outputs": [],
   "source": [
    "from sklearn.preprocessing import MinMaxScaler\n",
    "sc = MinMaxScaler(feature_range = (0, 1))\n",
    "training_set_scaled = sc.fit_transform(training_set)"
   ]
  },
  {
   "cell_type": "markdown",
   "metadata": {
    "id": "uQP8Q7MI21Y9"
   },
   "source": [
    "### Criar a estrutura de dados com janela 10 e output 1"
   ]
  },
  {
   "cell_type": "code",
   "execution_count": 32,
   "metadata": {
    "id": "C6Ge9ql922cb"
   },
   "outputs": [],
   "source": [
    "window = pwindow\n",
    "trainSize = len(training_set_scaled)\n",
    "X_train = []\n",
    "y_train = []\n",
    "for i in range(window, trainSize):\n",
    "    X_train.append(training_set_scaled[i-window:i, 0])\n",
    "    y_train.append(training_set_scaled[i, 0])\n",
    "X_train, y_train = np.array(X_train), np.array(y_train)"
   ]
  },
  {
   "cell_type": "markdown",
   "metadata": {
    "id": "LPBC2LoG24dU"
   },
   "source": [
    "### Reshaping"
   ]
  },
  {
   "cell_type": "code",
   "execution_count": 33,
   "metadata": {
    "id": "oGwgQUDbdmnS"
   },
   "outputs": [
    {
     "data": {
      "text/plain": [
       "(199, 50)"
      ]
     },
     "execution_count": 33,
     "metadata": {},
     "output_type": "execute_result"
    }
   ],
   "source": [
    "X_train.shape"
   ]
  },
  {
   "cell_type": "markdown",
   "metadata": {
    "id": "AEVcR-Uju5TX"
   },
   "source": [
    "Shape de input da lstm = (batch_size, timesteps, features)"
   ]
  },
  {
   "cell_type": "code",
   "execution_count": 34,
   "metadata": {
    "id": "b9ZfLlGH25fr"
   },
   "outputs": [],
   "source": [
    "X_train = np.reshape(X_train, (X_train.shape[0], X_train.shape[1], 1))"
   ]
  },
  {
   "cell_type": "code",
   "execution_count": 35,
   "metadata": {
    "id": "RxU0axM9diHO"
   },
   "outputs": [
    {
     "data": {
      "text/plain": [
       "(199, 50, 1)"
      ]
     },
     "execution_count": 35,
     "metadata": {},
     "output_type": "execute_result"
    }
   ],
   "source": [
    "X_train.shape"
   ]
  },
  {
   "cell_type": "markdown",
   "metadata": {
    "id": "fZhjp7Tf282b"
   },
   "source": [
    "## Parte 2 - Construção da RNN"
   ]
  },
  {
   "cell_type": "markdown",
   "metadata": {
    "id": "RDkAxmMl3EXr"
   },
   "source": [
    "### Bibliotecas necessárias"
   ]
  },
  {
   "cell_type": "code",
   "execution_count": 36,
   "metadata": {
    "id": "Ifhh9yUo3DpT"
   },
   "outputs": [],
   "source": [
    "from keras.models import Sequential\n",
    "from keras.layers import Dense\n",
    "from keras.layers import LSTM\n",
    "from keras.layers import Dropout"
   ]
  },
  {
   "cell_type": "markdown",
   "metadata": {
    "id": "kordpD0_3H7b"
   },
   "source": [
    "### Construção da Rede completa"
   ]
  },
  {
   "cell_type": "code",
   "execution_count": 37,
   "metadata": {
    "scrolled": true
   },
   "outputs": [
    {
     "name": "stdout",
     "output_type": "stream",
     "text": [
      "Model: \"sequential_1\"\n",
      "_________________________________________________________________\n",
      "Layer (type)                 Output Shape              Param #   \n",
      "=================================================================\n",
      "lstm_3 (LSTM)                (None, 50, 100)           40800     \n",
      "_________________________________________________________________\n",
      "dropout_3 (Dropout)          (None, 50, 100)           0         \n",
      "_________________________________________________________________\n",
      "lstm_4 (LSTM)                (None, 50, 80)            57920     \n",
      "_________________________________________________________________\n",
      "dropout_4 (Dropout)          (None, 50, 80)            0         \n",
      "_________________________________________________________________\n",
      "lstm_5 (LSTM)                (None, 50)                26200     \n",
      "_________________________________________________________________\n",
      "dropout_5 (Dropout)          (None, 50)                0         \n",
      "_________________________________________________________________\n",
      "dense_1 (Dense)              (None, 1)                 51        \n",
      "=================================================================\n",
      "Total params: 124,971\n",
      "Trainable params: 124,971\n",
      "Non-trainable params: 0\n",
      "_________________________________________________________________\n"
     ]
    }
   ],
   "source": [
    "# Inicializar a RNN\n",
    "regressor = Sequential()\n",
    "\n",
    "# Adicionar a primeira camada LSTM e Dropout \n",
    "regressor.add(LSTM(units = 100, return_sequences = True, input_shape = (X_train.shape[1], 1)))\n",
    "regressor.add(Dropout(0.2))\n",
    " \n",
    "# Adicionar a segunda camada LSTM e Dropout\n",
    "regressor.add(LSTM(units = 80, return_sequences = True))\n",
    "regressor.add(Dropout(0.2))\n",
    " \n",
    "# Adicionar a terceira camada LSTM e Dropout\n",
    "regressor.add(LSTM(units = 50))\n",
    "regressor.add(Dropout(0.2))\n",
    " \n",
    "# camada de saída\n",
    "regressor.add(Dense(units = 1))\n",
    " \n",
    "# Compilar a rede\n",
    "regressor.compile(optimizer = 'adam', loss = 'mean_squared_error')\n",
    "\n",
    "# Visualizar a rede\n",
    "regressor.summary()  "
   ]
  },
  {
   "cell_type": "markdown",
   "metadata": {
    "id": "5j1w28g83iSR"
   },
   "source": [
    "### Treinamento"
   ]
  },
  {
   "cell_type": "code",
   "execution_count": 38,
   "metadata": {
    "scrolled": true
   },
   "outputs": [
    {
     "name": "stdout",
     "output_type": "stream",
     "text": [
      "Epoch 1/25\n",
      "4/4 [==============================] - 0s 56ms/step - loss: 0.0473\n",
      "Epoch 2/25\n",
      "4/4 [==============================] - 0s 51ms/step - loss: 0.0172\n",
      "Epoch 3/25\n",
      "4/4 [==============================] - 0s 50ms/step - loss: 0.0122\n",
      "Epoch 4/25\n",
      "4/4 [==============================] - 0s 49ms/step - loss: 0.0081\n",
      "Epoch 5/25\n",
      "4/4 [==============================] - 0s 49ms/step - loss: 0.0086\n",
      "Epoch 6/25\n",
      "4/4 [==============================] - 0s 49ms/step - loss: 0.0071\n",
      "Epoch 7/25\n",
      "4/4 [==============================] - 0s 46ms/step - loss: 0.0071\n",
      "Epoch 8/25\n",
      "4/4 [==============================] - 0s 46ms/step - loss: 0.0063\n",
      "Epoch 9/25\n",
      "4/4 [==============================] - 0s 48ms/step - loss: 0.0062\n",
      "Epoch 10/25\n",
      "4/4 [==============================] - 0s 46ms/step - loss: 0.0056\n",
      "Epoch 11/25\n",
      "4/4 [==============================] - 0s 48ms/step - loss: 0.0061\n",
      "Epoch 12/25\n",
      "4/4 [==============================] - 0s 50ms/step - loss: 0.0067\n",
      "Epoch 13/25\n",
      "4/4 [==============================] - 0s 51ms/step - loss: 0.0056\n",
      "Epoch 14/25\n",
      "4/4 [==============================] - 0s 50ms/step - loss: 0.0057\n",
      "Epoch 15/25\n",
      "4/4 [==============================] - 0s 44ms/step - loss: 0.0055\n",
      "Epoch 16/25\n",
      "4/4 [==============================] - 0s 46ms/step - loss: 0.0055\n",
      "Epoch 17/25\n",
      "4/4 [==============================] - 0s 47ms/step - loss: 0.0055\n",
      "Epoch 18/25\n",
      "4/4 [==============================] - 0s 49ms/step - loss: 0.0059\n",
      "Epoch 19/25\n",
      "4/4 [==============================] - 0s 50ms/step - loss: 0.0051\n",
      "Epoch 20/25\n",
      "4/4 [==============================] - 0s 49ms/step - loss: 0.0050\n",
      "Epoch 21/25\n",
      "4/4 [==============================] - 0s 51ms/step - loss: 0.0054\n",
      "Epoch 22/25\n",
      "4/4 [==============================] - 0s 52ms/step - loss: 0.0054\n",
      "Epoch 23/25\n",
      "4/4 [==============================] - 0s 52ms/step - loss: 0.0053\n",
      "Epoch 24/25\n",
      "4/4 [==============================] - 0s 51ms/step - loss: 0.0052\n",
      "Epoch 25/25\n",
      "4/4 [==============================] - 0s 51ms/step - loss: 0.0050\n"
     ]
    }
   ],
   "source": [
    "history = regressor.fit(X_train, y_train, epochs = pepochs1, batch_size = pbatch2)"
   ]
  },
  {
   "cell_type": "markdown",
   "metadata": {
    "id": "gwpyImwA3yon"
   },
   "source": [
    "## Parte 3 - Fazer as previsões e analisar os resultados"
   ]
  },
  {
   "cell_type": "markdown",
   "metadata": {
    "id": "wkXRvDjT4V-B"
   },
   "source": [
    "### Base de teste"
   ]
  },
  {
   "cell_type": "code",
   "execution_count": 39,
   "metadata": {
    "id": "Bn_n72dh30K-"
   },
   "outputs": [],
   "source": [
    "dataset_test = test_set\n",
    "PETR4_data_train = pd.DataFrame(PETR4_data_train)\n",
    "PETR4_data_test = pd.DataFrame(PETR4_data_test)"
   ]
  },
  {
   "cell_type": "markdown",
   "metadata": {
    "id": "EOo84exH4bfs"
   },
   "source": [
    "### Construir a estrutura para teste"
   ]
  },
  {
   "cell_type": "code",
   "execution_count": 40,
   "metadata": {
    "id": "ob_-mGA_B5px"
   },
   "outputs": [],
   "source": [
    "dataset_total = pd.concat((PETR4_data_train.iloc[:,1], PETR4_data_test.iloc[:,1]), axis = 0)\n",
    "testLength = len(dataset_test)\n",
    "inputs = dataset_total[len(dataset_total) - testLength - window:].values\n",
    "inputs = inputs.reshape(inputs.shape[0],1)\n",
    "\n",
    "inputs = sc.transform(inputs)\n",
    "X_test = []\n",
    "for i in range(window, inputs.shape[0]): \n",
    "    X_test.append(inputs[i-window:i, 0])\n",
    "X_test = np.array(X_test)\n",
    "\n",
    "X_test = np.reshape(X_test, (X_test.shape[0], X_test.shape[1], 1))"
   ]
  },
  {
   "cell_type": "markdown",
   "metadata": {
    "id": "rtkB4NA74e1B"
   },
   "source": [
    "### Fazer as previsões"
   ]
  },
  {
   "cell_type": "code",
   "execution_count": 41,
   "metadata": {
    "id": "nKIq1h-E4g9Z"
   },
   "outputs": [],
   "source": [
    "predicted_PETR4 = regressor.predict(X_test)\n",
    "predicted_PETR4 = sc.inverse_transform(predicted_PETR4)"
   ]
  },
  {
   "cell_type": "markdown",
   "metadata": {
    "id": "guvk7yXr4o0g"
   },
   "source": [
    "### Visualizar os resultados de treino e teste"
   ]
  },
  {
   "cell_type": "code",
   "execution_count": 42,
   "metadata": {
    "id": "tstXl2oS4rIo",
    "scrolled": true
   },
   "outputs": [
    {
     "data": {
      "image/png": "[encoded data removed]",
      "text/plain": [
       "<Figure size 432x288 with 1 Axes>"
      ]
     },
     "metadata": {
      "needs_background": "light"
     },
     "output_type": "display_data"
    }
   ],
   "source": [
    "allTargetData = np.vstack((training_set, dataset_test))\n",
    "training_predicted_PETR4 = regressor.predict(X_train)\n",
    "training_predicted_PETR4 = sc.inverse_transform(training_predicted_PETR4)\n",
    "allForecastedData = np.vstack((training_set[0:window], training_predicted_PETR4, predicted_PETR4))\n",
    "plt.plot(allTargetData, color = 'red', label = 'Real')\n",
    "plt.plot(allForecastedData, color = 'blue', label = 'Previsto')\n",
    "plt.title('Previsão de série temporal')\n",
    "plt.xlabel('Tempo')\n",
    "plt.ylabel('Cotação (R$)')\n",
    "plt.legend()\n",
    "plt.savefig('predictions_training_test_25_50_32.svg')\n",
    "plt.show()"
   ]
  },
  {
   "cell_type": "markdown",
   "metadata": {
    "id": "ytEVhQht4we3"
   },
   "source": [
    "## Parte 4 - Métricas de avaliação"
   ]
  },
  {
   "cell_type": "code",
   "execution_count": 43,
   "metadata": {
    "id": "rqOonVj64ydu",
    "scrolled": true
   },
   "outputs": [
    {
     "name": "stdout",
     "output_type": "stream",
     "text": [
      "RMSE: 2.5562037712097494\n"
     ]
    }
   ],
   "source": [
    "import math\n",
    "from sklearn.metrics import mean_squared_error\n",
    "rmse = math.sqrt(mean_squared_error(dataset_test, predicted_PETR4))\n",
    "print('RMSE:', rmse)"
   ]
  },
  {
   "cell_type": "code",
   "execution_count": 44,
   "metadata": {
    "id": "ODeley1K42WW"
   },
   "outputs": [
    {
     "name": "stdout",
     "output_type": "stream",
     "text": [
      "MSE: 6.534177719946945\n"
     ]
    }
   ],
   "source": [
    "mse = mean_squared_error(dataset_test, predicted_PETR4)\n",
    "print('MSE:',mse)"
   ]
  },
  {
   "cell_type": "code",
   "execution_count": 45,
   "metadata": {
    "id": "L7_uU_8T44QA"
   },
   "outputs": [
    {
     "name": "stdout",
     "output_type": "stream",
     "text": [
      "MAPE: 7.826413358040826 %\n"
     ]
    }
   ],
   "source": [
    "mape = np.mean(np.abs((dataset_test-predicted_PETR4) /dataset_test)) * 100\n",
    "print('MAPE:',mape.iloc[0], '%')"
   ]
  },
  {
   "cell_type": "code",
   "execution_count": 46,
   "metadata": {
    "id": "LnCgdBS0vGCz"
   },
   "outputs": [
    {
     "name": "stdout",
     "output_type": "stream",
     "text": [
      "R2: 0.7341029610060286\n"
     ]
    }
   ],
   "source": [
    "from sklearn.metrics import r2_score\n",
    "r2 = r2_score(dataset_test,predicted_PETR4)\n",
    "print('R2:', r2)"
   ]
  },
  {
   "cell_type": "code",
   "execution_count": 47,
   "metadata": {},
   "outputs": [
    {
     "name": "stdout",
     "output_type": "stream",
     "text": [
      "R2Adj: 0.7335668782661213\n"
     ]
    }
   ],
   "source": [
    "adj_r2 = (1 - (1 - r2) * ((predicted_PETR4.shape[0] - 1) / \n",
    "          (predicted_PETR4.shape[0] - predicted_PETR4.shape[1] - 1)))\n",
    "print('R2Adj:',adj_r2)"
   ]
  },
  {
   "cell_type": "code",
   "execution_count": 48,
   "metadata": {},
   "outputs": [],
   "source": [
    "# results = np.array([pwindow,pepochs1,pbatch1,rmse,mse,mape.iloc[0],r2,adj_r2]) "
   ]
  },
  {
   "cell_type": "code",
   "execution_count": 49,
   "metadata": {},
   "outputs": [],
   "source": [
    "data = pd.array([pwindow,pepochs1,pbatch2,rmse,mse,mape.iloc[0],r2,adj_r2])"
   ]
  },
  {
   "cell_type": "code",
   "execution_count": 50,
   "metadata": {},
   "outputs": [],
   "source": [
    "results = np.column_stack((results, data))"
   ]
  },
  {
   "cell_type": "code",
   "execution_count": 51,
   "metadata": {
    "scrolled": true
   },
   "outputs": [
    {
     "name": "stdout",
     "output_type": "stream",
     "text": [
      "[[50.         50.        ]\n",
      " [25.         25.        ]\n",
      " [32.         64.        ]\n",
      " [ 2.77403152  2.55620377]\n",
      " [ 7.69525086  6.53417772]\n",
      " [ 8.83990801  7.82641336]\n",
      " [ 0.6868551   0.73410296]\n",
      " [ 0.68622376  0.73356688]]\n"
     ]
    }
   ],
   "source": [
    "print(results)"
   ]
  },
  {
   "cell_type": "markdown",
   "metadata": {},
   "source": [
    "### Parâmetros para esta análise"
   ]
  },
  {
   "cell_type": "code",
   "execution_count": 52,
   "metadata": {},
   "outputs": [],
   "source": [
    "pwindow = 50\n",
    "pepochs1 = 25\n",
    "pepochs2 = 50\n",
    "pepochs3 = 100\n",
    "pbatch1 = 32\n",
    "pbatch2 = 64\n",
    "pbatch3 = 128"
   ]
  },
  {
   "cell_type": "markdown",
   "metadata": {
    "id": "7p1F7HdB2uJU"
   },
   "source": [
    "### Normalização"
   ]
  },
  {
   "cell_type": "code",
   "execution_count": 53,
   "metadata": {
    "id": "foeHRZr-2u-L"
   },
   "outputs": [],
   "source": [
    "from sklearn.preprocessing import MinMaxScaler\n",
    "sc = MinMaxScaler(feature_range = (0, 1))\n",
    "training_set_scaled = sc.fit_transform(training_set)"
   ]
  },
  {
   "cell_type": "markdown",
   "metadata": {
    "id": "uQP8Q7MI21Y9"
   },
   "source": [
    "### Criar a estrutura de dados com janela 10 e output 1"
   ]
  },
  {
   "cell_type": "code",
   "execution_count": 54,
   "metadata": {
    "id": "C6Ge9ql922cb"
   },
   "outputs": [],
   "source": [
    "window = pwindow\n",
    "trainSize = len(training_set_scaled)\n",
    "X_train = []\n",
    "y_train = []\n",
    "for i in range(window, trainSize):\n",
    "    X_train.append(training_set_scaled[i-window:i, 0])\n",
    "    y_train.append(training_set_scaled[i, 0])\n",
    "X_train, y_train = np.array(X_train), np.array(y_train)"
   ]
  },
  {
   "cell_type": "markdown",
   "metadata": {
    "id": "LPBC2LoG24dU"
   },
   "source": [
    "### Reshaping"
   ]
  },
  {
   "cell_type": "code",
   "execution_count": 55,
   "metadata": {
    "id": "oGwgQUDbdmnS"
   },
   "outputs": [
    {
     "data": {
      "text/plain": [
       "(199, 50)"
      ]
     },
     "execution_count": 55,
     "metadata": {},
     "output_type": "execute_result"
    }
   ],
   "source": [
    "X_train.shape"
   ]
  },
  {
   "cell_type": "markdown",
   "metadata": {
    "id": "AEVcR-Uju5TX"
   },
   "source": [
    "Shape de input da lstm = (batch_size, timesteps, features)"
   ]
  },
  {
   "cell_type": "code",
   "execution_count": 56,
   "metadata": {
    "id": "b9ZfLlGH25fr"
   },
   "outputs": [],
   "source": [
    "X_train = np.reshape(X_train, (X_train.shape[0], X_train.shape[1], 1))"
   ]
  },
  {
   "cell_type": "code",
   "execution_count": 57,
   "metadata": {
    "id": "RxU0axM9diHO"
   },
   "outputs": [
    {
     "data": {
      "text/plain": [
       "(199, 50, 1)"
      ]
     },
     "execution_count": 57,
     "metadata": {},
     "output_type": "execute_result"
    }
   ],
   "source": [
    "X_train.shape"
   ]
  },
  {
   "cell_type": "markdown",
   "metadata": {
    "id": "fZhjp7Tf282b"
   },
   "source": [
    "## Parte 2 - Construção da RNN"
   ]
  },
  {
   "cell_type": "markdown",
   "metadata": {
    "id": "RDkAxmMl3EXr"
   },
   "source": [
    "### Bibliotecas necessárias"
   ]
  },
  {
   "cell_type": "code",
   "execution_count": 58,
   "metadata": {
    "id": "Ifhh9yUo3DpT"
   },
   "outputs": [],
   "source": [
    "from keras.models import Sequential\n",
    "from keras.layers import Dense\n",
    "from keras.layers import LSTM\n",
    "from keras.layers import Dropout"
   ]
  },
  {
   "cell_type": "markdown",
   "metadata": {
    "id": "kordpD0_3H7b"
   },
   "source": [
    "### Construção da Rede completa"
   ]
  },
  {
   "cell_type": "code",
   "execution_count": 59,
   "metadata": {
    "scrolled": true
   },
   "outputs": [
    {
     "name": "stdout",
     "output_type": "stream",
     "text": [
      "Model: \"sequential_2\"\n",
      "_________________________________________________________________\n",
      "Layer (type)                 Output Shape              Param #   \n",
      "=================================================================\n",
      "lstm_6 (LSTM)                (None, 50, 100)           40800     \n",
      "_________________________________________________________________\n",
      "dropout_6 (Dropout)          (None, 50, 100)           0         \n",
      "_________________________________________________________________\n",
      "lstm_7 (LSTM)                (None, 50, 80)            57920     \n",
      "_________________________________________________________________\n",
      "dropout_7 (Dropout)          (None, 50, 80)            0         \n",
      "_________________________________________________________________\n",
      "lstm_8 (LSTM)                (None, 50)                26200     \n",
      "_________________________________________________________________\n",
      "dropout_8 (Dropout)          (None, 50)                0         \n",
      "_________________________________________________________________\n",
      "dense_2 (Dense)              (None, 1)                 51        \n",
      "=================================================================\n",
      "Total params: 124,971\n",
      "Trainable params: 124,971\n",
      "Non-trainable params: 0\n",
      "_________________________________________________________________\n"
     ]
    }
   ],
   "source": [
    "# Inicializar a RNN\n",
    "regressor = Sequential()\n",
    "\n",
    "# Adicionar a primeira camada LSTM e Dropout \n",
    "regressor.add(LSTM(units = 100, return_sequences = True, input_shape = (X_train.shape[1], 1)))\n",
    "regressor.add(Dropout(0.2))\n",
    " \n",
    "# Adicionar a segunda camada LSTM e Dropout\n",
    "regressor.add(LSTM(units = 80, return_sequences = True))\n",
    "regressor.add(Dropout(0.2))\n",
    " \n",
    "# Adicionar a terceira camada LSTM e Dropout\n",
    "regressor.add(LSTM(units = 50))\n",
    "regressor.add(Dropout(0.2))\n",
    " \n",
    "# camada de saída\n",
    "regressor.add(Dense(units = 1))\n",
    " \n",
    "# Compilar a rede\n",
    "regressor.compile(optimizer = 'adam', loss = 'mean_squared_error')\n",
    "\n",
    "# Visualizar a rede\n",
    "regressor.summary()  "
   ]
  },
  {
   "cell_type": "markdown",
   "metadata": {
    "id": "5j1w28g83iSR"
   },
   "source": [
    "### Treinamento"
   ]
  },
  {
   "cell_type": "code",
   "execution_count": 60,
   "metadata": {
    "scrolled": true
   },
   "outputs": [
    {
     "name": "stdout",
     "output_type": "stream",
     "text": [
      "Epoch 1/25\n",
      "2/2 [==============================] - 0s 52ms/step - loss: 0.0675\n",
      "Epoch 2/25\n",
      "2/2 [==============================] - 0s 47ms/step - loss: 0.0201\n",
      "Epoch 3/25\n",
      "2/2 [==============================] - 0s 48ms/step - loss: 0.0246\n",
      "Epoch 4/25\n",
      "2/2 [==============================] - 0s 49ms/step - loss: 0.0134\n",
      "Epoch 5/25\n",
      "2/2 [==============================] - 0s 43ms/step - loss: 0.0118\n",
      "Epoch 6/25\n",
      "2/2 [==============================] - 0s 35ms/step - loss: 0.0144\n",
      "Epoch 7/25\n",
      "2/2 [==============================] - 0s 34ms/step - loss: 0.0117\n",
      "Epoch 8/25\n",
      "2/2 [==============================] - 0s 36ms/step - loss: 0.0094\n",
      "Epoch 9/25\n",
      "2/2 [==============================] - 0s 36ms/step - loss: 0.0103\n",
      "Epoch 10/25\n",
      "2/2 [==============================] - 0s 35ms/step - loss: 0.0103\n",
      "Epoch 11/25\n",
      "2/2 [==============================] - 0s 36ms/step - loss: 0.0083\n",
      "Epoch 12/25\n",
      "2/2 [==============================] - 0s 34ms/step - loss: 0.0070\n",
      "Epoch 13/25\n",
      "2/2 [==============================] - 0s 34ms/step - loss: 0.0085\n",
      "Epoch 14/25\n",
      "2/2 [==============================] - 0s 34ms/step - loss: 0.0079\n",
      "Epoch 15/25\n",
      "2/2 [==============================] - 0s 34ms/step - loss: 0.0073\n",
      "Epoch 16/25\n",
      "2/2 [==============================] - 0s 35ms/step - loss: 0.0070\n",
      "Epoch 17/25\n",
      "2/2 [==============================] - 0s 34ms/step - loss: 0.0069\n",
      "Epoch 18/25\n",
      "2/2 [==============================] - 0s 35ms/step - loss: 0.0069\n",
      "Epoch 19/25\n",
      "2/2 [==============================] - 0s 34ms/step - loss: 0.0058\n",
      "Epoch 20/25\n",
      "2/2 [==============================] - 0s 36ms/step - loss: 0.0062\n",
      "Epoch 21/25\n",
      "2/2 [==============================] - 0s 34ms/step - loss: 0.0058\n",
      "Epoch 22/25\n",
      "2/2 [==============================] - 0s 33ms/step - loss: 0.0056\n",
      "Epoch 23/25\n",
      "2/2 [==============================] - 0s 34ms/step - loss: 0.0059\n",
      "Epoch 24/25\n",
      "2/2 [==============================] - 0s 35ms/step - loss: 0.0059\n",
      "Epoch 25/25\n",
      "2/2 [==============================] - 0s 34ms/step - loss: 0.0062\n"
     ]
    }
   ],
   "source": [
    "history = regressor.fit(X_train, y_train, epochs = pepochs1, batch_size = pbatch3)"
   ]
  },
  {
   "cell_type": "markdown",
   "metadata": {
    "id": "gwpyImwA3yon"
   },
   "source": [
    "## Parte 3 - Fazer as previsões e analisar os resultados"
   ]
  },
  {
   "cell_type": "markdown",
   "metadata": {
    "id": "wkXRvDjT4V-B"
   },
   "source": [
    "### Base de teste"
   ]
  },
  {
   "cell_type": "code",
   "execution_count": 61,
   "metadata": {
    "id": "Bn_n72dh30K-"
   },
   "outputs": [],
   "source": [
    "dataset_test = test_set\n",
    "PETR4_data_train = pd.DataFrame(PETR4_data_train)\n",
    "PETR4_data_test = pd.DataFrame(PETR4_data_test)"
   ]
  },
  {
   "cell_type": "markdown",
   "metadata": {
    "id": "EOo84exH4bfs"
   },
   "source": [
    "### Construir a estrutura para teste"
   ]
  },
  {
   "cell_type": "code",
   "execution_count": 62,
   "metadata": {
    "id": "ob_-mGA_B5px"
   },
   "outputs": [],
   "source": [
    "dataset_total = pd.concat((PETR4_data_train.iloc[:,1], PETR4_data_test.iloc[:,1]), axis = 0)\n",
    "testLength = len(dataset_test)\n",
    "inputs = dataset_total[len(dataset_total) - testLength - window:].values\n",
    "inputs = inputs.reshape(inputs.shape[0],1)\n",
    "\n",
    "inputs = sc.transform(inputs)\n",
    "X_test = []\n",
    "for i in range(window, inputs.shape[0]): \n",
    "    X_test.append(inputs[i-window:i, 0])\n",
    "X_test = np.array(X_test)\n",
    "\n",
    "X_test = np.reshape(X_test, (X_test.shape[0], X_test.shape[1], 1))"
   ]
  },
  {
   "cell_type": "markdown",
   "metadata": {
    "id": "rtkB4NA74e1B"
   },
   "source": [
    "### Fazer as previsões"
   ]
  },
  {
   "cell_type": "code",
   "execution_count": 63,
   "metadata": {
    "id": "nKIq1h-E4g9Z"
   },
   "outputs": [],
   "source": [
    "predicted_PETR4 = regressor.predict(X_test)\n",
    "predicted_PETR4 = sc.inverse_transform(predicted_PETR4)"
   ]
  },
  {
   "cell_type": "markdown",
   "metadata": {
    "id": "guvk7yXr4o0g"
   },
   "source": [
    "### Visualizar os resultados de treino e teste"
   ]
  },
  {
   "cell_type": "code",
   "execution_count": 64,
   "metadata": {
    "id": "tstXl2oS4rIo",
    "scrolled": true
   },
   "outputs": [
    {
     "data": {
      "image/png": "[encoded data removed]",
      "text/plain": [
       "<Figure size 432x288 with 1 Axes>"
      ]
     },
     "metadata": {
      "needs_background": "light"
     },
     "output_type": "display_data"
    }
   ],
   "source": [
    "allTargetData = np.vstack((training_set, dataset_test))\n",
    "training_predicted_PETR4 = regressor.predict(X_train)\n",
    "training_predicted_PETR4 = sc.inverse_transform(training_predicted_PETR4)\n",
    "allForecastedData = np.vstack((training_set[0:window], training_predicted_PETR4, predicted_PETR4))\n",
    "plt.plot(allTargetData, color = 'red', label = 'Real')\n",
    "plt.plot(allForecastedData, color = 'blue', label = 'Previsto')\n",
    "plt.title('Previsão de série temporal')\n",
    "plt.xlabel('Tempo')\n",
    "plt.ylabel('Cotação (R$)')\n",
    "plt.legend()\n",
    "plt.savefig('predictions_training_test_25_50_32.svg')\n",
    "plt.show()"
   ]
  },
  {
   "cell_type": "markdown",
   "metadata": {
    "id": "ytEVhQht4we3"
   },
   "source": [
    "## Parte 4 - Métricas de avaliação"
   ]
  },
  {
   "cell_type": "code",
   "execution_count": 65,
   "metadata": {
    "id": "rqOonVj64ydu",
    "scrolled": true
   },
   "outputs": [
    {
     "name": "stdout",
     "output_type": "stream",
     "text": [
      "RMSE: 2.922840361523291\n"
     ]
    }
   ],
   "source": [
    "import math\n",
    "from sklearn.metrics import mean_squared_error\n",
    "rmse = math.sqrt(mean_squared_error(dataset_test, predicted_PETR4))\n",
    "print('RMSE:', rmse)"
   ]
  },
  {
   "cell_type": "code",
   "execution_count": 66,
   "metadata": {
    "id": "ODeley1K42WW"
   },
   "outputs": [
    {
     "name": "stdout",
     "output_type": "stream",
     "text": [
      "MSE: 8.542995778949605\n"
     ]
    }
   ],
   "source": [
    "mse = mean_squared_error(dataset_test, predicted_PETR4)\n",
    "print('MSE:',mse)"
   ]
  },
  {
   "cell_type": "code",
   "execution_count": 67,
   "metadata": {
    "id": "L7_uU_8T44QA"
   },
   "outputs": [
    {
     "name": "stdout",
     "output_type": "stream",
     "text": [
      "MAPE: 9.446631473481853 %\n"
     ]
    }
   ],
   "source": [
    "mape = np.mean(np.abs((dataset_test-predicted_PETR4) /dataset_test)) * 100\n",
    "print('MAPE:',mape.iloc[0], '%')"
   ]
  },
  {
   "cell_type": "code",
   "execution_count": 68,
   "metadata": {
    "id": "LnCgdBS0vGCz"
   },
   "outputs": [
    {
     "name": "stdout",
     "output_type": "stream",
     "text": [
      "R2: 0.6523575912503431\n"
     ]
    }
   ],
   "source": [
    "from sklearn.metrics import r2_score\n",
    "r2 = r2_score(dataset_test,predicted_PETR4)\n",
    "print('R2:', r2)"
   ]
  },
  {
   "cell_type": "code",
   "execution_count": 69,
   "metadata": {},
   "outputs": [
    {
     "name": "stdout",
     "output_type": "stream",
     "text": [
      "R2Adj: 0.6516566992972188\n"
     ]
    }
   ],
   "source": [
    "adj_r2 = (1 - (1 - r2) * ((predicted_PETR4.shape[0] - 1) / \n",
    "          (predicted_PETR4.shape[0] - predicted_PETR4.shape[1] - 1)))\n",
    "print('R2Adj:',adj_r2)"
   ]
  },
  {
   "cell_type": "code",
   "execution_count": 70,
   "metadata": {},
   "outputs": [],
   "source": [
    "# results = np.array([pwindow,pepochs1,pbatch3,rmse,mse,mape.iloc[0],r2,adj_r2]) "
   ]
  },
  {
   "cell_type": "code",
   "execution_count": 71,
   "metadata": {},
   "outputs": [],
   "source": [
    "data = pd.array([pwindow,pepochs1,pbatch3,rmse,mse,mape.iloc[0],r2,adj_r2])"
   ]
  },
  {
   "cell_type": "code",
   "execution_count": 72,
   "metadata": {},
   "outputs": [],
   "source": [
    "results = np.column_stack((results, data))"
   ]
  },
  {
   "cell_type": "code",
   "execution_count": 73,
   "metadata": {
    "scrolled": true
   },
   "outputs": [
    {
     "name": "stdout",
     "output_type": "stream",
     "text": [
      "[[ 50.          50.          50.        ]\n",
      " [ 25.          25.          25.        ]\n",
      " [ 32.          64.         128.        ]\n",
      " [  2.77403152   2.55620377   2.92284036]\n",
      " [  7.69525086   6.53417772   8.54299578]\n",
      " [  8.83990801   7.82641336   9.44663147]\n",
      " [  0.6868551    0.73410296   0.65235759]\n",
      " [  0.68622376   0.73356688   0.6516567 ]]\n"
     ]
    }
   ],
   "source": [
    "print(results)"
   ]
  },
  {
   "cell_type": "markdown",
   "metadata": {},
   "source": [
    "### Parâmetros para esta análise"
   ]
  },
  {
   "cell_type": "code",
   "execution_count": 74,
   "metadata": {},
   "outputs": [],
   "source": [
    "pwindow = 50\n",
    "pepochs1 = 25\n",
    "pepochs2 = 50\n",
    "pepochs3 = 100\n",
    "pbatch1 = 32\n",
    "pbatch2 = 64\n",
    "pbatch3 = 128"
   ]
  },
  {
   "cell_type": "markdown",
   "metadata": {
    "id": "7p1F7HdB2uJU"
   },
   "source": [
    "### Normalização"
   ]
  },
  {
   "cell_type": "code",
   "execution_count": 75,
   "metadata": {
    "id": "foeHRZr-2u-L"
   },
   "outputs": [],
   "source": [
    "from sklearn.preprocessing import MinMaxScaler\n",
    "sc = MinMaxScaler(feature_range = (0, 1))\n",
    "training_set_scaled = sc.fit_transform(training_set)"
   ]
  },
  {
   "cell_type": "markdown",
   "metadata": {
    "id": "uQP8Q7MI21Y9"
   },
   "source": [
    "### Criar a estrutura de dados com janela 10 e output 1"
   ]
  },
  {
   "cell_type": "code",
   "execution_count": 76,
   "metadata": {
    "id": "C6Ge9ql922cb"
   },
   "outputs": [],
   "source": [
    "window = pwindow\n",
    "trainSize = len(training_set_scaled)\n",
    "X_train = []\n",
    "y_train = []\n",
    "for i in range(window, trainSize):\n",
    "    X_train.append(training_set_scaled[i-window:i, 0])\n",
    "    y_train.append(training_set_scaled[i, 0])\n",
    "X_train, y_train = np.array(X_train), np.array(y_train)"
   ]
  },
  {
   "cell_type": "markdown",
   "metadata": {
    "id": "LPBC2LoG24dU"
   },
   "source": [
    "### Reshaping"
   ]
  },
  {
   "cell_type": "code",
   "execution_count": 77,
   "metadata": {
    "id": "oGwgQUDbdmnS"
   },
   "outputs": [
    {
     "data": {
      "text/plain": [
       "(199, 50)"
      ]
     },
     "execution_count": 77,
     "metadata": {},
     "output_type": "execute_result"
    }
   ],
   "source": [
    "X_train.shape"
   ]
  },
  {
   "cell_type": "markdown",
   "metadata": {
    "id": "AEVcR-Uju5TX"
   },
   "source": [
    "Shape de input da lstm = (batch_size, timesteps, features)"
   ]
  },
  {
   "cell_type": "code",
   "execution_count": 78,
   "metadata": {
    "id": "b9ZfLlGH25fr"
   },
   "outputs": [],
   "source": [
    "X_train = np.reshape(X_train, (X_train.shape[0], X_train.shape[1], 1))"
   ]
  },
  {
   "cell_type": "code",
   "execution_count": 79,
   "metadata": {
    "id": "RxU0axM9diHO"
   },
   "outputs": [
    {
     "data": {
      "text/plain": [
       "(199, 50, 1)"
      ]
     },
     "execution_count": 79,
     "metadata": {},
     "output_type": "execute_result"
    }
   ],
   "source": [
    "X_train.shape"
   ]
  },
  {
   "cell_type": "markdown",
   "metadata": {
    "id": "fZhjp7Tf282b"
   },
   "source": [
    "## Parte 2 - Construção da RNN"
   ]
  },
  {
   "cell_type": "markdown",
   "metadata": {
    "id": "RDkAxmMl3EXr"
   },
   "source": [
    "### Bibliotecas necessárias"
   ]
  },
  {
   "cell_type": "code",
   "execution_count": 80,
   "metadata": {
    "id": "Ifhh9yUo3DpT"
   },
   "outputs": [],
   "source": [
    "from keras.models import Sequential\n",
    "from keras.layers import Dense\n",
    "from keras.layers import LSTM\n",
    "from keras.layers import Dropout"
   ]
  },
  {
   "cell_type": "markdown",
   "metadata": {
    "id": "kordpD0_3H7b"
   },
   "source": [
    "### Construção da Rede completa"
   ]
  },
  {
   "cell_type": "code",
   "execution_count": 81,
   "metadata": {
    "scrolled": true
   },
   "outputs": [
    {
     "name": "stdout",
     "output_type": "stream",
     "text": [
      "Model: \"sequential_3\"\n",
      "_________________________________________________________________\n",
      "Layer (type)                 Output Shape              Param #   \n",
      "=================================================================\n",
      "lstm_9 (LSTM)                (None, 50, 100)           40800     \n",
      "_________________________________________________________________\n",
      "dropout_9 (Dropout)          (None, 50, 100)           0         \n",
      "_________________________________________________________________\n",
      "lstm_10 (LSTM)               (None, 50, 80)            57920     \n",
      "_________________________________________________________________\n",
      "dropout_10 (Dropout)         (None, 50, 80)            0         \n",
      "_________________________________________________________________\n",
      "lstm_11 (LSTM)               (None, 50)                26200     \n",
      "_________________________________________________________________\n",
      "dropout_11 (Dropout)         (None, 50)                0         \n",
      "_________________________________________________________________\n",
      "dense_3 (Dense)              (None, 1)                 51        \n",
      "=================================================================\n",
      "Total params: 124,971\n",
      "Trainable params: 124,971\n",
      "Non-trainable params: 0\n",
      "_________________________________________________________________\n"
     ]
    }
   ],
   "source": [
    "# Inicializar a RNN\n",
    "regressor = Sequential()\n",
    "\n",
    "# Adicionar a primeira camada LSTM e Dropout \n",
    "regressor.add(LSTM(units = 100, return_sequences = True, input_shape = (X_train.shape[1], 1)))\n",
    "regressor.add(Dropout(0.2))\n",
    " \n",
    "# Adicionar a segunda camada LSTM e Dropout\n",
    "regressor.add(LSTM(units = 80, return_sequences = True))\n",
    "regressor.add(Dropout(0.2))\n",
    " \n",
    "# Adicionar a terceira camada LSTM e Dropout\n",
    "regressor.add(LSTM(units = 50))\n",
    "regressor.add(Dropout(0.2))\n",
    " \n",
    "# camada de saída\n",
    "regressor.add(Dense(units = 1))\n",
    " \n",
    "# Compilar a rede\n",
    "regressor.compile(optimizer = 'adam', loss = 'mean_squared_error')\n",
    "\n",
    "# Visualizar a rede\n",
    "regressor.summary()  "
   ]
  },
  {
   "cell_type": "markdown",
   "metadata": {
    "id": "5j1w28g83iSR"
   },
   "source": [
    "### Treinamento"
   ]
  },
  {
   "cell_type": "code",
   "execution_count": 82,
   "metadata": {
    "scrolled": true
   },
   "outputs": [
    {
     "name": "stdout",
     "output_type": "stream",
     "text": [
      "Epoch 1/50\n",
      "7/7 [==============================] - 0s 46ms/step - loss: 0.0335\n",
      "Epoch 2/50\n",
      "7/7 [==============================] - 0s 39ms/step - loss: 0.0116\n",
      "Epoch 3/50\n",
      "7/7 [==============================] - 0s 36ms/step - loss: 0.0087\n",
      "Epoch 4/50\n",
      "7/7 [==============================] - 0s 38ms/step - loss: 0.0067\n",
      "Epoch 5/50\n",
      "7/7 [==============================] - 0s 37ms/step - loss: 0.0060\n",
      "Epoch 6/50\n",
      "7/7 [==============================] - 0s 39ms/step - loss: 0.0057\n",
      "Epoch 7/50\n",
      "7/7 [==============================] - 0s 35ms/step - loss: 0.0054\n",
      "Epoch 8/50\n",
      "7/7 [==============================] - 0s 38ms/step - loss: 0.0060\n",
      "Epoch 9/50\n",
      "7/7 [==============================] - 0s 38ms/step - loss: 0.0053\n",
      "Epoch 10/50\n",
      "7/7 [==============================] - 0s 40ms/step - loss: 0.0057\n",
      "Epoch 11/50\n",
      "7/7 [==============================] - 0s 40ms/step - loss: 0.0048\n",
      "Epoch 12/50\n",
      "7/7 [==============================] - 0s 41ms/step - loss: 0.0052\n",
      "Epoch 13/50\n",
      "7/7 [==============================] - 0s 38ms/step - loss: 0.0049\n",
      "Epoch 14/50\n",
      "7/7 [==============================] - 0s 39ms/step - loss: 0.0047\n",
      "Epoch 15/50\n",
      "7/7 [==============================] - 0s 41ms/step - loss: 0.0057\n",
      "Epoch 16/50\n",
      "7/7 [==============================] - 0s 41ms/step - loss: 0.0063\n",
      "Epoch 17/50\n",
      "7/7 [==============================] - 0s 40ms/step - loss: 0.0054\n",
      "Epoch 18/50\n",
      "7/7 [==============================] - 0s 38ms/step - loss: 0.0049\n",
      "Epoch 19/50\n",
      "7/7 [==============================] - 0s 42ms/step - loss: 0.0048\n",
      "Epoch 20/50\n",
      "7/7 [==============================] - 0s 44ms/step - loss: 0.0047\n",
      "Epoch 21/50\n",
      "7/7 [==============================] - 0s 44ms/step - loss: 0.0048\n",
      "Epoch 22/50\n",
      "7/7 [==============================] - 0s 44ms/step - loss: 0.0044\n",
      "Epoch 23/50\n",
      "7/7 [==============================] - 0s 45ms/step - loss: 0.0045\n",
      "Epoch 24/50\n",
      "7/7 [==============================] - 0s 45ms/step - loss: 0.0039\n",
      "Epoch 25/50\n",
      "7/7 [==============================] - 0s 44ms/step - loss: 0.0041\n",
      "Epoch 26/50\n",
      "7/7 [==============================] - 0s 41ms/step - loss: 0.0038\n",
      "Epoch 27/50\n",
      "7/7 [==============================] - 0s 40ms/step - loss: 0.0040\n",
      "Epoch 28/50\n",
      "7/7 [==============================] - 0s 40ms/step - loss: 0.0041\n",
      "Epoch 29/50\n",
      "7/7 [==============================] - 0s 44ms/step - loss: 0.0039\n",
      "Epoch 30/50\n",
      "7/7 [==============================] - 0s 41ms/step - loss: 0.0038\n",
      "Epoch 31/50\n",
      "7/7 [==============================] - 0s 44ms/step - loss: 0.0039\n",
      "Epoch 32/50\n",
      "7/7 [==============================] - 0s 44ms/step - loss: 0.0038\n",
      "Epoch 33/50\n",
      "7/7 [==============================] - 0s 44ms/step - loss: 0.0038\n",
      "Epoch 34/50\n",
      "7/7 [==============================] - 0s 40ms/step - loss: 0.0031\n",
      "Epoch 35/50\n",
      "7/7 [==============================] - 0s 41ms/step - loss: 0.0033\n",
      "Epoch 36/50\n",
      "7/7 [==============================] - 0s 43ms/step - loss: 0.0031\n",
      "Epoch 37/50\n",
      "7/7 [==============================] - 0s 41ms/step - loss: 0.0030\n",
      "Epoch 38/50\n",
      "7/7 [==============================] - 0s 40ms/step - loss: 0.0035\n",
      "Epoch 39/50\n",
      "7/7 [==============================] - 0s 42ms/step - loss: 0.0038\n",
      "Epoch 40/50\n",
      "7/7 [==============================] - 0s 42ms/step - loss: 0.0031\n",
      "Epoch 41/50\n",
      "7/7 [==============================] - 0s 44ms/step - loss: 0.0029\n",
      "Epoch 42/50\n",
      "7/7 [==============================] - 0s 44ms/step - loss: 0.0033\n",
      "Epoch 43/50\n",
      "7/7 [==============================] - 0s 44ms/step - loss: 0.0030\n",
      "Epoch 44/50\n",
      "7/7 [==============================] - 0s 44ms/step - loss: 0.0029\n",
      "Epoch 45/50\n",
      "7/7 [==============================] - 0s 44ms/step - loss: 0.0026\n",
      "Epoch 46/50\n",
      "7/7 [==============================] - 0s 45ms/step - loss: 0.0030\n",
      "Epoch 47/50\n",
      "7/7 [==============================] - 0s 44ms/step - loss: 0.0028\n",
      "Epoch 48/50\n",
      "7/7 [==============================] - 0s 45ms/step - loss: 0.0030\n",
      "Epoch 49/50\n",
      "7/7 [==============================] - 0s 44ms/step - loss: 0.0028\n",
      "Epoch 50/50\n",
      "7/7 [==============================] - 0s 44ms/step - loss: 0.0031\n"
     ]
    }
   ],
   "source": [
    "history = regressor.fit(X_train, y_train, epochs = pepochs2, batch_size = pbatch1)"
   ]
  },
  {
   "cell_type": "markdown",
   "metadata": {
    "id": "gwpyImwA3yon"
   },
   "source": [
    "## Parte 3 - Fazer as previsões e analisar os resultados"
   ]
  },
  {
   "cell_type": "markdown",
   "metadata": {
    "id": "wkXRvDjT4V-B"
   },
   "source": [
    "### Base de teste"
   ]
  },
  {
   "cell_type": "code",
   "execution_count": 83,
   "metadata": {
    "id": "Bn_n72dh30K-"
   },
   "outputs": [],
   "source": [
    "dataset_test = test_set\n",
    "PETR4_data_train = pd.DataFrame(PETR4_data_train)\n",
    "PETR4_data_test = pd.DataFrame(PETR4_data_test)"
   ]
  },
  {
   "cell_type": "markdown",
   "metadata": {
    "id": "EOo84exH4bfs"
   },
   "source": [
    "### Construir a estrutura para teste"
   ]
  },
  {
   "cell_type": "code",
   "execution_count": 84,
   "metadata": {
    "id": "ob_-mGA_B5px"
   },
   "outputs": [],
   "source": [
    "dataset_total = pd.concat((PETR4_data_train.iloc[:,1], PETR4_data_test.iloc[:,1]), axis = 0)\n",
    "testLength = len(dataset_test)\n",
    "inputs = dataset_total[len(dataset_total) - testLength - window:].values\n",
    "inputs = inputs.reshape(inputs.shape[0],1)\n",
    "\n",
    "inputs = sc.transform(inputs)\n",
    "X_test = []\n",
    "for i in range(window, inputs.shape[0]): \n",
    "    X_test.append(inputs[i-window:i, 0])\n",
    "X_test = np.array(X_test)\n",
    "\n",
    "X_test = np.reshape(X_test, (X_test.shape[0], X_test.shape[1], 1))"
   ]
  },
  {
   "cell_type": "markdown",
   "metadata": {
    "id": "rtkB4NA74e1B"
   },
   "source": [
    "### Fazer as previsões"
   ]
  },
  {
   "cell_type": "code",
   "execution_count": 85,
   "metadata": {
    "id": "nKIq1h-E4g9Z"
   },
   "outputs": [],
   "source": [
    "predicted_PETR4 = regressor.predict(X_test)\n",
    "predicted_PETR4 = sc.inverse_transform(predicted_PETR4)"
   ]
  },
  {
   "cell_type": "markdown",
   "metadata": {
    "id": "guvk7yXr4o0g"
   },
   "source": [
    "### Visualizar os resultados de treino e teste"
   ]
  },
  {
   "cell_type": "code",
   "execution_count": 86,
   "metadata": {
    "id": "tstXl2oS4rIo",
    "scrolled": true
   },
   "outputs": [
    {
     "data": {
      "image/png": "[encoded data removed]",
      "text/plain": [
       "<Figure size 432x288 with 1 Axes>"
      ]
     },
     "metadata": {
      "needs_background": "light"
     },
     "output_type": "display_data"
    }
   ],
   "source": [
    "allTargetData = np.vstack((training_set, dataset_test))\n",
    "training_predicted_PETR4 = regressor.predict(X_train)\n",
    "training_predicted_PETR4 = sc.inverse_transform(training_predicted_PETR4)\n",
    "allForecastedData = np.vstack((training_set[0:window], training_predicted_PETR4, predicted_PETR4))\n",
    "plt.plot(allTargetData, color = 'red', label = 'Real')\n",
    "plt.plot(allForecastedData, color = 'blue', label = 'Previsto')\n",
    "plt.title('Previsão de série temporal')\n",
    "plt.xlabel('Tempo')\n",
    "plt.ylabel('Cotação (R$)')\n",
    "plt.legend()\n",
    "plt.savefig('predictions_training_test_25_50_32.svg')\n",
    "plt.show()"
   ]
  },
  {
   "cell_type": "markdown",
   "metadata": {
    "id": "ytEVhQht4we3"
   },
   "source": [
    "## Parte 4 - Métricas de avaliação"
   ]
  },
  {
   "cell_type": "code",
   "execution_count": 87,
   "metadata": {
    "id": "rqOonVj64ydu",
    "scrolled": true
   },
   "outputs": [
    {
     "name": "stdout",
     "output_type": "stream",
     "text": [
      "RMSE: 2.3091461521914853\n"
     ]
    }
   ],
   "source": [
    "import math\n",
    "from sklearn.metrics import mean_squared_error\n",
    "rmse = math.sqrt(mean_squared_error(dataset_test, predicted_PETR4))\n",
    "print('RMSE:', rmse)"
   ]
  },
  {
   "cell_type": "code",
   "execution_count": 88,
   "metadata": {
    "id": "ODeley1K42WW"
   },
   "outputs": [
    {
     "name": "stdout",
     "output_type": "stream",
     "text": [
      "MSE: 5.332155952180742\n"
     ]
    }
   ],
   "source": [
    "mse = mean_squared_error(dataset_test, predicted_PETR4)\n",
    "print('MSE:',mse)"
   ]
  },
  {
   "cell_type": "code",
   "execution_count": 89,
   "metadata": {
    "id": "L7_uU_8T44QA"
   },
   "outputs": [
    {
     "name": "stdout",
     "output_type": "stream",
     "text": [
      "MAPE: 6.851639166309846 %\n"
     ]
    }
   ],
   "source": [
    "mape = np.mean(np.abs((dataset_test-predicted_PETR4) /dataset_test)) * 100\n",
    "print('MAPE:',mape.iloc[0], '%')"
   ]
  },
  {
   "cell_type": "code",
   "execution_count": 90,
   "metadata": {
    "id": "LnCgdBS0vGCz"
   },
   "outputs": [
    {
     "name": "stdout",
     "output_type": "stream",
     "text": [
      "R2: 0.7830171538171062\n"
     ]
    }
   ],
   "source": [
    "from sklearn.metrics import r2_score\n",
    "r2 = r2_score(dataset_test,predicted_PETR4)\n",
    "print('R2:', r2)"
   ]
  },
  {
   "cell_type": "code",
   "execution_count": 91,
   "metadata": {},
   "outputs": [
    {
     "name": "stdout",
     "output_type": "stream",
     "text": [
      "R2Adj: 0.7825796884014149\n"
     ]
    }
   ],
   "source": [
    "adj_r2 = (1 - (1 - r2) * ((predicted_PETR4.shape[0] - 1) / \n",
    "          (predicted_PETR4.shape[0] - predicted_PETR4.shape[1] - 1)))\n",
    "print('R2Adj:',adj_r2)"
   ]
  },
  {
   "cell_type": "code",
   "execution_count": 92,
   "metadata": {},
   "outputs": [],
   "source": [
    "#results = np.array([pwindow,pepochs1,pbatch1,rmse,mse,mape.iloc[0],r2,adj_r2]) "
   ]
  },
  {
   "cell_type": "code",
   "execution_count": 93,
   "metadata": {},
   "outputs": [],
   "source": [
    "data = pd.array([pwindow,pepochs2,pbatch1,rmse,mse,mape.iloc[0],r2,adj_r2])"
   ]
  },
  {
   "cell_type": "code",
   "execution_count": 94,
   "metadata": {},
   "outputs": [],
   "source": [
    "results = np.column_stack((results, data))"
   ]
  },
  {
   "cell_type": "code",
   "execution_count": 95,
   "metadata": {
    "scrolled": true
   },
   "outputs": [
    {
     "name": "stdout",
     "output_type": "stream",
     "text": [
      "[[ 50.          50.          50.          50.        ]\n",
      " [ 25.          25.          25.          50.        ]\n",
      " [ 32.          64.         128.          32.        ]\n",
      " [  2.77403152   2.55620377   2.92284036   2.30914615]\n",
      " [  7.69525086   6.53417772   8.54299578   5.33215595]\n",
      " [  8.83990801   7.82641336   9.44663147   6.85163917]\n",
      " [  0.6868551    0.73410296   0.65235759   0.78301715]\n",
      " [  0.68622376   0.73356688   0.6516567    0.78257969]]\n"
     ]
    }
   ],
   "source": [
    "print(results)"
   ]
  },
  {
   "cell_type": "markdown",
   "metadata": {},
   "source": [
    "### Parâmetros para esta análise"
   ]
  },
  {
   "cell_type": "code",
   "execution_count": 96,
   "metadata": {},
   "outputs": [],
   "source": [
    "pwindow = 50\n",
    "pepochs1 = 25\n",
    "pepochs2 = 50\n",
    "pepochs3 = 100\n",
    "pbatch1 = 32\n",
    "pbatch2 = 64\n",
    "pbatch3 = 128"
   ]
  },
  {
   "cell_type": "markdown",
   "metadata": {
    "id": "7p1F7HdB2uJU"
   },
   "source": [
    "### Normalização"
   ]
  },
  {
   "cell_type": "code",
   "execution_count": 97,
   "metadata": {
    "id": "foeHRZr-2u-L"
   },
   "outputs": [],
   "source": [
    "from sklearn.preprocessing import MinMaxScaler\n",
    "sc = MinMaxScaler(feature_range = (0, 1))\n",
    "training_set_scaled = sc.fit_transform(training_set)"
   ]
  },
  {
   "cell_type": "markdown",
   "metadata": {
    "id": "uQP8Q7MI21Y9"
   },
   "source": [
    "### Criar a estrutura de dados com janela 10 e output 1"
   ]
  },
  {
   "cell_type": "code",
   "execution_count": 98,
   "metadata": {
    "id": "C6Ge9ql922cb"
   },
   "outputs": [],
   "source": [
    "window = pwindow\n",
    "trainSize = len(training_set_scaled)\n",
    "X_train = []\n",
    "y_train = []\n",
    "for i in range(window, trainSize):\n",
    "    X_train.append(training_set_scaled[i-window:i, 0])\n",
    "    y_train.append(training_set_scaled[i, 0])\n",
    "X_train, y_train = np.array(X_train), np.array(y_train)"
   ]
  },
  {
   "cell_type": "markdown",
   "metadata": {
    "id": "LPBC2LoG24dU"
   },
   "source": [
    "### Reshaping"
   ]
  },
  {
   "cell_type": "code",
   "execution_count": 99,
   "metadata": {
    "id": "oGwgQUDbdmnS"
   },
   "outputs": [
    {
     "data": {
      "text/plain": [
       "(199, 50)"
      ]
     },
     "execution_count": 99,
     "metadata": {},
     "output_type": "execute_result"
    }
   ],
   "source": [
    "X_train.shape"
   ]
  },
  {
   "cell_type": "markdown",
   "metadata": {
    "id": "AEVcR-Uju5TX"
   },
   "source": [
    "Shape de input da lstm = (batch_size, timesteps, features)"
   ]
  },
  {
   "cell_type": "code",
   "execution_count": 100,
   "metadata": {
    "id": "b9ZfLlGH25fr"
   },
   "outputs": [],
   "source": [
    "X_train = np.reshape(X_train, (X_train.shape[0], X_train.shape[1], 1))"
   ]
  },
  {
   "cell_type": "code",
   "execution_count": 101,
   "metadata": {
    "id": "RxU0axM9diHO"
   },
   "outputs": [
    {
     "data": {
      "text/plain": [
       "(199, 50, 1)"
      ]
     },
     "execution_count": 101,
     "metadata": {},
     "output_type": "execute_result"
    }
   ],
   "source": [
    "X_train.shape"
   ]
  },
  {
   "cell_type": "markdown",
   "metadata": {
    "id": "fZhjp7Tf282b"
   },
   "source": [
    "## Parte 2 - Construção da RNN"
   ]
  },
  {
   "cell_type": "markdown",
   "metadata": {
    "id": "RDkAxmMl3EXr"
   },
   "source": [
    "### Bibliotecas necessárias"
   ]
  },
  {
   "cell_type": "code",
   "execution_count": 102,
   "metadata": {
    "id": "Ifhh9yUo3DpT"
   },
   "outputs": [],
   "source": [
    "from keras.models import Sequential\n",
    "from keras.layers import Dense\n",
    "from keras.layers import LSTM\n",
    "from keras.layers import Dropout"
   ]
  },
  {
   "cell_type": "markdown",
   "metadata": {
    "id": "kordpD0_3H7b"
   },
   "source": [
    "### Construção da Rede completa"
   ]
  },
  {
   "cell_type": "code",
   "execution_count": 103,
   "metadata": {
    "scrolled": true
   },
   "outputs": [
    {
     "name": "stdout",
     "output_type": "stream",
     "text": [
      "Model: \"sequential_4\"\n",
      "_________________________________________________________________\n",
      "Layer (type)                 Output Shape              Param #   \n",
      "=================================================================\n",
      "lstm_12 (LSTM)               (None, 50, 100)           40800     \n",
      "_________________________________________________________________\n",
      "dropout_12 (Dropout)         (None, 50, 100)           0         \n",
      "_________________________________________________________________\n",
      "lstm_13 (LSTM)               (None, 50, 80)            57920     \n",
      "_________________________________________________________________\n",
      "dropout_13 (Dropout)         (None, 50, 80)            0         \n",
      "_________________________________________________________________\n",
      "lstm_14 (LSTM)               (None, 50)                26200     \n",
      "_________________________________________________________________\n",
      "dropout_14 (Dropout)         (None, 50)                0         \n",
      "_________________________________________________________________\n",
      "dense_4 (Dense)              (None, 1)                 51        \n",
      "=================================================================\n",
      "Total params: 124,971\n",
      "Trainable params: 124,971\n",
      "Non-trainable params: 0\n",
      "_________________________________________________________________\n"
     ]
    }
   ],
   "source": [
    "# Inicializar a RNN\n",
    "regressor = Sequential()\n",
    "\n",
    "# Adicionar a primeira camada LSTM e Dropout \n",
    "regressor.add(LSTM(units = 100, return_sequences = True, input_shape = (X_train.shape[1], 1)))\n",
    "regressor.add(Dropout(0.2))\n",
    " \n",
    "# Adicionar a segunda camada LSTM e Dropout\n",
    "regressor.add(LSTM(units = 80, return_sequences = True))\n",
    "regressor.add(Dropout(0.2))\n",
    " \n",
    "# Adicionar a terceira camada LSTM e Dropout\n",
    "regressor.add(LSTM(units = 50))\n",
    "regressor.add(Dropout(0.2))\n",
    " \n",
    "# camada de saída\n",
    "regressor.add(Dense(units = 1))\n",
    " \n",
    "# Compilar a rede\n",
    "regressor.compile(optimizer = 'adam', loss = 'mean_squared_error')\n",
    "\n",
    "# Visualizar a rede\n",
    "regressor.summary()  "
   ]
  },
  {
   "cell_type": "markdown",
   "metadata": {
    "id": "5j1w28g83iSR"
   },
   "source": [
    "### Treinamento"
   ]
  },
  {
   "cell_type": "code",
   "execution_count": 104,
   "metadata": {
    "scrolled": true
   },
   "outputs": [
    {
     "name": "stdout",
     "output_type": "stream",
     "text": [
      "Epoch 1/50\n",
      "4/4 [==============================] - 0s 54ms/step - loss: 0.0483\n",
      "Epoch 2/50\n",
      "4/4 [==============================] - 0s 48ms/step - loss: 0.0177\n",
      "Epoch 3/50\n",
      "4/4 [==============================] - 0s 48ms/step - loss: 0.0129\n",
      "Epoch 4/50\n",
      "4/4 [==============================] - 0s 49ms/step - loss: 0.0132\n",
      "Epoch 5/50\n",
      "4/4 [==============================] - 0s 49ms/step - loss: 0.0085\n",
      "Epoch 6/50\n",
      "4/4 [==============================] - 0s 49ms/step - loss: 0.0094\n",
      "Epoch 7/50\n",
      "4/4 [==============================] - 0s 51ms/step - loss: 0.0080\n",
      "Epoch 8/50\n",
      "4/4 [==============================] - 0s 49ms/step - loss: 0.0077\n",
      "Epoch 9/50\n",
      "4/4 [==============================] - 0s 49ms/step - loss: 0.0067\n",
      "Epoch 10/50\n",
      "4/4 [==============================] - 0s 48ms/step - loss: 0.0063\n",
      "Epoch 11/50\n",
      "4/4 [==============================] - 0s 49ms/step - loss: 0.0058\n",
      "Epoch 12/50\n",
      "4/4 [==============================] - 0s 50ms/step - loss: 0.0053\n",
      "Epoch 13/50\n",
      "4/4 [==============================] - 0s 50ms/step - loss: 0.0056\n",
      "Epoch 14/50\n",
      "4/4 [==============================] - 0s 47ms/step - loss: 0.0053\n",
      "Epoch 15/50\n",
      "4/4 [==============================] - 0s 49ms/step - loss: 0.0062\n",
      "Epoch 16/50\n",
      "4/4 [==============================] - 0s 51ms/step - loss: 0.0055\n",
      "Epoch 17/50\n",
      "4/4 [==============================] - 0s 51ms/step - loss: 0.0050\n",
      "Epoch 18/50\n",
      "4/4 [==============================] - 0s 47ms/step - loss: 0.0052\n",
      "Epoch 19/50\n",
      "4/4 [==============================] - 0s 49ms/step - loss: 0.0055\n",
      "Epoch 20/50\n",
      "4/4 [==============================] - 0s 51ms/step - loss: 0.0044\n",
      "Epoch 21/50\n",
      "4/4 [==============================] - 0s 51ms/step - loss: 0.0049\n",
      "Epoch 22/50\n",
      "4/4 [==============================] - 0s 52ms/step - loss: 0.0055\n",
      "Epoch 23/50\n",
      "4/4 [==============================] - 0s 47ms/step - loss: 0.0052\n",
      "Epoch 24/50\n",
      "4/4 [==============================] - 0s 50ms/step - loss: 0.0049\n",
      "Epoch 25/50\n",
      "4/4 [==============================] - 0s 51ms/step - loss: 0.0049\n",
      "Epoch 26/50\n",
      "4/4 [==============================] - 0s 50ms/step - loss: 0.0058\n",
      "Epoch 27/50\n",
      "4/4 [==============================] - 0s 49ms/step - loss: 0.0057\n",
      "Epoch 28/50\n",
      "4/4 [==============================] - 0s 49ms/step - loss: 0.0050\n",
      "Epoch 29/50\n",
      "4/4 [==============================] - 0s 52ms/step - loss: 0.0063\n",
      "Epoch 30/50\n",
      "4/4 [==============================] - 0s 51ms/step - loss: 0.0049\n",
      "Epoch 31/50\n",
      "4/4 [==============================] - 0s 50ms/step - loss: 0.0059\n",
      "Epoch 32/50\n",
      "4/4 [==============================] - 0s 53ms/step - loss: 0.0050\n",
      "Epoch 33/50\n",
      "4/4 [==============================] - 0s 52ms/step - loss: 0.0055\n",
      "Epoch 34/50\n",
      "4/4 [==============================] - 0s 52ms/step - loss: 0.0051\n",
      "Epoch 35/50\n",
      "4/4 [==============================] - 0s 51ms/step - loss: 0.0043\n",
      "Epoch 36/50\n",
      "4/4 [==============================] - 0s 51ms/step - loss: 0.0044\n",
      "Epoch 37/50\n",
      "4/4 [==============================] - 0s 50ms/step - loss: 0.0045\n",
      "Epoch 38/50\n",
      "4/4 [==============================] - 0s 47ms/step - loss: 0.0043\n",
      "Epoch 39/50\n",
      "4/4 [==============================] - 0s 50ms/step - loss: 0.0043\n",
      "Epoch 40/50\n",
      "4/4 [==============================] - 0s 51ms/step - loss: 0.0044\n",
      "Epoch 41/50\n",
      "4/4 [==============================] - 0s 51ms/step - loss: 0.0042\n",
      "Epoch 42/50\n",
      "4/4 [==============================] - 0s 52ms/step - loss: 0.0043\n",
      "Epoch 43/50\n",
      "4/4 [==============================] - 0s 51ms/step - loss: 0.0038\n",
      "Epoch 44/50\n",
      "4/4 [==============================] - 0s 52ms/step - loss: 0.0046\n",
      "Epoch 45/50\n",
      "4/4 [==============================] - 0s 53ms/step - loss: 0.0044\n",
      "Epoch 46/50\n",
      "4/4 [==============================] - 0s 52ms/step - loss: 0.0041\n",
      "Epoch 47/50\n",
      "4/4 [==============================] - 0s 52ms/step - loss: 0.0038\n",
      "Epoch 48/50\n",
      "4/4 [==============================] - 0s 52ms/step - loss: 0.0037\n",
      "Epoch 49/50\n",
      "4/4 [==============================] - 0s 50ms/step - loss: 0.0038\n",
      "Epoch 50/50\n",
      "4/4 [==============================] - 0s 52ms/step - loss: 0.0038\n"
     ]
    }
   ],
   "source": [
    "history = regressor.fit(X_train, y_train, epochs = pepochs2, batch_size = pbatch2)"
   ]
  },
  {
   "cell_type": "markdown",
   "metadata": {
    "id": "gwpyImwA3yon"
   },
   "source": [
    "## Parte 3 - Fazer as previsões e analisar os resultados"
   ]
  },
  {
   "cell_type": "markdown",
   "metadata": {
    "id": "wkXRvDjT4V-B"
   },
   "source": [
    "### Base de teste"
   ]
  },
  {
   "cell_type": "code",
   "execution_count": 105,
   "metadata": {
    "id": "Bn_n72dh30K-"
   },
   "outputs": [],
   "source": [
    "dataset_test = test_set\n",
    "PETR4_data_train = pd.DataFrame(PETR4_data_train)\n",
    "PETR4_data_test = pd.DataFrame(PETR4_data_test)"
   ]
  },
  {
   "cell_type": "markdown",
   "metadata": {
    "id": "EOo84exH4bfs"
   },
   "source": [
    "### Construir a estrutura para teste"
   ]
  },
  {
   "cell_type": "code",
   "execution_count": 106,
   "metadata": {
    "id": "ob_-mGA_B5px"
   },
   "outputs": [],
   "source": [
    "dataset_total = pd.concat((PETR4_data_train.iloc[:,1], PETR4_data_test.iloc[:,1]), axis = 0)\n",
    "testLength = len(dataset_test)\n",
    "inputs = dataset_total[len(dataset_total) - testLength - window:].values\n",
    "inputs = inputs.reshape(inputs.shape[0],1)\n",
    "\n",
    "inputs = sc.transform(inputs)\n",
    "X_test = []\n",
    "for i in range(window, inputs.shape[0]): \n",
    "    X_test.append(inputs[i-window:i, 0])\n",
    "X_test = np.array(X_test)\n",
    "\n",
    "X_test = np.reshape(X_test, (X_test.shape[0], X_test.shape[1], 1))"
   ]
  },
  {
   "cell_type": "markdown",
   "metadata": {
    "id": "rtkB4NA74e1B"
   },
   "source": [
    "### Fazer as previsões"
   ]
  },
  {
   "cell_type": "code",
   "execution_count": 107,
   "metadata": {
    "id": "nKIq1h-E4g9Z"
   },
   "outputs": [],
   "source": [
    "predicted_PETR4 = regressor.predict(X_test)\n",
    "predicted_PETR4 = sc.inverse_transform(predicted_PETR4)"
   ]
  },
  {
   "cell_type": "markdown",
   "metadata": {
    "id": "guvk7yXr4o0g"
   },
   "source": [
    "### Visualizar os resultados de treino e teste"
   ]
  },
  {
   "cell_type": "code",
   "execution_count": 108,
   "metadata": {
    "id": "tstXl2oS4rIo",
    "scrolled": true
   },
   "outputs": [
    {
     "data": {
      "image/png": "[encoded data removed]",
      "text/plain": [
       "<Figure size 432x288 with 1 Axes>"
      ]
     },
     "metadata": {
      "needs_background": "light"
     },
     "output_type": "display_data"
    }
   ],
   "source": [
    "allTargetData = np.vstack((training_set, dataset_test))\n",
    "training_predicted_PETR4 = regressor.predict(X_train)\n",
    "training_predicted_PETR4 = sc.inverse_transform(training_predicted_PETR4)\n",
    "allForecastedData = np.vstack((training_set[0:window], training_predicted_PETR4, predicted_PETR4))\n",
    "plt.plot(allTargetData, color = 'red', label = 'Real')\n",
    "plt.plot(allForecastedData, color = 'blue', label = 'Previsto')\n",
    "plt.title('Previsão de série temporal')\n",
    "plt.xlabel('Tempo')\n",
    "plt.ylabel('Cotação (R$)')\n",
    "plt.legend()\n",
    "plt.savefig('predictions_training_test_25_50_32.svg')\n",
    "plt.show()"
   ]
  },
  {
   "cell_type": "markdown",
   "metadata": {
    "id": "ytEVhQht4we3"
   },
   "source": [
    "## Parte 4 - Métricas de avaliação"
   ]
  },
  {
   "cell_type": "code",
   "execution_count": 109,
   "metadata": {
    "id": "rqOonVj64ydu",
    "scrolled": true
   },
   "outputs": [
    {
     "name": "stdout",
     "output_type": "stream",
     "text": [
      "RMSE: 2.8483677567305237\n"
     ]
    }
   ],
   "source": [
    "import math\n",
    "from sklearn.metrics import mean_squared_error\n",
    "rmse = math.sqrt(mean_squared_error(dataset_test, predicted_PETR4))\n",
    "print('RMSE:', rmse)"
   ]
  },
  {
   "cell_type": "code",
   "execution_count": 110,
   "metadata": {
    "id": "ODeley1K42WW"
   },
   "outputs": [
    {
     "name": "stdout",
     "output_type": "stream",
     "text": [
      "MSE: 8.113198877582075\n"
     ]
    }
   ],
   "source": [
    "mse = mean_squared_error(dataset_test, predicted_PETR4)\n",
    "print('MSE:',mse)"
   ]
  },
  {
   "cell_type": "code",
   "execution_count": 111,
   "metadata": {
    "id": "L7_uU_8T44QA"
   },
   "outputs": [
    {
     "name": "stdout",
     "output_type": "stream",
     "text": [
      "MAPE: 8.56463017614141 %\n"
     ]
    }
   ],
   "source": [
    "mape = np.mean(np.abs((dataset_test-predicted_PETR4) /dataset_test)) * 100\n",
    "print('MAPE:',mape.iloc[0], '%')"
   ]
  },
  {
   "cell_type": "code",
   "execution_count": 112,
   "metadata": {
    "id": "LnCgdBS0vGCz"
   },
   "outputs": [
    {
     "name": "stdout",
     "output_type": "stream",
     "text": [
      "R2: 0.6698474313404805\n"
     ]
    }
   ],
   "source": [
    "from sklearn.metrics import r2_score\n",
    "r2 = r2_score(dataset_test,predicted_PETR4)\n",
    "print('R2:', r2)"
   ]
  },
  {
   "cell_type": "code",
   "execution_count": 113,
   "metadata": {},
   "outputs": [
    {
     "name": "stdout",
     "output_type": "stream",
     "text": [
      "R2Adj: 0.6691818011617315\n"
     ]
    }
   ],
   "source": [
    "adj_r2 = (1 - (1 - r2) * ((predicted_PETR4.shape[0] - 1) / \n",
    "          (predicted_PETR4.shape[0] - predicted_PETR4.shape[1] - 1)))\n",
    "print('R2Adj:',adj_r2)"
   ]
  },
  {
   "cell_type": "code",
   "execution_count": 114,
   "metadata": {},
   "outputs": [],
   "source": [
    "# results = np.array([pwindow,pepochs2,pbatch2,rmse,mse,mape.iloc[0],r2,adj_r2]) "
   ]
  },
  {
   "cell_type": "code",
   "execution_count": 115,
   "metadata": {},
   "outputs": [],
   "source": [
    "data = pd.array([pwindow,pepochs2,pbatch2,rmse,mse,mape.iloc[0],r2,adj_r2])"
   ]
  },
  {
   "cell_type": "code",
   "execution_count": 116,
   "metadata": {},
   "outputs": [],
   "source": [
    "results = np.column_stack((results, data))"
   ]
  },
  {
   "cell_type": "code",
   "execution_count": 117,
   "metadata": {
    "scrolled": true
   },
   "outputs": [
    {
     "name": "stdout",
     "output_type": "stream",
     "text": [
      "[[ 50.          50.          50.          50.          50.        ]\n",
      " [ 25.          25.          25.          50.          50.        ]\n",
      " [ 32.          64.         128.          32.          64.        ]\n",
      " [  2.77403152   2.55620377   2.92284036   2.30914615   2.84836776]\n",
      " [  7.69525086   6.53417772   8.54299578   5.33215595   8.11319888]\n",
      " [  8.83990801   7.82641336   9.44663147   6.85163917   8.56463018]\n",
      " [  0.6868551    0.73410296   0.65235759   0.78301715   0.66984743]\n",
      " [  0.68622376   0.73356688   0.6516567    0.78257969   0.6691818 ]]\n"
     ]
    }
   ],
   "source": [
    "print(results)"
   ]
  },
  {
   "cell_type": "markdown",
   "metadata": {},
   "source": [
    "### Parâmetros para esta análise"
   ]
  },
  {
   "cell_type": "code",
   "execution_count": 118,
   "metadata": {},
   "outputs": [],
   "source": [
    "pwindow = 50\n",
    "pepochs1 = 25\n",
    "pepochs2 = 50\n",
    "pepochs3 = 100\n",
    "pbatch1 = 32\n",
    "pbatch2 = 64\n",
    "pbatch3 = 128"
   ]
  },
  {
   "cell_type": "markdown",
   "metadata": {
    "id": "7p1F7HdB2uJU"
   },
   "source": [
    "### Normalização"
   ]
  },
  {
   "cell_type": "code",
   "execution_count": 119,
   "metadata": {
    "id": "foeHRZr-2u-L"
   },
   "outputs": [],
   "source": [
    "from sklearn.preprocessing import MinMaxScaler\n",
    "sc = MinMaxScaler(feature_range = (0, 1))\n",
    "training_set_scaled = sc.fit_transform(training_set)"
   ]
  },
  {
   "cell_type": "markdown",
   "metadata": {
    "id": "uQP8Q7MI21Y9"
   },
   "source": [
    "### Criar a estrutura de dados com janela 10 e output 1"
   ]
  },
  {
   "cell_type": "code",
   "execution_count": 120,
   "metadata": {
    "id": "C6Ge9ql922cb"
   },
   "outputs": [],
   "source": [
    "window = pwindow\n",
    "trainSize = len(training_set_scaled)\n",
    "X_train = []\n",
    "y_train = []\n",
    "for i in range(window, trainSize):\n",
    "    X_train.append(training_set_scaled[i-window:i, 0])\n",
    "    y_train.append(training_set_scaled[i, 0])\n",
    "X_train, y_train = np.array(X_train), np.array(y_train)"
   ]
  },
  {
   "cell_type": "markdown",
   "metadata": {
    "id": "LPBC2LoG24dU"
   },
   "source": [
    "### Reshaping"
   ]
  },
  {
   "cell_type": "code",
   "execution_count": 121,
   "metadata": {
    "id": "oGwgQUDbdmnS"
   },
   "outputs": [
    {
     "data": {
      "text/plain": [
       "(199, 50)"
      ]
     },
     "execution_count": 121,
     "metadata": {},
     "output_type": "execute_result"
    }
   ],
   "source": [
    "X_train.shape"
   ]
  },
  {
   "cell_type": "markdown",
   "metadata": {
    "id": "AEVcR-Uju5TX"
   },
   "source": [
    "Shape de input da lstm = (batch_size, timesteps, features)"
   ]
  },
  {
   "cell_type": "code",
   "execution_count": 122,
   "metadata": {
    "id": "b9ZfLlGH25fr"
   },
   "outputs": [],
   "source": [
    "X_train = np.reshape(X_train, (X_train.shape[0], X_train.shape[1], 1))"
   ]
  },
  {
   "cell_type": "code",
   "execution_count": 123,
   "metadata": {
    "id": "RxU0axM9diHO"
   },
   "outputs": [
    {
     "data": {
      "text/plain": [
       "(199, 50, 1)"
      ]
     },
     "execution_count": 123,
     "metadata": {},
     "output_type": "execute_result"
    }
   ],
   "source": [
    "X_train.shape"
   ]
  },
  {
   "cell_type": "markdown",
   "metadata": {
    "id": "fZhjp7Tf282b"
   },
   "source": [
    "## Parte 2 - Construção da RNN"
   ]
  },
  {
   "cell_type": "markdown",
   "metadata": {
    "id": "RDkAxmMl3EXr"
   },
   "source": [
    "### Bibliotecas necessárias"
   ]
  },
  {
   "cell_type": "code",
   "execution_count": 124,
   "metadata": {
    "id": "Ifhh9yUo3DpT"
   },
   "outputs": [],
   "source": [
    "from keras.models import Sequential\n",
    "from keras.layers import Dense\n",
    "from keras.layers import LSTM\n",
    "from keras.layers import Dropout"
   ]
  },
  {
   "cell_type": "markdown",
   "metadata": {
    "id": "kordpD0_3H7b"
   },
   "source": [
    "### Construção da Rede completa"
   ]
  },
  {
   "cell_type": "code",
   "execution_count": 125,
   "metadata": {
    "scrolled": true
   },
   "outputs": [
    {
     "name": "stdout",
     "output_type": "stream",
     "text": [
      "Model: \"sequential_5\"\n",
      "_________________________________________________________________\n",
      "Layer (type)                 Output Shape              Param #   \n",
      "=================================================================\n",
      "lstm_15 (LSTM)               (None, 50, 100)           40800     \n",
      "_________________________________________________________________\n",
      "dropout_15 (Dropout)         (None, 50, 100)           0         \n",
      "_________________________________________________________________\n",
      "lstm_16 (LSTM)               (None, 50, 80)            57920     \n",
      "_________________________________________________________________\n",
      "dropout_16 (Dropout)         (None, 50, 80)            0         \n",
      "_________________________________________________________________\n",
      "lstm_17 (LSTM)               (None, 50)                26200     \n",
      "_________________________________________________________________\n",
      "dropout_17 (Dropout)         (None, 50)                0         \n",
      "_________________________________________________________________\n",
      "dense_5 (Dense)              (None, 1)                 51        \n",
      "=================================================================\n",
      "Total params: 124,971\n",
      "Trainable params: 124,971\n",
      "Non-trainable params: 0\n",
      "_________________________________________________________________\n"
     ]
    }
   ],
   "source": [
    "# Inicializar a RNN\n",
    "regressor = Sequential()\n",
    "\n",
    "# Adicionar a primeira camada LSTM e Dropout \n",
    "regressor.add(LSTM(units = 100, return_sequences = True, input_shape = (X_train.shape[1], 1)))\n",
    "regressor.add(Dropout(0.2))\n",
    " \n",
    "# Adicionar a segunda camada LSTM e Dropout\n",
    "regressor.add(LSTM(units = 80, return_sequences = True))\n",
    "regressor.add(Dropout(0.2))\n",
    " \n",
    "# Adicionar a terceira camada LSTM e Dropout\n",
    "regressor.add(LSTM(units = 50))\n",
    "regressor.add(Dropout(0.2))\n",
    " \n",
    "# camada de saída\n",
    "regressor.add(Dense(units = 1))\n",
    " \n",
    "# Compilar a rede\n",
    "regressor.compile(optimizer = 'adam', loss = 'mean_squared_error')\n",
    "\n",
    "# Visualizar a rede\n",
    "regressor.summary()  "
   ]
  },
  {
   "cell_type": "markdown",
   "metadata": {
    "id": "5j1w28g83iSR"
   },
   "source": [
    "### Treinamento"
   ]
  },
  {
   "cell_type": "code",
   "execution_count": 126,
   "metadata": {
    "scrolled": true
   },
   "outputs": [
    {
     "name": "stdout",
     "output_type": "stream",
     "text": [
      "Epoch 1/50\n",
      "2/2 [==============================] - 0s 53ms/step - loss: 0.0570\n",
      "Epoch 2/50\n",
      "2/2 [==============================] - 0s 40ms/step - loss: 0.0184\n",
      "Epoch 3/50\n",
      "2/2 [==============================] - 0s 42ms/step - loss: 0.0176\n",
      "Epoch 4/50\n",
      "2/2 [==============================] - 0s 43ms/step - loss: 0.0106\n",
      "Epoch 5/50\n",
      "2/2 [==============================] - 0s 43ms/step - loss: 0.0124\n",
      "Epoch 6/50\n",
      "2/2 [==============================] - 0s 46ms/step - loss: 0.0115\n",
      "Epoch 7/50\n",
      "2/2 [==============================] - 0s 42ms/step - loss: 0.0087\n",
      "Epoch 8/50\n",
      "2/2 [==============================] - 0s 46ms/step - loss: 0.0084\n",
      "Epoch 9/50\n",
      "2/2 [==============================] - 0s 45ms/step - loss: 0.0082\n",
      "Epoch 10/50\n",
      "2/2 [==============================] - 0s 43ms/step - loss: 0.0078\n",
      "Epoch 11/50\n",
      "2/2 [==============================] - 0s 48ms/step - loss: 0.0066\n",
      "Epoch 12/50\n",
      "2/2 [==============================] - 0s 42ms/step - loss: 0.0071\n",
      "Epoch 13/50\n",
      "2/2 [==============================] - 0s 41ms/step - loss: 0.0073\n",
      "Epoch 14/50\n",
      "2/2 [==============================] - 0s 41ms/step - loss: 0.0068\n",
      "Epoch 15/50\n",
      "2/2 [==============================] - 0s 40ms/step - loss: 0.0064\n",
      "Epoch 16/50\n",
      "2/2 [==============================] - 0s 44ms/step - loss: 0.0059\n",
      "Epoch 17/50\n",
      "2/2 [==============================] - 0s 40ms/step - loss: 0.0060\n",
      "Epoch 18/50\n",
      "2/2 [==============================] - 0s 41ms/step - loss: 0.0059\n",
      "Epoch 19/50\n",
      "2/2 [==============================] - 0s 44ms/step - loss: 0.0059\n",
      "Epoch 20/50\n",
      "2/2 [==============================] - 0s 41ms/step - loss: 0.0057\n",
      "Epoch 21/50\n",
      "2/2 [==============================] - 0s 42ms/step - loss: 0.0051\n",
      "Epoch 22/50\n",
      "2/2 [==============================] - 0s 43ms/step - loss: 0.0055\n",
      "Epoch 23/50\n",
      "2/2 [==============================] - 0s 42ms/step - loss: 0.0051\n",
      "Epoch 24/50\n",
      "2/2 [==============================] - 0s 42ms/step - loss: 0.0046\n",
      "Epoch 25/50\n",
      "2/2 [==============================] - 0s 41ms/step - loss: 0.0055\n",
      "Epoch 26/50\n",
      "2/2 [==============================] - 0s 41ms/step - loss: 0.0049\n",
      "Epoch 27/50\n",
      "2/2 [==============================] - 0s 41ms/step - loss: 0.0054\n",
      "Epoch 28/50\n",
      "2/2 [==============================] - 0s 42ms/step - loss: 0.0051\n",
      "Epoch 29/50\n",
      "2/2 [==============================] - 0s 44ms/step - loss: 0.0052\n",
      "Epoch 30/50\n",
      "2/2 [==============================] - 0s 42ms/step - loss: 0.0055\n",
      "Epoch 31/50\n",
      "2/2 [==============================] - 0s 45ms/step - loss: 0.0055\n",
      "Epoch 32/50\n",
      "2/2 [==============================] - 0s 42ms/step - loss: 0.0052\n",
      "Epoch 33/50\n",
      "2/2 [==============================] - 0s 51ms/step - loss: 0.0052\n",
      "Epoch 34/50\n",
      "2/2 [==============================] - 0s 44ms/step - loss: 0.0049\n",
      "Epoch 35/50\n",
      "2/2 [==============================] - 0s 41ms/step - loss: 0.0045\n",
      "Epoch 36/50\n",
      "2/2 [==============================] - 0s 42ms/step - loss: 0.0050\n",
      "Epoch 37/50\n",
      "2/2 [==============================] - 0s 40ms/step - loss: 0.0049\n",
      "Epoch 38/50\n",
      "2/2 [==============================] - 0s 44ms/step - loss: 0.0053\n",
      "Epoch 39/50\n",
      "2/2 [==============================] - 0s 42ms/step - loss: 0.0048\n",
      "Epoch 40/50\n",
      "2/2 [==============================] - 0s 44ms/step - loss: 0.0050\n",
      "Epoch 41/50\n",
      "2/2 [==============================] - 0s 44ms/step - loss: 0.0046\n",
      "Epoch 42/50\n",
      "2/2 [==============================] - 0s 45ms/step - loss: 0.0051\n",
      "Epoch 43/50\n",
      "2/2 [==============================] - 0s 43ms/step - loss: 0.0048\n",
      "Epoch 44/50\n",
      "2/2 [==============================] - 0s 48ms/step - loss: 0.0048\n",
      "Epoch 45/50\n",
      "2/2 [==============================] - 0s 44ms/step - loss: 0.0047\n",
      "Epoch 46/50\n",
      "2/2 [==============================] - 0s 47ms/step - loss: 0.0048\n",
      "Epoch 47/50\n",
      "2/2 [==============================] - 0s 47ms/step - loss: 0.0048\n",
      "Epoch 48/50\n",
      "2/2 [==============================] - 0s 42ms/step - loss: 0.0043\n",
      "Epoch 49/50\n",
      "2/2 [==============================] - 0s 43ms/step - loss: 0.0051\n",
      "Epoch 50/50\n",
      "2/2 [==============================] - 0s 47ms/step - loss: 0.0045\n"
     ]
    }
   ],
   "source": [
    "history = regressor.fit(X_train, y_train, epochs = pepochs2, batch_size = pbatch3)"
   ]
  },
  {
   "cell_type": "markdown",
   "metadata": {
    "id": "gwpyImwA3yon"
   },
   "source": [
    "## Parte 3 - Fazer as previsões e analisar os resultados"
   ]
  },
  {
   "cell_type": "markdown",
   "metadata": {
    "id": "wkXRvDjT4V-B"
   },
   "source": [
    "### Base de teste"
   ]
  },
  {
   "cell_type": "code",
   "execution_count": 127,
   "metadata": {
    "id": "Bn_n72dh30K-"
   },
   "outputs": [],
   "source": [
    "dataset_test = test_set\n",
    "PETR4_data_train = pd.DataFrame(PETR4_data_train)\n",
    "PETR4_data_test = pd.DataFrame(PETR4_data_test)"
   ]
  },
  {
   "cell_type": "markdown",
   "metadata": {
    "id": "EOo84exH4bfs"
   },
   "source": [
    "### Construir a estrutura para teste"
   ]
  },
  {
   "cell_type": "code",
   "execution_count": 128,
   "metadata": {
    "id": "ob_-mGA_B5px"
   },
   "outputs": [],
   "source": [
    "dataset_total = pd.concat((PETR4_data_train.iloc[:,1], PETR4_data_test.iloc[:,1]), axis = 0)\n",
    "testLength = len(dataset_test)\n",
    "inputs = dataset_total[len(dataset_total) - testLength - window:].values\n",
    "inputs = inputs.reshape(inputs.shape[0],1)\n",
    "\n",
    "inputs = sc.transform(inputs)\n",
    "X_test = []\n",
    "for i in range(window, inputs.shape[0]): \n",
    "    X_test.append(inputs[i-window:i, 0])\n",
    "X_test = np.array(X_test)\n",
    "\n",
    "X_test = np.reshape(X_test, (X_test.shape[0], X_test.shape[1], 1))"
   ]
  },
  {
   "cell_type": "markdown",
   "metadata": {
    "id": "rtkB4NA74e1B"
   },
   "source": [
    "### Fazer as previsões"
   ]
  },
  {
   "cell_type": "code",
   "execution_count": 129,
   "metadata": {
    "id": "nKIq1h-E4g9Z"
   },
   "outputs": [],
   "source": [
    "predicted_PETR4 = regressor.predict(X_test)\n",
    "predicted_PETR4 = sc.inverse_transform(predicted_PETR4)"
   ]
  },
  {
   "cell_type": "markdown",
   "metadata": {
    "id": "guvk7yXr4o0g"
   },
   "source": [
    "### Visualizar os resultados de treino e teste"
   ]
  },
  {
   "cell_type": "code",
   "execution_count": 130,
   "metadata": {
    "id": "tstXl2oS4rIo",
    "scrolled": true
   },
   "outputs": [
    {
     "data": {
      "image/png": "[encoded data removed]",
      "text/plain": [
       "<Figure size 432x288 with 1 Axes>"
      ]
     },
     "metadata": {
      "needs_background": "light"
     },
     "output_type": "display_data"
    }
   ],
   "source": [
    "allTargetData = np.vstack((training_set, dataset_test))\n",
    "training_predicted_PETR4 = regressor.predict(X_train)\n",
    "training_predicted_PETR4 = sc.inverse_transform(training_predicted_PETR4)\n",
    "allForecastedData = np.vstack((training_set[0:window], training_predicted_PETR4, predicted_PETR4))\n",
    "plt.plot(allTargetData, color = 'red', label = 'Real')\n",
    "plt.plot(allForecastedData, color = 'blue', label = 'Previsto')\n",
    "plt.title('Previsão de série temporal')\n",
    "plt.xlabel('Tempo')\n",
    "plt.ylabel('Cotação (R$)')\n",
    "plt.legend()\n",
    "plt.savefig('predictions_training_test_25_50_32.svg')\n",
    "plt.show()"
   ]
  },
  {
   "cell_type": "markdown",
   "metadata": {
    "id": "ytEVhQht4we3"
   },
   "source": [
    "## Parte 4 - Métricas de avaliação"
   ]
  },
  {
   "cell_type": "code",
   "execution_count": 131,
   "metadata": {
    "id": "rqOonVj64ydu",
    "scrolled": true
   },
   "outputs": [
    {
     "name": "stdout",
     "output_type": "stream",
     "text": [
      "RMSE: 2.7261897736905207\n"
     ]
    }
   ],
   "source": [
    "import math\n",
    "from sklearn.metrics import mean_squared_error\n",
    "rmse = math.sqrt(mean_squared_error(dataset_test, predicted_PETR4))\n",
    "print('RMSE:', rmse)"
   ]
  },
  {
   "cell_type": "code",
   "execution_count": 132,
   "metadata": {
    "id": "ODeley1K42WW"
   },
   "outputs": [
    {
     "name": "stdout",
     "output_type": "stream",
     "text": [
      "MSE: 7.432110682174773\n"
     ]
    }
   ],
   "source": [
    "mse = mean_squared_error(dataset_test, predicted_PETR4)\n",
    "print('MSE:',mse)"
   ]
  },
  {
   "cell_type": "code",
   "execution_count": 133,
   "metadata": {
    "id": "L7_uU_8T44QA"
   },
   "outputs": [
    {
     "name": "stdout",
     "output_type": "stream",
     "text": [
      "MAPE: 8.718327294605412 %\n"
     ]
    }
   ],
   "source": [
    "mape = np.mean(np.abs((dataset_test-predicted_PETR4) /dataset_test)) * 100\n",
    "print('MAPE:',mape.iloc[0], '%')"
   ]
  },
  {
   "cell_type": "code",
   "execution_count": 134,
   "metadata": {
    "id": "LnCgdBS0vGCz"
   },
   "outputs": [
    {
     "name": "stdout",
     "output_type": "stream",
     "text": [
      "R2: 0.6975631351695492\n"
     ]
    }
   ],
   "source": [
    "from sklearn.metrics import r2_score\n",
    "r2 = r2_score(dataset_test,predicted_PETR4)\n",
    "print('R2:', r2)"
   ]
  },
  {
   "cell_type": "code",
   "execution_count": 135,
   "metadata": {},
   "outputs": [
    {
     "name": "stdout",
     "output_type": "stream",
     "text": [
      "R2Adj: 0.6969533834259394\n"
     ]
    }
   ],
   "source": [
    "adj_r2 = (1 - (1 - r2) * ((predicted_PETR4.shape[0] - 1) / \n",
    "          (predicted_PETR4.shape[0] - predicted_PETR4.shape[1] - 1)))\n",
    "print('R2Adj:',adj_r2)"
   ]
  },
  {
   "cell_type": "code",
   "execution_count": 136,
   "metadata": {},
   "outputs": [],
   "source": [
    "# results = np.array([pwindow,pepochs1,pbatch1,rmse,mse,mape.iloc[0],r2,adj_r2]) "
   ]
  },
  {
   "cell_type": "code",
   "execution_count": 137,
   "metadata": {},
   "outputs": [],
   "source": [
    "data = pd.array([pwindow,pepochs2,pbatch3,rmse,mse,mape.iloc[0],r2,adj_r2])"
   ]
  },
  {
   "cell_type": "code",
   "execution_count": 138,
   "metadata": {},
   "outputs": [],
   "source": [
    "results = np.column_stack((results, data))"
   ]
  },
  {
   "cell_type": "code",
   "execution_count": 139,
   "metadata": {
    "scrolled": true
   },
   "outputs": [
    {
     "name": "stdout",
     "output_type": "stream",
     "text": [
      "[[ 50.          50.          50.          50.          50.\n",
      "   50.        ]\n",
      " [ 25.          25.          25.          50.          50.\n",
      "   50.        ]\n",
      " [ 32.          64.         128.          32.          64.\n",
      "  128.        ]\n",
      " [  2.77403152   2.55620377   2.92284036   2.30914615   2.84836776\n",
      "    2.72618977]\n",
      " [  7.69525086   6.53417772   8.54299578   5.33215595   8.11319888\n",
      "    7.43211068]\n",
      " [  8.83990801   7.82641336   9.44663147   6.85163917   8.56463018\n",
      "    8.71832729]\n",
      " [  0.6868551    0.73410296   0.65235759   0.78301715   0.66984743\n",
      "    0.69756314]\n",
      " [  0.68622376   0.73356688   0.6516567    0.78257969   0.6691818\n",
      "    0.69695338]]\n"
     ]
    }
   ],
   "source": [
    "print(results)"
   ]
  },
  {
   "cell_type": "markdown",
   "metadata": {},
   "source": [
    "### Parâmetros para esta análise"
   ]
  },
  {
   "cell_type": "code",
   "execution_count": 140,
   "metadata": {},
   "outputs": [],
   "source": [
    "pwindow =50\n",
    "pepochs1 = 25\n",
    "pepochs2 = 50\n",
    "pepochs3 = 100\n",
    "pbatch1 = 32\n",
    "pbatch2 = 64\n",
    "pbatch3 = 128"
   ]
  },
  {
   "cell_type": "markdown",
   "metadata": {
    "id": "7p1F7HdB2uJU"
   },
   "source": [
    "### Normalização"
   ]
  },
  {
   "cell_type": "code",
   "execution_count": 141,
   "metadata": {
    "id": "foeHRZr-2u-L"
   },
   "outputs": [],
   "source": [
    "from sklearn.preprocessing import MinMaxScaler\n",
    "sc = MinMaxScaler(feature_range = (0, 1))\n",
    "training_set_scaled = sc.fit_transform(training_set)"
   ]
  },
  {
   "cell_type": "markdown",
   "metadata": {
    "id": "uQP8Q7MI21Y9"
   },
   "source": [
    "### Criar a estrutura de dados com janela 10 e output 1"
   ]
  },
  {
   "cell_type": "code",
   "execution_count": 142,
   "metadata": {
    "id": "C6Ge9ql922cb"
   },
   "outputs": [],
   "source": [
    "window = pwindow\n",
    "trainSize = len(training_set_scaled)\n",
    "X_train = []\n",
    "y_train = []\n",
    "for i in range(window, trainSize):\n",
    "    X_train.append(training_set_scaled[i-window:i, 0])\n",
    "    y_train.append(training_set_scaled[i, 0])\n",
    "X_train, y_train = np.array(X_train), np.array(y_train)"
   ]
  },
  {
   "cell_type": "markdown",
   "metadata": {
    "id": "LPBC2LoG24dU"
   },
   "source": [
    "### Reshaping"
   ]
  },
  {
   "cell_type": "code",
   "execution_count": 143,
   "metadata": {
    "id": "oGwgQUDbdmnS"
   },
   "outputs": [
    {
     "data": {
      "text/plain": [
       "(199, 50)"
      ]
     },
     "execution_count": 143,
     "metadata": {},
     "output_type": "execute_result"
    }
   ],
   "source": [
    "X_train.shape"
   ]
  },
  {
   "cell_type": "markdown",
   "metadata": {
    "id": "AEVcR-Uju5TX"
   },
   "source": [
    "Shape de input da lstm = (batch_size, timesteps, features)"
   ]
  },
  {
   "cell_type": "code",
   "execution_count": 144,
   "metadata": {
    "id": "b9ZfLlGH25fr"
   },
   "outputs": [],
   "source": [
    "X_train = np.reshape(X_train, (X_train.shape[0], X_train.shape[1], 1))"
   ]
  },
  {
   "cell_type": "code",
   "execution_count": 145,
   "metadata": {
    "id": "RxU0axM9diHO"
   },
   "outputs": [
    {
     "data": {
      "text/plain": [
       "(199, 50, 1)"
      ]
     },
     "execution_count": 145,
     "metadata": {},
     "output_type": "execute_result"
    }
   ],
   "source": [
    "X_train.shape"
   ]
  },
  {
   "cell_type": "markdown",
   "metadata": {
    "id": "fZhjp7Tf282b"
   },
   "source": [
    "## Parte 2 - Construção da RNN"
   ]
  },
  {
   "cell_type": "markdown",
   "metadata": {
    "id": "RDkAxmMl3EXr"
   },
   "source": [
    "### Bibliotecas necessárias"
   ]
  },
  {
   "cell_type": "code",
   "execution_count": 146,
   "metadata": {
    "id": "Ifhh9yUo3DpT"
   },
   "outputs": [],
   "source": [
    "from keras.models import Sequential\n",
    "from keras.layers import Dense\n",
    "from keras.layers import LSTM\n",
    "from keras.layers import Dropout"
   ]
  },
  {
   "cell_type": "markdown",
   "metadata": {
    "id": "kordpD0_3H7b"
   },
   "source": [
    "### Construção da Rede completa"
   ]
  },
  {
   "cell_type": "code",
   "execution_count": 147,
   "metadata": {
    "scrolled": true
   },
   "outputs": [
    {
     "name": "stdout",
     "output_type": "stream",
     "text": [
      "Model: \"sequential_6\"\n",
      "_________________________________________________________________\n",
      "Layer (type)                 Output Shape              Param #   \n",
      "=================================================================\n",
      "lstm_18 (LSTM)               (None, 50, 100)           40800     \n",
      "_________________________________________________________________\n",
      "dropout_18 (Dropout)         (None, 50, 100)           0         \n",
      "_________________________________________________________________\n",
      "lstm_19 (LSTM)               (None, 50, 80)            57920     \n",
      "_________________________________________________________________\n",
      "dropout_19 (Dropout)         (None, 50, 80)            0         \n",
      "_________________________________________________________________\n",
      "lstm_20 (LSTM)               (None, 50)                26200     \n",
      "_________________________________________________________________\n",
      "dropout_20 (Dropout)         (None, 50)                0         \n",
      "_________________________________________________________________\n",
      "dense_6 (Dense)              (None, 1)                 51        \n",
      "=================================================================\n",
      "Total params: 124,971\n",
      "Trainable params: 124,971\n",
      "Non-trainable params: 0\n",
      "_________________________________________________________________\n"
     ]
    }
   ],
   "source": [
    "# Inicializar a RNN\n",
    "regressor = Sequential()\n",
    "\n",
    "# Adicionar a primeira camada LSTM e Dropout \n",
    "regressor.add(LSTM(units = 100, return_sequences = True, input_shape = (X_train.shape[1], 1)))\n",
    "regressor.add(Dropout(0.2))\n",
    " \n",
    "# Adicionar a segunda camada LSTM e Dropout\n",
    "regressor.add(LSTM(units = 80, return_sequences = True))\n",
    "regressor.add(Dropout(0.2))\n",
    " \n",
    "# Adicionar a terceira camada LSTM e Dropout\n",
    "regressor.add(LSTM(units = 50))\n",
    "regressor.add(Dropout(0.2))\n",
    " \n",
    "# camada de saída\n",
    "regressor.add(Dense(units = 1))\n",
    " \n",
    "# Compilar a rede\n",
    "regressor.compile(optimizer = 'adam', loss = 'mean_squared_error')\n",
    "\n",
    "# Visualizar a rede\n",
    "regressor.summary()  "
   ]
  },
  {
   "cell_type": "markdown",
   "metadata": {
    "id": "5j1w28g83iSR"
   },
   "source": [
    "### Treinamento"
   ]
  },
  {
   "cell_type": "code",
   "execution_count": 148,
   "metadata": {
    "scrolled": true
   },
   "outputs": [
    {
     "name": "stdout",
     "output_type": "stream",
     "text": [
      "Epoch 1/100\n",
      "7/7 [==============================] - 0s 43ms/step - loss: 0.0316\n",
      "Epoch 2/100\n",
      "7/7 [==============================] - 0s 43ms/step - loss: 0.0104\n",
      "Epoch 3/100\n",
      "7/7 [==============================] - 0s 39ms/step - loss: 0.0075\n",
      "Epoch 4/100\n",
      "7/7 [==============================] - 0s 36ms/step - loss: 0.0074\n",
      "Epoch 5/100\n",
      "7/7 [==============================] - 0s 38ms/step - loss: 0.0069\n",
      "Epoch 6/100\n",
      "7/7 [==============================] - 0s 40ms/step - loss: 0.0063\n",
      "Epoch 7/100\n",
      "7/7 [==============================] - 0s 43ms/step - loss: 0.0058\n",
      "Epoch 8/100\n",
      "7/7 [==============================] - 0s 42ms/step - loss: 0.0058\n",
      "Epoch 9/100\n",
      "7/7 [==============================] - 0s 45ms/step - loss: 0.0060\n",
      "Epoch 10/100\n",
      "7/7 [==============================] - 0s 45ms/step - loss: 0.0053\n",
      "Epoch 11/100\n",
      "7/7 [==============================] - 0s 45ms/step - loss: 0.0056\n",
      "Epoch 12/100\n",
      "7/7 [==============================] - 0s 45ms/step - loss: 0.0061\n",
      "Epoch 13/100\n",
      "7/7 [==============================] - 0s 46ms/step - loss: 0.0051\n",
      "Epoch 14/100\n",
      "7/7 [==============================] - 0s 45ms/step - loss: 0.0059\n",
      "Epoch 15/100\n",
      "7/7 [==============================] - 0s 44ms/step - loss: 0.0057\n",
      "Epoch 16/100\n",
      "7/7 [==============================] - 0s 44ms/step - loss: 0.0056\n",
      "Epoch 17/100\n",
      "7/7 [==============================] - 0s 43ms/step - loss: 0.0053\n",
      "Epoch 18/100\n",
      "7/7 [==============================] - 0s 44ms/step - loss: 0.0046\n",
      "Epoch 19/100\n",
      "7/7 [==============================] - 0s 44ms/step - loss: 0.0051\n",
      "Epoch 20/100\n",
      "7/7 [==============================] - 0s 46ms/step - loss: 0.0046\n",
      "Epoch 21/100\n",
      "7/7 [==============================] - 0s 44ms/step - loss: 0.0048\n",
      "Epoch 22/100\n",
      "7/7 [==============================] - 0s 44ms/step - loss: 0.0048\n",
      "Epoch 23/100\n",
      "7/7 [==============================] - 0s 45ms/step - loss: 0.0046\n",
      "Epoch 24/100\n",
      "7/7 [==============================] - 0s 43ms/step - loss: 0.0040\n",
      "Epoch 25/100\n",
      "7/7 [==============================] - 0s 43ms/step - loss: 0.0047\n",
      "Epoch 26/100\n",
      "7/7 [==============================] - 0s 45ms/step - loss: 0.0044\n",
      "Epoch 27/100\n",
      "7/7 [==============================] - 0s 46ms/step - loss: 0.0040\n",
      "Epoch 28/100\n",
      "7/7 [==============================] - 0s 45ms/step - loss: 0.0038\n",
      "Epoch 29/100\n",
      "7/7 [==============================] - 0s 45ms/step - loss: 0.0038\n",
      "Epoch 30/100\n",
      "7/7 [==============================] - 0s 45ms/step - loss: 0.0038\n",
      "Epoch 31/100\n",
      "7/7 [==============================] - 0s 46ms/step - loss: 0.0032\n",
      "Epoch 32/100\n",
      "7/7 [==============================] - 0s 41ms/step - loss: 0.0034\n",
      "Epoch 33/100\n",
      "7/7 [==============================] - 0s 39ms/step - loss: 0.0036\n",
      "Epoch 34/100\n",
      "7/7 [==============================] - 0s 42ms/step - loss: 0.0031\n",
      "Epoch 35/100\n",
      "7/7 [==============================] - 0s 45ms/step - loss: 0.0036\n",
      "Epoch 36/100\n",
      "7/7 [==============================] - 0s 41ms/step - loss: 0.0032\n",
      "Epoch 37/100\n",
      "7/7 [==============================] - 0s 46ms/step - loss: 0.0037\n",
      "Epoch 38/100\n",
      "7/7 [==============================] - 0s 41ms/step - loss: 0.0037\n",
      "Epoch 39/100\n",
      "7/7 [==============================] - 0s 44ms/step - loss: 0.0030\n",
      "Epoch 40/100\n",
      "7/7 [==============================] - 0s 42ms/step - loss: 0.0028\n",
      "Epoch 41/100\n",
      "7/7 [==============================] - 0s 45ms/step - loss: 0.0028\n",
      "Epoch 42/100\n",
      "7/7 [==============================] - 0s 43ms/step - loss: 0.0035\n",
      "Epoch 43/100\n",
      "7/7 [==============================] - 0s 43ms/step - loss: 0.0033\n",
      "Epoch 44/100\n",
      "7/7 [==============================] - 0s 45ms/step - loss: 0.0026\n",
      "Epoch 45/100\n",
      "7/7 [==============================] - 0s 43ms/step - loss: 0.0031\n",
      "Epoch 46/100\n",
      "7/7 [==============================] - 0s 45ms/step - loss: 0.0026\n",
      "Epoch 47/100\n",
      "7/7 [==============================] - 0s 42ms/step - loss: 0.0026\n",
      "Epoch 48/100\n",
      "7/7 [==============================] - 0s 41ms/step - loss: 0.0033\n",
      "Epoch 49/100\n",
      "7/7 [==============================] - 0s 45ms/step - loss: 0.0030\n",
      "Epoch 50/100\n",
      "7/7 [==============================] - 0s 45ms/step - loss: 0.0027\n",
      "Epoch 51/100\n",
      "7/7 [==============================] - 0s 46ms/step - loss: 0.0032\n",
      "Epoch 52/100\n",
      "7/7 [==============================] - 0s 44ms/step - loss: 0.0027\n",
      "Epoch 53/100\n",
      "7/7 [==============================] - 0s 45ms/step - loss: 0.0025\n",
      "Epoch 54/100\n",
      "7/7 [==============================] - 0s 44ms/step - loss: 0.0025\n",
      "Epoch 55/100\n",
      "7/7 [==============================] - 0s 44ms/step - loss: 0.0031\n",
      "Epoch 56/100\n",
      "7/7 [==============================] - 0s 47ms/step - loss: 0.0028\n",
      "Epoch 57/100\n",
      "7/7 [==============================] - 0s 45ms/step - loss: 0.0027\n",
      "Epoch 58/100\n",
      "7/7 [==============================] - 0s 46ms/step - loss: 0.0025\n",
      "Epoch 59/100\n",
      "7/7 [==============================] - 0s 44ms/step - loss: 0.0027\n",
      "Epoch 60/100\n",
      "7/7 [==============================] - 0s 45ms/step - loss: 0.0030\n",
      "Epoch 61/100\n",
      "7/7 [==============================] - 0s 46ms/step - loss: 0.0027\n",
      "Epoch 62/100\n",
      "7/7 [==============================] - 0s 45ms/step - loss: 0.0027\n",
      "Epoch 63/100\n",
      "7/7 [==============================] - 0s 45ms/step - loss: 0.0028\n",
      "Epoch 64/100\n",
      "7/7 [==============================] - 0s 45ms/step - loss: 0.0025\n",
      "Epoch 65/100\n",
      "7/7 [==============================] - 0s 44ms/step - loss: 0.0029\n",
      "Epoch 66/100\n",
      "7/7 [==============================] - 0s 43ms/step - loss: 0.0027\n",
      "Epoch 67/100\n",
      "7/7 [==============================] - 0s 43ms/step - loss: 0.0031\n",
      "Epoch 68/100\n",
      "7/7 [==============================] - 0s 44ms/step - loss: 0.0028\n",
      "Epoch 69/100\n",
      "7/7 [==============================] - 0s 44ms/step - loss: 0.0026\n",
      "Epoch 70/100\n",
      "7/7 [==============================] - 0s 45ms/step - loss: 0.0027\n",
      "Epoch 71/100\n",
      "7/7 [==============================] - 0s 45ms/step - loss: 0.0030\n",
      "Epoch 72/100\n",
      "7/7 [==============================] - 0s 44ms/step - loss: 0.0026\n",
      "Epoch 73/100\n",
      "7/7 [==============================] - 0s 45ms/step - loss: 0.0024\n",
      "Epoch 74/100\n",
      "7/7 [==============================] - 0s 46ms/step - loss: 0.0027\n",
      "Epoch 75/100\n",
      "7/7 [==============================] - 0s 45ms/step - loss: 0.0027\n",
      "Epoch 76/100\n",
      "7/7 [==============================] - 0s 43ms/step - loss: 0.0024\n",
      "Epoch 77/100\n",
      "7/7 [==============================] - 0s 45ms/step - loss: 0.0027\n",
      "Epoch 78/100\n",
      "7/7 [==============================] - 0s 42ms/step - loss: 0.0027\n",
      "Epoch 79/100\n",
      "7/7 [==============================] - 0s 46ms/step - loss: 0.0025\n",
      "Epoch 80/100\n",
      "7/7 [==============================] - 0s 45ms/step - loss: 0.0023\n",
      "Epoch 81/100\n",
      "7/7 [==============================] - 0s 43ms/step - loss: 0.0027\n",
      "Epoch 82/100\n",
      "7/7 [==============================] - 0s 44ms/step - loss: 0.0028\n",
      "Epoch 83/100\n",
      "7/7 [==============================] - 0s 46ms/step - loss: 0.0025\n",
      "Epoch 84/100\n",
      "7/7 [==============================] - 0s 44ms/step - loss: 0.0026\n",
      "Epoch 85/100\n",
      "7/7 [==============================] - 0s 45ms/step - loss: 0.0026\n",
      "Epoch 86/100\n",
      "7/7 [==============================] - 0s 45ms/step - loss: 0.0022\n",
      "Epoch 87/100\n",
      "7/7 [==============================] - 0s 40ms/step - loss: 0.0024\n",
      "Epoch 88/100\n",
      "7/7 [==============================] - 0s 46ms/step - loss: 0.0027\n",
      "Epoch 89/100\n",
      "7/7 [==============================] - 0s 43ms/step - loss: 0.0027\n",
      "Epoch 90/100\n",
      "7/7 [==============================] - 0s 43ms/step - loss: 0.0028\n",
      "Epoch 91/100\n",
      "7/7 [==============================] - 0s 39ms/step - loss: 0.0028\n",
      "Epoch 92/100\n",
      "7/7 [==============================] - 0s 41ms/step - loss: 0.0027\n",
      "Epoch 93/100\n",
      "7/7 [==============================] - 0s 43ms/step - loss: 0.0027\n",
      "Epoch 94/100\n",
      "7/7 [==============================] - 0s 42ms/step - loss: 0.0024\n",
      "Epoch 95/100\n",
      "7/7 [==============================] - 0s 45ms/step - loss: 0.0024\n",
      "Epoch 96/100\n",
      "7/7 [==============================] - 0s 45ms/step - loss: 0.0024\n",
      "Epoch 97/100\n",
      "7/7 [==============================] - 0s 43ms/step - loss: 0.0020\n",
      "Epoch 98/100\n",
      "7/7 [==============================] - 0s 44ms/step - loss: 0.0024\n",
      "Epoch 99/100\n",
      "7/7 [==============================] - 0s 44ms/step - loss: 0.0024\n",
      "Epoch 100/100\n",
      "7/7 [==============================] - 0s 42ms/step - loss: 0.0024\n"
     ]
    }
   ],
   "source": [
    "history = regressor.fit(X_train, y_train, epochs = pepochs3, batch_size = pbatch1)"
   ]
  },
  {
   "cell_type": "markdown",
   "metadata": {
    "id": "gwpyImwA3yon"
   },
   "source": [
    "## Parte 3 - Fazer as previsões e analisar os resultados"
   ]
  },
  {
   "cell_type": "markdown",
   "metadata": {
    "id": "wkXRvDjT4V-B"
   },
   "source": [
    "### Base de teste"
   ]
  },
  {
   "cell_type": "code",
   "execution_count": 149,
   "metadata": {
    "id": "Bn_n72dh30K-"
   },
   "outputs": [],
   "source": [
    "dataset_test = test_set\n",
    "PETR4_data_train = pd.DataFrame(PETR4_data_train)\n",
    "PETR4_data_test = pd.DataFrame(PETR4_data_test)"
   ]
  },
  {
   "cell_type": "markdown",
   "metadata": {
    "id": "EOo84exH4bfs"
   },
   "source": [
    "### Construir a estrutura para teste"
   ]
  },
  {
   "cell_type": "code",
   "execution_count": 150,
   "metadata": {
    "id": "ob_-mGA_B5px"
   },
   "outputs": [],
   "source": [
    "dataset_total = pd.concat((PETR4_data_train.iloc[:,1], PETR4_data_test.iloc[:,1]), axis = 0)\n",
    "testLength = len(dataset_test)\n",
    "inputs = dataset_total[len(dataset_total) - testLength - window:].values\n",
    "inputs = inputs.reshape(inputs.shape[0],1)\n",
    "\n",
    "inputs = sc.transform(inputs)\n",
    "X_test = []\n",
    "for i in range(window, inputs.shape[0]): \n",
    "    X_test.append(inputs[i-window:i, 0])\n",
    "X_test = np.array(X_test)\n",
    "\n",
    "X_test = np.reshape(X_test, (X_test.shape[0], X_test.shape[1], 1))"
   ]
  },
  {
   "cell_type": "markdown",
   "metadata": {
    "id": "rtkB4NA74e1B"
   },
   "source": [
    "### Fazer as previsões"
   ]
  },
  {
   "cell_type": "code",
   "execution_count": 151,
   "metadata": {
    "id": "nKIq1h-E4g9Z"
   },
   "outputs": [],
   "source": [
    "predicted_PETR4 = regressor.predict(X_test)\n",
    "predicted_PETR4 = sc.inverse_transform(predicted_PETR4)"
   ]
  },
  {
   "cell_type": "markdown",
   "metadata": {
    "id": "guvk7yXr4o0g"
   },
   "source": [
    "### Visualizar os resultados de treino e teste"
   ]
  },
  {
   "cell_type": "code",
   "execution_count": 152,
   "metadata": {
    "id": "tstXl2oS4rIo",
    "scrolled": true
   },
   "outputs": [
    {
     "data": {
      "image/png": "[encoded data removed]",
      "text/plain": [
       "<Figure size 432x288 with 1 Axes>"
      ]
     },
     "metadata": {
      "needs_background": "light"
     },
     "output_type": "display_data"
    }
   ],
   "source": [
    "allTargetData = np.vstack((training_set, dataset_test))\n",
    "training_predicted_PETR4 = regressor.predict(X_train)\n",
    "training_predicted_PETR4 = sc.inverse_transform(training_predicted_PETR4)\n",
    "allForecastedData = np.vstack((training_set[0:window], training_predicted_PETR4, predicted_PETR4))\n",
    "plt.plot(allTargetData, color = 'red', label = 'Real')\n",
    "plt.plot(allForecastedData, color = 'blue', label = 'Previsto')\n",
    "plt.title('Previsão de série temporal')\n",
    "plt.xlabel('Tempo')\n",
    "plt.ylabel('Cotação (R$)')\n",
    "plt.legend()\n",
    "plt.savefig('predictions_training_test_25_50_32.svg')\n",
    "plt.show()"
   ]
  },
  {
   "cell_type": "markdown",
   "metadata": {
    "id": "ytEVhQht4we3"
   },
   "source": [
    "## Parte 4 - Métricas de avaliação"
   ]
  },
  {
   "cell_type": "code",
   "execution_count": 153,
   "metadata": {
    "id": "rqOonVj64ydu",
    "scrolled": true
   },
   "outputs": [
    {
     "name": "stdout",
     "output_type": "stream",
     "text": [
      "RMSE: 3.30536287230325\n"
     ]
    }
   ],
   "source": [
    "import math\n",
    "from sklearn.metrics import mean_squared_error\n",
    "rmse = math.sqrt(mean_squared_error(dataset_test, predicted_PETR4))\n",
    "print('RMSE:', rmse)"
   ]
  },
  {
   "cell_type": "code",
   "execution_count": 154,
   "metadata": {
    "id": "ODeley1K42WW"
   },
   "outputs": [
    {
     "name": "stdout",
     "output_type": "stream",
     "text": [
      "MSE: 10.925423717600792\n"
     ]
    }
   ],
   "source": [
    "mse = mean_squared_error(dataset_test, predicted_PETR4)\n",
    "print('MSE:',mse)"
   ]
  },
  {
   "cell_type": "code",
   "execution_count": 155,
   "metadata": {
    "id": "L7_uU_8T44QA"
   },
   "outputs": [
    {
     "name": "stdout",
     "output_type": "stream",
     "text": [
      "MAPE: 10.295162505246228 %\n"
     ]
    }
   ],
   "source": [
    "mape = np.mean(np.abs((dataset_test-predicted_PETR4) /dataset_test)) * 100\n",
    "print('MAPE:',mape.iloc[0], '%')"
   ]
  },
  {
   "cell_type": "code",
   "execution_count": 156,
   "metadata": {
    "id": "LnCgdBS0vGCz"
   },
   "outputs": [
    {
     "name": "stdout",
     "output_type": "stream",
     "text": [
      "R2: 0.5554088148847984\n"
     ]
    }
   ],
   "source": [
    "from sklearn.metrics import r2_score\n",
    "r2 = r2_score(dataset_test,predicted_PETR4)\n",
    "print('R2:', r2)"
   ]
  },
  {
   "cell_type": "code",
   "execution_count": 157,
   "metadata": {},
   "outputs": [
    {
     "name": "stdout",
     "output_type": "stream",
     "text": [
      "R2Adj: 0.5545124616890017\n"
     ]
    }
   ],
   "source": [
    "adj_r2 = (1 - (1 - r2) * ((predicted_PETR4.shape[0] - 1) / \n",
    "          (predicted_PETR4.shape[0] - predicted_PETR4.shape[1] - 1)))\n",
    "print('R2Adj:',adj_r2)"
   ]
  },
  {
   "cell_type": "code",
   "execution_count": 158,
   "metadata": {},
   "outputs": [],
   "source": [
    "#results = np.array([pwindow,pepochs1,pbatch1,rmse,mse,mape.iloc[0],r2,adj_r2]) "
   ]
  },
  {
   "cell_type": "code",
   "execution_count": 159,
   "metadata": {},
   "outputs": [],
   "source": [
    "data = pd.array([pwindow,pepochs3,pbatch1,rmse,mse,mape.iloc[0],r2,adj_r2])"
   ]
  },
  {
   "cell_type": "code",
   "execution_count": 160,
   "metadata": {},
   "outputs": [],
   "source": [
    "results = np.column_stack((results, data))"
   ]
  },
  {
   "cell_type": "code",
   "execution_count": 161,
   "metadata": {
    "scrolled": true
   },
   "outputs": [
    {
     "name": "stdout",
     "output_type": "stream",
     "text": [
      "[[ 50.          50.          50.          50.          50.\n",
      "   50.          50.        ]\n",
      " [ 25.          25.          25.          50.          50.\n",
      "   50.         100.        ]\n",
      " [ 32.          64.         128.          32.          64.\n",
      "  128.          32.        ]\n",
      " [  2.77403152   2.55620377   2.92284036   2.30914615   2.84836776\n",
      "    2.72618977   3.30536287]\n",
      " [  7.69525086   6.53417772   8.54299578   5.33215595   8.11319888\n",
      "    7.43211068  10.92542372]\n",
      " [  8.83990801   7.82641336   9.44663147   6.85163917   8.56463018\n",
      "    8.71832729  10.29516251]\n",
      " [  0.6868551    0.73410296   0.65235759   0.78301715   0.66984743\n",
      "    0.69756314   0.55540881]\n",
      " [  0.68622376   0.73356688   0.6516567    0.78257969   0.6691818\n",
      "    0.69695338   0.55451246]]\n"
     ]
    }
   ],
   "source": [
    "print(results)"
   ]
  },
  {
   "cell_type": "markdown",
   "metadata": {},
   "source": [
    "### Parâmetros para esta análise"
   ]
  },
  {
   "cell_type": "code",
   "execution_count": 162,
   "metadata": {},
   "outputs": [],
   "source": [
    "pwindow = 50\n",
    "pepochs1 = 25\n",
    "pepochs2 = 50\n",
    "pepochs3 = 100\n",
    "pbatch1 = 32\n",
    "pbatch2 = 64\n",
    "pbatch3 = 128"
   ]
  },
  {
   "cell_type": "markdown",
   "metadata": {
    "id": "7p1F7HdB2uJU"
   },
   "source": [
    "### Normalização"
   ]
  },
  {
   "cell_type": "code",
   "execution_count": 163,
   "metadata": {
    "id": "foeHRZr-2u-L"
   },
   "outputs": [],
   "source": [
    "from sklearn.preprocessing import MinMaxScaler\n",
    "sc = MinMaxScaler(feature_range = (0, 1))\n",
    "training_set_scaled = sc.fit_transform(training_set)"
   ]
  },
  {
   "cell_type": "markdown",
   "metadata": {
    "id": "uQP8Q7MI21Y9"
   },
   "source": [
    "### Criar a estrutura de dados com janela 10 e output 1"
   ]
  },
  {
   "cell_type": "code",
   "execution_count": 164,
   "metadata": {
    "id": "C6Ge9ql922cb"
   },
   "outputs": [],
   "source": [
    "window = pwindow\n",
    "trainSize = len(training_set_scaled)\n",
    "X_train = []\n",
    "y_train = []\n",
    "for i in range(window, trainSize):\n",
    "    X_train.append(training_set_scaled[i-window:i, 0])\n",
    "    y_train.append(training_set_scaled[i, 0])\n",
    "X_train, y_train = np.array(X_train), np.array(y_train)"
   ]
  },
  {
   "cell_type": "markdown",
   "metadata": {
    "id": "LPBC2LoG24dU"
   },
   "source": [
    "### Reshaping"
   ]
  },
  {
   "cell_type": "code",
   "execution_count": 165,
   "metadata": {
    "id": "oGwgQUDbdmnS"
   },
   "outputs": [
    {
     "data": {
      "text/plain": [
       "(199, 50)"
      ]
     },
     "execution_count": 165,
     "metadata": {},
     "output_type": "execute_result"
    }
   ],
   "source": [
    "X_train.shape"
   ]
  },
  {
   "cell_type": "markdown",
   "metadata": {
    "id": "AEVcR-Uju5TX"
   },
   "source": [
    "Shape de input da lstm = (batch_size, timesteps, features)"
   ]
  },
  {
   "cell_type": "code",
   "execution_count": 166,
   "metadata": {
    "id": "b9ZfLlGH25fr"
   },
   "outputs": [],
   "source": [
    "X_train = np.reshape(X_train, (X_train.shape[0], X_train.shape[1], 1))"
   ]
  },
  {
   "cell_type": "code",
   "execution_count": 167,
   "metadata": {
    "id": "RxU0axM9diHO"
   },
   "outputs": [
    {
     "data": {
      "text/plain": [
       "(199, 50, 1)"
      ]
     },
     "execution_count": 167,
     "metadata": {},
     "output_type": "execute_result"
    }
   ],
   "source": [
    "X_train.shape"
   ]
  },
  {
   "cell_type": "markdown",
   "metadata": {
    "id": "fZhjp7Tf282b"
   },
   "source": [
    "## Parte 2 - Construção da RNN"
   ]
  },
  {
   "cell_type": "markdown",
   "metadata": {
    "id": "RDkAxmMl3EXr"
   },
   "source": [
    "### Bibliotecas necessárias"
   ]
  },
  {
   "cell_type": "code",
   "execution_count": 168,
   "metadata": {
    "id": "Ifhh9yUo3DpT"
   },
   "outputs": [],
   "source": [
    "from keras.models import Sequential\n",
    "from keras.layers import Dense\n",
    "from keras.layers import LSTM\n",
    "from keras.layers import Dropout"
   ]
  },
  {
   "cell_type": "markdown",
   "metadata": {
    "id": "kordpD0_3H7b"
   },
   "source": [
    "### Construção da Rede completa"
   ]
  },
  {
   "cell_type": "code",
   "execution_count": 169,
   "metadata": {
    "scrolled": true
   },
   "outputs": [
    {
     "name": "stdout",
     "output_type": "stream",
     "text": [
      "Model: \"sequential_7\"\n",
      "_________________________________________________________________\n",
      "Layer (type)                 Output Shape              Param #   \n",
      "=================================================================\n",
      "lstm_21 (LSTM)               (None, 50, 100)           40800     \n",
      "_________________________________________________________________\n",
      "dropout_21 (Dropout)         (None, 50, 100)           0         \n",
      "_________________________________________________________________\n",
      "lstm_22 (LSTM)               (None, 50, 80)            57920     \n",
      "_________________________________________________________________\n",
      "dropout_22 (Dropout)         (None, 50, 80)            0         \n",
      "_________________________________________________________________\n",
      "lstm_23 (LSTM)               (None, 50)                26200     \n",
      "_________________________________________________________________\n",
      "dropout_23 (Dropout)         (None, 50)                0         \n",
      "_________________________________________________________________\n",
      "dense_7 (Dense)              (None, 1)                 51        \n",
      "=================================================================\n",
      "Total params: 124,971\n",
      "Trainable params: 124,971\n",
      "Non-trainable params: 0\n",
      "_________________________________________________________________\n"
     ]
    }
   ],
   "source": [
    "# Inicializar a RNN\n",
    "regressor = Sequential()\n",
    "\n",
    "# Adicionar a primeira camada LSTM e Dropout \n",
    "regressor.add(LSTM(units = 100, return_sequences = True, input_shape = (X_train.shape[1], 1)))\n",
    "regressor.add(Dropout(0.2))\n",
    " \n",
    "# Adicionar a segunda camada LSTM e Dropout\n",
    "regressor.add(LSTM(units = 80, return_sequences = True))\n",
    "regressor.add(Dropout(0.2))\n",
    " \n",
    "# Adicionar a terceira camada LSTM e Dropout\n",
    "regressor.add(LSTM(units = 50))\n",
    "regressor.add(Dropout(0.2))\n",
    " \n",
    "# camada de saída\n",
    "regressor.add(Dense(units = 1))\n",
    " \n",
    "# Compilar a rede\n",
    "regressor.compile(optimizer = 'adam', loss = 'mean_squared_error')\n",
    "\n",
    "# Visualizar a rede\n",
    "regressor.summary()  "
   ]
  },
  {
   "cell_type": "markdown",
   "metadata": {
    "id": "5j1w28g83iSR"
   },
   "source": [
    "### Treinamento"
   ]
  },
  {
   "cell_type": "code",
   "execution_count": 170,
   "metadata": {
    "scrolled": true
   },
   "outputs": [
    {
     "name": "stdout",
     "output_type": "stream",
     "text": [
      "Epoch 1/100\n",
      "7/7 [==============================] - 0s 43ms/step - loss: 0.0368\n",
      "Epoch 2/100\n",
      "7/7 [==============================] - 0s 40ms/step - loss: 0.0119\n",
      "Epoch 3/100\n",
      "7/7 [==============================] - 0s 41ms/step - loss: 0.0099\n",
      "Epoch 4/100\n",
      "7/7 [==============================] - 0s 47ms/step - loss: 0.0083\n",
      "Epoch 5/100\n",
      "7/7 [==============================] - 0s 44ms/step - loss: 0.0071\n",
      "Epoch 6/100\n",
      "7/7 [==============================] - 0s 46ms/step - loss: 0.0076\n",
      "Epoch 7/100\n",
      "7/7 [==============================] - 0s 46ms/step - loss: 0.0058\n",
      "Epoch 8/100\n",
      "7/7 [==============================] - 0s 47ms/step - loss: 0.0060\n",
      "Epoch 9/100\n",
      "7/7 [==============================] - 0s 46ms/step - loss: 0.0064\n",
      "Epoch 10/100\n",
      "7/7 [==============================] - 0s 46ms/step - loss: 0.0068\n",
      "Epoch 11/100\n",
      "7/7 [==============================] - 0s 46ms/step - loss: 0.0054\n",
      "Epoch 12/100\n",
      "7/7 [==============================] - 0s 43ms/step - loss: 0.0050\n",
      "Epoch 13/100\n",
      "7/7 [==============================] - 0s 45ms/step - loss: 0.0047\n",
      "Epoch 14/100\n",
      "7/7 [==============================] - 0s 45ms/step - loss: 0.0050\n",
      "Epoch 15/100\n",
      "7/7 [==============================] - 0s 46ms/step - loss: 0.0052\n",
      "Epoch 16/100\n",
      "7/7 [==============================] - 0s 44ms/step - loss: 0.0048\n",
      "Epoch 17/100\n",
      "7/7 [==============================] - 0s 44ms/step - loss: 0.0047\n",
      "Epoch 18/100\n",
      "7/7 [==============================] - 0s 44ms/step - loss: 0.0049\n",
      "Epoch 19/100\n",
      "7/7 [==============================] - 0s 44ms/step - loss: 0.0046\n",
      "Epoch 20/100\n",
      "7/7 [==============================] - 0s 45ms/step - loss: 0.0045\n",
      "Epoch 21/100\n",
      "7/7 [==============================] - 0s 45ms/step - loss: 0.0044\n",
      "Epoch 22/100\n",
      "7/7 [==============================] - 0s 46ms/step - loss: 0.0039\n",
      "Epoch 23/100\n",
      "7/7 [==============================] - 0s 45ms/step - loss: 0.0043\n",
      "Epoch 24/100\n",
      "7/7 [==============================] - 0s 46ms/step - loss: 0.0043\n",
      "Epoch 25/100\n",
      "7/7 [==============================] - 0s 43ms/step - loss: 0.0038\n",
      "Epoch 26/100\n",
      "7/7 [==============================] - 0s 44ms/step - loss: 0.0038\n",
      "Epoch 27/100\n",
      "7/7 [==============================] - 0s 44ms/step - loss: 0.0038\n",
      "Epoch 28/100\n",
      "7/7 [==============================] - 0s 45ms/step - loss: 0.0039\n",
      "Epoch 29/100\n",
      "7/7 [==============================] - 0s 46ms/step - loss: 0.0041\n",
      "Epoch 30/100\n",
      "7/7 [==============================] - 0s 46ms/step - loss: 0.0041\n",
      "Epoch 31/100\n",
      "7/7 [==============================] - 0s 44ms/step - loss: 0.0041\n",
      "Epoch 32/100\n",
      "7/7 [==============================] - 0s 47ms/step - loss: 0.0038\n",
      "Epoch 33/100\n",
      "7/7 [==============================] - 0s 46ms/step - loss: 0.0034\n",
      "Epoch 34/100\n",
      "7/7 [==============================] - 0s 46ms/step - loss: 0.0032\n",
      "Epoch 35/100\n",
      "7/7 [==============================] - 0s 44ms/step - loss: 0.0035\n",
      "Epoch 36/100\n",
      "7/7 [==============================] - 0s 44ms/step - loss: 0.0035\n",
      "Epoch 37/100\n",
      "7/7 [==============================] - 0s 46ms/step - loss: 0.0030\n",
      "Epoch 38/100\n",
      "7/7 [==============================] - 0s 42ms/step - loss: 0.0034\n",
      "Epoch 39/100\n",
      "7/7 [==============================] - 0s 46ms/step - loss: 0.0035\n",
      "Epoch 40/100\n",
      "7/7 [==============================] - 0s 46ms/step - loss: 0.0027\n",
      "Epoch 41/100\n",
      "7/7 [==============================] - 0s 45ms/step - loss: 0.0031\n",
      "Epoch 42/100\n",
      "7/7 [==============================] - 0s 46ms/step - loss: 0.0029\n",
      "Epoch 43/100\n",
      "7/7 [==============================] - 0s 46ms/step - loss: 0.0027\n",
      "Epoch 44/100\n",
      "7/7 [==============================] - 0s 44ms/step - loss: 0.0035\n",
      "Epoch 45/100\n",
      "7/7 [==============================] - 0s 46ms/step - loss: 0.0032\n",
      "Epoch 46/100\n",
      "7/7 [==============================] - 0s 47ms/step - loss: 0.0027\n",
      "Epoch 47/100\n",
      "7/7 [==============================] - 0s 44ms/step - loss: 0.0030\n",
      "Epoch 48/100\n",
      "7/7 [==============================] - 0s 45ms/step - loss: 0.0025\n",
      "Epoch 49/100\n",
      "7/7 [==============================] - 0s 47ms/step - loss: 0.0030\n",
      "Epoch 50/100\n",
      "7/7 [==============================] - 0s 44ms/step - loss: 0.0033\n",
      "Epoch 51/100\n",
      "7/7 [==============================] - 0s 47ms/step - loss: 0.0033\n",
      "Epoch 52/100\n",
      "7/7 [==============================] - 0s 45ms/step - loss: 0.0028\n",
      "Epoch 53/100\n",
      "7/7 [==============================] - 0s 46ms/step - loss: 0.0030\n",
      "Epoch 54/100\n",
      "7/7 [==============================] - 0s 46ms/step - loss: 0.0026\n",
      "Epoch 55/100\n",
      "7/7 [==============================] - 0s 46ms/step - loss: 0.0022\n",
      "Epoch 56/100\n",
      "7/7 [==============================] - 0s 45ms/step - loss: 0.0029\n",
      "Epoch 57/100\n",
      "7/7 [==============================] - 0s 46ms/step - loss: 0.0024\n",
      "Epoch 58/100\n",
      "7/7 [==============================] - 0s 46ms/step - loss: 0.0028\n",
      "Epoch 59/100\n",
      "7/7 [==============================] - 0s 46ms/step - loss: 0.0027\n",
      "Epoch 60/100\n",
      "7/7 [==============================] - 0s 46ms/step - loss: 0.0024\n",
      "Epoch 61/100\n",
      "7/7 [==============================] - 0s 46ms/step - loss: 0.0025\n",
      "Epoch 62/100\n",
      "7/7 [==============================] - 0s 42ms/step - loss: 0.0031\n",
      "Epoch 63/100\n",
      "7/7 [==============================] - 0s 44ms/step - loss: 0.0035\n",
      "Epoch 64/100\n",
      "7/7 [==============================] - 0s 47ms/step - loss: 0.0027\n",
      "Epoch 65/100\n",
      "7/7 [==============================] - 0s 46ms/step - loss: 0.0030\n",
      "Epoch 66/100\n",
      "7/7 [==============================] - 0s 44ms/step - loss: 0.0028\n",
      "Epoch 67/100\n",
      "7/7 [==============================] - 0s 46ms/step - loss: 0.0030\n",
      "Epoch 68/100\n",
      "7/7 [==============================] - 0s 44ms/step - loss: 0.0027\n",
      "Epoch 69/100\n",
      "7/7 [==============================] - 0s 46ms/step - loss: 0.0028\n",
      "Epoch 70/100\n",
      "7/7 [==============================] - 0s 47ms/step - loss: 0.0036\n",
      "Epoch 71/100\n",
      "7/7 [==============================] - 0s 47ms/step - loss: 0.0028\n",
      "Epoch 72/100\n",
      "7/7 [==============================] - 0s 46ms/step - loss: 0.0024\n",
      "Epoch 73/100\n",
      "7/7 [==============================] - 0s 44ms/step - loss: 0.0024\n",
      "Epoch 74/100\n",
      "7/7 [==============================] - 0s 45ms/step - loss: 0.0025\n",
      "Epoch 75/100\n",
      "7/7 [==============================] - 0s 44ms/step - loss: 0.0030\n",
      "Epoch 76/100\n",
      "7/7 [==============================] - 0s 44ms/step - loss: 0.0027\n",
      "Epoch 77/100\n",
      "7/7 [==============================] - 0s 46ms/step - loss: 0.0024\n",
      "Epoch 78/100\n",
      "7/7 [==============================] - 0s 50ms/step - loss: 0.0025\n",
      "Epoch 79/100\n",
      "7/7 [==============================] - 0s 49ms/step - loss: 0.0027\n",
      "Epoch 80/100\n",
      "7/7 [==============================] - 0s 49ms/step - loss: 0.0024\n",
      "Epoch 81/100\n",
      "7/7 [==============================] - 0s 43ms/step - loss: 0.0026\n",
      "Epoch 82/100\n",
      "7/7 [==============================] - 0s 43ms/step - loss: 0.0023\n",
      "Epoch 83/100\n",
      "7/7 [==============================] - 0s 45ms/step - loss: 0.0028\n",
      "Epoch 84/100\n",
      "7/7 [==============================] - 0s 46ms/step - loss: 0.0030\n",
      "Epoch 85/100\n",
      "7/7 [==============================] - 0s 45ms/step - loss: 0.0023\n",
      "Epoch 86/100\n",
      "7/7 [==============================] - 0s 41ms/step - loss: 0.0027\n",
      "Epoch 87/100\n",
      "7/7 [==============================] - 0s 43ms/step - loss: 0.0025\n",
      "Epoch 88/100\n",
      "7/7 [==============================] - 0s 45ms/step - loss: 0.0022\n",
      "Epoch 89/100\n",
      "7/7 [==============================] - 0s 46ms/step - loss: 0.0023\n",
      "Epoch 90/100\n",
      "7/7 [==============================] - 0s 43ms/step - loss: 0.0023\n",
      "Epoch 91/100\n",
      "7/7 [==============================] - 0s 46ms/step - loss: 0.0026\n",
      "Epoch 92/100\n",
      "7/7 [==============================] - 0s 44ms/step - loss: 0.0027\n",
      "Epoch 93/100\n",
      "7/7 [==============================] - 0s 45ms/step - loss: 0.0025\n",
      "Epoch 94/100\n",
      "7/7 [==============================] - 0s 45ms/step - loss: 0.0022\n",
      "Epoch 95/100\n",
      "7/7 [==============================] - 0s 46ms/step - loss: 0.0026\n",
      "Epoch 96/100\n",
      "7/7 [==============================] - 0s 43ms/step - loss: 0.0023\n",
      "Epoch 97/100\n",
      "7/7 [==============================] - 0s 44ms/step - loss: 0.0023\n",
      "Epoch 98/100\n",
      "7/7 [==============================] - 0s 44ms/step - loss: 0.0024\n",
      "Epoch 99/100\n",
      "7/7 [==============================] - 0s 42ms/step - loss: 0.0023\n",
      "Epoch 100/100\n",
      "7/7 [==============================] - 0s 45ms/step - loss: 0.0023\n"
     ]
    }
   ],
   "source": [
    "history = regressor.fit(X_train, y_train, epochs = pepochs3, batch_size = pbatch1)"
   ]
  },
  {
   "cell_type": "markdown",
   "metadata": {
    "id": "gwpyImwA3yon"
   },
   "source": [
    "## Parte 3 - Fazer as previsões e analisar os resultados"
   ]
  },
  {
   "cell_type": "markdown",
   "metadata": {
    "id": "wkXRvDjT4V-B"
   },
   "source": [
    "### Base de teste"
   ]
  },
  {
   "cell_type": "code",
   "execution_count": 171,
   "metadata": {
    "id": "Bn_n72dh30K-"
   },
   "outputs": [],
   "source": [
    "dataset_test = test_set\n",
    "PETR4_data_train = pd.DataFrame(PETR4_data_train)\n",
    "PETR4_data_test = pd.DataFrame(PETR4_data_test)"
   ]
  },
  {
   "cell_type": "markdown",
   "metadata": {
    "id": "EOo84exH4bfs"
   },
   "source": [
    "### Construir a estrutura para teste"
   ]
  },
  {
   "cell_type": "code",
   "execution_count": 172,
   "metadata": {
    "id": "ob_-mGA_B5px"
   },
   "outputs": [],
   "source": [
    "dataset_total = pd.concat((PETR4_data_train.iloc[:,1], PETR4_data_test.iloc[:,1]), axis = 0)\n",
    "testLength = len(dataset_test)\n",
    "inputs = dataset_total[len(dataset_total) - testLength - window:].values\n",
    "inputs = inputs.reshape(inputs.shape[0],1)\n",
    "\n",
    "inputs = sc.transform(inputs)\n",
    "X_test = []\n",
    "for i in range(window, inputs.shape[0]): \n",
    "    X_test.append(inputs[i-window:i, 0])\n",
    "X_test = np.array(X_test)\n",
    "\n",
    "X_test = np.reshape(X_test, (X_test.shape[0], X_test.shape[1], 1))"
   ]
  },
  {
   "cell_type": "markdown",
   "metadata": {
    "id": "rtkB4NA74e1B"
   },
   "source": [
    "### Fazer as previsões"
   ]
  },
  {
   "cell_type": "code",
   "execution_count": 173,
   "metadata": {
    "id": "nKIq1h-E4g9Z"
   },
   "outputs": [],
   "source": [
    "predicted_PETR4 = regressor.predict(X_test)\n",
    "predicted_PETR4 = sc.inverse_transform(predicted_PETR4)"
   ]
  },
  {
   "cell_type": "markdown",
   "metadata": {
    "id": "guvk7yXr4o0g"
   },
   "source": [
    "### Visualizar os resultados de treino e teste"
   ]
  },
  {
   "cell_type": "code",
   "execution_count": 174,
   "metadata": {
    "id": "tstXl2oS4rIo",
    "scrolled": true
   },
   "outputs": [
    {
     "data": {
      "image/png": "[encoded data removed]",
      "text/plain": [
       "<Figure size 432x288 with 1 Axes>"
      ]
     },
     "metadata": {
      "needs_background": "light"
     },
     "output_type": "display_data"
    }
   ],
   "source": [
    "allTargetData = np.vstack((training_set, dataset_test))\n",
    "training_predicted_PETR4 = regressor.predict(X_train)\n",
    "training_predicted_PETR4 = sc.inverse_transform(training_predicted_PETR4)\n",
    "allForecastedData = np.vstack((training_set[0:window], training_predicted_PETR4, predicted_PETR4))\n",
    "plt.plot(allTargetData, color = 'red', label = 'Real')\n",
    "plt.plot(allForecastedData, color = 'blue', label = 'Previsto')\n",
    "plt.title('Previsão de série temporal')\n",
    "plt.xlabel('Tempo')\n",
    "plt.ylabel('Cotação (R$)')\n",
    "plt.legend()\n",
    "plt.savefig('predictions_training_test_25_50_32.svg')\n",
    "plt.show()"
   ]
  },
  {
   "cell_type": "markdown",
   "metadata": {
    "id": "ytEVhQht4we3"
   },
   "source": [
    "## Parte 4 - Métricas de avaliação"
   ]
  },
  {
   "cell_type": "code",
   "execution_count": 175,
   "metadata": {
    "id": "rqOonVj64ydu",
    "scrolled": true
   },
   "outputs": [
    {
     "name": "stdout",
     "output_type": "stream",
     "text": [
      "RMSE: 3.1080388244082955\n"
     ]
    }
   ],
   "source": [
    "import math\n",
    "from sklearn.metrics import mean_squared_error\n",
    "rmse = math.sqrt(mean_squared_error(dataset_test, predicted_PETR4))\n",
    "print('RMSE:', rmse)"
   ]
  },
  {
   "cell_type": "code",
   "execution_count": 176,
   "metadata": {
    "id": "ODeley1K42WW"
   },
   "outputs": [
    {
     "name": "stdout",
     "output_type": "stream",
     "text": [
      "MSE: 9.659905334029299\n"
     ]
    }
   ],
   "source": [
    "mse = mean_squared_error(dataset_test, predicted_PETR4)\n",
    "print('MSE:',mse)"
   ]
  },
  {
   "cell_type": "code",
   "execution_count": 177,
   "metadata": {
    "id": "L7_uU_8T44QA"
   },
   "outputs": [
    {
     "name": "stdout",
     "output_type": "stream",
     "text": [
      "MAPE: 9.766720721955787 %\n"
     ]
    }
   ],
   "source": [
    "mape = np.mean(np.abs((dataset_test-predicted_PETR4) /dataset_test)) * 100\n",
    "print('MAPE:',mape.iloc[0], '%')"
   ]
  },
  {
   "cell_type": "code",
   "execution_count": 178,
   "metadata": {
    "id": "LnCgdBS0vGCz"
   },
   "outputs": [
    {
     "name": "stdout",
     "output_type": "stream",
     "text": [
      "R2: 0.6069068924404284\n"
     ]
    }
   ],
   "source": [
    "from sklearn.metrics import r2_score\n",
    "r2 = r2_score(dataset_test,predicted_PETR4)\n",
    "print('R2:', r2)"
   ]
  },
  {
   "cell_type": "code",
   "execution_count": 179,
   "metadata": {},
   "outputs": [
    {
     "name": "stdout",
     "output_type": "stream",
     "text": [
      "R2Adj: 0.606114366013897\n"
     ]
    }
   ],
   "source": [
    "adj_r2 = (1 - (1 - r2) * ((predicted_PETR4.shape[0] - 1) / \n",
    "          (predicted_PETR4.shape[0] - predicted_PETR4.shape[1] - 1)))\n",
    "print('R2Adj:',adj_r2)"
   ]
  },
  {
   "cell_type": "code",
   "execution_count": 180,
   "metadata": {},
   "outputs": [],
   "source": [
    "#results = np.array([pwindow,pepochs1,pbatch1,rmse,mse,mape.iloc[0],r2,adj_r2]) "
   ]
  },
  {
   "cell_type": "code",
   "execution_count": 181,
   "metadata": {},
   "outputs": [],
   "source": [
    "data = pd.array([pwindow,pepochs3,pbatch2,rmse,mse,mape.iloc[0],r2,adj_r2])"
   ]
  },
  {
   "cell_type": "code",
   "execution_count": 182,
   "metadata": {},
   "outputs": [],
   "source": [
    "results = np.column_stack((results, data))"
   ]
  },
  {
   "cell_type": "code",
   "execution_count": 183,
   "metadata": {
    "scrolled": true
   },
   "outputs": [
    {
     "name": "stdout",
     "output_type": "stream",
     "text": [
      "[[ 50.          50.          50.          50.          50.\n",
      "   50.          50.          50.        ]\n",
      " [ 25.          25.          25.          50.          50.\n",
      "   50.         100.         100.        ]\n",
      " [ 32.          64.         128.          32.          64.\n",
      "  128.          32.          64.        ]\n",
      " [  2.77403152   2.55620377   2.92284036   2.30914615   2.84836776\n",
      "    2.72618977   3.30536287   3.10803882]\n",
      " [  7.69525086   6.53417772   8.54299578   5.33215595   8.11319888\n",
      "    7.43211068  10.92542372   9.65990533]\n",
      " [  8.83990801   7.82641336   9.44663147   6.85163917   8.56463018\n",
      "    8.71832729  10.29516251   9.76672072]\n",
      " [  0.6868551    0.73410296   0.65235759   0.78301715   0.66984743\n",
      "    0.69756314   0.55540881   0.60690689]\n",
      " [  0.68622376   0.73356688   0.6516567    0.78257969   0.6691818\n",
      "    0.69695338   0.55451246   0.60611437]]\n"
     ]
    }
   ],
   "source": [
    "print(results)"
   ]
  },
  {
   "cell_type": "markdown",
   "metadata": {},
   "source": [
    "### Parâmetros para esta análise"
   ]
  },
  {
   "cell_type": "code",
   "execution_count": 184,
   "metadata": {},
   "outputs": [],
   "source": [
    "pwindow = 50\n",
    "pepochs1 = 25\n",
    "pepochs2 = 50\n",
    "pepochs3 = 100\n",
    "pbatch1 = 32\n",
    "pbatch2 = 64\n",
    "pbatch3 = 128"
   ]
  },
  {
   "cell_type": "markdown",
   "metadata": {
    "id": "7p1F7HdB2uJU"
   },
   "source": [
    "### Normalização"
   ]
  },
  {
   "cell_type": "code",
   "execution_count": 185,
   "metadata": {
    "id": "foeHRZr-2u-L"
   },
   "outputs": [],
   "source": [
    "from sklearn.preprocessing import MinMaxScaler\n",
    "sc = MinMaxScaler(feature_range = (0, 1))\n",
    "training_set_scaled = sc.fit_transform(training_set)"
   ]
  },
  {
   "cell_type": "markdown",
   "metadata": {
    "id": "uQP8Q7MI21Y9"
   },
   "source": [
    "### Criar a estrutura de dados com janela 10 e output 1"
   ]
  },
  {
   "cell_type": "code",
   "execution_count": 186,
   "metadata": {
    "id": "C6Ge9ql922cb"
   },
   "outputs": [],
   "source": [
    "window = pwindow\n",
    "trainSize = len(training_set_scaled)\n",
    "X_train = []\n",
    "y_train = []\n",
    "for i in range(window, trainSize):\n",
    "    X_train.append(training_set_scaled[i-window:i, 0])\n",
    "    y_train.append(training_set_scaled[i, 0])\n",
    "X_train, y_train = np.array(X_train), np.array(y_train)"
   ]
  },
  {
   "cell_type": "markdown",
   "metadata": {
    "id": "LPBC2LoG24dU"
   },
   "source": [
    "### Reshaping"
   ]
  },
  {
   "cell_type": "code",
   "execution_count": 187,
   "metadata": {
    "id": "oGwgQUDbdmnS"
   },
   "outputs": [
    {
     "data": {
      "text/plain": [
       "(199, 50)"
      ]
     },
     "execution_count": 187,
     "metadata": {},
     "output_type": "execute_result"
    }
   ],
   "source": [
    "X_train.shape"
   ]
  },
  {
   "cell_type": "markdown",
   "metadata": {
    "id": "AEVcR-Uju5TX"
   },
   "source": [
    "Shape de input da lstm = (batch_size, timesteps, features)"
   ]
  },
  {
   "cell_type": "code",
   "execution_count": 188,
   "metadata": {
    "id": "b9ZfLlGH25fr"
   },
   "outputs": [],
   "source": [
    "X_train = np.reshape(X_train, (X_train.shape[0], X_train.shape[1], 1))"
   ]
  },
  {
   "cell_type": "code",
   "execution_count": 189,
   "metadata": {
    "id": "RxU0axM9diHO"
   },
   "outputs": [
    {
     "data": {
      "text/plain": [
       "(199, 50, 1)"
      ]
     },
     "execution_count": 189,
     "metadata": {},
     "output_type": "execute_result"
    }
   ],
   "source": [
    "X_train.shape"
   ]
  },
  {
   "cell_type": "markdown",
   "metadata": {
    "id": "fZhjp7Tf282b"
   },
   "source": [
    "## Parte 2 - Construção da RNN"
   ]
  },
  {
   "cell_type": "markdown",
   "metadata": {
    "id": "RDkAxmMl3EXr"
   },
   "source": [
    "### Bibliotecas necessárias"
   ]
  },
  {
   "cell_type": "code",
   "execution_count": 190,
   "metadata": {
    "id": "Ifhh9yUo3DpT"
   },
   "outputs": [],
   "source": [
    "from keras.models import Sequential\n",
    "from keras.layers import Dense\n",
    "from keras.layers import LSTM\n",
    "from keras.layers import Dropout"
   ]
  },
  {
   "cell_type": "markdown",
   "metadata": {
    "id": "kordpD0_3H7b"
   },
   "source": [
    "### Construção da Rede completa"
   ]
  },
  {
   "cell_type": "code",
   "execution_count": 191,
   "metadata": {
    "scrolled": true
   },
   "outputs": [
    {
     "name": "stdout",
     "output_type": "stream",
     "text": [
      "Model: \"sequential_8\"\n",
      "_________________________________________________________________\n",
      "Layer (type)                 Output Shape              Param #   \n",
      "=================================================================\n",
      "lstm_24 (LSTM)               (None, 50, 100)           40800     \n",
      "_________________________________________________________________\n",
      "dropout_24 (Dropout)         (None, 50, 100)           0         \n",
      "_________________________________________________________________\n",
      "lstm_25 (LSTM)               (None, 50, 80)            57920     \n",
      "_________________________________________________________________\n",
      "dropout_25 (Dropout)         (None, 50, 80)            0         \n",
      "_________________________________________________________________\n",
      "lstm_26 (LSTM)               (None, 50)                26200     \n",
      "_________________________________________________________________\n",
      "dropout_26 (Dropout)         (None, 50)                0         \n",
      "_________________________________________________________________\n",
      "dense_8 (Dense)              (None, 1)                 51        \n",
      "=================================================================\n",
      "Total params: 124,971\n",
      "Trainable params: 124,971\n",
      "Non-trainable params: 0\n",
      "_________________________________________________________________\n"
     ]
    }
   ],
   "source": [
    "# Inicializar a RNN\n",
    "regressor = Sequential()\n",
    "\n",
    "# Adicionar a primeira camada LSTM e Dropout \n",
    "regressor.add(LSTM(units = 100, return_sequences = True, input_shape = (X_train.shape[1], 1)))\n",
    "regressor.add(Dropout(0.2))\n",
    " \n",
    "# Adicionar a segunda camada LSTM e Dropout\n",
    "regressor.add(LSTM(units = 80, return_sequences = True))\n",
    "regressor.add(Dropout(0.2))\n",
    " \n",
    "# Adicionar a terceira camada LSTM e Dropout\n",
    "regressor.add(LSTM(units = 50))\n",
    "regressor.add(Dropout(0.2))\n",
    " \n",
    "# camada de saída\n",
    "regressor.add(Dense(units = 1))\n",
    " \n",
    "# Compilar a rede\n",
    "regressor.compile(optimizer = 'adam', loss = 'mean_squared_error')\n",
    "\n",
    "# Visualizar a rede\n",
    "regressor.summary()  "
   ]
  },
  {
   "cell_type": "markdown",
   "metadata": {
    "id": "5j1w28g83iSR"
   },
   "source": [
    "### Treinamento"
   ]
  },
  {
   "cell_type": "code",
   "execution_count": 192,
   "metadata": {
    "scrolled": true
   },
   "outputs": [
    {
     "name": "stdout",
     "output_type": "stream",
     "text": [
      "Epoch 1/100\n",
      "2/2 [==============================] - 0s 55ms/step - loss: 0.0774\n",
      "Epoch 2/100\n",
      "2/2 [==============================] - 0s 52ms/step - loss: 0.0231\n",
      "Epoch 3/100\n",
      "2/2 [==============================] - 0s 46ms/step - loss: 0.0183\n",
      "Epoch 4/100\n",
      "2/2 [==============================] - 0s 51ms/step - loss: 0.0137\n",
      "Epoch 5/100\n",
      "2/2 [==============================] - 0s 51ms/step - loss: 0.0114\n",
      "Epoch 6/100\n",
      "2/2 [==============================] - 0s 50ms/step - loss: 0.0124\n",
      "Epoch 7/100\n",
      "2/2 [==============================] - 0s 52ms/step - loss: 0.0111\n",
      "Epoch 8/100\n",
      "2/2 [==============================] - 0s 46ms/step - loss: 0.0093\n",
      "Epoch 9/100\n",
      "2/2 [==============================] - 0s 48ms/step - loss: 0.0087\n",
      "Epoch 10/100\n",
      "2/2 [==============================] - 0s 47ms/step - loss: 0.0086\n",
      "Epoch 11/100\n",
      "2/2 [==============================] - 0s 46ms/step - loss: 0.0081\n",
      "Epoch 12/100\n",
      "2/2 [==============================] - 0s 44ms/step - loss: 0.0075\n",
      "Epoch 13/100\n",
      "2/2 [==============================] - 0s 48ms/step - loss: 0.0073\n",
      "Epoch 14/100\n",
      "2/2 [==============================] - 0s 44ms/step - loss: 0.0069\n",
      "Epoch 15/100\n",
      "2/2 [==============================] - 0s 44ms/step - loss: 0.0065\n",
      "Epoch 16/100\n",
      "2/2 [==============================] - 0s 43ms/step - loss: 0.0059\n",
      "Epoch 17/100\n",
      "2/2 [==============================] - 0s 49ms/step - loss: 0.0057\n",
      "Epoch 18/100\n",
      "2/2 [==============================] - 0s 48ms/step - loss: 0.0062\n",
      "Epoch 19/100\n",
      "2/2 [==============================] - 0s 57ms/step - loss: 0.0057\n",
      "Epoch 20/100\n",
      "2/2 [==============================] - 0s 43ms/step - loss: 0.0060\n",
      "Epoch 21/100\n",
      "2/2 [==============================] - 0s 44ms/step - loss: 0.0062\n",
      "Epoch 22/100\n",
      "2/2 [==============================] - 0s 57ms/step - loss: 0.0054\n",
      "Epoch 23/100\n",
      "2/2 [==============================] - 0s 46ms/step - loss: 0.0060\n",
      "Epoch 24/100\n",
      "2/2 [==============================] - 0s 44ms/step - loss: 0.0054\n",
      "Epoch 25/100\n",
      "2/2 [==============================] - 0s 42ms/step - loss: 0.0055\n",
      "Epoch 26/100\n",
      "2/2 [==============================] - 0s 43ms/step - loss: 0.0054\n",
      "Epoch 27/100\n",
      "2/2 [==============================] - 0s 45ms/step - loss: 0.0054\n",
      "Epoch 28/100\n",
      "2/2 [==============================] - 0s 44ms/step - loss: 0.0053\n",
      "Epoch 29/100\n",
      "2/2 [==============================] - 0s 43ms/step - loss: 0.0046\n",
      "Epoch 30/100\n",
      "2/2 [==============================] - 0s 46ms/step - loss: 0.0052\n",
      "Epoch 31/100\n",
      "2/2 [==============================] - 0s 46ms/step - loss: 0.0052\n",
      "Epoch 32/100\n",
      "2/2 [==============================] - 0s 44ms/step - loss: 0.0054\n",
      "Epoch 33/100\n",
      "2/2 [==============================] - 0s 42ms/step - loss: 0.0057\n",
      "Epoch 34/100\n",
      "2/2 [==============================] - 0s 44ms/step - loss: 0.0053\n",
      "Epoch 35/100\n",
      "2/2 [==============================] - 0s 47ms/step - loss: 0.0051\n",
      "Epoch 36/100\n",
      "2/2 [==============================] - 0s 44ms/step - loss: 0.0051\n",
      "Epoch 37/100\n",
      "2/2 [==============================] - 0s 45ms/step - loss: 0.0047\n",
      "Epoch 38/100\n",
      "2/2 [==============================] - 0s 52ms/step - loss: 0.0047\n",
      "Epoch 39/100\n",
      "2/2 [==============================] - 0s 48ms/step - loss: 0.0048\n",
      "Epoch 40/100\n",
      "2/2 [==============================] - 0s 48ms/step - loss: 0.0050\n",
      "Epoch 41/100\n",
      "2/2 [==============================] - 0s 47ms/step - loss: 0.0047\n",
      "Epoch 42/100\n",
      "2/2 [==============================] - 0s 47ms/step - loss: 0.0048\n",
      "Epoch 43/100\n",
      "2/2 [==============================] - 0s 46ms/step - loss: 0.0050\n",
      "Epoch 44/100\n",
      "2/2 [==============================] - 0s 46ms/step - loss: 0.0049\n",
      "Epoch 45/100\n",
      "2/2 [==============================] - 0s 46ms/step - loss: 0.0055\n",
      "Epoch 46/100\n",
      "2/2 [==============================] - 0s 45ms/step - loss: 0.0046\n",
      "Epoch 47/100\n",
      "2/2 [==============================] - 0s 46ms/step - loss: 0.0045\n",
      "Epoch 48/100\n",
      "2/2 [==============================] - 0s 47ms/step - loss: 0.0048\n",
      "Epoch 49/100\n",
      "2/2 [==============================] - 0s 44ms/step - loss: 0.0043\n",
      "Epoch 50/100\n",
      "2/2 [==============================] - 0s 45ms/step - loss: 0.0046\n",
      "Epoch 51/100\n",
      "2/2 [==============================] - 0s 45ms/step - loss: 0.0040\n",
      "Epoch 52/100\n",
      "2/2 [==============================] - 0s 43ms/step - loss: 0.0041\n",
      "Epoch 53/100\n",
      "2/2 [==============================] - 0s 44ms/step - loss: 0.0039\n",
      "Epoch 54/100\n",
      "2/2 [==============================] - 0s 45ms/step - loss: 0.0043\n",
      "Epoch 55/100\n",
      "2/2 [==============================] - 0s 45ms/step - loss: 0.0044\n",
      "Epoch 56/100\n",
      "2/2 [==============================] - 0s 46ms/step - loss: 0.0045\n",
      "Epoch 57/100\n",
      "2/2 [==============================] - 0s 42ms/step - loss: 0.0040\n",
      "Epoch 58/100\n",
      "2/2 [==============================] - 0s 44ms/step - loss: 0.0041\n",
      "Epoch 59/100\n",
      "2/2 [==============================] - 0s 54ms/step - loss: 0.0043\n",
      "Epoch 60/100\n",
      "2/2 [==============================] - 0s 58ms/step - loss: 0.0039\n",
      "Epoch 61/100\n",
      "2/2 [==============================] - 0s 43ms/step - loss: 0.0038\n",
      "Epoch 62/100\n",
      "2/2 [==============================] - 0s 43ms/step - loss: 0.0041\n",
      "Epoch 63/100\n",
      "2/2 [==============================] - 0s 45ms/step - loss: 0.0039\n",
      "Epoch 64/100\n",
      "2/2 [==============================] - 0s 43ms/step - loss: 0.0038\n",
      "Epoch 65/100\n",
      "2/2 [==============================] - 0s 42ms/step - loss: 0.0041\n",
      "Epoch 66/100\n",
      "2/2 [==============================] - 0s 45ms/step - loss: 0.0040\n",
      "Epoch 67/100\n",
      "2/2 [==============================] - 0s 45ms/step - loss: 0.0040\n",
      "Epoch 68/100\n",
      "2/2 [==============================] - 0s 43ms/step - loss: 0.0039\n",
      "Epoch 69/100\n",
      "2/2 [==============================] - 0s 45ms/step - loss: 0.0043\n",
      "Epoch 70/100\n",
      "2/2 [==============================] - 0s 52ms/step - loss: 0.0037\n",
      "Epoch 71/100\n",
      "2/2 [==============================] - 0s 43ms/step - loss: 0.0039\n",
      "Epoch 72/100\n",
      "2/2 [==============================] - 0s 43ms/step - loss: 0.0037\n",
      "Epoch 73/100\n",
      "2/2 [==============================] - 0s 43ms/step - loss: 0.0039\n",
      "Epoch 74/100\n",
      "2/2 [==============================] - 0s 45ms/step - loss: 0.0034\n",
      "Epoch 75/100\n",
      "2/2 [==============================] - 0s 49ms/step - loss: 0.0035\n",
      "Epoch 76/100\n",
      "2/2 [==============================] - 0s 45ms/step - loss: 0.0037\n",
      "Epoch 77/100\n",
      "2/2 [==============================] - 0s 44ms/step - loss: 0.0035\n",
      "Epoch 78/100\n",
      "2/2 [==============================] - 0s 44ms/step - loss: 0.0035\n",
      "Epoch 79/100\n",
      "2/2 [==============================] - 0s 44ms/step - loss: 0.0030\n",
      "Epoch 80/100\n",
      "2/2 [==============================] - 0s 45ms/step - loss: 0.0030\n",
      "Epoch 81/100\n",
      "2/2 [==============================] - 0s 44ms/step - loss: 0.0035\n",
      "Epoch 82/100\n",
      "2/2 [==============================] - 0s 49ms/step - loss: 0.0029\n",
      "Epoch 83/100\n",
      "2/2 [==============================] - 0s 44ms/step - loss: 0.0028\n",
      "Epoch 84/100\n",
      "2/2 [==============================] - 0s 44ms/step - loss: 0.0033\n",
      "Epoch 85/100\n",
      "2/2 [==============================] - 0s 46ms/step - loss: 0.0032\n",
      "Epoch 86/100\n",
      "2/2 [==============================] - 0s 46ms/step - loss: 0.0028\n",
      "Epoch 87/100\n",
      "2/2 [==============================] - 0s 46ms/step - loss: 0.0029\n",
      "Epoch 88/100\n",
      "2/2 [==============================] - 0s 47ms/step - loss: 0.0032\n",
      "Epoch 89/100\n",
      "2/2 [==============================] - 0s 47ms/step - loss: 0.0034\n",
      "Epoch 90/100\n",
      "2/2 [==============================] - 0s 45ms/step - loss: 0.0033\n",
      "Epoch 91/100\n",
      "2/2 [==============================] - 0s 47ms/step - loss: 0.0035\n",
      "Epoch 92/100\n",
      "2/2 [==============================] - 0s 47ms/step - loss: 0.0033\n",
      "Epoch 93/100\n",
      "2/2 [==============================] - 0s 44ms/step - loss: 0.0031\n",
      "Epoch 94/100\n",
      "2/2 [==============================] - 0s 55ms/step - loss: 0.0030\n",
      "Epoch 95/100\n",
      "2/2 [==============================] - 0s 55ms/step - loss: 0.0031\n",
      "Epoch 96/100\n",
      "2/2 [==============================] - 0s 43ms/step - loss: 0.0030\n",
      "Epoch 97/100\n",
      "2/2 [==============================] - 0s 43ms/step - loss: 0.0028\n",
      "Epoch 98/100\n",
      "2/2 [==============================] - 0s 44ms/step - loss: 0.0028\n",
      "Epoch 99/100\n",
      "2/2 [==============================] - 0s 44ms/step - loss: 0.0028\n",
      "Epoch 100/100\n",
      "2/2 [==============================] - 0s 44ms/step - loss: 0.0029\n"
     ]
    }
   ],
   "source": [
    "history = regressor.fit(X_train, y_train, epochs = pepochs3, batch_size = pbatch3)"
   ]
  },
  {
   "cell_type": "markdown",
   "metadata": {
    "id": "gwpyImwA3yon"
   },
   "source": [
    "## Parte 3 - Fazer as previsões e analisar os resultados"
   ]
  },
  {
   "cell_type": "markdown",
   "metadata": {
    "id": "wkXRvDjT4V-B"
   },
   "source": [
    "### Base de teste"
   ]
  },
  {
   "cell_type": "code",
   "execution_count": 193,
   "metadata": {
    "id": "Bn_n72dh30K-"
   },
   "outputs": [],
   "source": [
    "dataset_test = test_set\n",
    "PETR4_data_train = pd.DataFrame(PETR4_data_train)\n",
    "PETR4_data_test = pd.DataFrame(PETR4_data_test)"
   ]
  },
  {
   "cell_type": "markdown",
   "metadata": {
    "id": "EOo84exH4bfs"
   },
   "source": [
    "### Construir a estrutura para teste"
   ]
  },
  {
   "cell_type": "code",
   "execution_count": 194,
   "metadata": {
    "id": "ob_-mGA_B5px"
   },
   "outputs": [],
   "source": [
    "dataset_total = pd.concat((PETR4_data_train.iloc[:,1], PETR4_data_test.iloc[:,1]), axis = 0)\n",
    "testLength = len(dataset_test)\n",
    "inputs = dataset_total[len(dataset_total) - testLength - window:].values\n",
    "inputs = inputs.reshape(inputs.shape[0],1)\n",
    "\n",
    "inputs = sc.transform(inputs)\n",
    "X_test = []\n",
    "for i in range(window, inputs.shape[0]): \n",
    "    X_test.append(inputs[i-window:i, 0])\n",
    "X_test = np.array(X_test)\n",
    "\n",
    "X_test = np.reshape(X_test, (X_test.shape[0], X_test.shape[1], 1))"
   ]
  },
  {
   "cell_type": "markdown",
   "metadata": {
    "id": "rtkB4NA74e1B"
   },
   "source": [
    "### Fazer as previsões"
   ]
  },
  {
   "cell_type": "code",
   "execution_count": 195,
   "metadata": {
    "id": "nKIq1h-E4g9Z"
   },
   "outputs": [],
   "source": [
    "predicted_PETR4 = regressor.predict(X_test)\n",
    "predicted_PETR4 = sc.inverse_transform(predicted_PETR4)"
   ]
  },
  {
   "cell_type": "markdown",
   "metadata": {
    "id": "guvk7yXr4o0g"
   },
   "source": [
    "### Visualizar os resultados de treino e teste"
   ]
  },
  {
   "cell_type": "code",
   "execution_count": 196,
   "metadata": {
    "id": "tstXl2oS4rIo",
    "scrolled": true
   },
   "outputs": [
    {
     "data": {
      "image/png": "[encoded data removed]",
      "text/plain": [
       "<Figure size 432x288 with 1 Axes>"
      ]
     },
     "metadata": {
      "needs_background": "light"
     },
     "output_type": "display_data"
    }
   ],
   "source": [
    "allTargetData = np.vstack((training_set, dataset_test))\n",
    "training_predicted_PETR4 = regressor.predict(X_train)\n",
    "training_predicted_PETR4 = sc.inverse_transform(training_predicted_PETR4)\n",
    "allForecastedData = np.vstack((training_set[0:window], training_predicted_PETR4, predicted_PETR4))\n",
    "plt.plot(allTargetData, color = 'red', label = 'Real')\n",
    "plt.plot(allForecastedData, color = 'blue', label = 'Previsto')\n",
    "plt.title('Previsão de série temporal')\n",
    "plt.xlabel('Tempo')\n",
    "plt.ylabel('Cotação (R$)')\n",
    "plt.legend()\n",
    "plt.savefig('predictions_training_test_25_50_32.svg')\n",
    "plt.show()"
   ]
  },
  {
   "cell_type": "markdown",
   "metadata": {
    "id": "ytEVhQht4we3"
   },
   "source": [
    "## Parte 4 - Métricas de avaliação"
   ]
  },
  {
   "cell_type": "code",
   "execution_count": 197,
   "metadata": {
    "id": "rqOonVj64ydu",
    "scrolled": true
   },
   "outputs": [
    {
     "name": "stdout",
     "output_type": "stream",
     "text": [
      "RMSE: 2.889753155294629\n"
     ]
    }
   ],
   "source": [
    "import math\n",
    "from sklearn.metrics import mean_squared_error\n",
    "rmse = math.sqrt(mean_squared_error(dataset_test, predicted_PETR4))\n",
    "print('RMSE:', rmse)"
   ]
  },
  {
   "cell_type": "code",
   "execution_count": 198,
   "metadata": {
    "id": "ODeley1K42WW"
   },
   "outputs": [
    {
     "name": "stdout",
     "output_type": "stream",
     "text": [
      "MSE: 8.350673298535265\n"
     ]
    }
   ],
   "source": [
    "mse = mean_squared_error(dataset_test, predicted_PETR4)\n",
    "print('MSE:',mse)"
   ]
  },
  {
   "cell_type": "code",
   "execution_count": 199,
   "metadata": {
    "id": "L7_uU_8T44QA"
   },
   "outputs": [
    {
     "name": "stdout",
     "output_type": "stream",
     "text": [
      "MAPE: 9.446909592916356 %\n"
     ]
    }
   ],
   "source": [
    "mape = np.mean(np.abs((dataset_test-predicted_PETR4) /dataset_test)) * 100\n",
    "print('MAPE:',mape.iloc[0], '%')"
   ]
  },
  {
   "cell_type": "code",
   "execution_count": 200,
   "metadata": {
    "id": "LnCgdBS0vGCz"
   },
   "outputs": [
    {
     "name": "stdout",
     "output_type": "stream",
     "text": [
      "R2: 0.6601838213080349\n"
     ]
    }
   ],
   "source": [
    "from sklearn.metrics import r2_score\n",
    "r2 = r2_score(dataset_test,predicted_PETR4)\n",
    "print('R2:', r2)"
   ]
  },
  {
   "cell_type": "code",
   "execution_count": 201,
   "metadata": {},
   "outputs": [
    {
     "name": "stdout",
     "output_type": "stream",
     "text": [
      "R2Adj: 0.659498708044543\n"
     ]
    }
   ],
   "source": [
    "adj_r2 = (1 - (1 - r2) * ((predicted_PETR4.shape[0] - 1) / \n",
    "          (predicted_PETR4.shape[0] - predicted_PETR4.shape[1] - 1)))\n",
    "print('R2Adj:',adj_r2)"
   ]
  },
  {
   "cell_type": "code",
   "execution_count": 202,
   "metadata": {},
   "outputs": [],
   "source": [
    "#results = np.array([pwindow,pepochs1,pbatch1,rmse,mse,mape.iloc[0],r2,adj_r2]) "
   ]
  },
  {
   "cell_type": "code",
   "execution_count": 203,
   "metadata": {},
   "outputs": [],
   "source": [
    "data = pd.array([pwindow,pepochs3,pbatch3,rmse,mse,mape.iloc[0],r2,adj_r2])"
   ]
  },
  {
   "cell_type": "code",
   "execution_count": 204,
   "metadata": {},
   "outputs": [],
   "source": [
    "results = np.column_stack((results, data))"
   ]
  },
  {
   "cell_type": "code",
   "execution_count": 205,
   "metadata": {
    "scrolled": true
   },
   "outputs": [
    {
     "name": "stdout",
     "output_type": "stream",
     "text": [
      "[[ 50.          50.          50.          50.          50.\n",
      "   50.          50.          50.          50.        ]\n",
      " [ 25.          25.          25.          50.          50.\n",
      "   50.         100.         100.         100.        ]\n",
      " [ 32.          64.         128.          32.          64.\n",
      "  128.          32.          64.         128.        ]\n",
      " [  2.77403152   2.55620377   2.92284036   2.30914615   2.84836776\n",
      "    2.72618977   3.30536287   3.10803882   2.88975316]\n",
      " [  7.69525086   6.53417772   8.54299578   5.33215595   8.11319888\n",
      "    7.43211068  10.92542372   9.65990533   8.3506733 ]\n",
      " [  8.83990801   7.82641336   9.44663147   6.85163917   8.56463018\n",
      "    8.71832729  10.29516251   9.76672072   9.44690959]\n",
      " [  0.6868551    0.73410296   0.65235759   0.78301715   0.66984743\n",
      "    0.69756314   0.55540881   0.60690689   0.66018382]\n",
      " [  0.68622376   0.73356688   0.6516567    0.78257969   0.6691818\n",
      "    0.69695338   0.55451246   0.60611437   0.65949871]]\n"
     ]
    }
   ],
   "source": [
    "print(results)"
   ]
  },
  {
   "cell_type": "code",
   "execution_count": 206,
   "metadata": {},
   "outputs": [],
   "source": [
    "my_df = pd.DataFrame(results)"
   ]
  },
  {
   "cell_type": "code",
   "execution_count": 207,
   "metadata": {},
   "outputs": [],
   "source": [
    "my_df.to_csv('results_LSTM3.csv', index=False)"
   ]
  },
  {
   "cell_type": "code",
   "execution_count": null,
   "metadata": {},
   "outputs": [],
   "source": []
  }
 ],
 "metadata": {
  "accelerator": "TPU",
  "colab": {
   "collapsed_sections": [],
   "name": "RedesRecorrentesAirPassengers.ipynb",
   "provenance": []
  },
  "kernelspec": {
   "display_name": "Python 3",
   "language": "python",
   "name": "python3"
  },
  "language_info": {
   "codemirror_mode": {
    "name": "ipython",
    "version": 3
   },
   "file_extension": ".py",
   "mimetype": "text/x-python",
   "name": "python",
   "nbconvert_exporter": "python",
   "pygments_lexer": "ipython3",
   "version": "3.8.5"
  }
 },
 "nbformat": 4,
 "nbformat_minor": 1
}
